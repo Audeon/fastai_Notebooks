{
  "nbformat": 4,
  "nbformat_minor": 0,
  "metadata": {
    "colab": {
      "name": "Chapter 3 - Digit Identification",
      "provenance": [],
      "collapsed_sections": [
        "RjgcnJnnNSIe",
        "xTTkPFs1b5DO",
        "sbThGISIi98R"
      ],
      "toc_visible": true,
      "authorship_tag": "ABX9TyOKVUAA68YY7vdmlhkdEcGS",
      "include_colab_link": true
    },
    "kernelspec": {
      "name": "python3",
      "display_name": "Python 3"
    },
    "language_info": {
      "name": "python"
    }
  },
  "cells": [
    {
      "cell_type": "markdown",
      "metadata": {
        "id": "view-in-github",
        "colab_type": "text"
      },
      "source": [
        "<a href=\"https://colab.research.google.com/github/Audeon/fastai_Notebooks/blob/main/Chapter_3_Digit_Identification.ipynb\" target=\"_parent\"><img src=\"https://colab.research.google.com/assets/colab-badge.svg\" alt=\"Open In Colab\"/></a>"
      ]
    },
    {
      "cell_type": "markdown",
      "source": [
        "# Digit identification project"
      ],
      "metadata": {
        "id": "cGL_Ru7hO0cE"
      }
    },
    {
      "cell_type": "markdown",
      "source": [
        "In this project we are going to use basic digit identification of 3, and 7. We will use the MNIST dataset in this case. \n",
        "\n",
        "I have split the notbook up into sections to make it easier for me to reference in the future. This doesnt really refelct the breakup in the book. Covers points i find most useful."
      ],
      "metadata": {
        "id": "4ra6jlv5vOcg"
      }
    },
    {
      "cell_type": "markdown",
      "source": [
        "# Imports"
      ],
      "metadata": {
        "id": "hRn8P0nbOvoP"
      }
    },
    {
      "cell_type": "code",
      "execution_count": 1,
      "metadata": {
        "id": "DIpVE9TlubTe",
        "colab": {
          "base_uri": "https://localhost:8080/"
        },
        "outputId": "2304f9b5-d6f1-413c-9391-a01d6a91ac12"
      },
      "outputs": [
        {
          "output_type": "stream",
          "name": "stdout",
          "text": [
            "\u001b[K     |████████████████████████████████| 189 kB 15.2 MB/s \n",
            "\u001b[K     |████████████████████████████████| 55 kB 3.6 MB/s \n",
            "\u001b[K     |████████████████████████████████| 720 kB 14.6 MB/s \n",
            "\u001b[K     |████████████████████████████████| 1.2 MB 50.6 MB/s \n",
            "\u001b[K     |████████████████████████████████| 48 kB 5.1 MB/s \n",
            "\u001b[K     |████████████████████████████████| 558 kB 70.6 MB/s \n",
            "\u001b[K     |████████████████████████████████| 51 kB 270 kB/s \n",
            "\u001b[K     |████████████████████████████████| 130 kB 51.4 MB/s \n",
            "\u001b[?25h"
          ]
        }
      ],
      "source": [
        "!pip install -q fastai --upgrade\n",
        "!pip install -q fastbook --upgrade"
      ]
    },
    {
      "cell_type": "code",
      "source": [
        "from fastbook import *\n",
        "from fastai import *\n",
        "from fastai.vision.all import *\n"
      ],
      "metadata": {
        "id": "eM-8mku7uxdu"
      },
      "execution_count": 2,
      "outputs": []
    },
    {
      "cell_type": "markdown",
      "source": [
        "# Getting the MNIST dataset and turning it into tensors\n",
        "In this section we are going to get the MNIST dataset, do some experimenting on it, including turning them into tensors and visualizing those tensors the way the computer does.\n",
        "\n",
        "First we will get the MNIST dataset and untar it into the path variable."
      ],
      "metadata": {
        "id": "3yBWXyWrOGXR"
      }
    },
    {
      "cell_type": "code",
      "source": [
        "path = untar_data(URLs.MNIST)"
      ],
      "metadata": {
        "id": "t8Yy7fgd00kn",
        "colab": {
          "base_uri": "https://localhost:8080/",
          "height": 37
        },
        "outputId": "9db1a81d-3041-43c0-8f4c-412f564bd4c5"
      },
      "execution_count": 3,
      "outputs": [
        {
          "output_type": "display_data",
          "data": {
            "text/html": [
              "\n",
              "<style>\n",
              "    /* Turns off some styling */\n",
              "    progress {\n",
              "        /* gets rid of default border in Firefox and Opera. */\n",
              "        border: none;\n",
              "        /* Needs to be in here for Safari polyfill so background images work as expected. */\n",
              "        background-size: auto;\n",
              "    }\n",
              "    .progress-bar-interrupted, .progress-bar-interrupted::-webkit-progress-bar {\n",
              "        background: #F44336;\n",
              "    }\n",
              "</style>\n"
            ],
            "text/plain": [
              "<IPython.core.display.HTML object>"
            ]
          },
          "metadata": {}
        },
        {
          "output_type": "display_data",
          "data": {
            "text/html": [
              "\n",
              "    <div>\n",
              "      <progress value='15687680' class='' max='15683414' style='width:300px; height:20px; vertical-align: middle;'></progress>\n",
              "      100.03% [15687680/15683414 00:00<00:00]\n",
              "    </div>\n",
              "    "
            ],
            "text/plain": [
              "<IPython.core.display.HTML object>"
            ]
          },
          "metadata": {}
        }
      ]
    },
    {
      "cell_type": "markdown",
      "source": [
        "We can use the LS command with any paths we create using untar to see what is in that directory. We can also view the subdirectories, as seen in the second block of code here."
      ],
      "metadata": {
        "id": "_HzQmCIIwBbz"
      }
    },
    {
      "cell_type": "code",
      "source": [
        " path.ls()"
      ],
      "metadata": {
        "colab": {
          "base_uri": "https://localhost:8080/"
        },
        "id": "MgccgcB8v1Y0",
        "outputId": "c86b892a-1898-427e-f037-20cdaf0079af"
      },
      "execution_count": 4,
      "outputs": [
        {
          "output_type": "execute_result",
          "data": {
            "text/plain": [
              "(#2) [Path('/root/.fastai/data/mnist_png/testing'),Path('/root/.fastai/data/mnist_png/training')]"
            ]
          },
          "metadata": {},
          "execution_count": 4
        }
      ]
    },
    {
      "cell_type": "code",
      "source": [
        "sevens = (path/'training'/'7').ls().sorted()\n",
        "threes = (path/'training'/'3').ls().sorted()"
      ],
      "metadata": {
        "id": "BD20G9hIwOFl"
      },
      "execution_count": 5,
      "outputs": []
    },
    {
      "cell_type": "markdown",
      "source": [
        "Now that we have all of the datasets untarred and in useful arrays lets work display a few of them."
      ],
      "metadata": {
        "id": "Tp4xQYJg7JEW"
      }
    },
    {
      "cell_type": "code",
      "source": [
        "img3_path = threes[242]\n",
        "im3 = Image.open(img3_path)\n",
        "im3"
      ],
      "metadata": {
        "colab": {
          "base_uri": "https://localhost:8080/",
          "height": 45
        },
        "id": "Zy34hPDJ64NU",
        "outputId": "a2ccec83-56e5-46e1-85b5-b1bd90e8f306"
      },
      "execution_count": 6,
      "outputs": [
        {
          "output_type": "execute_result",
          "data": {
            "image/png": "[encoded data removed]",
            "text/plain": [
              "<PIL.PngImagePlugin.PngImageFile image mode=L size=28x28 at 0x7F9282098ED0>"
            ]
          },
          "metadata": {},
          "execution_count": 6
        }
      ]
    },
    {
      "cell_type": "code",
      "source": [
        "img3_path = threes[1]\n",
        "im3 = Image.open(img3_path)\n",
        "im3"
      ],
      "metadata": {
        "colab": {
          "base_uri": "https://localhost:8080/",
          "height": 45
        },
        "id": "IftHyPVt7RGS",
        "outputId": "1d016200-a293-4c56-f220-467c461907be"
      },
      "execution_count": 7,
      "outputs": [
        {
          "output_type": "execute_result",
          "data": {
            "image/png": "[encoded data removed]",
            "text/plain": [
              "<PIL.PngImagePlugin.PngImageFile image mode=L size=28x28 at 0x7F92820987D0>"
            ]
          },
          "metadata": {},
          "execution_count": 7
        }
      ]
    },
    {
      "cell_type": "markdown",
      "source": [
        "For us to do any work on the images of course they need to be converted to a tensor or an array. Here we have an example of each. Notice in the second example we used the 4:10 to indicate we want rows from indext 4 to index 10 and the same for the columns. "
      ],
      "metadata": {
        "id": "lK1DS9km9CrH"
      }
    },
    {
      "cell_type": "code",
      "source": [
        "array(im3)"
      ],
      "metadata": {
        "colab": {
          "base_uri": "https://localhost:8080/"
        },
        "id": "8Z4JPCf09Vh0",
        "outputId": "9bfcb484-1cb9-4177-bde1-29b78dc2ec47"
      },
      "execution_count": 8,
      "outputs": [
        {
          "output_type": "execute_result",
          "data": {
            "text/plain": [
              "array([[  0,   0,   0,   0,   0,   0,   0,   0,   0,   0,   0,   0,   0,   0,   0,   0,   0,   0,   0,   0,   0,   0,   0,   0,   0,   0,   0,   0],\n",
              "       [  0,   0,   0,   0,   0,   0,   0,   0,   0,   0,   0,   0,   0,   0,   0,   0,   0,   0,   0,   0,   0,   0,   0,   0,   0,   0,   0,   0],\n",
              "       [  0,   0,   0,   0,   0,   0,   0,   0,   0,   0,   0,   0,   0,   0,   0,   0,   0,   0,   0,   0,   0,   0,   0,   0,   0,   0,   0,   0],\n",
              "       [  0,   0,   0,   0,   0,   0,   0,   0,   0,   0,   0,   0,   0,   0,   0,   0,   0,   0,   0,   0,   0,   0,   0,   0,   0,   0,   0,   0],\n",
              "       [  0,   0,   0,   0,   0,   0,   0,   0,   0,   0,   0,   0,   0,   0,   0,   0,   0,   0,   0,   0,   0,   0,   0,   0,   0,   0,   0,   0],\n",
              "       [  0,   0,   0,   0,   0,   0,   0,   0,   0,  29, 150, 195, 254, 255, 254, 176, 193, 150,  96,   0,   0,   0,   0,   0,   0,   0,   0,   0],\n",
              "       [  0,   0,   0,   0,   0,   0,   0,  48, 166, 224, 253, 253, 234, 196, 253, 253, 253, 253, 233,   0,   0,   0,   0,   0,   0,   0,   0,   0],\n",
              "       [  0,   0,   0,   0,   0,  93, 244, 249, 253, 187,  46,  10,   8,   4,  10, 194, 253, 253, 233,   0,   0,   0,   0,   0,   0,   0,   0,   0],\n",
              "       [  0,   0,   0,   0,   0, 107, 253, 253, 230,  48,   0,   0,   0,   0,   0, 192, 253, 253, 156,   0,   0,   0,   0,   0,   0,   0,   0,   0],\n",
              "       [  0,   0,   0,   0,   0,   3,  20,  20,  15,   0,   0,   0,   0,   0,  43, 224, 253, 245,  74,   0,   0,   0,   0,   0,   0,   0,   0,   0],\n",
              "       [  0,   0,   0,   0,   0,   0,   0,   0,   0,   0,   0,   0,   0,   0, 249, 253, 245, 126,   0,   0,   0,   0,   0,   0,   0,   0,   0,   0],\n",
              "       [  0,   0,   0,   0,   0,   0,   0,   0,   0,   0,   0,  14, 101, 223, 253, 248, 124,   0,   0,   0,   0,   0,   0,   0,   0,   0,   0,   0],\n",
              "       [  0,   0,   0,   0,   0,   0,   0,   0,   0,  11, 166, 239, 253, 253, 253, 187,  30,   0,   0,   0,   0,   0,   0,   0,   0,   0,   0,   0],\n",
              "       [  0,   0,   0,   0,   0,   0,   0,   0,   0,  16, 248, 250, 253, 253, 253, 253, 232, 213, 111,   2,   0,   0,   0,   0,   0,   0,   0,   0],\n",
              "       [  0,   0,   0,   0,   0,   0,   0,   0,   0,   0,   0,  43,  98,  98, 208, 253, 253, 253, 253, 187,  22,   0,   0,   0,   0,   0,   0,   0],\n",
              "       [  0,   0,   0,   0,   0,   0,   0,   0,   0,   0,   0,   0,   0,   0,   9,  51, 119, 253, 253, 253,  76,   0,   0,   0,   0,   0,   0,   0],\n",
              "       [  0,   0,   0,   0,   0,   0,   0,   0,   0,   0,   0,   0,   0,   0,   0,   0,   1, 183, 253, 253, 139,   0,   0,   0,   0,   0,   0,   0],\n",
              "       [  0,   0,   0,   0,   0,   0,   0,   0,   0,   0,   0,   0,   0,   0,   0,   0,   0, 182, 253, 253, 104,   0,   0,   0,   0,   0,   0,   0],\n",
              "       [  0,   0,   0,   0,   0,   0,   0,   0,   0,   0,   0,   0,   0,   0,   0,   0,  85, 249, 253, 253,  36,   0,   0,   0,   0,   0,   0,   0],\n",
              "       [  0,   0,   0,   0,   0,   0,   0,   0,   0,   0,   0,   0,   0,   0,   0,  60, 214, 253, 253, 173,  11,   0,   0,   0,   0,   0,   0,   0],\n",
              "       [  0,   0,   0,   0,   0,   0,   0,   0,   0,   0,   0,   0,   0,   0,  98, 247, 253, 253, 226,   9,   0,   0,   0,   0,   0,   0,   0,   0],\n",
              "       [  0,   0,   0,   0,   0,   0,   0,   0,   0,   0,   0,   0,  42, 150, 252, 253, 253, 233,  53,   0,   0,   0,   0,   0,   0,   0,   0,   0],\n",
              "       [  0,   0,   0,   0,   0,   0,  42, 115,  42,  60, 115, 159, 240, 253, 253, 250, 175,  25,   0,   0,   0,   0,   0,   0,   0,   0,   0,   0],\n",
              "       [  0,   0,   0,   0,   0,   0, 187, 253, 253, 253, 253, 253, 253, 253, 197,  86,   0,   0,   0,   0,   0,   0,   0,   0,   0,   0,   0,   0],\n",
              "       [  0,   0,   0,   0,   0,   0, 103, 253, 253, 253, 253, 253, 232,  67,   1,   0,   0,   0,   0,   0,   0,   0,   0,   0,   0,   0,   0,   0],\n",
              "       [  0,   0,   0,   0,   0,   0,   0,   0,   0,   0,   0,   0,   0,   0,   0,   0,   0,   0,   0,   0,   0,   0,   0,   0,   0,   0,   0,   0],\n",
              "       [  0,   0,   0,   0,   0,   0,   0,   0,   0,   0,   0,   0,   0,   0,   0,   0,   0,   0,   0,   0,   0,   0,   0,   0,   0,   0,   0,   0],\n",
              "       [  0,   0,   0,   0,   0,   0,   0,   0,   0,   0,   0,   0,   0,   0,   0,   0,   0,   0,   0,   0,   0,   0,   0,   0,   0,   0,   0,   0]], dtype=uint8)"
            ]
          },
          "metadata": {},
          "execution_count": 8
        }
      ]
    },
    {
      "cell_type": "code",
      "source": [
        "tensor(im3)[4:15, 4:22]"
      ],
      "metadata": {
        "colab": {
          "base_uri": "https://localhost:8080/"
        },
        "id": "ImbjE5bk9aJs",
        "outputId": "63d2a0dc-2c27-46d1-d726-f158e7e17dce"
      },
      "execution_count": 9,
      "outputs": [
        {
          "output_type": "execute_result",
          "data": {
            "text/plain": [
              "tensor([[  0,   0,   0,   0,   0,   0,   0,   0,   0,   0,   0,   0,   0,   0,   0,   0,   0,   0],\n",
              "        [  0,   0,   0,   0,   0,  29, 150, 195, 254, 255, 254, 176, 193, 150,  96,   0,   0,   0],\n",
              "        [  0,   0,   0,  48, 166, 224, 253, 253, 234, 196, 253, 253, 253, 253, 233,   0,   0,   0],\n",
              "        [  0,  93, 244, 249, 253, 187,  46,  10,   8,   4,  10, 194, 253, 253, 233,   0,   0,   0],\n",
              "        [  0, 107, 253, 253, 230,  48,   0,   0,   0,   0,   0, 192, 253, 253, 156,   0,   0,   0],\n",
              "        [  0,   3,  20,  20,  15,   0,   0,   0,   0,   0,  43, 224, 253, 245,  74,   0,   0,   0],\n",
              "        [  0,   0,   0,   0,   0,   0,   0,   0,   0,   0, 249, 253, 245, 126,   0,   0,   0,   0],\n",
              "        [  0,   0,   0,   0,   0,   0,   0,  14, 101, 223, 253, 248, 124,   0,   0,   0,   0,   0],\n",
              "        [  0,   0,   0,   0,   0,  11, 166, 239, 253, 253, 253, 187,  30,   0,   0,   0,   0,   0],\n",
              "        [  0,   0,   0,   0,   0,  16, 248, 250, 253, 253, 253, 253, 232, 213, 111,   2,   0,   0],\n",
              "        [  0,   0,   0,   0,   0,   0,   0,  43,  98,  98, 208, 253, 253, 253, 253, 187,  22,   0]], dtype=torch.uint8)"
            ]
          },
          "metadata": {},
          "execution_count": 9
        }
      ]
    },
    {
      "cell_type": "markdown",
      "source": [
        "We can use panads Dataframe to color code each of the tensor cells on a gradiant. "
      ],
      "metadata": {
        "id": "d7tM1HrS9-lW"
      }
    },
    {
      "cell_type": "code",
      "source": [
        "im3_t = tensor(im3)\n",
        "df = pd.DataFrame(im3_t[4:15,4:22])\n",
        "df.style.set_properties(**{'font-size': '6pt'}).background_gradient('Greys')"
      ],
      "metadata": {
        "colab": {
          "base_uri": "https://localhost:8080/",
          "height": 394
        },
        "id": "sMSSLL3I-O07",
        "outputId": "54d45175-cf0f-4dd5-e748-8de88f6af2cb"
      },
      "execution_count": 10,
      "outputs": [
        {
          "output_type": "execute_result",
          "data": {
            "text/html": [
              "<style type=\"text/css\">\n",
              "#T_eb910_row0_col0, #T_eb910_row0_col1, #T_eb910_row0_col2, #T_eb910_row0_col3, #T_eb910_row0_col4, #T_eb910_row0_col5, #T_eb910_row0_col6, #T_eb910_row0_col7, #T_eb910_row0_col8, #T_eb910_row0_col9, #T_eb910_row0_col10, #T_eb910_row0_col11, #T_eb910_row0_col12, #T_eb910_row0_col13, #T_eb910_row0_col14, #T_eb910_row0_col15, #T_eb910_row0_col16, #T_eb910_row0_col17, #T_eb910_row1_col0, #T_eb910_row1_col1, #T_eb910_row1_col2, #T_eb910_row1_col3, #T_eb910_row1_col4, #T_eb910_row1_col15, #T_eb910_row1_col16, #T_eb910_row1_col17, #T_eb910_row2_col0, #T_eb910_row2_col1, #T_eb910_row2_col2, #T_eb910_row2_col15, #T_eb910_row2_col16, #T_eb910_row2_col17, #T_eb910_row3_col0, #T_eb910_row3_col15, #T_eb910_row3_col16, #T_eb910_row3_col17, #T_eb910_row4_col0, #T_eb910_row4_col6, #T_eb910_row4_col7, #T_eb910_row4_col8, #T_eb910_row4_col9, #T_eb910_row4_col10, #T_eb910_row4_col15, #T_eb910_row4_col16, #T_eb910_row4_col17, #T_eb910_row5_col0, #T_eb910_row5_col5, #T_eb910_row5_col6, #T_eb910_row5_col7, #T_eb910_row5_col8, #T_eb910_row5_col9, #T_eb910_row5_col15, #T_eb910_row5_col16, #T_eb910_row5_col17, #T_eb910_row6_col0, #T_eb910_row6_col1, #T_eb910_row6_col2, #T_eb910_row6_col3, #T_eb910_row6_col4, #T_eb910_row6_col5, #T_eb910_row6_col6, #T_eb910_row6_col7, #T_eb910_row6_col8, #T_eb910_row6_col9, #T_eb910_row6_col14, #T_eb910_row6_col15, #T_eb910_row6_col16, #T_eb910_row6_col17, #T_eb910_row7_col0, #T_eb910_row7_col1, #T_eb910_row7_col2, #T_eb910_row7_col3, #T_eb910_row7_col4, #T_eb910_row7_col5, #T_eb910_row7_col6, #T_eb910_row7_col13, #T_eb910_row7_col14, #T_eb910_row7_col15, #T_eb910_row7_col16, #T_eb910_row7_col17, #T_eb910_row8_col0, #T_eb910_row8_col1, #T_eb910_row8_col2, #T_eb910_row8_col3, #T_eb910_row8_col4, #T_eb910_row8_col13, #T_eb910_row8_col14, #T_eb910_row8_col15, #T_eb910_row8_col16, #T_eb910_row8_col17, #T_eb910_row9_col0, #T_eb910_row9_col1, #T_eb910_row9_col2, #T_eb910_row9_col3, #T_eb910_row9_col4, #T_eb910_row9_col16, #T_eb910_row9_col17, #T_eb910_row10_col0, #T_eb910_row10_col1, #T_eb910_row10_col2, #T_eb910_row10_col3, #T_eb910_row10_col4, #T_eb910_row10_col5, #T_eb910_row10_col6, #T_eb910_row10_col17 {\n",
              "  font-size: 6pt;\n",
              "  background-color: #ffffff;\n",
              "  color: #000000;\n",
              "}\n",
              "#T_eb910_row1_col5 {\n",
              "  font-size: 6pt;\n",
              "  background-color: #efefef;\n",
              "  color: #000000;\n",
              "}\n",
              "#T_eb910_row1_col6, #T_eb910_row1_col13 {\n",
              "  font-size: 6pt;\n",
              "  background-color: #7c7c7c;\n",
              "  color: #f1f1f1;\n",
              "}\n",
              "#T_eb910_row1_col7 {\n",
              "  font-size: 6pt;\n",
              "  background-color: #4a4a4a;\n",
              "  color: #f1f1f1;\n",
              "}\n",
              "#T_eb910_row1_col8, #T_eb910_row1_col9, #T_eb910_row1_col10, #T_eb910_row2_col5, #T_eb910_row2_col6, #T_eb910_row2_col7, #T_eb910_row2_col11, #T_eb910_row2_col12, #T_eb910_row2_col13, #T_eb910_row3_col4, #T_eb910_row3_col12, #T_eb910_row3_col13, #T_eb910_row4_col1, #T_eb910_row4_col2, #T_eb910_row4_col3, #T_eb910_row4_col12, #T_eb910_row4_col13, #T_eb910_row5_col12, #T_eb910_row6_col11, #T_eb910_row9_col11, #T_eb910_row10_col11, #T_eb910_row10_col12, #T_eb910_row10_col13, #T_eb910_row10_col14, #T_eb910_row10_col15, #T_eb910_row10_col16 {\n",
              "  font-size: 6pt;\n",
              "  background-color: #000000;\n",
              "  color: #f1f1f1;\n",
              "}\n",
              "#T_eb910_row1_col11 {\n",
              "  font-size: 6pt;\n",
              "  background-color: #606060;\n",
              "  color: #f1f1f1;\n",
              "}\n",
              "#T_eb910_row1_col12 {\n",
              "  font-size: 6pt;\n",
              "  background-color: #4d4d4d;\n",
              "  color: #f1f1f1;\n",
              "}\n",
              "#T_eb910_row1_col14 {\n",
              "  font-size: 6pt;\n",
              "  background-color: #bbbbbb;\n",
              "  color: #000000;\n",
              "}\n",
              "#T_eb910_row2_col3 {\n",
              "  font-size: 6pt;\n",
              "  background-color: #e4e4e4;\n",
              "  color: #000000;\n",
              "}\n",
              "#T_eb910_row2_col4, #T_eb910_row8_col6 {\n",
              "  font-size: 6pt;\n",
              "  background-color: #6b6b6b;\n",
              "  color: #f1f1f1;\n",
              "}\n",
              "#T_eb910_row2_col8, #T_eb910_row2_col14, #T_eb910_row3_col14 {\n",
              "  font-size: 6pt;\n",
              "  background-color: #171717;\n",
              "  color: #f1f1f1;\n",
              "}\n",
              "#T_eb910_row2_col9, #T_eb910_row3_col11 {\n",
              "  font-size: 6pt;\n",
              "  background-color: #4b4b4b;\n",
              "  color: #f1f1f1;\n",
              "}\n",
              "#T_eb910_row2_col10, #T_eb910_row7_col10, #T_eb910_row8_col8, #T_eb910_row8_col10, #T_eb910_row9_col8, #T_eb910_row9_col10 {\n",
              "  font-size: 6pt;\n",
              "  background-color: #010101;\n",
              "  color: #f1f1f1;\n",
              "}\n",
              "#T_eb910_row3_col1 {\n",
              "  font-size: 6pt;\n",
              "  background-color: #272727;\n",
              "  color: #f1f1f1;\n",
              "}\n",
              "#T_eb910_row3_col2 {\n",
              "  font-size: 6pt;\n",
              "  background-color: #0a0a0a;\n",
              "  color: #f1f1f1;\n",
              "}\n",
              "#T_eb910_row3_col3 {\n",
              "  font-size: 6pt;\n",
              "  background-color: #050505;\n",
              "  color: #f1f1f1;\n",
              "}\n",
              "#T_eb910_row3_col5 {\n",
              "  font-size: 6pt;\n",
              "  background-color: #333333;\n",
              "  color: #f1f1f1;\n",
              "}\n",
              "#T_eb910_row3_col6 {\n",
              "  font-size: 6pt;\n",
              "  background-color: #e6e6e6;\n",
              "  color: #000000;\n",
              "}\n",
              "#T_eb910_row3_col7, #T_eb910_row3_col10 {\n",
              "  font-size: 6pt;\n",
              "  background-color: #fafafa;\n",
              "  color: #000000;\n",
              "}\n",
              "#T_eb910_row3_col8 {\n",
              "  font-size: 6pt;\n",
              "  background-color: #fbfbfb;\n",
              "  color: #000000;\n",
              "}\n",
              "#T_eb910_row3_col9 {\n",
              "  font-size: 6pt;\n",
              "  background-color: #fdfdfd;\n",
              "  color: #000000;\n",
              "}\n",
              "#T_eb910_row4_col4 {\n",
              "  font-size: 6pt;\n",
              "  background-color: #1b1b1b;\n",
              "  color: #f1f1f1;\n",
              "}\n",
              "#T_eb910_row4_col5 {\n",
              "  font-size: 6pt;\n",
              "  background-color: #e0e0e0;\n",
              "  color: #000000;\n",
              "}\n",
              "#T_eb910_row4_col11 {\n",
              "  font-size: 6pt;\n",
              "  background-color: #4e4e4e;\n",
              "  color: #f1f1f1;\n",
              "}\n",
              "#T_eb910_row4_col14 {\n",
              "  font-size: 6pt;\n",
              "  background-color: #767676;\n",
              "  color: #f1f1f1;\n",
              "}\n",
              "#T_eb910_row5_col1 {\n",
              "  font-size: 6pt;\n",
              "  background-color: #fcfcfc;\n",
              "  color: #000000;\n",
              "}\n",
              "#T_eb910_row5_col2, #T_eb910_row5_col3 {\n",
              "  font-size: 6pt;\n",
              "  background-color: #f6f6f6;\n",
              "  color: #000000;\n",
              "}\n",
              "#T_eb910_row5_col4, #T_eb910_row7_col7 {\n",
              "  font-size: 6pt;\n",
              "  background-color: #f8f8f8;\n",
              "  color: #000000;\n",
              "}\n",
              "#T_eb910_row5_col10, #T_eb910_row10_col7 {\n",
              "  font-size: 6pt;\n",
              "  background-color: #e8e8e8;\n",
              "  color: #000000;\n",
              "}\n",
              "#T_eb910_row5_col11 {\n",
              "  font-size: 6pt;\n",
              "  background-color: #222222;\n",
              "  color: #f1f1f1;\n",
              "}\n",
              "#T_eb910_row5_col13, #T_eb910_row6_col12 {\n",
              "  font-size: 6pt;\n",
              "  background-color: #090909;\n",
              "  color: #f1f1f1;\n",
              "}\n",
              "#T_eb910_row5_col14 {\n",
              "  font-size: 6pt;\n",
              "  background-color: #d0d0d0;\n",
              "  color: #000000;\n",
              "}\n",
              "#T_eb910_row6_col10, #T_eb910_row7_col11, #T_eb910_row9_col6 {\n",
              "  font-size: 6pt;\n",
              "  background-color: #060606;\n",
              "  color: #f1f1f1;\n",
              "}\n",
              "#T_eb910_row6_col13 {\n",
              "  font-size: 6pt;\n",
              "  background-color: #979797;\n",
              "  color: #f1f1f1;\n",
              "}\n",
              "#T_eb910_row7_col8 {\n",
              "  font-size: 6pt;\n",
              "  background-color: #b6b6b6;\n",
              "  color: #000000;\n",
              "}\n",
              "#T_eb910_row7_col9 {\n",
              "  font-size: 6pt;\n",
              "  background-color: #252525;\n",
              "  color: #f1f1f1;\n",
              "}\n",
              "#T_eb910_row7_col12 {\n",
              "  font-size: 6pt;\n",
              "  background-color: #999999;\n",
              "  color: #f1f1f1;\n",
              "}\n",
              "#T_eb910_row8_col5 {\n",
              "  font-size: 6pt;\n",
              "  background-color: #f9f9f9;\n",
              "  color: #000000;\n",
              "}\n",
              "#T_eb910_row8_col7 {\n",
              "  font-size: 6pt;\n",
              "  background-color: #101010;\n",
              "  color: #f1f1f1;\n",
              "}\n",
              "#T_eb910_row8_col9, #T_eb910_row9_col9 {\n",
              "  font-size: 6pt;\n",
              "  background-color: #020202;\n",
              "  color: #f1f1f1;\n",
              "}\n",
              "#T_eb910_row8_col11 {\n",
              "  font-size: 6pt;\n",
              "  background-color: #545454;\n",
              "  color: #f1f1f1;\n",
              "}\n",
              "#T_eb910_row8_col12 {\n",
              "  font-size: 6pt;\n",
              "  background-color: #f1f1f1;\n",
              "  color: #000000;\n",
              "}\n",
              "#T_eb910_row9_col5 {\n",
              "  font-size: 6pt;\n",
              "  background-color: #f7f7f7;\n",
              "  color: #000000;\n",
              "}\n",
              "#T_eb910_row9_col7 {\n",
              "  font-size: 6pt;\n",
              "  background-color: #030303;\n",
              "  color: #f1f1f1;\n",
              "}\n",
              "#T_eb910_row9_col12 {\n",
              "  font-size: 6pt;\n",
              "  background-color: #181818;\n",
              "  color: #f1f1f1;\n",
              "}\n",
              "#T_eb910_row9_col13 {\n",
              "  font-size: 6pt;\n",
              "  background-color: #303030;\n",
              "  color: #f1f1f1;\n",
              "}\n",
              "#T_eb910_row9_col14 {\n",
              "  font-size: 6pt;\n",
              "  background-color: #a9a9a9;\n",
              "  color: #f1f1f1;\n",
              "}\n",
              "#T_eb910_row9_col15 {\n",
              "  font-size: 6pt;\n",
              "  background-color: #fefefe;\n",
              "  color: #000000;\n",
              "}\n",
              "#T_eb910_row10_col8, #T_eb910_row10_col9 {\n",
              "  font-size: 6pt;\n",
              "  background-color: #bababa;\n",
              "  color: #000000;\n",
              "}\n",
              "#T_eb910_row10_col10 {\n",
              "  font-size: 6pt;\n",
              "  background-color: #393939;\n",
              "  color: #f1f1f1;\n",
              "}\n",
              "</style>\n",
              "<table id=\"T_eb910_\" class=\"dataframe\">\n",
              "  <thead>\n",
              "    <tr>\n",
              "      <th class=\"blank level0\" >&nbsp;</th>\n",
              "      <th class=\"col_heading level0 col0\" >0</th>\n",
              "      <th class=\"col_heading level0 col1\" >1</th>\n",
              "      <th class=\"col_heading level0 col2\" >2</th>\n",
              "      <th class=\"col_heading level0 col3\" >3</th>\n",
              "      <th class=\"col_heading level0 col4\" >4</th>\n",
              "      <th class=\"col_heading level0 col5\" >5</th>\n",
              "      <th class=\"col_heading level0 col6\" >6</th>\n",
              "      <th class=\"col_heading level0 col7\" >7</th>\n",
              "      <th class=\"col_heading level0 col8\" >8</th>\n",
              "      <th class=\"col_heading level0 col9\" >9</th>\n",
              "      <th class=\"col_heading level0 col10\" >10</th>\n",
              "      <th class=\"col_heading level0 col11\" >11</th>\n",
              "      <th class=\"col_heading level0 col12\" >12</th>\n",
              "      <th class=\"col_heading level0 col13\" >13</th>\n",
              "      <th class=\"col_heading level0 col14\" >14</th>\n",
              "      <th class=\"col_heading level0 col15\" >15</th>\n",
              "      <th class=\"col_heading level0 col16\" >16</th>\n",
              "      <th class=\"col_heading level0 col17\" >17</th>\n",
              "    </tr>\n",
              "  </thead>\n",
              "  <tbody>\n",
              "    <tr>\n",
              "      <th id=\"T_eb910_level0_row0\" class=\"row_heading level0 row0\" >0</th>\n",
              "      <td id=\"T_eb910_row0_col0\" class=\"data row0 col0\" >0</td>\n",
              "      <td id=\"T_eb910_row0_col1\" class=\"data row0 col1\" >0</td>\n",
              "      <td id=\"T_eb910_row0_col2\" class=\"data row0 col2\" >0</td>\n",
              "      <td id=\"T_eb910_row0_col3\" class=\"data row0 col3\" >0</td>\n",
              "      <td id=\"T_eb910_row0_col4\" class=\"data row0 col4\" >0</td>\n",
              "      <td id=\"T_eb910_row0_col5\" class=\"data row0 col5\" >0</td>\n",
              "      <td id=\"T_eb910_row0_col6\" class=\"data row0 col6\" >0</td>\n",
              "      <td id=\"T_eb910_row0_col7\" class=\"data row0 col7\" >0</td>\n",
              "      <td id=\"T_eb910_row0_col8\" class=\"data row0 col8\" >0</td>\n",
              "      <td id=\"T_eb910_row0_col9\" class=\"data row0 col9\" >0</td>\n",
              "      <td id=\"T_eb910_row0_col10\" class=\"data row0 col10\" >0</td>\n",
              "      <td id=\"T_eb910_row0_col11\" class=\"data row0 col11\" >0</td>\n",
              "      <td id=\"T_eb910_row0_col12\" class=\"data row0 col12\" >0</td>\n",
              "      <td id=\"T_eb910_row0_col13\" class=\"data row0 col13\" >0</td>\n",
              "      <td id=\"T_eb910_row0_col14\" class=\"data row0 col14\" >0</td>\n",
              "      <td id=\"T_eb910_row0_col15\" class=\"data row0 col15\" >0</td>\n",
              "      <td id=\"T_eb910_row0_col16\" class=\"data row0 col16\" >0</td>\n",
              "      <td id=\"T_eb910_row0_col17\" class=\"data row0 col17\" >0</td>\n",
              "    </tr>\n",
              "    <tr>\n",
              "      <th id=\"T_eb910_level0_row1\" class=\"row_heading level0 row1\" >1</th>\n",
              "      <td id=\"T_eb910_row1_col0\" class=\"data row1 col0\" >0</td>\n",
              "      <td id=\"T_eb910_row1_col1\" class=\"data row1 col1\" >0</td>\n",
              "      <td id=\"T_eb910_row1_col2\" class=\"data row1 col2\" >0</td>\n",
              "      <td id=\"T_eb910_row1_col3\" class=\"data row1 col3\" >0</td>\n",
              "      <td id=\"T_eb910_row1_col4\" class=\"data row1 col4\" >0</td>\n",
              "      <td id=\"T_eb910_row1_col5\" class=\"data row1 col5\" >29</td>\n",
              "      <td id=\"T_eb910_row1_col6\" class=\"data row1 col6\" >150</td>\n",
              "      <td id=\"T_eb910_row1_col7\" class=\"data row1 col7\" >195</td>\n",
              "      <td id=\"T_eb910_row1_col8\" class=\"data row1 col8\" >254</td>\n",
              "      <td id=\"T_eb910_row1_col9\" class=\"data row1 col9\" >255</td>\n",
              "      <td id=\"T_eb910_row1_col10\" class=\"data row1 col10\" >254</td>\n",
              "      <td id=\"T_eb910_row1_col11\" class=\"data row1 col11\" >176</td>\n",
              "      <td id=\"T_eb910_row1_col12\" class=\"data row1 col12\" >193</td>\n",
              "      <td id=\"T_eb910_row1_col13\" class=\"data row1 col13\" >150</td>\n",
              "      <td id=\"T_eb910_row1_col14\" class=\"data row1 col14\" >96</td>\n",
              "      <td id=\"T_eb910_row1_col15\" class=\"data row1 col15\" >0</td>\n",
              "      <td id=\"T_eb910_row1_col16\" class=\"data row1 col16\" >0</td>\n",
              "      <td id=\"T_eb910_row1_col17\" class=\"data row1 col17\" >0</td>\n",
              "    </tr>\n",
              "    <tr>\n",
              "      <th id=\"T_eb910_level0_row2\" class=\"row_heading level0 row2\" >2</th>\n",
              "      <td id=\"T_eb910_row2_col0\" class=\"data row2 col0\" >0</td>\n",
              "      <td id=\"T_eb910_row2_col1\" class=\"data row2 col1\" >0</td>\n",
              "      <td id=\"T_eb910_row2_col2\" class=\"data row2 col2\" >0</td>\n",
              "      <td id=\"T_eb910_row2_col3\" class=\"data row2 col3\" >48</td>\n",
              "      <td id=\"T_eb910_row2_col4\" class=\"data row2 col4\" >166</td>\n",
              "      <td id=\"T_eb910_row2_col5\" class=\"data row2 col5\" >224</td>\n",
              "      <td id=\"T_eb910_row2_col6\" class=\"data row2 col6\" >253</td>\n",
              "      <td id=\"T_eb910_row2_col7\" class=\"data row2 col7\" >253</td>\n",
              "      <td id=\"T_eb910_row2_col8\" class=\"data row2 col8\" >234</td>\n",
              "      <td id=\"T_eb910_row2_col9\" class=\"data row2 col9\" >196</td>\n",
              "      <td id=\"T_eb910_row2_col10\" class=\"data row2 col10\" >253</td>\n",
              "      <td id=\"T_eb910_row2_col11\" class=\"data row2 col11\" >253</td>\n",
              "      <td id=\"T_eb910_row2_col12\" class=\"data row2 col12\" >253</td>\n",
              "      <td id=\"T_eb910_row2_col13\" class=\"data row2 col13\" >253</td>\n",
              "      <td id=\"T_eb910_row2_col14\" class=\"data row2 col14\" >233</td>\n",
              "      <td id=\"T_eb910_row2_col15\" class=\"data row2 col15\" >0</td>\n",
              "      <td id=\"T_eb910_row2_col16\" class=\"data row2 col16\" >0</td>\n",
              "      <td id=\"T_eb910_row2_col17\" class=\"data row2 col17\" >0</td>\n",
              "    </tr>\n",
              "    <tr>\n",
              "      <th id=\"T_eb910_level0_row3\" class=\"row_heading level0 row3\" >3</th>\n",
              "      <td id=\"T_eb910_row3_col0\" class=\"data row3 col0\" >0</td>\n",
              "      <td id=\"T_eb910_row3_col1\" class=\"data row3 col1\" >93</td>\n",
              "      <td id=\"T_eb910_row3_col2\" class=\"data row3 col2\" >244</td>\n",
              "      <td id=\"T_eb910_row3_col3\" class=\"data row3 col3\" >249</td>\n",
              "      <td id=\"T_eb910_row3_col4\" class=\"data row3 col4\" >253</td>\n",
              "      <td id=\"T_eb910_row3_col5\" class=\"data row3 col5\" >187</td>\n",
              "      <td id=\"T_eb910_row3_col6\" class=\"data row3 col6\" >46</td>\n",
              "      <td id=\"T_eb910_row3_col7\" class=\"data row3 col7\" >10</td>\n",
              "      <td id=\"T_eb910_row3_col8\" class=\"data row3 col8\" >8</td>\n",
              "      <td id=\"T_eb910_row3_col9\" class=\"data row3 col9\" >4</td>\n",
              "      <td id=\"T_eb910_row3_col10\" class=\"data row3 col10\" >10</td>\n",
              "      <td id=\"T_eb910_row3_col11\" class=\"data row3 col11\" >194</td>\n",
              "      <td id=\"T_eb910_row3_col12\" class=\"data row3 col12\" >253</td>\n",
              "      <td id=\"T_eb910_row3_col13\" class=\"data row3 col13\" >253</td>\n",
              "      <td id=\"T_eb910_row3_col14\" class=\"data row3 col14\" >233</td>\n",
              "      <td id=\"T_eb910_row3_col15\" class=\"data row3 col15\" >0</td>\n",
              "      <td id=\"T_eb910_row3_col16\" class=\"data row3 col16\" >0</td>\n",
              "      <td id=\"T_eb910_row3_col17\" class=\"data row3 col17\" >0</td>\n",
              "    </tr>\n",
              "    <tr>\n",
              "      <th id=\"T_eb910_level0_row4\" class=\"row_heading level0 row4\" >4</th>\n",
              "      <td id=\"T_eb910_row4_col0\" class=\"data row4 col0\" >0</td>\n",
              "      <td id=\"T_eb910_row4_col1\" class=\"data row4 col1\" >107</td>\n",
              "      <td id=\"T_eb910_row4_col2\" class=\"data row4 col2\" >253</td>\n",
              "      <td id=\"T_eb910_row4_col3\" class=\"data row4 col3\" >253</td>\n",
              "      <td id=\"T_eb910_row4_col4\" class=\"data row4 col4\" >230</td>\n",
              "      <td id=\"T_eb910_row4_col5\" class=\"data row4 col5\" >48</td>\n",
              "      <td id=\"T_eb910_row4_col6\" class=\"data row4 col6\" >0</td>\n",
              "      <td id=\"T_eb910_row4_col7\" class=\"data row4 col7\" >0</td>\n",
              "      <td id=\"T_eb910_row4_col8\" class=\"data row4 col8\" >0</td>\n",
              "      <td id=\"T_eb910_row4_col9\" class=\"data row4 col9\" >0</td>\n",
              "      <td id=\"T_eb910_row4_col10\" class=\"data row4 col10\" >0</td>\n",
              "      <td id=\"T_eb910_row4_col11\" class=\"data row4 col11\" >192</td>\n",
              "      <td id=\"T_eb910_row4_col12\" class=\"data row4 col12\" >253</td>\n",
              "      <td id=\"T_eb910_row4_col13\" class=\"data row4 col13\" >253</td>\n",
              "      <td id=\"T_eb910_row4_col14\" class=\"data row4 col14\" >156</td>\n",
              "      <td id=\"T_eb910_row4_col15\" class=\"data row4 col15\" >0</td>\n",
              "      <td id=\"T_eb910_row4_col16\" class=\"data row4 col16\" >0</td>\n",
              "      <td id=\"T_eb910_row4_col17\" class=\"data row4 col17\" >0</td>\n",
              "    </tr>\n",
              "    <tr>\n",
              "      <th id=\"T_eb910_level0_row5\" class=\"row_heading level0 row5\" >5</th>\n",
              "      <td id=\"T_eb910_row5_col0\" class=\"data row5 col0\" >0</td>\n",
              "      <td id=\"T_eb910_row5_col1\" class=\"data row5 col1\" >3</td>\n",
              "      <td id=\"T_eb910_row5_col2\" class=\"data row5 col2\" >20</td>\n",
              "      <td id=\"T_eb910_row5_col3\" class=\"data row5 col3\" >20</td>\n",
              "      <td id=\"T_eb910_row5_col4\" class=\"data row5 col4\" >15</td>\n",
              "      <td id=\"T_eb910_row5_col5\" class=\"data row5 col5\" >0</td>\n",
              "      <td id=\"T_eb910_row5_col6\" class=\"data row5 col6\" >0</td>\n",
              "      <td id=\"T_eb910_row5_col7\" class=\"data row5 col7\" >0</td>\n",
              "      <td id=\"T_eb910_row5_col8\" class=\"data row5 col8\" >0</td>\n",
              "      <td id=\"T_eb910_row5_col9\" class=\"data row5 col9\" >0</td>\n",
              "      <td id=\"T_eb910_row5_col10\" class=\"data row5 col10\" >43</td>\n",
              "      <td id=\"T_eb910_row5_col11\" class=\"data row5 col11\" >224</td>\n",
              "      <td id=\"T_eb910_row5_col12\" class=\"data row5 col12\" >253</td>\n",
              "      <td id=\"T_eb910_row5_col13\" class=\"data row5 col13\" >245</td>\n",
              "      <td id=\"T_eb910_row5_col14\" class=\"data row5 col14\" >74</td>\n",
              "      <td id=\"T_eb910_row5_col15\" class=\"data row5 col15\" >0</td>\n",
              "      <td id=\"T_eb910_row5_col16\" class=\"data row5 col16\" >0</td>\n",
              "      <td id=\"T_eb910_row5_col17\" class=\"data row5 col17\" >0</td>\n",
              "    </tr>\n",
              "    <tr>\n",
              "      <th id=\"T_eb910_level0_row6\" class=\"row_heading level0 row6\" >6</th>\n",
              "      <td id=\"T_eb910_row6_col0\" class=\"data row6 col0\" >0</td>\n",
              "      <td id=\"T_eb910_row6_col1\" class=\"data row6 col1\" >0</td>\n",
              "      <td id=\"T_eb910_row6_col2\" class=\"data row6 col2\" >0</td>\n",
              "      <td id=\"T_eb910_row6_col3\" class=\"data row6 col3\" >0</td>\n",
              "      <td id=\"T_eb910_row6_col4\" class=\"data row6 col4\" >0</td>\n",
              "      <td id=\"T_eb910_row6_col5\" class=\"data row6 col5\" >0</td>\n",
              "      <td id=\"T_eb910_row6_col6\" class=\"data row6 col6\" >0</td>\n",
              "      <td id=\"T_eb910_row6_col7\" class=\"data row6 col7\" >0</td>\n",
              "      <td id=\"T_eb910_row6_col8\" class=\"data row6 col8\" >0</td>\n",
              "      <td id=\"T_eb910_row6_col9\" class=\"data row6 col9\" >0</td>\n",
              "      <td id=\"T_eb910_row6_col10\" class=\"data row6 col10\" >249</td>\n",
              "      <td id=\"T_eb910_row6_col11\" class=\"data row6 col11\" >253</td>\n",
              "      <td id=\"T_eb910_row6_col12\" class=\"data row6 col12\" >245</td>\n",
              "      <td id=\"T_eb910_row6_col13\" class=\"data row6 col13\" >126</td>\n",
              "      <td id=\"T_eb910_row6_col14\" class=\"data row6 col14\" >0</td>\n",
              "      <td id=\"T_eb910_row6_col15\" class=\"data row6 col15\" >0</td>\n",
              "      <td id=\"T_eb910_row6_col16\" class=\"data row6 col16\" >0</td>\n",
              "      <td id=\"T_eb910_row6_col17\" class=\"data row6 col17\" >0</td>\n",
              "    </tr>\n",
              "    <tr>\n",
              "      <th id=\"T_eb910_level0_row7\" class=\"row_heading level0 row7\" >7</th>\n",
              "      <td id=\"T_eb910_row7_col0\" class=\"data row7 col0\" >0</td>\n",
              "      <td id=\"T_eb910_row7_col1\" class=\"data row7 col1\" >0</td>\n",
              "      <td id=\"T_eb910_row7_col2\" class=\"data row7 col2\" >0</td>\n",
              "      <td id=\"T_eb910_row7_col3\" class=\"data row7 col3\" >0</td>\n",
              "      <td id=\"T_eb910_row7_col4\" class=\"data row7 col4\" >0</td>\n",
              "      <td id=\"T_eb910_row7_col5\" class=\"data row7 col5\" >0</td>\n",
              "      <td id=\"T_eb910_row7_col6\" class=\"data row7 col6\" >0</td>\n",
              "      <td id=\"T_eb910_row7_col7\" class=\"data row7 col7\" >14</td>\n",
              "      <td id=\"T_eb910_row7_col8\" class=\"data row7 col8\" >101</td>\n",
              "      <td id=\"T_eb910_row7_col9\" class=\"data row7 col9\" >223</td>\n",
              "      <td id=\"T_eb910_row7_col10\" class=\"data row7 col10\" >253</td>\n",
              "      <td id=\"T_eb910_row7_col11\" class=\"data row7 col11\" >248</td>\n",
              "      <td id=\"T_eb910_row7_col12\" class=\"data row7 col12\" >124</td>\n",
              "      <td id=\"T_eb910_row7_col13\" class=\"data row7 col13\" >0</td>\n",
              "      <td id=\"T_eb910_row7_col14\" class=\"data row7 col14\" >0</td>\n",
              "      <td id=\"T_eb910_row7_col15\" class=\"data row7 col15\" >0</td>\n",
              "      <td id=\"T_eb910_row7_col16\" class=\"data row7 col16\" >0</td>\n",
              "      <td id=\"T_eb910_row7_col17\" class=\"data row7 col17\" >0</td>\n",
              "    </tr>\n",
              "    <tr>\n",
              "      <th id=\"T_eb910_level0_row8\" class=\"row_heading level0 row8\" >8</th>\n",
              "      <td id=\"T_eb910_row8_col0\" class=\"data row8 col0\" >0</td>\n",
              "      <td id=\"T_eb910_row8_col1\" class=\"data row8 col1\" >0</td>\n",
              "      <td id=\"T_eb910_row8_col2\" class=\"data row8 col2\" >0</td>\n",
              "      <td id=\"T_eb910_row8_col3\" class=\"data row8 col3\" >0</td>\n",
              "      <td id=\"T_eb910_row8_col4\" class=\"data row8 col4\" >0</td>\n",
              "      <td id=\"T_eb910_row8_col5\" class=\"data row8 col5\" >11</td>\n",
              "      <td id=\"T_eb910_row8_col6\" class=\"data row8 col6\" >166</td>\n",
              "      <td id=\"T_eb910_row8_col7\" class=\"data row8 col7\" >239</td>\n",
              "      <td id=\"T_eb910_row8_col8\" class=\"data row8 col8\" >253</td>\n",
              "      <td id=\"T_eb910_row8_col9\" class=\"data row8 col9\" >253</td>\n",
              "      <td id=\"T_eb910_row8_col10\" class=\"data row8 col10\" >253</td>\n",
              "      <td id=\"T_eb910_row8_col11\" class=\"data row8 col11\" >187</td>\n",
              "      <td id=\"T_eb910_row8_col12\" class=\"data row8 col12\" >30</td>\n",
              "      <td id=\"T_eb910_row8_col13\" class=\"data row8 col13\" >0</td>\n",
              "      <td id=\"T_eb910_row8_col14\" class=\"data row8 col14\" >0</td>\n",
              "      <td id=\"T_eb910_row8_col15\" class=\"data row8 col15\" >0</td>\n",
              "      <td id=\"T_eb910_row8_col16\" class=\"data row8 col16\" >0</td>\n",
              "      <td id=\"T_eb910_row8_col17\" class=\"data row8 col17\" >0</td>\n",
              "    </tr>\n",
              "    <tr>\n",
              "      <th id=\"T_eb910_level0_row9\" class=\"row_heading level0 row9\" >9</th>\n",
              "      <td id=\"T_eb910_row9_col0\" class=\"data row9 col0\" >0</td>\n",
              "      <td id=\"T_eb910_row9_col1\" class=\"data row9 col1\" >0</td>\n",
              "      <td id=\"T_eb910_row9_col2\" class=\"data row9 col2\" >0</td>\n",
              "      <td id=\"T_eb910_row9_col3\" class=\"data row9 col3\" >0</td>\n",
              "      <td id=\"T_eb910_row9_col4\" class=\"data row9 col4\" >0</td>\n",
              "      <td id=\"T_eb910_row9_col5\" class=\"data row9 col5\" >16</td>\n",
              "      <td id=\"T_eb910_row9_col6\" class=\"data row9 col6\" >248</td>\n",
              "      <td id=\"T_eb910_row9_col7\" class=\"data row9 col7\" >250</td>\n",
              "      <td id=\"T_eb910_row9_col8\" class=\"data row9 col8\" >253</td>\n",
              "      <td id=\"T_eb910_row9_col9\" class=\"data row9 col9\" >253</td>\n",
              "      <td id=\"T_eb910_row9_col10\" class=\"data row9 col10\" >253</td>\n",
              "      <td id=\"T_eb910_row9_col11\" class=\"data row9 col11\" >253</td>\n",
              "      <td id=\"T_eb910_row9_col12\" class=\"data row9 col12\" >232</td>\n",
              "      <td id=\"T_eb910_row9_col13\" class=\"data row9 col13\" >213</td>\n",
              "      <td id=\"T_eb910_row9_col14\" class=\"data row9 col14\" >111</td>\n",
              "      <td id=\"T_eb910_row9_col15\" class=\"data row9 col15\" >2</td>\n",
              "      <td id=\"T_eb910_row9_col16\" class=\"data row9 col16\" >0</td>\n",
              "      <td id=\"T_eb910_row9_col17\" class=\"data row9 col17\" >0</td>\n",
              "    </tr>\n",
              "    <tr>\n",
              "      <th id=\"T_eb910_level0_row10\" class=\"row_heading level0 row10\" >10</th>\n",
              "      <td id=\"T_eb910_row10_col0\" class=\"data row10 col0\" >0</td>\n",
              "      <td id=\"T_eb910_row10_col1\" class=\"data row10 col1\" >0</td>\n",
              "      <td id=\"T_eb910_row10_col2\" class=\"data row10 col2\" >0</td>\n",
              "      <td id=\"T_eb910_row10_col3\" class=\"data row10 col3\" >0</td>\n",
              "      <td id=\"T_eb910_row10_col4\" class=\"data row10 col4\" >0</td>\n",
              "      <td id=\"T_eb910_row10_col5\" class=\"data row10 col5\" >0</td>\n",
              "      <td id=\"T_eb910_row10_col6\" class=\"data row10 col6\" >0</td>\n",
              "      <td id=\"T_eb910_row10_col7\" class=\"data row10 col7\" >43</td>\n",
              "      <td id=\"T_eb910_row10_col8\" class=\"data row10 col8\" >98</td>\n",
              "      <td id=\"T_eb910_row10_col9\" class=\"data row10 col9\" >98</td>\n",
              "      <td id=\"T_eb910_row10_col10\" class=\"data row10 col10\" >208</td>\n",
              "      <td id=\"T_eb910_row10_col11\" class=\"data row10 col11\" >253</td>\n",
              "      <td id=\"T_eb910_row10_col12\" class=\"data row10 col12\" >253</td>\n",
              "      <td id=\"T_eb910_row10_col13\" class=\"data row10 col13\" >253</td>\n",
              "      <td id=\"T_eb910_row10_col14\" class=\"data row10 col14\" >253</td>\n",
              "      <td id=\"T_eb910_row10_col15\" class=\"data row10 col15\" >187</td>\n",
              "      <td id=\"T_eb910_row10_col16\" class=\"data row10 col16\" >22</td>\n",
              "      <td id=\"T_eb910_row10_col17\" class=\"data row10 col17\" >0</td>\n",
              "    </tr>\n",
              "  </tbody>\n",
              "</table>\n"
            ],
            "text/plain": [
              "<pandas.io.formats.style.Styler at 0x7f92836e5910>"
            ]
          },
          "metadata": {},
          "execution_count": 10
        }
      ]
    },
    {
      "cell_type": "markdown",
      "source": [
        "# Pixel Similarity - Start\n",
        "In this section we are going to discuss and start working through pixel similarity. This work will also cover the next few sections."
      ],
      "metadata": {
        "id": "RjgcnJnnNSIe"
      }
    },
    {
      "cell_type": "markdown",
      "source": [
        "\n",
        "\n",
        "---\n",
        "\n",
        "\n",
        "**Chapter 3: Stop and Think: How might a computer be able to recognize these two digits? What kinds of features might it beable to look at? How might it be able to idenfity these features? How could it combine them?**"
      ],
      "metadata": {
        "id": "vOegQ0oN-30D"
      }
    },
    {
      "cell_type": "markdown",
      "source": [
        "My Answers: I sort of understand the method behind this. One of the featurs we will be looking at are the edges. EG in the above example we see that there is a curve, well one curve in the upper right quadrant might indicate a 0, 8, 7, 4, 3, 2. Next we will look at the lower right quadrant, where see the curve from the above zone peak in and then come back out toward the bottom and out of frame. This feature (the curve) narrows down the possibilities to 8,3 more or less. By breaking down the numbers into individual elements and then building them back up into their full self we can easily build filters around those features. \n",
        "\n",
        "\n",
        "---\n"
      ],
      "metadata": {
        "id": "rQ8VV5bg_KG_"
      }
    },
    {
      "cell_type": "markdown",
      "source": [
        "First we are going to try Pixel Similarity. We will find the average value of every pixel of the 3s and 7s. This will give us what an \"idea\" 3 and 7 would look like. This should allow us to identify the difference between 7 and 3. \n",
        "\n",
        "First lets put all the images into a single tensor. This cool trick is called a List Comprehension. Essentally it looks like this\n",
        "`new_list = [f(o) for o in a_list if o>]` This is a much more efficent way to make new lists than the typical larger loops. "
      ],
      "metadata": {
        "id": "GHqQ_6AFa6YO"
      }
    },
    {
      "cell_type": "code",
      "source": [
        "seven_tensors = [tensor(Image.open(o)) for o in sevens]"
      ],
      "metadata": {
        "id": "v8NMpyyFAF_D"
      },
      "execution_count": 11,
      "outputs": []
    },
    {
      "cell_type": "code",
      "source": [
        "three_tensors = [tensor(Image.open(o)) for o in threes]"
      ],
      "metadata": {
        "id": "Z5kAMTzSb_Ev"
      },
      "execution_count": 12,
      "outputs": []
    },
    {
      "cell_type": "code",
      "source": [
        "len(three_tensors), len(seven_tensors)"
      ],
      "metadata": {
        "colab": {
          "base_uri": "https://localhost:8080/"
        },
        "id": "r29PhIBYcEij",
        "outputId": "dc647d14-2d64-4fb0-d298-f09c807d6d0b"
      },
      "execution_count": 13,
      "outputs": [
        {
          "output_type": "execute_result",
          "data": {
            "text/plain": [
              "(6131, 6265)"
            ]
          },
          "metadata": {},
          "execution_count": 13
        }
      ]
    },
    {
      "cell_type": "code",
      "source": [
        "show_image(three_tensors[1])"
      ],
      "metadata": {
        "colab": {
          "base_uri": "https://localhost:8080/",
          "height": 73
        },
        "id": "XMCHLBZfcQQl",
        "outputId": "42604289-7cb5-4cc6-9590-07b8146bf3ff"
      },
      "execution_count": 14,
      "outputs": [
        {
          "output_type": "execute_result",
          "data": {
            "text/plain": [
              "<matplotlib.axes._subplots.AxesSubplot at 0x7f9281a4e950>"
            ]
          },
          "metadata": {},
          "execution_count": 14
        },
        {
          "output_type": "display_data",
          "data": {
            "image/png": "[encoded data removed]",
            "text/plain": [
              "<Figure size 72x72 with 1 Axes>"
            ]
          },
          "metadata": {
            "needs_background": "light"
          }
        }
      ]
    },
    {
      "cell_type": "markdown",
      "source": [
        "Now since we are going to get the average pixel density for each of the images in order to build our prediction, we need to stack. PyTorch comes with a handy dandy stack function that allows this to happen. This stacking will create what is called a rank 3 tensor. This act of stacking various tensors is very useful for performing various actions on large datasets. So building these rank 3 tensors is important. \n",
        "\n",
        "Also some important information to remember. Rank is the number of axes or dimensions in a tensor. Shape is the size of each of the axis of the tensor. For example when we stack these tensors we will have 3 dimensions: Number of images (6265), size of image width (28), size of image height (28). You cans ee this using the tensor.shape call. The length of the shape is the rank. eg:\n",
        "```rank = len(tensor.shape)```\n",
        "\n",
        "Dimension can sometimes be used for the size of an axis (space is three dimensional) where other times it is used for the rank or number of axes (a two dimenional matrix). It can be useful to break down terms into ranks, axis, and length. \n"
      ],
      "metadata": {
        "id": "K9Co66ledqEE"
      }
    },
    {
      "cell_type": "code",
      "source": [
        "stacked_sevens = torch.stack(seven_tensors).float()/255\n",
        "stacked_sevens.shape"
      ],
      "metadata": {
        "colab": {
          "base_uri": "https://localhost:8080/"
        },
        "id": "I2RQaibZczxU",
        "outputId": "d1ece064-0e08-4feb-fb1c-ac005e37ef46"
      },
      "execution_count": 15,
      "outputs": [
        {
          "output_type": "execute_result",
          "data": {
            "text/plain": [
              "torch.Size([6265, 28, 28])"
            ]
          },
          "metadata": {},
          "execution_count": 15
        }
      ]
    },
    {
      "cell_type": "code",
      "source": [
        "stacked_threes = torch.stack(three_tensors).float()/255\n",
        "stacked_threes.shape"
      ],
      "metadata": {
        "colab": {
          "base_uri": "https://localhost:8080/"
        },
        "id": "21MXGgfKdMKt",
        "outputId": "caa868cd-e90c-4da0-9178-5fb9c0831a56"
      },
      "execution_count": 16,
      "outputs": [
        {
          "output_type": "execute_result",
          "data": {
            "text/plain": [
              "torch.Size([6131, 28, 28])"
            ]
          },
          "metadata": {},
          "execution_count": 16
        }
      ]
    },
    {
      "cell_type": "code",
      "source": [
        "len(stacked_threes.shape)"
      ],
      "metadata": {
        "colab": {
          "base_uri": "https://localhost:8080/"
        },
        "id": "GWFELHDNiKnt",
        "outputId": "8d45e55a-3923-4900-e76b-1308fb1f67cc"
      },
      "execution_count": 17,
      "outputs": [
        {
          "output_type": "execute_result",
          "data": {
            "text/plain": [
              "3"
            ]
          },
          "metadata": {},
          "execution_count": 17
        }
      ]
    },
    {
      "cell_type": "markdown",
      "source": [
        "And of course since this is a whole fancy framework we can get the tensors rank directly with ```tensor.ndim``` as shown below."
      ],
      "metadata": {
        "id": "IM6aG_rBiRo8"
      }
    },
    {
      "cell_type": "code",
      "source": [
        "stacked_threes.ndim"
      ],
      "metadata": {
        "colab": {
          "base_uri": "https://localhost:8080/"
        },
        "id": "IiAxljQ7igAz",
        "outputId": "36262a18-1390-423e-acd9-da4b899f4e18"
      },
      "execution_count": 18,
      "outputs": [
        {
          "output_type": "execute_result",
          "data": {
            "text/plain": [
              "3"
            ]
          },
          "metadata": {},
          "execution_count": 18
        }
      ]
    },
    {
      "cell_type": "markdown",
      "source": [
        "Now we that we have rank 3 stacked tensors we can calculate the mean along dimension 0 of the tensor.... that is the this is the dimension that indexes over all the images. This will give us the \"idea\" image for each number. That is if most of the pixels in any future image match this idea image of these numbers than there is a high likelyhood that the image will be which ever it matchs. "
      ],
      "metadata": {
        "id": "-SknihcKj6Ms"
      }
    },
    {
      "cell_type": "code",
      "source": [
        "mean3 = stacked_threes.mean(0)\n",
        "\n",
        "mean3.shape, show_image(mean3)"
      ],
      "metadata": {
        "colab": {
          "base_uri": "https://localhost:8080/",
          "height": 91
        },
        "id": "IlQHg8t9jWnn",
        "outputId": "44f726a1-f1b4-49f2-ffd2-5bd3f9e4bd2c"
      },
      "execution_count": 19,
      "outputs": [
        {
          "output_type": "execute_result",
          "data": {
            "text/plain": [
              "(torch.Size([28, 28]),\n",
              " <matplotlib.axes._subplots.AxesSubplot at 0x7f927ee62710>)"
            ]
          },
          "metadata": {},
          "execution_count": 19
        },
        {
          "output_type": "display_data",
          "data": {
            "image/png": "[encoded data removed]",
            "text/plain": [
              "<Figure size 72x72 with 1 Axes>"
            ]
          },
          "metadata": {
            "needs_background": "light"
          }
        }
      ]
    },
    {
      "cell_type": "code",
      "source": [
        "mean7 = stacked_sevens.mean(0)\n",
        "show_image(mean7)"
      ],
      "metadata": {
        "colab": {
          "base_uri": "https://localhost:8080/",
          "height": 73
        },
        "id": "6D5e2PzXjpka",
        "outputId": "65f77442-cccf-41c1-ca24-a88b49427056"
      },
      "execution_count": 20,
      "outputs": [
        {
          "output_type": "execute_result",
          "data": {
            "text/plain": [
              "<matplotlib.axes._subplots.AxesSubplot at 0x7f9282be2ad0>"
            ]
          },
          "metadata": {},
          "execution_count": 20
        },
        {
          "output_type": "display_data",
          "data": {
            "image/png": "[encoded data removed]",
            "text/plain": [
              "<Figure size 72x72 with 1 Axes>"
            ]
          },
          "metadata": {
            "needs_background": "light"
          }
        }
      ]
    },
    {
      "cell_type": "markdown",
      "source": [
        "# Mean Absoulte Difference & Root Mean Squared Error\n",
        "In this section we start to explore how to find the difference between our idea image and our sample."
      ],
      "metadata": {
        "id": "fukvO_dlMsyN"
      }
    },
    {
      "cell_type": "markdown",
      "source": [
        "\n",
        "---\n",
        "**Chapter 3: Stop And Think - How would you calculate how similar a particular image is to each of our ideal digits?**\n"
      ],
      "metadata": {
        "id": "mKjHdlP7kmeo"
      }
    },
    {
      "cell_type": "code",
      "source": [
        "a_3 = stacked_threes[1]\n",
        "a_7 = stacked_sevens[1]"
      ],
      "metadata": {
        "id": "T6iyHad2k9w3"
      },
      "execution_count": 21,
      "outputs": []
    },
    {
      "cell_type": "code",
      "source": [
        "show_image(a_3), show_image(a_7)"
      ],
      "metadata": {
        "id": "KWjJ30km0FfR",
        "outputId": "af2dfb8a-8cff-44a0-b79d-5a76a9cf46f8",
        "colab": {
          "base_uri": "https://localhost:8080/",
          "height": 190
        }
      },
      "execution_count": 22,
      "outputs": [
        {
          "output_type": "execute_result",
          "data": {
            "text/plain": [
              "(<matplotlib.axes._subplots.AxesSubplot at 0x7f9282bb0b10>,\n",
              " <matplotlib.axes._subplots.AxesSubplot at 0x7f9282b65f50>)"
            ]
          },
          "metadata": {},
          "execution_count": 22
        },
        {
          "output_type": "display_data",
          "data": {
            "image/png": "[encoded data removed]",
            "text/plain": [
              "<Figure size 72x72 with 1 Axes>"
            ]
          },
          "metadata": {
            "needs_background": "light"
          }
        },
        {
          "output_type": "display_data",
          "data": {
            "image/png": "[encoded data removed]",
            "text/plain": [
              "<Figure size 72x72 with 1 Axes>"
            ]
          },
          "metadata": {
            "needs_background": "light"
          }
        }
      ]
    },
    {
      "cell_type": "markdown",
      "source": [
        "In order to find the difference between any random 3 and our \"idea\" image of a 3, we have a few options.\n",
        "\n",
        "First we have the Mean Absoulte Difference or L1 Norm, which takes the mean of the absolute value of the differences. "
      ],
      "metadata": {
        "id": "ljVDLv8pCMcA"
      }
    },
    {
      "cell_type": "code",
      "source": [
        "dist_3_abs = (a_3 - mean3).abs().mean()\n",
        "dist_7_abs = (a_3 - mean7).abs().mean()\n",
        "\n",
        "dist_3_abs, dist_7_abs"
      ],
      "metadata": {
        "colab": {
          "base_uri": "https://localhost:8080/"
        },
        "id": "MSKSztMyCnee",
        "outputId": "97a87e2b-3178-4ca6-d4bc-949aa136e042"
      },
      "execution_count": 23,
      "outputs": [
        {
          "output_type": "execute_result",
          "data": {
            "text/plain": [
              "(tensor(0.1114), tensor(0.1586))"
            ]
          },
          "metadata": {},
          "execution_count": 23
        }
      ]
    },
    {
      "cell_type": "markdown",
      "source": [
        "Next we have the Root Mean Squared Error (RMSE) or L2 Norm, takes the mean of the square of the differences (this makes it all positive) and then take the square root (this undoes the squaring). "
      ],
      "metadata": {
        "id": "9noZ7HQCCoOt"
      }
    },
    {
      "cell_type": "code",
      "source": [
        "dist_3_sq = ((a_3 - mean3)**2).mean().sqrt()\n",
        "dist_7_sq = ((a_3 - mean7)**2).mean().sqrt()\n",
        "dist_3_sq, dist_7_sq"
      ],
      "metadata": {
        "colab": {
          "base_uri": "https://localhost:8080/"
        },
        "id": "BeQKmfu1C46i",
        "outputId": "c3a890a4-8edb-42b5-cdcc-4de217277a30"
      },
      "execution_count": 24,
      "outputs": [
        {
          "output_type": "execute_result",
          "data": {
            "text/plain": [
              "(tensor(0.2021), tensor(0.3021))"
            ]
          },
          "metadata": {},
          "execution_count": 24
        }
      ]
    },
    {
      "cell_type": "markdown",
      "source": [
        "And Pytorch gives you a quick and easy function to use the L1 or L2 Norm. "
      ],
      "metadata": {
        "id": "hTLu5PzYCoGn"
      }
    },
    {
      "cell_type": "code",
      "source": [
        "F.l1_loss(a_3, mean3), F.l1_loss(a_3, mean7)"
      ],
      "metadata": {
        "colab": {
          "base_uri": "https://localhost:8080/"
        },
        "id": "KJZEC7dEGFUX",
        "outputId": "ee85831c-f8f0-4593-851a-0199d282b364"
      },
      "execution_count": 25,
      "outputs": [
        {
          "output_type": "execute_result",
          "data": {
            "text/plain": [
              "(tensor(0.1114), tensor(0.1586))"
            ]
          },
          "metadata": {},
          "execution_count": 25
        }
      ]
    },
    {
      "cell_type": "code",
      "source": [
        "F.mse_loss(a_3, mean3), F.mse_loss(a_3, mean7)"
      ],
      "metadata": {
        "colab": {
          "base_uri": "https://localhost:8080/"
        },
        "id": "_4_08eYFGl2y",
        "outputId": "758da2aa-9503-4954-dd3a-0a2620397f10"
      },
      "execution_count": 26,
      "outputs": [
        {
          "output_type": "execute_result",
          "data": {
            "text/plain": [
              "(tensor(0.0408), tensor(0.0913))"
            ]
          },
          "metadata": {},
          "execution_count": 26
        }
      ]
    },
    {
      "cell_type": "markdown",
      "source": [
        "---\n",
        "# Tensor/Array Experiments\n",
        "Okay lets take a few mins and review how to set up arrays and tensors using pytorch and numpy. The big thing to keep in mind about the differences is that arrays can be jaggaed, that is each in multi-dimensional array (matrix) the inner arrays may be differnet sizes. These arrays can also have various types with in the data structure. Arrays can not live on the GPU as they are not optimized for that type of computation, due to the features above.\n",
        "\n",
        "Tensors on the other hand must be a perfect retangle data structure. That is they cannot be jaggaed. Additionally, tensors have strict types which is the basic numerical type. This has the usefulness of allowing them to run on the GPU and proccessa a lot more quickly. Most operations that can be run on numpy arrays will also work on pytorch tensors. "
      ],
      "metadata": {
        "id": "g9LbURrqIAom"
      }
    },
    {
      "cell_type": "code",
      "source": [
        "data = [[1,2,3],[4,5,6]]\n",
        "arr = array(data)\n",
        "tns = tensor(data)"
      ],
      "metadata": {
        "id": "8oc-b86v231z"
      },
      "execution_count": 27,
      "outputs": []
    },
    {
      "cell_type": "markdown",
      "source": [
        "Like arrays, Tensors are zero indexed. The remainder of testing will be on tensor only but the array syntax is essentially identical. Tensors are the key component to ML. "
      ],
      "metadata": {
        "id": "b8aPaPx5GnJq"
      }
    },
    {
      "cell_type": "code",
      "source": [
        "tns[1], tns[0], arr[0], arr[1]"
      ],
      "metadata": {
        "colab": {
          "base_uri": "https://localhost:8080/"
        },
        "id": "2pFFvOhfGcrP",
        "outputId": "62d1487f-884a-49cf-e934-21aae7b66be6"
      },
      "execution_count": 28,
      "outputs": [
        {
          "output_type": "execute_result",
          "data": {
            "text/plain": [
              "(tensor([4, 5, 6]), tensor([1, 2, 3]), array([1, 2, 3]), array([4, 5, 6]))"
            ]
          },
          "metadata": {},
          "execution_count": 28
        }
      ]
    },
    {
      "cell_type": "markdown",
      "source": [
        "With tensors and arrays you will often refer to the dimensions as axes. In this example we use the : to indicate everything on the 1st and 2rd axes."
      ],
      "metadata": {
        "id": "NMBPSGK6HMvp"
      }
    },
    {
      "cell_type": "code",
      "source": [
        "tns[:,1], tns[:,2]"
      ],
      "metadata": {
        "colab": {
          "base_uri": "https://localhost:8080/"
        },
        "id": "ldBnizfhG_sY",
        "outputId": "b5bedb8e-2b7a-4a9c-97fe-bbd44bbea4eb"
      },
      "execution_count": 29,
      "outputs": [
        {
          "output_type": "execute_result",
          "data": {
            "text/plain": [
              "(tensor([2, 5]), tensor([3, 6]))"
            ]
          },
          "metadata": {},
          "execution_count": 29
        }
      ]
    },
    {
      "cell_type": "markdown",
      "source": [
        "You can use python slicing to select parts of the tensor as below."
      ],
      "metadata": {
        "id": "EVrBaFtSKm2r"
      }
    },
    {
      "cell_type": "code",
      "source": [
        "tns[1,0:3], tns[1,0:2]"
      ],
      "metadata": {
        "colab": {
          "base_uri": "https://localhost:8080/"
        },
        "id": "I3jglQKVHwzO",
        "outputId": "edfda40e-9ea5-4f84-e447-c46a036677e7"
      },
      "execution_count": 30,
      "outputs": [
        {
          "output_type": "execute_result",
          "data": {
            "text/plain": [
              "(tensor([4, 5, 6]), tensor([4, 5]))"
            ]
          },
          "metadata": {},
          "execution_count": 30
        }
      ]
    },
    {
      "cell_type": "markdown",
      "source": [
        "Addition, Subtraction, Mutplication, and divison using standard signs also work well on them. Tensors have a type and will also automatically change from int to float as we see below."
      ],
      "metadata": {
        "id": "LS0StyBJLYPd"
      }
    },
    {
      "cell_type": "code",
      "source": [
        "tns.type()"
      ],
      "metadata": {
        "colab": {
          "base_uri": "https://localhost:8080/",
          "height": 36
        },
        "id": "8K3D1NVcLson",
        "outputId": "a915baf0-5356-4842-b730-f916be341518"
      },
      "execution_count": 31,
      "outputs": [
        {
          "output_type": "execute_result",
          "data": {
            "application/vnd.google.colaboratory.intrinsic+json": {
              "type": "string"
            },
            "text/plain": [
              "'torch.LongTensor'"
            ]
          },
          "metadata": {},
          "execution_count": 31
        }
      ]
    },
    {
      "cell_type": "code",
      "source": [
        "tns+1,tns-1"
      ],
      "metadata": {
        "colab": {
          "base_uri": "https://localhost:8080/"
        },
        "id": "sP5C3MUwKret",
        "outputId": "97c4f069-9e8d-42b2-9793-342874d255b9"
      },
      "execution_count": 32,
      "outputs": [
        {
          "output_type": "execute_result",
          "data": {
            "text/plain": [
              "(tensor([[2, 3, 4],\n",
              "         [5, 6, 7]]), tensor([[0, 1, 2],\n",
              "         [3, 4, 5]]))"
            ]
          },
          "metadata": {},
          "execution_count": 32
        }
      ]
    },
    {
      "cell_type": "code",
      "source": [
        "tns*4, tns*4/2"
      ],
      "metadata": {
        "colab": {
          "base_uri": "https://localhost:8080/"
        },
        "id": "zKuIV-pdK10M",
        "outputId": "6c2378fc-d5e7-43df-ce86-2b946de9b62d"
      },
      "execution_count": 33,
      "outputs": [
        {
          "output_type": "execute_result",
          "data": {
            "text/plain": [
              "(tensor([[ 4,  8, 12],\n",
              "         [16, 20, 24]]), tensor([[ 2.,  4.,  6.],\n",
              "         [ 8., 10., 12.]]))"
            ]
          },
          "metadata": {},
          "execution_count": 33
        }
      ]
    },
    {
      "cell_type": "markdown",
      "source": [
        "Thus ends our tinkering on how Tensors and Arrays work. Any more experiments should be conducted above this line. \n",
        "\n",
        "\n",
        "---\n",
        "\n"
      ],
      "metadata": {
        "id": "2tqsvNRML5AS"
      }
    },
    {
      "cell_type": "markdown",
      "source": [
        "# Computing Matrics using Broadcasting\n",
        "When encountering an operation between tensors of different differnt ranks (`len(tensor.shape)` or `tensor.ndim`), pytorch will use a method called broadcasting to extend the smaller ranked tensor into the same size as the larger ranked tensor. This allows various types of matrix operations to be efficently done with pytorch and numpy. Broadcasting is an important thing to keep in mind when creating efficent code. \n",
        "\n",
        "In this section we will start to see how that works."
      ],
      "metadata": {
        "id": "nSkSXmRyMFrm"
      }
    },
    {
      "cell_type": "markdown",
      "source": [
        "First lets get tensors of our validation set, lets cheat and use our testing set vs finding and splling out the validation set from the training set."
      ],
      "metadata": {
        "id": "IJEUyiMxqoRa"
      }
    },
    {
      "cell_type": "code",
      "source": [
        "val_sevens_tns = torch.stack([tensor(Image.open(o)) for o in (path/'testing'/'7').ls()])\n",
        "val_sevens_tns = val_sevens_tns.float()/255\n",
        "val_threes_tns = torch.stack([tensor(Image.open(o)) for o in (path/'testing'/'3').ls()])\n",
        "val_threes_tns = val_threes_tns.float()/255\n",
        "val_sevens_tns.shape, val_threes_tns.shape"
      ],
      "metadata": {
        "colab": {
          "base_uri": "https://localhost:8080/"
        },
        "id": "PUQAsMK9RXz3",
        "outputId": "c03c5ef0-f90e-49ef-d42f-1d7f0afb4180"
      },
      "execution_count": 34,
      "outputs": [
        {
          "output_type": "execute_result",
          "data": {
            "text/plain": [
              "(torch.Size([1028, 28, 28]), torch.Size([1010, 28, 28]))"
            ]
          },
          "metadata": {},
          "execution_count": 34
        }
      ]
    },
    {
      "cell_type": "markdown",
      "source": [
        "We want to eventually want to create a function \"is_3\" that can take any image and determine its distance from the idea image. In order to do this we need to define the notion of *distance*. Which is basically going to be a function that calculates the distance between two images. We will use the mean absoulte error for this.\n",
        "\n",
        "Its important to note here that we are subtracting a-b and getting the absolute value, and then the mean((-1, -2)). Notice the dimensional indexing done here. What order we read each dimension. \n",
        "\n",
        "  https://stackoverflow.com/questions/59704538/what-is-a-dimensional-range-of-1-0-in-pytorch\n",
        "\n",
        "  https://stackoverflow.com/questions/59702785/what-does-dim-1-or-2-mean-in-torch-sum"
      ],
      "metadata": {
        "id": "0lIcieXXN-0m"
      }
    },
    {
      "cell_type": "code",
      "source": [
        "def mnist_distance(a,b): return (a-b).abs().mean((-1, -2))"
      ],
      "metadata": {
        "id": "h2zsRS-pDGEj"
      },
      "execution_count": 35,
      "outputs": []
    },
    {
      "cell_type": "code",
      "source": [
        "mnist_distance(a_3, mean3)"
      ],
      "metadata": {
        "colab": {
          "base_uri": "https://localhost:8080/"
        },
        "id": "gWw9fZg4PduC",
        "outputId": "c1ab64d1-7199-4740-fcd0-89cfa62e27da"
      },
      "execution_count": 36,
      "outputs": [
        {
          "output_type": "execute_result",
          "data": {
            "text/plain": [
              "tensor(0.1114)"
            ]
          },
          "metadata": {},
          "execution_count": 36
        }
      ]
    },
    {
      "cell_type": "code",
      "source": [
        "mean3.shape, val_threes_tns.shape"
      ],
      "metadata": {
        "colab": {
          "base_uri": "https://localhost:8080/"
        },
        "id": "EHYVMALmTKCz",
        "outputId": "abb827ce-36cc-48f9-ccce-4f84fd0d6f33"
      },
      "execution_count": 37,
      "outputs": [
        {
          "output_type": "execute_result",
          "data": {
            "text/plain": [
              "(torch.Size([28, 28]), torch.Size([1010, 28, 28]))"
            ]
          },
          "metadata": {},
          "execution_count": 37
        }
      ]
    },
    {
      "cell_type": "code",
      "source": [
        "val_three_dist = mnist_distance(val_threes_tns, mean3)\n",
        "val_three_dist, val_three_dist.shape, val_three_dist.type()"
      ],
      "metadata": {
        "colab": {
          "base_uri": "https://localhost:8080/"
        },
        "id": "-eeNVSqLSa7R",
        "outputId": "35844057-aa05-4a46-e625-c0643d692cbb"
      },
      "execution_count": 38,
      "outputs": [
        {
          "output_type": "execute_result",
          "data": {
            "text/plain": [
              "(tensor([0.1379, 0.1191, 0.1485,  ..., 0.1206, 0.1358, 0.1197]),\n",
              " torch.Size([1010]),\n",
              " 'torch.FloatTensor')"
            ]
          },
          "metadata": {},
          "execution_count": 38
        }
      ]
    },
    {
      "cell_type": "markdown",
      "source": [
        "Here is another example of broadcasting more specifically spelled out. Notice the rank of each of the tesnsors, and then when we subtract the larger tensor from the smaller tensor.  One thing to keep in mind when using these broadcasting is that pytorch is not actually creating 1010 additional copies of the data to increase the size its tensor to match the larger. Its not actually allocating memory. Its simply doing some tricky math in the background to accomplis hthis. "
      ],
      "metadata": {
        "id": "wc4Wa1RCcwpI"
      }
    },
    {
      "cell_type": "code",
      "source": [
        "len(val_threes_tns.shape), len(mean3.shape), len((val_threes_tns-mean3).shape)"
      ],
      "metadata": {
        "colab": {
          "base_uri": "https://localhost:8080/"
        },
        "id": "B5xs_cQGciL6",
        "outputId": "99984d1b-5db4-4e93-96af-aee237a5896e"
      },
      "execution_count": 39,
      "outputs": [
        {
          "output_type": "execute_result",
          "data": {
            "text/plain": [
              "(3, 2, 3)"
            ]
          },
          "metadata": {},
          "execution_count": 39
        }
      ]
    },
    {
      "cell_type": "markdown",
      "source": [
        "# Finishing up Pixel Similarity\n",
        "In this section we will create our is_3 function and do some testing on it, then we will calculate our accuracy! "
      ],
      "metadata": {
        "id": "BQsfO7WFba4_"
      }
    },
    {
      "cell_type": "markdown",
      "source": [
        "Now lets make the is_3 function. Well use mnist distance function to determine if the distance between the digit in question and the idea 3 is less than the distance to the idea 7, then its a 3. "
      ],
      "metadata": {
        "id": "19oGTNm6XFcw"
      }
    },
    {
      "cell_type": "code",
      "source": [
        "def is_3(x): return mnist_distance(x, mean3) < mnist_distance(x, mean7)"
      ],
      "metadata": {
        "id": "wB5btrWdXZCS"
      },
      "execution_count": 40,
      "outputs": []
    },
    {
      "cell_type": "markdown",
      "source": [
        "Now lets test it with our two example data points."
      ],
      "metadata": {
        "id": "cdXajn3BZiVK"
      }
    },
    {
      "cell_type": "code",
      "source": [
        "is_3(a_3),is_3(a_3).float(), is_3(a_7), is_3(a_7).float()"
      ],
      "metadata": {
        "colab": {
          "base_uri": "https://localhost:8080/"
        },
        "id": "Y3_g4fj6X56i",
        "outputId": "f5880493-86f8-49cc-e2fd-1e23c090b9a8"
      },
      "execution_count": 41,
      "outputs": [
        {
          "output_type": "execute_result",
          "data": {
            "text/plain": [
              "(tensor(True), tensor(1.), tensor(False), tensor(0.))"
            ]
          },
          "metadata": {},
          "execution_count": 41
        }
      ]
    },
    {
      "cell_type": "markdown",
      "source": [
        "And thanks to broadcasting, we can actually test this on our entire test range of 3s, and 7s."
      ],
      "metadata": {
        "id": "4iw-MnQYZ_nH"
      }
    },
    {
      "cell_type": "code",
      "source": [
        "is_3(stacked_threes),is_3(stacked_sevens)"
      ],
      "metadata": {
        "colab": {
          "base_uri": "https://localhost:8080/"
        },
        "id": "ogVdKQiVaFcM",
        "outputId": "0dfbad30-537d-4fe3-970c-8d072736999d"
      },
      "execution_count": 42,
      "outputs": [
        {
          "output_type": "execute_result",
          "data": {
            "text/plain": [
              "(tensor([True, True, True,  ..., True, True, True]),\n",
              " tensor([False, False, False,  ..., False, False, False]))"
            ]
          },
          "metadata": {},
          "execution_count": 42
        }
      ]
    },
    {
      "cell_type": "code",
      "source": [
        "accuracy_3s = is_3(val_threes_tns).float().mean()\n",
        "accuracy_7s = (1-is_3(val_sevens_tns).float()).mean()\n",
        "\n",
        "accuracy_3s, accuracy_7s, (accuracy_3s+accuracy_7s)/2"
      ],
      "metadata": {
        "colab": {
          "base_uri": "https://localhost:8080/"
        },
        "id": "s59sS-xiaUfN",
        "outputId": "cb02322c-9354-4080-b274-b95e83c3d9f7"
      },
      "execution_count": 43,
      "outputs": [
        {
          "output_type": "execute_result",
          "data": {
            "text/plain": [
              "(tensor(0.9168), tensor(0.9854), tensor(0.9511))"
            ]
          },
          "metadata": {},
          "execution_count": 43
        }
      ]
    },
    {
      "cell_type": "markdown",
      "source": [
        "# Stochastic Gradient Descent\n",
        " Gradient Descent gives us the ability to turn out simple pixel similarity into a proper machine learning algorithm. Remember Arthur Samuel describes machine learning... *Suppose we arrange for some automatic means of testing the effectiveness of any current weight assignment in therms of actual performance and provide a mechanism for altering the weight assignment so as to maximize the performance.* \n",
        "\n",
        " Gradeient Descent provides that method. \n",
        "\n",
        "1.   ***Initialize*** the Weights\n",
        "2.   For each image, use the weights to ***predict*** wheather it appears to be a 3 or 7.\n",
        "3.  Based on the predictions, calculate how well the model did (***loss***)\n",
        "5. Calculate the ***gradient*** which measures for each weight how changing that weight would change the loss.\n",
        "5. ***Step*** (that is change) all the weights based on that loss calculation. \n",
        "6. Go back to step 2 and ***repeat*** the process.\n",
        "7. Iterate until you decide to ***stop*** the training process (for instances because the model is good enough or you dont want to wait any longer)\n",
        "\n",
        "\n"
      ],
      "metadata": {
        "id": "xTTkPFs1b5DO"
      }
    },
    {
      "cell_type": "code",
      "source": [
        "#@title 7 steps to gradient descent\n",
        "gv('''\n",
        "init->predict->loss->gradient->step->stop\n",
        "step->predict[label=repeat]\n",
        "''')"
      ],
      "metadata": {
        "colab": {
          "base_uri": "https://localhost:8080/",
          "height": 145
        },
        "cellView": "form",
        "id": "w5lgQyG5h2Sg",
        "outputId": "7ad4b2ac-8d86-4ff2-c595-075636ecfe60"
      },
      "execution_count": 44,
      "outputs": [
        {
          "output_type": "execute_result",
          "data": {
            "text/plain": [
              "<graphviz.files.Source at 0x7f9282afe450>"
            ],
            "image/svg+xml": "<?xml version=\"1.0\" encoding=\"UTF-8\" standalone=\"no\"?>\n<!DOCTYPE svg PUBLIC \"-//W3C//DTD SVG 1.1//EN\"\n \"http://www.w3.org/Graphics/SVG/1.1/DTD/svg11.dtd\">\n<!-- Generated by graphviz version 2.40.1 (20161225.0304)\n -->\n<!-- Title: G Pages: 1 -->\n<svg width=\"597pt\" height=\"78pt\"\n viewBox=\"0.00 0.00 596.69 78.00\" xmlns=\"http://www.w3.org/2000/svg\" xmlns:xlink=\"http://www.w3.org/1999/xlink\">\n<g id=\"graph0\" class=\"graph\" transform=\"scale(1 1) rotate(0) translate(4 74)\">\n<title>G</title>\n<polygon fill=\"#ffffff\" stroke=\"transparent\" points=\"-4,4 -4,-74 592.6863,-74 592.6863,4 -4,4\"/>\n<!-- init -->\n<g id=\"node1\" class=\"node\">\n<title>init</title>\n<ellipse fill=\"none\" stroke=\"#000000\" cx=\"27\" cy=\"-18\" rx=\"27\" ry=\"18\"/>\n<text text-anchor=\"middle\" x=\"27\" y=\"-14.3\" font-family=\"Times,serif\" font-size=\"14.00\" fill=\"#000000\">init</text>\n</g>\n<!-- predict -->\n<g id=\"node2\" class=\"node\">\n<title>predict</title>\n<ellipse fill=\"none\" stroke=\"#000000\" cx=\"127.3968\" cy=\"-18\" rx=\"36.2938\" ry=\"18\"/>\n<text text-anchor=\"middle\" x=\"127.3968\" y=\"-14.3\" font-family=\"Times,serif\" font-size=\"14.00\" fill=\"#000000\">predict</text>\n</g>\n<!-- init&#45;&gt;predict -->\n<g id=\"edge1\" class=\"edge\">\n<title>init&#45;&gt;predict</title>\n<path fill=\"none\" stroke=\"#000000\" d=\"M54.1688,-18C62.3543,-18 71.5827,-18 80.6596,-18\"/>\n<polygon fill=\"#000000\" stroke=\"#000000\" points=\"80.7795,-21.5001 90.7795,-18 80.7795,-14.5001 80.7795,-21.5001\"/>\n</g>\n<!-- loss -->\n<g id=\"node3\" class=\"node\">\n<title>loss</title>\n<ellipse fill=\"none\" stroke=\"#000000\" cx=\"227.7935\" cy=\"-52\" rx=\"27\" ry=\"18\"/>\n<text text-anchor=\"middle\" x=\"227.7935\" y=\"-48.3\" font-family=\"Times,serif\" font-size=\"14.00\" fill=\"#000000\">loss</text>\n</g>\n<!-- predict&#45;&gt;loss -->\n<g id=\"edge2\" class=\"edge\">\n<title>predict&#45;&gt;loss</title>\n<path fill=\"none\" stroke=\"#000000\" d=\"M157.5191,-28.2011C168.9806,-32.0826 182.1139,-36.5303 193.9014,-40.5222\"/>\n<polygon fill=\"#000000\" stroke=\"#000000\" points=\"192.8259,-43.8532 203.4202,-43.7458 195.0713,-37.2231 192.8259,-43.8532\"/>\n</g>\n<!-- gradient -->\n<g id=\"node4\" class=\"node\">\n<title>gradient</title>\n<ellipse fill=\"none\" stroke=\"#000000\" cx=\"365.7399\" cy=\"-52\" rx=\"40.8928\" ry=\"18\"/>\n<text text-anchor=\"middle\" x=\"365.7399\" y=\"-48.3\" font-family=\"Times,serif\" font-size=\"14.00\" fill=\"#000000\">gradient</text>\n</g>\n<!-- loss&#45;&gt;gradient -->\n<g id=\"edge3\" class=\"edge\">\n<title>loss&#45;&gt;gradient</title>\n<path fill=\"none\" stroke=\"#000000\" d=\"M255.0473,-52C272.0415,-52 294.4481,-52 314.6545,-52\"/>\n<polygon fill=\"#000000\" stroke=\"#000000\" points=\"314.671,-55.5001 324.671,-52 314.671,-48.5001 314.671,-55.5001\"/>\n</g>\n<!-- step -->\n<g id=\"node5\" class=\"node\">\n<title>step</title>\n<ellipse fill=\"none\" stroke=\"#000000\" cx=\"470.6863\" cy=\"-18\" rx=\"27\" ry=\"18\"/>\n<text text-anchor=\"middle\" x=\"470.6863\" y=\"-14.3\" font-family=\"Times,serif\" font-size=\"14.00\" fill=\"#000000\">step</text>\n</g>\n<!-- gradient&#45;&gt;step -->\n<g id=\"edge4\" class=\"edge\">\n<title>gradient&#45;&gt;step</title>\n<path fill=\"none\" stroke=\"#000000\" d=\"M398.9456,-41.2422C410.9558,-37.3512 424.5297,-32.9536 436.6132,-29.0388\"/>\n<polygon fill=\"#000000\" stroke=\"#000000\" points=\"437.9112,-32.2975 446.3457,-25.8857 435.7537,-25.6382 437.9112,-32.2975\"/>\n</g>\n<!-- step&#45;&gt;predict -->\n<g id=\"edge6\" class=\"edge\">\n<title>step&#45;&gt;predict</title>\n<path fill=\"none\" stroke=\"#000000\" d=\"M443.4266,-18C384.9297,-18 246.7861,-18 174.0495,-18\"/>\n<polygon fill=\"#000000\" stroke=\"#000000\" points=\"173.8098,-14.5001 163.8098,-18 173.8097,-21.5001 173.8098,-14.5001\"/>\n<text text-anchor=\"middle\" x=\"289.7935\" y=\"-21.8\" font-family=\"Times,serif\" font-size=\"14.00\" fill=\"#000000\">repeat</text>\n</g>\n<!-- stop -->\n<g id=\"node6\" class=\"node\">\n<title>stop</title>\n<ellipse fill=\"none\" stroke=\"#000000\" cx=\"561.6863\" cy=\"-18\" rx=\"27\" ry=\"18\"/>\n<text text-anchor=\"middle\" x=\"561.6863\" y=\"-14.3\" font-family=\"Times,serif\" font-size=\"14.00\" fill=\"#000000\">stop</text>\n</g>\n<!-- step&#45;&gt;stop -->\n<g id=\"edge5\" class=\"edge\">\n<title>step&#45;&gt;stop</title>\n<path fill=\"none\" stroke=\"#000000\" d=\"M497.9893,-18C506.2676,-18 515.508,-18 524.3268,-18\"/>\n<polygon fill=\"#000000\" stroke=\"#000000\" points=\"524.4026,-21.5001 534.4025,-18 524.4025,-14.5001 524.4026,-21.5001\"/>\n</g>\n</g>\n</svg>\n"
          },
          "metadata": {},
          "execution_count": 44
        }
      ]
    },
    {
      "cell_type": "markdown",
      "source": [
        "## End to End - SGH Example\n",
        "Here we will go through each of the 7 steps of gradient descent in a end to end example using some synthetic data. Consider you are measuring the pssed of a roller coaster as it went over the top of a hump. Here is an example of that data. With the random noise added into the data, its difficult to tell answer the question \"What was the roller coasters speed?\""
      ],
      "metadata": {
        "id": "sbThGISIi98R"
      }
    },
    {
      "cell_type": "code",
      "source": [
        "time = torch.arange(0,20).float()\n",
        "speed = torch.randn(20)*3 + 0.75*(time-9.5)**2 + 1\n",
        "plt.scatter(time, speed)"
      ],
      "metadata": {
        "colab": {
          "base_uri": "https://localhost:8080/",
          "height": 73
        },
        "id": "E9YVk2pmgrWk",
        "outputId": "7185d826-e211-4c17-fab5-0f37e2cc1d2b"
      },
      "execution_count": 45,
      "outputs": [
        {
          "output_type": "execute_result",
          "data": {
            "text/plain": [
              "<matplotlib.collections.PathCollection at 0x7f9282ad6b50>"
            ]
          },
          "metadata": {},
          "execution_count": 45
        },
        {
          "output_type": "display_data",
          "data": {
            "image/png": "[encoded data removed]",
            "text/plain": [
              "<Figure size 432x288 with 1 Axes>"
            ]
          },
          "metadata": {
            "needs_background": "light"
          }
        }
      ]
    },
    {
      "cell_type": "markdown",
      "source": [
        "Instead of guessing every function, we can use a quadratic equation: `a*(time**2)+(b*time)+c` which we can turn into a function.  Using this forumla we can find a quadratic function that best fits this data. "
      ],
      "metadata": {
        "id": "nAkFJy2h4s1P"
      }
    },
    {
      "cell_type": "code",
      "source": [
        "def f(t, params):\n",
        "  a,b,c = params\n",
        "  return a*(t**2) + (b*t) + c"
      ],
      "metadata": {
        "id": "g31rLBEEaiK2"
      },
      "execution_count": 46,
      "outputs": []
    },
    {
      "cell_type": "markdown",
      "source": [
        "In order to train all the weights though we need to define what \"best\" in this case means. We define that by choosing a ***loss function***, which returns a value based on its prediction and a target. It is common for continuous data to use the ***mean squared error***:"
      ],
      "metadata": {
        "id": "OOMVTTyM54ij"
      }
    },
    {
      "cell_type": "code",
      "source": [
        "def mse(preds, targets): return ((preds-targets)**2).mean().sqrt()"
      ],
      "metadata": {
        "id": "6Fo0rGRsaqif"
      },
      "execution_count": 47,
      "outputs": []
    },
    {
      "cell_type": "markdown",
      "source": [
        "### Step 1: Initialize the parameters \n",
        "First we are going to initalize all the parameters to random values and tell pytorch we want to track the gradients"
      ],
      "metadata": {
        "id": "Ux2b0hHC6jgD"
      }
    },
    {
      "cell_type": "code",
      "source": [
        "params = torch.randn(3).requires_grad_()"
      ],
      "metadata": {
        "id": "-XEPibbzawIF"
      },
      "execution_count": 48,
      "outputs": []
    },
    {
      "cell_type": "markdown",
      "source": [
        "### Step 2: Calculate the predictions\n",
        "Next we calculate the predictions and lets graph our predictions and see how close they are."
      ],
      "metadata": {
        "id": "k25eo5Ss9R0d"
      }
    },
    {
      "cell_type": "code",
      "source": [
        "preds = f(time, params)"
      ],
      "metadata": {
        "id": "nxjs_XsR9J5i"
      },
      "execution_count": 49,
      "outputs": []
    },
    {
      "cell_type": "code",
      "source": [
        "def show_preds(preds, ax=None):\n",
        "  if ax is None: ax=plt.subplots()[1]\n",
        "  ax.scatter(time, speed)\n",
        "  ax.scatter(time, to_np(preds), color='red')\n",
        "  ax.set_ylim(-300,100)"
      ],
      "metadata": {
        "id": "yIfBF6Lm9uVe"
      },
      "execution_count": 50,
      "outputs": []
    },
    {
      "cell_type": "code",
      "source": [
        "show_preds(preds)"
      ],
      "metadata": {
        "colab": {
          "base_uri": "https://localhost:8080/",
          "height": 54
        },
        "id": "rM01_fXf-BN0",
        "outputId": "9c1d6b82-8063-4f5c-dab4-2490b14ba859"
      },
      "execution_count": 51,
      "outputs": [
        {
          "output_type": "display_data",
          "data": {
            "image/png": "[encoded data removed]",
            "text/plain": [
              "<Figure size 432x288 with 1 Axes>"
            ]
          },
          "metadata": {
            "needs_background": "light"
          }
        }
      ]
    },
    {
      "cell_type": "markdown",
      "source": [
        "### Step 3: Calculate the loss\n",
        "We calculate the lose using MSE."
      ],
      "metadata": {
        "id": "QuhuBmbamixw"
      }
    },
    {
      "cell_type": "code",
      "source": [
        "loss = mse(preds, speed)\n",
        "loss"
      ],
      "metadata": {
        "colab": {
          "base_uri": "https://localhost:8080/"
        },
        "id": "a0sF3ML5mqCX",
        "outputId": "2cf397d3-d225-4991-ccea-0802f7888a1b"
      },
      "execution_count": 52,
      "outputs": [
        {
          "output_type": "execute_result",
          "data": {
            "text/plain": [
              "tensor(160.6979, grad_fn=<SqrtBackward0>)"
            ]
          },
          "metadata": {},
          "execution_count": 52
        }
      ]
    },
    {
      "cell_type": "markdown",
      "source": [
        "### Step 4: Calculate the Gradients"
      ],
      "metadata": {
        "id": "hXv8p3cjnEYL"
      }
    },
    {
      "cell_type": "code",
      "source": [
        "loss.backward()\n",
        "params.grad"
      ],
      "metadata": {
        "colab": {
          "base_uri": "https://localhost:8080/"
        },
        "id": "aiTjDa57nd9G",
        "outputId": "1d1db192-f605-4cc4-d3ae-f1fec5a6e780"
      },
      "execution_count": 53,
      "outputs": [
        {
          "output_type": "execute_result",
          "data": {
            "text/plain": [
              "tensor([-165.5151,  -10.6402,   -0.7900])"
            ]
          },
          "metadata": {},
          "execution_count": 53
        }
      ]
    },
    {
      "cell_type": "code",
      "source": [
        "params.grad * 5e-4"
      ],
      "metadata": {
        "colab": {
          "base_uri": "https://localhost:8080/"
        },
        "id": "QHUVNv-annrH",
        "outputId": "55a072de-dcff-45b0-8638-b6c54ab44d08"
      },
      "execution_count": 54,
      "outputs": [
        {
          "output_type": "execute_result",
          "data": {
            "text/plain": [
              "tensor([-0.0828, -0.0053, -0.0004])"
            ]
          },
          "metadata": {},
          "execution_count": 54
        }
      ]
    },
    {
      "cell_type": "code",
      "source": [
        "params"
      ],
      "metadata": {
        "colab": {
          "base_uri": "https://localhost:8080/"
        },
        "id": "F9wsgjGFnzZZ",
        "outputId": "16e7438b-4015-4b79-bba4-49d9eed4ac96"
      },
      "execution_count": 55,
      "outputs": [
        {
          "output_type": "execute_result",
          "data": {
            "text/plain": [
              "tensor([-0.7658, -0.7506,  1.3525], requires_grad=True)"
            ]
          },
          "metadata": {},
          "execution_count": 55
        }
      ]
    },
    {
      "cell_type": "markdown",
      "source": [
        "### Step 5: Step the Weights"
      ],
      "metadata": {
        "id": "4zRKAArNnRFA"
      }
    },
    {
      "cell_type": "code",
      "source": [
        "lr = 5e-4\n",
        "params.data -= lr * params.grad.data\n",
        "params.grad = None"
      ],
      "metadata": {
        "id": "BnPIno3EoGKx"
      },
      "execution_count": 56,
      "outputs": []
    },
    {
      "cell_type": "markdown",
      "source": [
        "Let see if loss has imporved"
      ],
      "metadata": {
        "id": "wnBUUWItoWP5"
      }
    },
    {
      "cell_type": "code",
      "source": [
        "preds = f(time,params)\n",
        "mse(preds,speed)"
      ],
      "metadata": {
        "colab": {
          "base_uri": "https://localhost:8080/"
        },
        "id": "FH8ooxJsoVar",
        "outputId": "8db5ae69-bf5c-47c7-e12c-2f793d0938e3"
      },
      "execution_count": 57,
      "outputs": [
        {
          "output_type": "execute_result",
          "data": {
            "text/plain": [
              "tensor(146.9607, grad_fn=<SqrtBackward0>)"
            ]
          },
          "metadata": {},
          "execution_count": 57
        }
      ]
    },
    {
      "cell_type": "code",
      "source": [
        "show_preds(preds)"
      ],
      "metadata": {
        "colab": {
          "base_uri": "https://localhost:8080/",
          "height": 54
        },
        "id": "oxPwMAtPoj54",
        "outputId": "63196a97-73b0-48ba-c01e-a661baba0f4b"
      },
      "execution_count": 58,
      "outputs": [
        {
          "output_type": "display_data",
          "data": {
            "image/png": "[encoded data removed]",
            "text/plain": [
              "<Figure size 432x288 with 1 Axes>"
            ]
          },
          "metadata": {
            "needs_background": "light"
          }
        }
      ]
    },
    {
      "cell_type": "code",
      "source": [
        "def apply_step(params, prn=True):\n",
        "  preds = f(time, params)\n",
        "  loss = mse(preds, speed)\n",
        "  loss.backward()\n",
        "  params.data -= lr * params.grad.data\n",
        "  params.grad = None\n",
        "  if prn: print(loss.item())\n",
        "  return preds"
      ],
      "metadata": {
        "id": "gEtzIAtiovQp"
      },
      "execution_count": 59,
      "outputs": []
    },
    {
      "cell_type": "markdown",
      "source": [
        "### Step 6: Repeat the process"
      ],
      "metadata": {
        "id": "un7en8SonUVg"
      }
    },
    {
      "cell_type": "markdown",
      "source": [
        "Running this mutiple times allows it to lower its loss furthur and furthur."
      ],
      "metadata": {
        "id": "A9mm_9aZrrjz"
      }
    },
    {
      "cell_type": "code",
      "source": [
        "epochs = 0"
      ],
      "metadata": {
        "id": "RCZu5Je-sjei"
      },
      "execution_count": 60,
      "outputs": []
    },
    {
      "cell_type": "code",
      "source": [
        "for i in range(10): \n",
        "  apply_step(params)\n",
        "  epochs += i"
      ],
      "metadata": {
        "colab": {
          "base_uri": "https://localhost:8080/"
        },
        "id": "8gqwIzN7pkOT",
        "outputId": "e54a9a2f-acea-43ec-e1f4-9bc7583f970f"
      },
      "execution_count": 61,
      "outputs": [
        {
          "output_type": "stream",
          "name": "stdout",
          "text": [
            "146.96066284179688\n",
            "133.30130004882812\n",
            "119.7451400756836\n",
            "106.32939910888672\n",
            "93.11066436767578\n",
            "80.17842102050781\n",
            "67.68006134033203\n",
            "55.868141174316406\n",
            "45.1834716796875\n",
            "36.35578918457031\n"
          ]
        }
      ]
    },
    {
      "cell_type": "code",
      "source": [
        "epochs"
      ],
      "metadata": {
        "colab": {
          "base_uri": "https://localhost:8080/"
        },
        "id": "AFLO9B71ssUN",
        "outputId": "0d3fb284-4321-4442-d0d9-d8cd21ba25d8"
      },
      "execution_count": 62,
      "outputs": [
        {
          "output_type": "execute_result",
          "data": {
            "text/plain": [
              "45"
            ]
          },
          "metadata": {},
          "execution_count": 62
        }
      ]
    },
    {
      "cell_type": "code",
      "source": [
        "_,axs = plt.subplots(1,5,figsize=(25,3))\n",
        "for ax in axs: show_preds(apply_step(params, False), ax)"
      ],
      "metadata": {
        "colab": {
          "base_uri": "https://localhost:8080/",
          "height": 54
        },
        "id": "bXVvTC5tpzPt",
        "outputId": "49e7e35f-a802-4a06-b98a-4f2963276703"
      },
      "execution_count": 63,
      "outputs": [
        {
          "output_type": "display_data",
          "data": {
            "image/png": "[encoded data removed]",
            "text/plain": [
              "<Figure size 1800x216 with 5 Axes>"
            ]
          },
          "metadata": {
            "needs_background": "light"
          }
        }
      ]
    },
    {
      "cell_type": "markdown",
      "source": [
        "### Step 7: Stopping.\n",
        "Stoping the repeat when the loss stops going down, as you can see happened above near the 4000ths iteration."
      ],
      "metadata": {
        "id": "o0wUqRo1nYfb"
      }
    },
    {
      "cell_type": "markdown",
      "source": [
        "# MNIST Loss Function\n",
        "Four our example, we have our X's which are the individual pictures in the dataset. Next we will combine them all into a single tensor and transform them into a rank 2 tensor. This is accomplished by using the view method which changes the shape of a tensor with out changing the contents. -1 is a parameter for view that means \"make this axis as big as necessary to fit all the data\"."
      ],
      "metadata": {
        "id": "jD1IjZ0fuSB-"
      }
    },
    {
      "cell_type": "code",
      "source": [
        "train_x = torch.cat([stacked_threes, stacked_sevens]).view(-1, 28*28)\n",
        "train_y = tensor([1]*len(threes) + [0]*len(sevens)).unsqueeze(1)"
      ],
      "metadata": {
        "id": "-0E9W9w_C11C"
      },
      "execution_count": 64,
      "outputs": []
    },
    {
      "cell_type": "code",
      "source": [
        "train_x.shape, train_y.shape"
      ],
      "metadata": {
        "colab": {
          "base_uri": "https://localhost:8080/"
        },
        "id": "PzJOr6DjDVHs",
        "outputId": "7c8583fe-3e59-499d-edc8-9095d19c957c"
      },
      "execution_count": 65,
      "outputs": [
        {
          "output_type": "execute_result",
          "data": {
            "text/plain": [
              "(torch.Size([12396, 784]), torch.Size([12396, 1]))"
            ]
          },
          "metadata": {},
          "execution_count": 65
        }
      ]
    },
    {
      "cell_type": "markdown",
      "source": [
        "Getting the dataset into a tuple of (x,y) using pythons zip function."
      ],
      "metadata": {
        "id": "7PLF9jZjEPSi"
      }
    },
    {
      "cell_type": "code",
      "source": [
        "dset = list(zip(train_x, train_y))\n",
        "x,y = dset[0]\n",
        "x.shape, y"
      ],
      "metadata": {
        "colab": {
          "base_uri": "https://localhost:8080/"
        },
        "id": "RvPLnojWEfDC",
        "outputId": "9b51b97a-1f2a-453b-e3df-3632cfc239e8"
      },
      "execution_count": 66,
      "outputs": [
        {
          "output_type": "execute_result",
          "data": {
            "text/plain": [
              "(torch.Size([784]), tensor([1]))"
            ]
          },
          "metadata": {},
          "execution_count": 66
        }
      ]
    },
    {
      "cell_type": "markdown",
      "source": [
        "Now do the above steps for the validation set. "
      ],
      "metadata": {
        "id": "VWHOKk9jFjRZ"
      }
    },
    {
      "cell_type": "code",
      "source": [
        "valid_x = torch.cat([val_threes_tns, val_sevens_tns]).view(-1, 28*28)\n",
        "valid_y = tensor([1]*len(val_threes_tns) + [0]*len(val_sevens_tns)).unsqueeze(1)\n",
        "valid_dset = list(zip(valid_x, valid_y))"
      ],
      "metadata": {
        "id": "BWiFb11cEwnM"
      },
      "execution_count": 67,
      "outputs": []
    },
    {
      "cell_type": "markdown",
      "source": [
        "Now lets ***initalize*** a random weight for every pixel. "
      ],
      "metadata": {
        "id": "nd_unW_1Fyn5"
      }
    },
    {
      "cell_type": "code",
      "source": [
        "def init_params(size, std=1.0): return (torch.randn(size)*std).requires_grad_()"
      ],
      "metadata": {
        "id": "8vdTnjx5F4LB"
      },
      "execution_count": 68,
      "outputs": []
    },
    {
      "cell_type": "code",
      "source": [
        "weights = init_params((28*28,1))"
      ],
      "metadata": {
        "id": "TyEwiq3WGHOG"
      },
      "execution_count": 69,
      "outputs": []
    },
    {
      "cell_type": "markdown",
      "source": [
        "The function weights\\*pixels will be equal to 0 when pixels are equal to 0 (i.e its intercept is 0). This is not really flexiable enough since `y=w*x+b` is the forumla for a line, and we still need the b. So lets assign the bias a random number as well. The Weights in the equation are w, the bias is b and x is the image."
      ],
      "metadata": {
        "id": "fqaraO99GeQ5"
      }
    },
    {
      "cell_type": "code",
      "source": [
        "bias = init_params(1)"
      ],
      "metadata": {
        "id": "kjYB7ixyG8JN"
      },
      "execution_count": 70,
      "outputs": []
    },
    {
      "cell_type": "markdown",
      "source": [
        "Now lets calculate the prediction for one image."
      ],
      "metadata": {
        "id": "abEuiBTmHbeH"
      }
    },
    {
      "cell_type": "code",
      "source": [
        "(train_x[0]*weights.T).sum()+bias"
      ],
      "metadata": {
        "colab": {
          "base_uri": "https://localhost:8080/"
        },
        "id": "uzvZ2bT5Hdq-",
        "outputId": "c45cf5fc-c3f1-4fcd-d7a1-6a02c7a3b650"
      },
      "execution_count": 71,
      "outputs": [
        {
          "output_type": "execute_result",
          "data": {
            "text/plain": [
              "tensor([20.2336], grad_fn=<AddBackward0>)"
            ]
          },
          "metadata": {},
          "execution_count": 71
        }
      ]
    },
    {
      "cell_type": "markdown",
      "source": [
        "Now we will create a function for some matrix multiplication. In python matrix mutplication is represented by @. So the below is actually `xb*weights + bias`"
      ],
      "metadata": {
        "id": "sCMJfHaC8yvJ"
      }
    },
    {
      "cell_type": "code",
      "source": [
        "def linear1(xb): return xb@weights + bias"
      ],
      "metadata": {
        "id": "bMH9bsJG8Vna"
      },
      "execution_count": 72,
      "outputs": []
    },
    {
      "cell_type": "code",
      "source": [
        "preds - linear1(train_x)"
      ],
      "metadata": {
        "colab": {
          "base_uri": "https://localhost:8080/"
        },
        "id": "m6qII9Ee8cmX",
        "outputId": "d175f0b1-0923-4b3d-b04c-d67fd8a69c6d"
      },
      "execution_count": 73,
      "outputs": [
        {
          "output_type": "execute_result",
          "data": {
            "text/plain": [
              "tensor([[ -18.8807,  -20.3091,  -23.1036,  ..., -228.9612, -253.6144, -279.6337],\n",
              "        [ -15.7114,  -17.1398,  -19.9343,  ..., -225.7920, -250.4451, -276.4644],\n",
              "        [ -13.8854,  -15.3138,  -18.1083,  ..., -223.9660, -248.6191, -274.6384],\n",
              "        ...,\n",
              "        [ -17.0274,  -18.4558,  -21.2503,  ..., -227.1080, -251.7611, -277.7804],\n",
              "        [ -22.5037,  -23.9321,  -26.7267,  ..., -232.5843, -257.2374, -283.2567],\n",
              "        [ -27.3287,  -28.7571,  -31.5516,  ..., -237.4092, -262.0624, -288.0817]], grad_fn=<SubBackward0>)"
            ]
          },
          "metadata": {},
          "execution_count": 73
        }
      ]
    },
    {
      "cell_type": "code",
      "source": [
        "preds"
      ],
      "metadata": {
        "colab": {
          "base_uri": "https://localhost:8080/"
        },
        "id": "p0RgJ3rJ8hcr",
        "outputId": "3da8a96a-e427-4235-e9d5-d58b59ff668c"
      },
      "execution_count": 74,
      "outputs": [
        {
          "output_type": "execute_result",
          "data": {
            "text/plain": [
              "tensor([ 1.3529e+00, -7.5441e-02, -2.8700e+00, -7.0307e+00, -1.2558e+01, -1.9451e+01, -2.7710e+01, -3.7335e+01, -4.8327e+01, -6.0684e+01, -7.4408e+01, -8.9498e+01, -1.0595e+02, -1.2378e+02,\n",
              "        -1.4297e+02, -1.6352e+02, -1.8544e+02, -2.0873e+02, -2.3338e+02, -2.5940e+02], grad_fn=<AddBackward0>)"
            ]
          },
          "metadata": {},
          "execution_count": 74
        }
      ]
    },
    {
      "cell_type": "markdown",
      "source": [
        "Now lets check the accuracy. To decide if output is a 3 or a 7 we simply need to check to see if its greater than 0. Using broadcasting we can check the entire dataset with out looping, as follows."
      ],
      "metadata": {
        "id": "jsn2pYb39d_n"
      }
    },
    {
      "cell_type": "code",
      "source": [
        "corrects = (preds > 0.0).float() == train_y"
      ],
      "metadata": {
        "id": "ypm_sFQv9KQf"
      },
      "execution_count": 75,
      "outputs": []
    },
    {
      "cell_type": "code",
      "source": [
        "corrects"
      ],
      "metadata": {
        "colab": {
          "base_uri": "https://localhost:8080/"
        },
        "id": "LOgxPhZb9R4C",
        "outputId": "909ca8b4-6611-4cef-8ff3-63e80d102d41"
      },
      "execution_count": 76,
      "outputs": [
        {
          "output_type": "execute_result",
          "data": {
            "text/plain": [
              "tensor([[ True, False, False,  ..., False, False, False],\n",
              "        [ True, False, False,  ..., False, False, False],\n",
              "        [ True, False, False,  ..., False, False, False],\n",
              "        ...,\n",
              "        [False,  True,  True,  ...,  True,  True,  True],\n",
              "        [False,  True,  True,  ...,  True,  True,  True],\n",
              "        [False,  True,  True,  ...,  True,  True,  True]])"
            ]
          },
          "metadata": {},
          "execution_count": 76
        }
      ]
    },
    {
      "cell_type": "code",
      "source": [
        "acc = corrects.float().mean().item()\n",
        "acc"
      ],
      "metadata": {
        "colab": {
          "base_uri": "https://localhost:8080/"
        },
        "id": "BykIhLN997xb",
        "outputId": "46cd2eef-e235-4e50-dc0d-f07ad229c09c"
      },
      "execution_count": 77,
      "outputs": [
        {
          "output_type": "execute_result",
          "data": {
            "text/plain": [
              "0.5048644542694092"
            ]
          },
          "metadata": {},
          "execution_count": 77
        }
      ]
    },
    {
      "cell_type": "markdown",
      "source": [
        "Now change a weight to see how it impacts accuracy. We will run through these weight changes twice to see what happens..."
      ],
      "metadata": {
        "id": "oh0EduyIyAb8"
      }
    },
    {
      "cell_type": "code",
      "source": [
        "weights.data[0] *= 1.0001"
      ],
      "metadata": {
        "id": "tbt3DrZjyDGo"
      },
      "execution_count": 78,
      "outputs": []
    },
    {
      "cell_type": "code",
      "source": [
        "preds = linear1(train_x)\n",
        "((preds>0.0).float() == train_y).float().mean().item()"
      ],
      "metadata": {
        "colab": {
          "base_uri": "https://localhost:8080/"
        },
        "id": "hlc_Gq_gyaSs",
        "outputId": "0dabbbbd-d38c-4db2-d116-8d547bb365ff"
      },
      "execution_count": 79,
      "outputs": [
        {
          "output_type": "execute_result",
          "data": {
            "text/plain": [
              "0.4912068545818329"
            ]
          },
          "metadata": {},
          "execution_count": 79
        }
      ]
    },
    {
      "cell_type": "markdown",
      "source": [
        "You can see that after the second pass there is no change in the accuracy. This is because we need gradients in order to improve our model using SGD. In order to calculate the gradients we need to have defined a ***loss function***! Remember gradients are a mesure of how the loss function changes based on small changes to the weights. "
      ],
      "metadata": {
        "id": "80_KZ1KZzp1v"
      }
    },
    {
      "cell_type": "markdown",
      "source": [
        "####**Math Info:** Accuracy is a function that is constant almost everywhere (excapt at the threshold, 0.5), so its derivative is nil almost everywhere (and infinity at the threshold). This then gives gradients that are 0 or infinate which are usless for updating the model.\n",
        "\n"
      ],
      "metadata": {
        "id": "R7GCvkdjyF-w"
      }
    },
    {
      "cell_type": "markdown",
      "source": [
        "The purpose of the loss function is to measure the difference between the predicted value and the true values. As you can see we pass in the tensors for the prediction (hypothesis) and the target (labels)"
      ],
      "metadata": {
        "id": "eGMYzg5Qygt9"
      }
    },
    {
      "cell_type": "code",
      "source": [
        "def mnist_loss(prediction, targets):\n",
        "  return torch.where(targets--1, 1-predictions, predictions).mean()"
      ],
      "metadata": {
        "id": "_vnOhOLr5iuJ"
      },
      "execution_count": 80,
      "outputs": []
    },
    {
      "cell_type": "markdown",
      "source": [
        "## torch.where()\n",
        "Here we are going to talk about there `torch.where()` function and its use as part of the loss function. This is essentially the same as running \n",
        "`[b[i] if a[i] else c[i] for i in range(len(a))]` but it can run at cuda speed on tensors. What this does is measure the distance each prediction is from 1 if it should be 1 and distance from 0 if it should be 0.\n",
        "\n",
        "\n"
      ],
      "metadata": {
        "id": "Ff5cbQf50dJA"
      }
    },
    {
      "cell_type": "code",
      "source": [
        "trgts = tensor([1,0,1])\n",
        "prds = tensor([0.9, 0.4, 0.2])"
      ],
      "metadata": {
        "id": "7bOTnZuP58-X"
      },
      "execution_count": 81,
      "outputs": []
    },
    {
      "cell_type": "code",
      "source": [
        "torch.where(trgts==1, 1-prds, prds)"
      ],
      "metadata": {
        "colab": {
          "base_uri": "https://localhost:8080/"
        },
        "id": "DLeYhYSoBRBd",
        "outputId": "e02de528-64d3-44f3-9ed6-864358360c8f"
      },
      "execution_count": 82,
      "outputs": [
        {
          "output_type": "execute_result",
          "data": {
            "text/plain": [
              "tensor([0.1000, 0.4000, 0.8000])"
            ]
          },
          "metadata": {},
          "execution_count": 82
        }
      ]
    }
  ]
}