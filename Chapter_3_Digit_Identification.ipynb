{
  "nbformat": 4,
  "nbformat_minor": 0,
  "metadata": {
    "colab": {
      "name": "Chapter 3 - Digit Identification",
      "provenance": [],
      "collapsed_sections": [
        "wOtPVrYzES-C",
        "Ff5cbQf50dJA",
        "koFgDPPlIc_g",
        "01bojYWdMPvN",
        "hzu6NgtPOydC",
        "91SaSXTkkK1h"
      ],
      "toc_visible": true,
      "authorship_tag": "ABX9TyMiYrcsgkUHB7mq7jsbsVdk",
      "include_colab_link": true
    },
    "kernelspec": {
      "name": "python3",
      "display_name": "Python 3"
    },
    "language_info": {
      "name": "python"
    }
  },
  "cells": [
    {
      "cell_type": "markdown",
      "metadata": {
        "id": "view-in-github",
        "colab_type": "text"
      },
      "source": [
        "<a href=\"https://colab.research.google.com/github/Audeon/fastai_Notebooks/blob/main/Chapter_3_Digit_Identification.ipynb\" target=\"_parent\"><img src=\"https://colab.research.google.com/assets/colab-badge.svg\" alt=\"Open In Colab\"/></a>"
      ]
    },
    {
      "cell_type": "markdown",
      "source": [
        "# Digit identification project"
      ],
      "metadata": {
        "id": "cGL_Ru7hO0cE"
      }
    },
    {
      "cell_type": "markdown",
      "source": [
        "In this project we are going to use basic digit identification of 3, and 7. We will use the MNIST dataset in this case. \n",
        "\n",
        "I have split the notbook up into sections to make it easier for me to reference in the future. This doesnt really refelct the breakup in the book. Covers points i find most useful."
      ],
      "metadata": {
        "id": "4ra6jlv5vOcg"
      }
    },
    {
      "cell_type": "markdown",
      "source": [
        "# Imports"
      ],
      "metadata": {
        "id": "hRn8P0nbOvoP"
      }
    },
    {
      "cell_type": "code",
      "execution_count": 1,
      "metadata": {
        "id": "DIpVE9TlubTe",
        "colab": {
          "base_uri": "https://localhost:8080/"
        },
        "outputId": "dfbbb149-968e-46aa-f249-e061453a9527"
      },
      "outputs": [
        {
          "output_type": "stream",
          "name": "stdout",
          "text": [
            "\u001b[K     |████████████████████████████████| 189 kB 2.8 MB/s \n",
            "\u001b[K     |████████████████████████████████| 55 kB 1.5 MB/s \n",
            "\u001b[K     |████████████████████████████████| 720 kB 5.2 MB/s \n",
            "\u001b[K     |████████████████████████████████| 48 kB 3.1 MB/s \n",
            "\u001b[K     |████████████████████████████████| 1.2 MB 30.7 MB/s \n",
            "\u001b[K     |████████████████████████████████| 51 kB 179 kB/s \n",
            "\u001b[K     |████████████████████████████████| 558 kB 56.2 MB/s \n",
            "\u001b[K     |████████████████████████████████| 130 kB 53.0 MB/s \n",
            "\u001b[?25h"
          ]
        }
      ],
      "source": [
        "!pip install -q fastai --upgrade\n",
        "!pip install -q fastbook --upgrade"
      ]
    },
    {
      "cell_type": "code",
      "source": [
        "from fastbook import *\n",
        "from fastai import *\n",
        "from fastai.vision.all import *\n"
      ],
      "metadata": {
        "id": "eM-8mku7uxdu"
      },
      "execution_count": 2,
      "outputs": []
    },
    {
      "cell_type": "markdown",
      "source": [
        "# Getting the MNIST dataset and turning it into tensors\n",
        "In this section we are going to get the MNIST dataset, do some experimenting on it, including turning them into tensors and visualizing those tensors the way the computer does.\n",
        "\n",
        "First we will get the MNIST dataset and untar it into the path variable."
      ],
      "metadata": {
        "id": "3yBWXyWrOGXR"
      }
    },
    {
      "cell_type": "code",
      "source": [
        "path = untar_data(URLs.MNIST)"
      ],
      "metadata": {
        "id": "t8Yy7fgd00kn",
        "colab": {
          "base_uri": "https://localhost:8080/",
          "height": 37
        },
        "outputId": "2a5800fb-bd18-4406-a800-9dcce35d693b"
      },
      "execution_count": 3,
      "outputs": [
        {
          "output_type": "display_data",
          "data": {
            "text/html": [
              "\n",
              "<style>\n",
              "    /* Turns off some styling */\n",
              "    progress {\n",
              "        /* gets rid of default border in Firefox and Opera. */\n",
              "        border: none;\n",
              "        /* Needs to be in here for Safari polyfill so background images work as expected. */\n",
              "        background-size: auto;\n",
              "    }\n",
              "    .progress-bar-interrupted, .progress-bar-interrupted::-webkit-progress-bar {\n",
              "        background: #F44336;\n",
              "    }\n",
              "</style>\n"
            ],
            "text/plain": [
              "<IPython.core.display.HTML object>"
            ]
          },
          "metadata": {}
        },
        {
          "output_type": "display_data",
          "data": {
            "text/html": [
              "\n",
              "    <div>\n",
              "      <progress value='15687680' class='' max='15683414' style='width:300px; height:20px; vertical-align: middle;'></progress>\n",
              "      100.03% [15687680/15683414 00:00<00:00]\n",
              "    </div>\n",
              "    "
            ],
            "text/plain": [
              "<IPython.core.display.HTML object>"
            ]
          },
          "metadata": {}
        }
      ]
    },
    {
      "cell_type": "markdown",
      "source": [
        "We can use the LS command with any paths we create using untar to see what is in that directory. We can also view the subdirectories, as seen in the second block of code here."
      ],
      "metadata": {
        "id": "_HzQmCIIwBbz"
      }
    },
    {
      "cell_type": "code",
      "source": [
        " path.ls()"
      ],
      "metadata": {
        "colab": {
          "base_uri": "https://localhost:8080/"
        },
        "id": "MgccgcB8v1Y0",
        "outputId": "20f69804-49b4-4d27-8d25-c55cddfdf5a3"
      },
      "execution_count": 4,
      "outputs": [
        {
          "output_type": "execute_result",
          "data": {
            "text/plain": [
              "(#2) [Path('/root/.fastai/data/mnist_png/training'),Path('/root/.fastai/data/mnist_png/testing')]"
            ]
          },
          "metadata": {},
          "execution_count": 4
        }
      ]
    },
    {
      "cell_type": "code",
      "source": [
        "sevens = (path/'training'/'7').ls().sorted()\n",
        "threes = (path/'training'/'3').ls().sorted()"
      ],
      "metadata": {
        "id": "BD20G9hIwOFl"
      },
      "execution_count": 5,
      "outputs": []
    },
    {
      "cell_type": "markdown",
      "source": [
        "Now that we have all of the datasets untarred and in useful arrays lets work display a few of them."
      ],
      "metadata": {
        "id": "Tp4xQYJg7JEW"
      }
    },
    {
      "cell_type": "code",
      "source": [
        "img3_path = threes[242]\n",
        "im3 = Image.open(img3_path)\n",
        "im3"
      ],
      "metadata": {
        "colab": {
          "base_uri": "https://localhost:8080/",
          "height": 45
        },
        "id": "Zy34hPDJ64NU",
        "outputId": "74c7a3f6-6a63-40d5-86a3-8e4edaa27a54"
      },
      "execution_count": 6,
      "outputs": [
        {
          "output_type": "execute_result",
          "data": {
            "image/png": "[encoded data removed]",
            "text/plain": [
              "<PIL.PngImagePlugin.PngImageFile image mode=L size=28x28 at 0x7F4284A5CF10>"
            ]
          },
          "metadata": {},
          "execution_count": 6
        }
      ]
    },
    {
      "cell_type": "code",
      "source": [
        "img3_path = threes[1]\n",
        "im3 = Image.open(img3_path)\n",
        "im3"
      ],
      "metadata": {
        "colab": {
          "base_uri": "https://localhost:8080/",
          "height": 45
        },
        "id": "IftHyPVt7RGS",
        "outputId": "261f8d3e-d00d-4f95-96b6-6559f8601d37"
      },
      "execution_count": 7,
      "outputs": [
        {
          "output_type": "execute_result",
          "data": {
            "image/png": "[encoded data removed]",
            "text/plain": [
              "<PIL.PngImagePlugin.PngImageFile image mode=L size=28x28 at 0x7F4284962A90>"
            ]
          },
          "metadata": {},
          "execution_count": 7
        }
      ]
    },
    {
      "cell_type": "markdown",
      "source": [
        "For us to do any work on the images of course they need to be converted to a tensor or an array. Here we have an example of each. Notice in the second example we used the 4:10 to indicate we want rows from indext 4 to index 10 and the same for the columns. "
      ],
      "metadata": {
        "id": "lK1DS9km9CrH"
      }
    },
    {
      "cell_type": "code",
      "source": [
        "array(im3)"
      ],
      "metadata": {
        "colab": {
          "base_uri": "https://localhost:8080/"
        },
        "id": "8Z4JPCf09Vh0",
        "outputId": "3a69b44e-4121-42bf-9ac1-2842f1fe55ac"
      },
      "execution_count": 8,
      "outputs": [
        {
          "output_type": "execute_result",
          "data": {
            "text/plain": [
              "array([[  0,   0,   0,   0,   0,   0,   0,   0,   0,   0,   0,   0,   0,   0,   0,   0,   0,   0,   0,   0,   0,   0,   0,   0,   0,   0,   0,   0],\n",
              "       [  0,   0,   0,   0,   0,   0,   0,   0,   0,   0,   0,   0,   0,   0,   0,   0,   0,   0,   0,   0,   0,   0,   0,   0,   0,   0,   0,   0],\n",
              "       [  0,   0,   0,   0,   0,   0,   0,   0,   0,   0,   0,   0,   0,   0,   0,   0,   0,   0,   0,   0,   0,   0,   0,   0,   0,   0,   0,   0],\n",
              "       [  0,   0,   0,   0,   0,   0,   0,   0,   0,   0,   0,   0,   0,   0,   0,   0,   0,   0,   0,   0,   0,   0,   0,   0,   0,   0,   0,   0],\n",
              "       [  0,   0,   0,   0,   0,   0,   0,   0,   0,   0,   0,   0,   0,   0,   0,   0,   0,   0,   0,   0,   0,   0,   0,   0,   0,   0,   0,   0],\n",
              "       [  0,   0,   0,   0,   0,   0,   0,   0,   0,  29, 150, 195, 254, 255, 254, 176, 193, 150,  96,   0,   0,   0,   0,   0,   0,   0,   0,   0],\n",
              "       [  0,   0,   0,   0,   0,   0,   0,  48, 166, 224, 253, 253, 234, 196, 253, 253, 253, 253, 233,   0,   0,   0,   0,   0,   0,   0,   0,   0],\n",
              "       [  0,   0,   0,   0,   0,  93, 244, 249, 253, 187,  46,  10,   8,   4,  10, 194, 253, 253, 233,   0,   0,   0,   0,   0,   0,   0,   0,   0],\n",
              "       [  0,   0,   0,   0,   0, 107, 253, 253, 230,  48,   0,   0,   0,   0,   0, 192, 253, 253, 156,   0,   0,   0,   0,   0,   0,   0,   0,   0],\n",
              "       [  0,   0,   0,   0,   0,   3,  20,  20,  15,   0,   0,   0,   0,   0,  43, 224, 253, 245,  74,   0,   0,   0,   0,   0,   0,   0,   0,   0],\n",
              "       [  0,   0,   0,   0,   0,   0,   0,   0,   0,   0,   0,   0,   0,   0, 249, 253, 245, 126,   0,   0,   0,   0,   0,   0,   0,   0,   0,   0],\n",
              "       [  0,   0,   0,   0,   0,   0,   0,   0,   0,   0,   0,  14, 101, 223, 253, 248, 124,   0,   0,   0,   0,   0,   0,   0,   0,   0,   0,   0],\n",
              "       [  0,   0,   0,   0,   0,   0,   0,   0,   0,  11, 166, 239, 253, 253, 253, 187,  30,   0,   0,   0,   0,   0,   0,   0,   0,   0,   0,   0],\n",
              "       [  0,   0,   0,   0,   0,   0,   0,   0,   0,  16, 248, 250, 253, 253, 253, 253, 232, 213, 111,   2,   0,   0,   0,   0,   0,   0,   0,   0],\n",
              "       [  0,   0,   0,   0,   0,   0,   0,   0,   0,   0,   0,  43,  98,  98, 208, 253, 253, 253, 253, 187,  22,   0,   0,   0,   0,   0,   0,   0],\n",
              "       [  0,   0,   0,   0,   0,   0,   0,   0,   0,   0,   0,   0,   0,   0,   9,  51, 119, 253, 253, 253,  76,   0,   0,   0,   0,   0,   0,   0],\n",
              "       [  0,   0,   0,   0,   0,   0,   0,   0,   0,   0,   0,   0,   0,   0,   0,   0,   1, 183, 253, 253, 139,   0,   0,   0,   0,   0,   0,   0],\n",
              "       [  0,   0,   0,   0,   0,   0,   0,   0,   0,   0,   0,   0,   0,   0,   0,   0,   0, 182, 253, 253, 104,   0,   0,   0,   0,   0,   0,   0],\n",
              "       [  0,   0,   0,   0,   0,   0,   0,   0,   0,   0,   0,   0,   0,   0,   0,   0,  85, 249, 253, 253,  36,   0,   0,   0,   0,   0,   0,   0],\n",
              "       [  0,   0,   0,   0,   0,   0,   0,   0,   0,   0,   0,   0,   0,   0,   0,  60, 214, 253, 253, 173,  11,   0,   0,   0,   0,   0,   0,   0],\n",
              "       [  0,   0,   0,   0,   0,   0,   0,   0,   0,   0,   0,   0,   0,   0,  98, 247, 253, 253, 226,   9,   0,   0,   0,   0,   0,   0,   0,   0],\n",
              "       [  0,   0,   0,   0,   0,   0,   0,   0,   0,   0,   0,   0,  42, 150, 252, 253, 253, 233,  53,   0,   0,   0,   0,   0,   0,   0,   0,   0],\n",
              "       [  0,   0,   0,   0,   0,   0,  42, 115,  42,  60, 115, 159, 240, 253, 253, 250, 175,  25,   0,   0,   0,   0,   0,   0,   0,   0,   0,   0],\n",
              "       [  0,   0,   0,   0,   0,   0, 187, 253, 253, 253, 253, 253, 253, 253, 197,  86,   0,   0,   0,   0,   0,   0,   0,   0,   0,   0,   0,   0],\n",
              "       [  0,   0,   0,   0,   0,   0, 103, 253, 253, 253, 253, 253, 232,  67,   1,   0,   0,   0,   0,   0,   0,   0,   0,   0,   0,   0,   0,   0],\n",
              "       [  0,   0,   0,   0,   0,   0,   0,   0,   0,   0,   0,   0,   0,   0,   0,   0,   0,   0,   0,   0,   0,   0,   0,   0,   0,   0,   0,   0],\n",
              "       [  0,   0,   0,   0,   0,   0,   0,   0,   0,   0,   0,   0,   0,   0,   0,   0,   0,   0,   0,   0,   0,   0,   0,   0,   0,   0,   0,   0],\n",
              "       [  0,   0,   0,   0,   0,   0,   0,   0,   0,   0,   0,   0,   0,   0,   0,   0,   0,   0,   0,   0,   0,   0,   0,   0,   0,   0,   0,   0]], dtype=uint8)"
            ]
          },
          "metadata": {},
          "execution_count": 8
        }
      ]
    },
    {
      "cell_type": "code",
      "source": [
        "tensor(im3)[4:15, 4:22]"
      ],
      "metadata": {
        "colab": {
          "base_uri": "https://localhost:8080/"
        },
        "id": "ImbjE5bk9aJs",
        "outputId": "f56d0903-5112-4536-9889-b94bb2fba98b"
      },
      "execution_count": 9,
      "outputs": [
        {
          "output_type": "execute_result",
          "data": {
            "text/plain": [
              "tensor([[  0,   0,   0,   0,   0,   0,   0,   0,   0,   0,   0,   0,   0,   0,   0,   0,   0,   0],\n",
              "        [  0,   0,   0,   0,   0,  29, 150, 195, 254, 255, 254, 176, 193, 150,  96,   0,   0,   0],\n",
              "        [  0,   0,   0,  48, 166, 224, 253, 253, 234, 196, 253, 253, 253, 253, 233,   0,   0,   0],\n",
              "        [  0,  93, 244, 249, 253, 187,  46,  10,   8,   4,  10, 194, 253, 253, 233,   0,   0,   0],\n",
              "        [  0, 107, 253, 253, 230,  48,   0,   0,   0,   0,   0, 192, 253, 253, 156,   0,   0,   0],\n",
              "        [  0,   3,  20,  20,  15,   0,   0,   0,   0,   0,  43, 224, 253, 245,  74,   0,   0,   0],\n",
              "        [  0,   0,   0,   0,   0,   0,   0,   0,   0,   0, 249, 253, 245, 126,   0,   0,   0,   0],\n",
              "        [  0,   0,   0,   0,   0,   0,   0,  14, 101, 223, 253, 248, 124,   0,   0,   0,   0,   0],\n",
              "        [  0,   0,   0,   0,   0,  11, 166, 239, 253, 253, 253, 187,  30,   0,   0,   0,   0,   0],\n",
              "        [  0,   0,   0,   0,   0,  16, 248, 250, 253, 253, 253, 253, 232, 213, 111,   2,   0,   0],\n",
              "        [  0,   0,   0,   0,   0,   0,   0,  43,  98,  98, 208, 253, 253, 253, 253, 187,  22,   0]], dtype=torch.uint8)"
            ]
          },
          "metadata": {},
          "execution_count": 9
        }
      ]
    },
    {
      "cell_type": "markdown",
      "source": [
        "We can use panads Dataframe to color code each of the tensor cells on a gradiant. "
      ],
      "metadata": {
        "id": "d7tM1HrS9-lW"
      }
    },
    {
      "cell_type": "code",
      "source": [
        "im3_t = tensor(im3)\n",
        "df = pd.DataFrame(im3_t[4:15,4:22])\n",
        "df.style.set_properties(**{'font-size': '6pt'}).background_gradient('Greys')"
      ],
      "metadata": {
        "colab": {
          "base_uri": "https://localhost:8080/",
          "height": 394
        },
        "id": "sMSSLL3I-O07",
        "outputId": "204f0914-7ef8-4dd2-cb5f-e55f0ef72c78"
      },
      "execution_count": 10,
      "outputs": [
        {
          "output_type": "execute_result",
          "data": {
            "text/html": [
              "<style type=\"text/css\">\n",
              "#T_569e6_row0_col0, #T_569e6_row0_col1, #T_569e6_row0_col2, #T_569e6_row0_col3, #T_569e6_row0_col4, #T_569e6_row0_col5, #T_569e6_row0_col6, #T_569e6_row0_col7, #T_569e6_row0_col8, #T_569e6_row0_col9, #T_569e6_row0_col10, #T_569e6_row0_col11, #T_569e6_row0_col12, #T_569e6_row0_col13, #T_569e6_row0_col14, #T_569e6_row0_col15, #T_569e6_row0_col16, #T_569e6_row0_col17, #T_569e6_row1_col0, #T_569e6_row1_col1, #T_569e6_row1_col2, #T_569e6_row1_col3, #T_569e6_row1_col4, #T_569e6_row1_col15, #T_569e6_row1_col16, #T_569e6_row1_col17, #T_569e6_row2_col0, #T_569e6_row2_col1, #T_569e6_row2_col2, #T_569e6_row2_col15, #T_569e6_row2_col16, #T_569e6_row2_col17, #T_569e6_row3_col0, #T_569e6_row3_col15, #T_569e6_row3_col16, #T_569e6_row3_col17, #T_569e6_row4_col0, #T_569e6_row4_col6, #T_569e6_row4_col7, #T_569e6_row4_col8, #T_569e6_row4_col9, #T_569e6_row4_col10, #T_569e6_row4_col15, #T_569e6_row4_col16, #T_569e6_row4_col17, #T_569e6_row5_col0, #T_569e6_row5_col5, #T_569e6_row5_col6, #T_569e6_row5_col7, #T_569e6_row5_col8, #T_569e6_row5_col9, #T_569e6_row5_col15, #T_569e6_row5_col16, #T_569e6_row5_col17, #T_569e6_row6_col0, #T_569e6_row6_col1, #T_569e6_row6_col2, #T_569e6_row6_col3, #T_569e6_row6_col4, #T_569e6_row6_col5, #T_569e6_row6_col6, #T_569e6_row6_col7, #T_569e6_row6_col8, #T_569e6_row6_col9, #T_569e6_row6_col14, #T_569e6_row6_col15, #T_569e6_row6_col16, #T_569e6_row6_col17, #T_569e6_row7_col0, #T_569e6_row7_col1, #T_569e6_row7_col2, #T_569e6_row7_col3, #T_569e6_row7_col4, #T_569e6_row7_col5, #T_569e6_row7_col6, #T_569e6_row7_col13, #T_569e6_row7_col14, #T_569e6_row7_col15, #T_569e6_row7_col16, #T_569e6_row7_col17, #T_569e6_row8_col0, #T_569e6_row8_col1, #T_569e6_row8_col2, #T_569e6_row8_col3, #T_569e6_row8_col4, #T_569e6_row8_col13, #T_569e6_row8_col14, #T_569e6_row8_col15, #T_569e6_row8_col16, #T_569e6_row8_col17, #T_569e6_row9_col0, #T_569e6_row9_col1, #T_569e6_row9_col2, #T_569e6_row9_col3, #T_569e6_row9_col4, #T_569e6_row9_col16, #T_569e6_row9_col17, #T_569e6_row10_col0, #T_569e6_row10_col1, #T_569e6_row10_col2, #T_569e6_row10_col3, #T_569e6_row10_col4, #T_569e6_row10_col5, #T_569e6_row10_col6, #T_569e6_row10_col17 {\n",
              "  font-size: 6pt;\n",
              "  background-color: #ffffff;\n",
              "  color: #000000;\n",
              "}\n",
              "#T_569e6_row1_col5 {\n",
              "  font-size: 6pt;\n",
              "  background-color: #efefef;\n",
              "  color: #000000;\n",
              "}\n",
              "#T_569e6_row1_col6, #T_569e6_row1_col13 {\n",
              "  font-size: 6pt;\n",
              "  background-color: #7c7c7c;\n",
              "  color: #f1f1f1;\n",
              "}\n",
              "#T_569e6_row1_col7 {\n",
              "  font-size: 6pt;\n",
              "  background-color: #4a4a4a;\n",
              "  color: #f1f1f1;\n",
              "}\n",
              "#T_569e6_row1_col8, #T_569e6_row1_col9, #T_569e6_row1_col10, #T_569e6_row2_col5, #T_569e6_row2_col6, #T_569e6_row2_col7, #T_569e6_row2_col11, #T_569e6_row2_col12, #T_569e6_row2_col13, #T_569e6_row3_col4, #T_569e6_row3_col12, #T_569e6_row3_col13, #T_569e6_row4_col1, #T_569e6_row4_col2, #T_569e6_row4_col3, #T_569e6_row4_col12, #T_569e6_row4_col13, #T_569e6_row5_col12, #T_569e6_row6_col11, #T_569e6_row9_col11, #T_569e6_row10_col11, #T_569e6_row10_col12, #T_569e6_row10_col13, #T_569e6_row10_col14, #T_569e6_row10_col15, #T_569e6_row10_col16 {\n",
              "  font-size: 6pt;\n",
              "  background-color: #000000;\n",
              "  color: #f1f1f1;\n",
              "}\n",
              "#T_569e6_row1_col11 {\n",
              "  font-size: 6pt;\n",
              "  background-color: #606060;\n",
              "  color: #f1f1f1;\n",
              "}\n",
              "#T_569e6_row1_col12 {\n",
              "  font-size: 6pt;\n",
              "  background-color: #4d4d4d;\n",
              "  color: #f1f1f1;\n",
              "}\n",
              "#T_569e6_row1_col14 {\n",
              "  font-size: 6pt;\n",
              "  background-color: #bbbbbb;\n",
              "  color: #000000;\n",
              "}\n",
              "#T_569e6_row2_col3 {\n",
              "  font-size: 6pt;\n",
              "  background-color: #e4e4e4;\n",
              "  color: #000000;\n",
              "}\n",
              "#T_569e6_row2_col4, #T_569e6_row8_col6 {\n",
              "  font-size: 6pt;\n",
              "  background-color: #6b6b6b;\n",
              "  color: #f1f1f1;\n",
              "}\n",
              "#T_569e6_row2_col8, #T_569e6_row2_col14, #T_569e6_row3_col14 {\n",
              "  font-size: 6pt;\n",
              "  background-color: #171717;\n",
              "  color: #f1f1f1;\n",
              "}\n",
              "#T_569e6_row2_col9, #T_569e6_row3_col11 {\n",
              "  font-size: 6pt;\n",
              "  background-color: #4b4b4b;\n",
              "  color: #f1f1f1;\n",
              "}\n",
              "#T_569e6_row2_col10, #T_569e6_row7_col10, #T_569e6_row8_col8, #T_569e6_row8_col10, #T_569e6_row9_col8, #T_569e6_row9_col10 {\n",
              "  font-size: 6pt;\n",
              "  background-color: #010101;\n",
              "  color: #f1f1f1;\n",
              "}\n",
              "#T_569e6_row3_col1 {\n",
              "  font-size: 6pt;\n",
              "  background-color: #272727;\n",
              "  color: #f1f1f1;\n",
              "}\n",
              "#T_569e6_row3_col2 {\n",
              "  font-size: 6pt;\n",
              "  background-color: #0a0a0a;\n",
              "  color: #f1f1f1;\n",
              "}\n",
              "#T_569e6_row3_col3 {\n",
              "  font-size: 6pt;\n",
              "  background-color: #050505;\n",
              "  color: #f1f1f1;\n",
              "}\n",
              "#T_569e6_row3_col5 {\n",
              "  font-size: 6pt;\n",
              "  background-color: #333333;\n",
              "  color: #f1f1f1;\n",
              "}\n",
              "#T_569e6_row3_col6 {\n",
              "  font-size: 6pt;\n",
              "  background-color: #e6e6e6;\n",
              "  color: #000000;\n",
              "}\n",
              "#T_569e6_row3_col7, #T_569e6_row3_col10 {\n",
              "  font-size: 6pt;\n",
              "  background-color: #fafafa;\n",
              "  color: #000000;\n",
              "}\n",
              "#T_569e6_row3_col8 {\n",
              "  font-size: 6pt;\n",
              "  background-color: #fbfbfb;\n",
              "  color: #000000;\n",
              "}\n",
              "#T_569e6_row3_col9 {\n",
              "  font-size: 6pt;\n",
              "  background-color: #fdfdfd;\n",
              "  color: #000000;\n",
              "}\n",
              "#T_569e6_row4_col4 {\n",
              "  font-size: 6pt;\n",
              "  background-color: #1b1b1b;\n",
              "  color: #f1f1f1;\n",
              "}\n",
              "#T_569e6_row4_col5 {\n",
              "  font-size: 6pt;\n",
              "  background-color: #e0e0e0;\n",
              "  color: #000000;\n",
              "}\n",
              "#T_569e6_row4_col11 {\n",
              "  font-size: 6pt;\n",
              "  background-color: #4e4e4e;\n",
              "  color: #f1f1f1;\n",
              "}\n",
              "#T_569e6_row4_col14 {\n",
              "  font-size: 6pt;\n",
              "  background-color: #767676;\n",
              "  color: #f1f1f1;\n",
              "}\n",
              "#T_569e6_row5_col1 {\n",
              "  font-size: 6pt;\n",
              "  background-color: #fcfcfc;\n",
              "  color: #000000;\n",
              "}\n",
              "#T_569e6_row5_col2, #T_569e6_row5_col3 {\n",
              "  font-size: 6pt;\n",
              "  background-color: #f6f6f6;\n",
              "  color: #000000;\n",
              "}\n",
              "#T_569e6_row5_col4, #T_569e6_row7_col7 {\n",
              "  font-size: 6pt;\n",
              "  background-color: #f8f8f8;\n",
              "  color: #000000;\n",
              "}\n",
              "#T_569e6_row5_col10, #T_569e6_row10_col7 {\n",
              "  font-size: 6pt;\n",
              "  background-color: #e8e8e8;\n",
              "  color: #000000;\n",
              "}\n",
              "#T_569e6_row5_col11 {\n",
              "  font-size: 6pt;\n",
              "  background-color: #222222;\n",
              "  color: #f1f1f1;\n",
              "}\n",
              "#T_569e6_row5_col13, #T_569e6_row6_col12 {\n",
              "  font-size: 6pt;\n",
              "  background-color: #090909;\n",
              "  color: #f1f1f1;\n",
              "}\n",
              "#T_569e6_row5_col14 {\n",
              "  font-size: 6pt;\n",
              "  background-color: #d0d0d0;\n",
              "  color: #000000;\n",
              "}\n",
              "#T_569e6_row6_col10, #T_569e6_row7_col11, #T_569e6_row9_col6 {\n",
              "  font-size: 6pt;\n",
              "  background-color: #060606;\n",
              "  color: #f1f1f1;\n",
              "}\n",
              "#T_569e6_row6_col13 {\n",
              "  font-size: 6pt;\n",
              "  background-color: #979797;\n",
              "  color: #f1f1f1;\n",
              "}\n",
              "#T_569e6_row7_col8 {\n",
              "  font-size: 6pt;\n",
              "  background-color: #b6b6b6;\n",
              "  color: #000000;\n",
              "}\n",
              "#T_569e6_row7_col9 {\n",
              "  font-size: 6pt;\n",
              "  background-color: #252525;\n",
              "  color: #f1f1f1;\n",
              "}\n",
              "#T_569e6_row7_col12 {\n",
              "  font-size: 6pt;\n",
              "  background-color: #999999;\n",
              "  color: #f1f1f1;\n",
              "}\n",
              "#T_569e6_row8_col5 {\n",
              "  font-size: 6pt;\n",
              "  background-color: #f9f9f9;\n",
              "  color: #000000;\n",
              "}\n",
              "#T_569e6_row8_col7 {\n",
              "  font-size: 6pt;\n",
              "  background-color: #101010;\n",
              "  color: #f1f1f1;\n",
              "}\n",
              "#T_569e6_row8_col9, #T_569e6_row9_col9 {\n",
              "  font-size: 6pt;\n",
              "  background-color: #020202;\n",
              "  color: #f1f1f1;\n",
              "}\n",
              "#T_569e6_row8_col11 {\n",
              "  font-size: 6pt;\n",
              "  background-color: #545454;\n",
              "  color: #f1f1f1;\n",
              "}\n",
              "#T_569e6_row8_col12 {\n",
              "  font-size: 6pt;\n",
              "  background-color: #f1f1f1;\n",
              "  color: #000000;\n",
              "}\n",
              "#T_569e6_row9_col5 {\n",
              "  font-size: 6pt;\n",
              "  background-color: #f7f7f7;\n",
              "  color: #000000;\n",
              "}\n",
              "#T_569e6_row9_col7 {\n",
              "  font-size: 6pt;\n",
              "  background-color: #030303;\n",
              "  color: #f1f1f1;\n",
              "}\n",
              "#T_569e6_row9_col12 {\n",
              "  font-size: 6pt;\n",
              "  background-color: #181818;\n",
              "  color: #f1f1f1;\n",
              "}\n",
              "#T_569e6_row9_col13 {\n",
              "  font-size: 6pt;\n",
              "  background-color: #303030;\n",
              "  color: #f1f1f1;\n",
              "}\n",
              "#T_569e6_row9_col14 {\n",
              "  font-size: 6pt;\n",
              "  background-color: #a9a9a9;\n",
              "  color: #f1f1f1;\n",
              "}\n",
              "#T_569e6_row9_col15 {\n",
              "  font-size: 6pt;\n",
              "  background-color: #fefefe;\n",
              "  color: #000000;\n",
              "}\n",
              "#T_569e6_row10_col8, #T_569e6_row10_col9 {\n",
              "  font-size: 6pt;\n",
              "  background-color: #bababa;\n",
              "  color: #000000;\n",
              "}\n",
              "#T_569e6_row10_col10 {\n",
              "  font-size: 6pt;\n",
              "  background-color: #393939;\n",
              "  color: #f1f1f1;\n",
              "}\n",
              "</style>\n",
              "<table id=\"T_569e6_\" class=\"dataframe\">\n",
              "  <thead>\n",
              "    <tr>\n",
              "      <th class=\"blank level0\" >&nbsp;</th>\n",
              "      <th class=\"col_heading level0 col0\" >0</th>\n",
              "      <th class=\"col_heading level0 col1\" >1</th>\n",
              "      <th class=\"col_heading level0 col2\" >2</th>\n",
              "      <th class=\"col_heading level0 col3\" >3</th>\n",
              "      <th class=\"col_heading level0 col4\" >4</th>\n",
              "      <th class=\"col_heading level0 col5\" >5</th>\n",
              "      <th class=\"col_heading level0 col6\" >6</th>\n",
              "      <th class=\"col_heading level0 col7\" >7</th>\n",
              "      <th class=\"col_heading level0 col8\" >8</th>\n",
              "      <th class=\"col_heading level0 col9\" >9</th>\n",
              "      <th class=\"col_heading level0 col10\" >10</th>\n",
              "      <th class=\"col_heading level0 col11\" >11</th>\n",
              "      <th class=\"col_heading level0 col12\" >12</th>\n",
              "      <th class=\"col_heading level0 col13\" >13</th>\n",
              "      <th class=\"col_heading level0 col14\" >14</th>\n",
              "      <th class=\"col_heading level0 col15\" >15</th>\n",
              "      <th class=\"col_heading level0 col16\" >16</th>\n",
              "      <th class=\"col_heading level0 col17\" >17</th>\n",
              "    </tr>\n",
              "  </thead>\n",
              "  <tbody>\n",
              "    <tr>\n",
              "      <th id=\"T_569e6_level0_row0\" class=\"row_heading level0 row0\" >0</th>\n",
              "      <td id=\"T_569e6_row0_col0\" class=\"data row0 col0\" >0</td>\n",
              "      <td id=\"T_569e6_row0_col1\" class=\"data row0 col1\" >0</td>\n",
              "      <td id=\"T_569e6_row0_col2\" class=\"data row0 col2\" >0</td>\n",
              "      <td id=\"T_569e6_row0_col3\" class=\"data row0 col3\" >0</td>\n",
              "      <td id=\"T_569e6_row0_col4\" class=\"data row0 col4\" >0</td>\n",
              "      <td id=\"T_569e6_row0_col5\" class=\"data row0 col5\" >0</td>\n",
              "      <td id=\"T_569e6_row0_col6\" class=\"data row0 col6\" >0</td>\n",
              "      <td id=\"T_569e6_row0_col7\" class=\"data row0 col7\" >0</td>\n",
              "      <td id=\"T_569e6_row0_col8\" class=\"data row0 col8\" >0</td>\n",
              "      <td id=\"T_569e6_row0_col9\" class=\"data row0 col9\" >0</td>\n",
              "      <td id=\"T_569e6_row0_col10\" class=\"data row0 col10\" >0</td>\n",
              "      <td id=\"T_569e6_row0_col11\" class=\"data row0 col11\" >0</td>\n",
              "      <td id=\"T_569e6_row0_col12\" class=\"data row0 col12\" >0</td>\n",
              "      <td id=\"T_569e6_row0_col13\" class=\"data row0 col13\" >0</td>\n",
              "      <td id=\"T_569e6_row0_col14\" class=\"data row0 col14\" >0</td>\n",
              "      <td id=\"T_569e6_row0_col15\" class=\"data row0 col15\" >0</td>\n",
              "      <td id=\"T_569e6_row0_col16\" class=\"data row0 col16\" >0</td>\n",
              "      <td id=\"T_569e6_row0_col17\" class=\"data row0 col17\" >0</td>\n",
              "    </tr>\n",
              "    <tr>\n",
              "      <th id=\"T_569e6_level0_row1\" class=\"row_heading level0 row1\" >1</th>\n",
              "      <td id=\"T_569e6_row1_col0\" class=\"data row1 col0\" >0</td>\n",
              "      <td id=\"T_569e6_row1_col1\" class=\"data row1 col1\" >0</td>\n",
              "      <td id=\"T_569e6_row1_col2\" class=\"data row1 col2\" >0</td>\n",
              "      <td id=\"T_569e6_row1_col3\" class=\"data row1 col3\" >0</td>\n",
              "      <td id=\"T_569e6_row1_col4\" class=\"data row1 col4\" >0</td>\n",
              "      <td id=\"T_569e6_row1_col5\" class=\"data row1 col5\" >29</td>\n",
              "      <td id=\"T_569e6_row1_col6\" class=\"data row1 col6\" >150</td>\n",
              "      <td id=\"T_569e6_row1_col7\" class=\"data row1 col7\" >195</td>\n",
              "      <td id=\"T_569e6_row1_col8\" class=\"data row1 col8\" >254</td>\n",
              "      <td id=\"T_569e6_row1_col9\" class=\"data row1 col9\" >255</td>\n",
              "      <td id=\"T_569e6_row1_col10\" class=\"data row1 col10\" >254</td>\n",
              "      <td id=\"T_569e6_row1_col11\" class=\"data row1 col11\" >176</td>\n",
              "      <td id=\"T_569e6_row1_col12\" class=\"data row1 col12\" >193</td>\n",
              "      <td id=\"T_569e6_row1_col13\" class=\"data row1 col13\" >150</td>\n",
              "      <td id=\"T_569e6_row1_col14\" class=\"data row1 col14\" >96</td>\n",
              "      <td id=\"T_569e6_row1_col15\" class=\"data row1 col15\" >0</td>\n",
              "      <td id=\"T_569e6_row1_col16\" class=\"data row1 col16\" >0</td>\n",
              "      <td id=\"T_569e6_row1_col17\" class=\"data row1 col17\" >0</td>\n",
              "    </tr>\n",
              "    <tr>\n",
              "      <th id=\"T_569e6_level0_row2\" class=\"row_heading level0 row2\" >2</th>\n",
              "      <td id=\"T_569e6_row2_col0\" class=\"data row2 col0\" >0</td>\n",
              "      <td id=\"T_569e6_row2_col1\" class=\"data row2 col1\" >0</td>\n",
              "      <td id=\"T_569e6_row2_col2\" class=\"data row2 col2\" >0</td>\n",
              "      <td id=\"T_569e6_row2_col3\" class=\"data row2 col3\" >48</td>\n",
              "      <td id=\"T_569e6_row2_col4\" class=\"data row2 col4\" >166</td>\n",
              "      <td id=\"T_569e6_row2_col5\" class=\"data row2 col5\" >224</td>\n",
              "      <td id=\"T_569e6_row2_col6\" class=\"data row2 col6\" >253</td>\n",
              "      <td id=\"T_569e6_row2_col7\" class=\"data row2 col7\" >253</td>\n",
              "      <td id=\"T_569e6_row2_col8\" class=\"data row2 col8\" >234</td>\n",
              "      <td id=\"T_569e6_row2_col9\" class=\"data row2 col9\" >196</td>\n",
              "      <td id=\"T_569e6_row2_col10\" class=\"data row2 col10\" >253</td>\n",
              "      <td id=\"T_569e6_row2_col11\" class=\"data row2 col11\" >253</td>\n",
              "      <td id=\"T_569e6_row2_col12\" class=\"data row2 col12\" >253</td>\n",
              "      <td id=\"T_569e6_row2_col13\" class=\"data row2 col13\" >253</td>\n",
              "      <td id=\"T_569e6_row2_col14\" class=\"data row2 col14\" >233</td>\n",
              "      <td id=\"T_569e6_row2_col15\" class=\"data row2 col15\" >0</td>\n",
              "      <td id=\"T_569e6_row2_col16\" class=\"data row2 col16\" >0</td>\n",
              "      <td id=\"T_569e6_row2_col17\" class=\"data row2 col17\" >0</td>\n",
              "    </tr>\n",
              "    <tr>\n",
              "      <th id=\"T_569e6_level0_row3\" class=\"row_heading level0 row3\" >3</th>\n",
              "      <td id=\"T_569e6_row3_col0\" class=\"data row3 col0\" >0</td>\n",
              "      <td id=\"T_569e6_row3_col1\" class=\"data row3 col1\" >93</td>\n",
              "      <td id=\"T_569e6_row3_col2\" class=\"data row3 col2\" >244</td>\n",
              "      <td id=\"T_569e6_row3_col3\" class=\"data row3 col3\" >249</td>\n",
              "      <td id=\"T_569e6_row3_col4\" class=\"data row3 col4\" >253</td>\n",
              "      <td id=\"T_569e6_row3_col5\" class=\"data row3 col5\" >187</td>\n",
              "      <td id=\"T_569e6_row3_col6\" class=\"data row3 col6\" >46</td>\n",
              "      <td id=\"T_569e6_row3_col7\" class=\"data row3 col7\" >10</td>\n",
              "      <td id=\"T_569e6_row3_col8\" class=\"data row3 col8\" >8</td>\n",
              "      <td id=\"T_569e6_row3_col9\" class=\"data row3 col9\" >4</td>\n",
              "      <td id=\"T_569e6_row3_col10\" class=\"data row3 col10\" >10</td>\n",
              "      <td id=\"T_569e6_row3_col11\" class=\"data row3 col11\" >194</td>\n",
              "      <td id=\"T_569e6_row3_col12\" class=\"data row3 col12\" >253</td>\n",
              "      <td id=\"T_569e6_row3_col13\" class=\"data row3 col13\" >253</td>\n",
              "      <td id=\"T_569e6_row3_col14\" class=\"data row3 col14\" >233</td>\n",
              "      <td id=\"T_569e6_row3_col15\" class=\"data row3 col15\" >0</td>\n",
              "      <td id=\"T_569e6_row3_col16\" class=\"data row3 col16\" >0</td>\n",
              "      <td id=\"T_569e6_row3_col17\" class=\"data row3 col17\" >0</td>\n",
              "    </tr>\n",
              "    <tr>\n",
              "      <th id=\"T_569e6_level0_row4\" class=\"row_heading level0 row4\" >4</th>\n",
              "      <td id=\"T_569e6_row4_col0\" class=\"data row4 col0\" >0</td>\n",
              "      <td id=\"T_569e6_row4_col1\" class=\"data row4 col1\" >107</td>\n",
              "      <td id=\"T_569e6_row4_col2\" class=\"data row4 col2\" >253</td>\n",
              "      <td id=\"T_569e6_row4_col3\" class=\"data row4 col3\" >253</td>\n",
              "      <td id=\"T_569e6_row4_col4\" class=\"data row4 col4\" >230</td>\n",
              "      <td id=\"T_569e6_row4_col5\" class=\"data row4 col5\" >48</td>\n",
              "      <td id=\"T_569e6_row4_col6\" class=\"data row4 col6\" >0</td>\n",
              "      <td id=\"T_569e6_row4_col7\" class=\"data row4 col7\" >0</td>\n",
              "      <td id=\"T_569e6_row4_col8\" class=\"data row4 col8\" >0</td>\n",
              "      <td id=\"T_569e6_row4_col9\" class=\"data row4 col9\" >0</td>\n",
              "      <td id=\"T_569e6_row4_col10\" class=\"data row4 col10\" >0</td>\n",
              "      <td id=\"T_569e6_row4_col11\" class=\"data row4 col11\" >192</td>\n",
              "      <td id=\"T_569e6_row4_col12\" class=\"data row4 col12\" >253</td>\n",
              "      <td id=\"T_569e6_row4_col13\" class=\"data row4 col13\" >253</td>\n",
              "      <td id=\"T_569e6_row4_col14\" class=\"data row4 col14\" >156</td>\n",
              "      <td id=\"T_569e6_row4_col15\" class=\"data row4 col15\" >0</td>\n",
              "      <td id=\"T_569e6_row4_col16\" class=\"data row4 col16\" >0</td>\n",
              "      <td id=\"T_569e6_row4_col17\" class=\"data row4 col17\" >0</td>\n",
              "    </tr>\n",
              "    <tr>\n",
              "      <th id=\"T_569e6_level0_row5\" class=\"row_heading level0 row5\" >5</th>\n",
              "      <td id=\"T_569e6_row5_col0\" class=\"data row5 col0\" >0</td>\n",
              "      <td id=\"T_569e6_row5_col1\" class=\"data row5 col1\" >3</td>\n",
              "      <td id=\"T_569e6_row5_col2\" class=\"data row5 col2\" >20</td>\n",
              "      <td id=\"T_569e6_row5_col3\" class=\"data row5 col3\" >20</td>\n",
              "      <td id=\"T_569e6_row5_col4\" class=\"data row5 col4\" >15</td>\n",
              "      <td id=\"T_569e6_row5_col5\" class=\"data row5 col5\" >0</td>\n",
              "      <td id=\"T_569e6_row5_col6\" class=\"data row5 col6\" >0</td>\n",
              "      <td id=\"T_569e6_row5_col7\" class=\"data row5 col7\" >0</td>\n",
              "      <td id=\"T_569e6_row5_col8\" class=\"data row5 col8\" >0</td>\n",
              "      <td id=\"T_569e6_row5_col9\" class=\"data row5 col9\" >0</td>\n",
              "      <td id=\"T_569e6_row5_col10\" class=\"data row5 col10\" >43</td>\n",
              "      <td id=\"T_569e6_row5_col11\" class=\"data row5 col11\" >224</td>\n",
              "      <td id=\"T_569e6_row5_col12\" class=\"data row5 col12\" >253</td>\n",
              "      <td id=\"T_569e6_row5_col13\" class=\"data row5 col13\" >245</td>\n",
              "      <td id=\"T_569e6_row5_col14\" class=\"data row5 col14\" >74</td>\n",
              "      <td id=\"T_569e6_row5_col15\" class=\"data row5 col15\" >0</td>\n",
              "      <td id=\"T_569e6_row5_col16\" class=\"data row5 col16\" >0</td>\n",
              "      <td id=\"T_569e6_row5_col17\" class=\"data row5 col17\" >0</td>\n",
              "    </tr>\n",
              "    <tr>\n",
              "      <th id=\"T_569e6_level0_row6\" class=\"row_heading level0 row6\" >6</th>\n",
              "      <td id=\"T_569e6_row6_col0\" class=\"data row6 col0\" >0</td>\n",
              "      <td id=\"T_569e6_row6_col1\" class=\"data row6 col1\" >0</td>\n",
              "      <td id=\"T_569e6_row6_col2\" class=\"data row6 col2\" >0</td>\n",
              "      <td id=\"T_569e6_row6_col3\" class=\"data row6 col3\" >0</td>\n",
              "      <td id=\"T_569e6_row6_col4\" class=\"data row6 col4\" >0</td>\n",
              "      <td id=\"T_569e6_row6_col5\" class=\"data row6 col5\" >0</td>\n",
              "      <td id=\"T_569e6_row6_col6\" class=\"data row6 col6\" >0</td>\n",
              "      <td id=\"T_569e6_row6_col7\" class=\"data row6 col7\" >0</td>\n",
              "      <td id=\"T_569e6_row6_col8\" class=\"data row6 col8\" >0</td>\n",
              "      <td id=\"T_569e6_row6_col9\" class=\"data row6 col9\" >0</td>\n",
              "      <td id=\"T_569e6_row6_col10\" class=\"data row6 col10\" >249</td>\n",
              "      <td id=\"T_569e6_row6_col11\" class=\"data row6 col11\" >253</td>\n",
              "      <td id=\"T_569e6_row6_col12\" class=\"data row6 col12\" >245</td>\n",
              "      <td id=\"T_569e6_row6_col13\" class=\"data row6 col13\" >126</td>\n",
              "      <td id=\"T_569e6_row6_col14\" class=\"data row6 col14\" >0</td>\n",
              "      <td id=\"T_569e6_row6_col15\" class=\"data row6 col15\" >0</td>\n",
              "      <td id=\"T_569e6_row6_col16\" class=\"data row6 col16\" >0</td>\n",
              "      <td id=\"T_569e6_row6_col17\" class=\"data row6 col17\" >0</td>\n",
              "    </tr>\n",
              "    <tr>\n",
              "      <th id=\"T_569e6_level0_row7\" class=\"row_heading level0 row7\" >7</th>\n",
              "      <td id=\"T_569e6_row7_col0\" class=\"data row7 col0\" >0</td>\n",
              "      <td id=\"T_569e6_row7_col1\" class=\"data row7 col1\" >0</td>\n",
              "      <td id=\"T_569e6_row7_col2\" class=\"data row7 col2\" >0</td>\n",
              "      <td id=\"T_569e6_row7_col3\" class=\"data row7 col3\" >0</td>\n",
              "      <td id=\"T_569e6_row7_col4\" class=\"data row7 col4\" >0</td>\n",
              "      <td id=\"T_569e6_row7_col5\" class=\"data row7 col5\" >0</td>\n",
              "      <td id=\"T_569e6_row7_col6\" class=\"data row7 col6\" >0</td>\n",
              "      <td id=\"T_569e6_row7_col7\" class=\"data row7 col7\" >14</td>\n",
              "      <td id=\"T_569e6_row7_col8\" class=\"data row7 col8\" >101</td>\n",
              "      <td id=\"T_569e6_row7_col9\" class=\"data row7 col9\" >223</td>\n",
              "      <td id=\"T_569e6_row7_col10\" class=\"data row7 col10\" >253</td>\n",
              "      <td id=\"T_569e6_row7_col11\" class=\"data row7 col11\" >248</td>\n",
              "      <td id=\"T_569e6_row7_col12\" class=\"data row7 col12\" >124</td>\n",
              "      <td id=\"T_569e6_row7_col13\" class=\"data row7 col13\" >0</td>\n",
              "      <td id=\"T_569e6_row7_col14\" class=\"data row7 col14\" >0</td>\n",
              "      <td id=\"T_569e6_row7_col15\" class=\"data row7 col15\" >0</td>\n",
              "      <td id=\"T_569e6_row7_col16\" class=\"data row7 col16\" >0</td>\n",
              "      <td id=\"T_569e6_row7_col17\" class=\"data row7 col17\" >0</td>\n",
              "    </tr>\n",
              "    <tr>\n",
              "      <th id=\"T_569e6_level0_row8\" class=\"row_heading level0 row8\" >8</th>\n",
              "      <td id=\"T_569e6_row8_col0\" class=\"data row8 col0\" >0</td>\n",
              "      <td id=\"T_569e6_row8_col1\" class=\"data row8 col1\" >0</td>\n",
              "      <td id=\"T_569e6_row8_col2\" class=\"data row8 col2\" >0</td>\n",
              "      <td id=\"T_569e6_row8_col3\" class=\"data row8 col3\" >0</td>\n",
              "      <td id=\"T_569e6_row8_col4\" class=\"data row8 col4\" >0</td>\n",
              "      <td id=\"T_569e6_row8_col5\" class=\"data row8 col5\" >11</td>\n",
              "      <td id=\"T_569e6_row8_col6\" class=\"data row8 col6\" >166</td>\n",
              "      <td id=\"T_569e6_row8_col7\" class=\"data row8 col7\" >239</td>\n",
              "      <td id=\"T_569e6_row8_col8\" class=\"data row8 col8\" >253</td>\n",
              "      <td id=\"T_569e6_row8_col9\" class=\"data row8 col9\" >253</td>\n",
              "      <td id=\"T_569e6_row8_col10\" class=\"data row8 col10\" >253</td>\n",
              "      <td id=\"T_569e6_row8_col11\" class=\"data row8 col11\" >187</td>\n",
              "      <td id=\"T_569e6_row8_col12\" class=\"data row8 col12\" >30</td>\n",
              "      <td id=\"T_569e6_row8_col13\" class=\"data row8 col13\" >0</td>\n",
              "      <td id=\"T_569e6_row8_col14\" class=\"data row8 col14\" >0</td>\n",
              "      <td id=\"T_569e6_row8_col15\" class=\"data row8 col15\" >0</td>\n",
              "      <td id=\"T_569e6_row8_col16\" class=\"data row8 col16\" >0</td>\n",
              "      <td id=\"T_569e6_row8_col17\" class=\"data row8 col17\" >0</td>\n",
              "    </tr>\n",
              "    <tr>\n",
              "      <th id=\"T_569e6_level0_row9\" class=\"row_heading level0 row9\" >9</th>\n",
              "      <td id=\"T_569e6_row9_col0\" class=\"data row9 col0\" >0</td>\n",
              "      <td id=\"T_569e6_row9_col1\" class=\"data row9 col1\" >0</td>\n",
              "      <td id=\"T_569e6_row9_col2\" class=\"data row9 col2\" >0</td>\n",
              "      <td id=\"T_569e6_row9_col3\" class=\"data row9 col3\" >0</td>\n",
              "      <td id=\"T_569e6_row9_col4\" class=\"data row9 col4\" >0</td>\n",
              "      <td id=\"T_569e6_row9_col5\" class=\"data row9 col5\" >16</td>\n",
              "      <td id=\"T_569e6_row9_col6\" class=\"data row9 col6\" >248</td>\n",
              "      <td id=\"T_569e6_row9_col7\" class=\"data row9 col7\" >250</td>\n",
              "      <td id=\"T_569e6_row9_col8\" class=\"data row9 col8\" >253</td>\n",
              "      <td id=\"T_569e6_row9_col9\" class=\"data row9 col9\" >253</td>\n",
              "      <td id=\"T_569e6_row9_col10\" class=\"data row9 col10\" >253</td>\n",
              "      <td id=\"T_569e6_row9_col11\" class=\"data row9 col11\" >253</td>\n",
              "      <td id=\"T_569e6_row9_col12\" class=\"data row9 col12\" >232</td>\n",
              "      <td id=\"T_569e6_row9_col13\" class=\"data row9 col13\" >213</td>\n",
              "      <td id=\"T_569e6_row9_col14\" class=\"data row9 col14\" >111</td>\n",
              "      <td id=\"T_569e6_row9_col15\" class=\"data row9 col15\" >2</td>\n",
              "      <td id=\"T_569e6_row9_col16\" class=\"data row9 col16\" >0</td>\n",
              "      <td id=\"T_569e6_row9_col17\" class=\"data row9 col17\" >0</td>\n",
              "    </tr>\n",
              "    <tr>\n",
              "      <th id=\"T_569e6_level0_row10\" class=\"row_heading level0 row10\" >10</th>\n",
              "      <td id=\"T_569e6_row10_col0\" class=\"data row10 col0\" >0</td>\n",
              "      <td id=\"T_569e6_row10_col1\" class=\"data row10 col1\" >0</td>\n",
              "      <td id=\"T_569e6_row10_col2\" class=\"data row10 col2\" >0</td>\n",
              "      <td id=\"T_569e6_row10_col3\" class=\"data row10 col3\" >0</td>\n",
              "      <td id=\"T_569e6_row10_col4\" class=\"data row10 col4\" >0</td>\n",
              "      <td id=\"T_569e6_row10_col5\" class=\"data row10 col5\" >0</td>\n",
              "      <td id=\"T_569e6_row10_col6\" class=\"data row10 col6\" >0</td>\n",
              "      <td id=\"T_569e6_row10_col7\" class=\"data row10 col7\" >43</td>\n",
              "      <td id=\"T_569e6_row10_col8\" class=\"data row10 col8\" >98</td>\n",
              "      <td id=\"T_569e6_row10_col9\" class=\"data row10 col9\" >98</td>\n",
              "      <td id=\"T_569e6_row10_col10\" class=\"data row10 col10\" >208</td>\n",
              "      <td id=\"T_569e6_row10_col11\" class=\"data row10 col11\" >253</td>\n",
              "      <td id=\"T_569e6_row10_col12\" class=\"data row10 col12\" >253</td>\n",
              "      <td id=\"T_569e6_row10_col13\" class=\"data row10 col13\" >253</td>\n",
              "      <td id=\"T_569e6_row10_col14\" class=\"data row10 col14\" >253</td>\n",
              "      <td id=\"T_569e6_row10_col15\" class=\"data row10 col15\" >187</td>\n",
              "      <td id=\"T_569e6_row10_col16\" class=\"data row10 col16\" >22</td>\n",
              "      <td id=\"T_569e6_row10_col17\" class=\"data row10 col17\" >0</td>\n",
              "    </tr>\n",
              "  </tbody>\n",
              "</table>\n"
            ],
            "text/plain": [
              "<pandas.io.formats.style.Styler at 0x7f4284979750>"
            ]
          },
          "metadata": {},
          "execution_count": 10
        }
      ]
    },
    {
      "cell_type": "markdown",
      "source": [
        "# Pixel Similarity - Start\n",
        "In this section we are going to discuss and start working through pixel similarity. This work will also cover the next few sections."
      ],
      "metadata": {
        "id": "RjgcnJnnNSIe"
      }
    },
    {
      "cell_type": "markdown",
      "source": [
        "\n",
        "\n",
        "---\n",
        "\n",
        "\n",
        "**Chapter 3: Stop and Think: How might a computer be able to recognize these two digits? What kinds of features might it beable to look at? How might it be able to idenfity these features? How could it combine them?**"
      ],
      "metadata": {
        "id": "vOegQ0oN-30D"
      }
    },
    {
      "cell_type": "markdown",
      "source": [
        "My Answers: I sort of understand the method behind this. One of the featurs we will be looking at are the edges. EG in the above example we see that there is a curve, well one curve in the upper right quadrant might indicate a 0, 8, 7, 4, 3, 2. Next we will look at the lower right quadrant, where see the curve from the above zone peak in and then come back out toward the bottom and out of frame. This feature (the curve) narrows down the possibilities to 8,3 more or less. By breaking down the numbers into individual elements and then building them back up into their full self we can easily build filters around those features. \n",
        "\n",
        "---\n"
      ],
      "metadata": {
        "id": "rQ8VV5bg_KG_"
      }
    },
    {
      "cell_type": "markdown",
      "source": [
        "First we are going to try Pixel Similarity. We will find the average value of every pixel of the 3s and 7s. This will give us what an \"idea\" 3 and 7 would look like. This should allow us to identify the difference between 7 and 3. \n",
        "\n",
        "First lets put all the images into a single tensor. This cool trick is called a List Comprehension. Essentally it looks like this\n",
        "`new_list = [f(o) for o in a_list if o>]` This is a much more efficent way to make new lists than the typical larger loops. "
      ],
      "metadata": {
        "id": "GHqQ_6AFa6YO"
      }
    },
    {
      "cell_type": "code",
      "source": [
        "seven_tensors = [tensor(Image.open(o)) for o in sevens]"
      ],
      "metadata": {
        "id": "v8NMpyyFAF_D"
      },
      "execution_count": 11,
      "outputs": []
    },
    {
      "cell_type": "code",
      "source": [
        "three_tensors = [tensor(Image.open(o)) for o in threes]"
      ],
      "metadata": {
        "id": "Z5kAMTzSb_Ev"
      },
      "execution_count": 12,
      "outputs": []
    },
    {
      "cell_type": "code",
      "source": [
        "len(three_tensors), len(seven_tensors)"
      ],
      "metadata": {
        "colab": {
          "base_uri": "https://localhost:8080/"
        },
        "id": "r29PhIBYcEij",
        "outputId": "2fd9b86a-0b5d-49f9-97d5-59793372e131"
      },
      "execution_count": 13,
      "outputs": [
        {
          "output_type": "execute_result",
          "data": {
            "text/plain": [
              "(6131, 6265)"
            ]
          },
          "metadata": {},
          "execution_count": 13
        }
      ]
    },
    {
      "cell_type": "code",
      "source": [
        "show_image(three_tensors[1])"
      ],
      "metadata": {
        "colab": {
          "base_uri": "https://localhost:8080/",
          "height": 102
        },
        "id": "XMCHLBZfcQQl",
        "outputId": "a44ff665-5eaa-4af6-d3d3-1e98943bde36"
      },
      "execution_count": 14,
      "outputs": [
        {
          "output_type": "execute_result",
          "data": {
            "text/plain": [
              "<matplotlib.axes._subplots.AxesSubplot at 0x7f4285afec10>"
            ]
          },
          "metadata": {},
          "execution_count": 14
        },
        {
          "output_type": "display_data",
          "data": {
            "image/png": "[encoded data removed]",
            "text/plain": [
              "<Figure size 72x72 with 1 Axes>"
            ]
          },
          "metadata": {
            "needs_background": "light"
          }
        }
      ]
    },
    {
      "cell_type": "markdown",
      "source": [
        "Now since we are going to get the average pixel density for each of the images in order to build our prediction, we need to stack. PyTorch comes with a handy dandy stack function that allows this to happen. This stacking will create what is called a rank 3 tensor. This act of stacking various tensors is very useful for performing various actions on large datasets. So building these rank 3 tensors is important. \n",
        "\n",
        "Also some important information to remember. Rank is the number of axes or dimensions in a tensor. Shape is the size of each of the axis of the tensor. For example when we stack these tensors we will have 3 dimensions: Number of images (6265), size of image width (28), size of image height (28). You cans ee this using the tensor.shape call. The length of the shape is the rank. eg:\n",
        "```rank = len(tensor.shape)```\n",
        "\n",
        "Dimension can sometimes be used for the size of an axis (space is three dimensional) where other times it is used for the rank or number of axes (a two dimenional matrix). It can be useful to break down terms into ranks, axis, and length. \n"
      ],
      "metadata": {
        "id": "K9Co66ledqEE"
      }
    },
    {
      "cell_type": "code",
      "source": [
        "stacked_sevens = torch.stack(seven_tensors).float()/255\n",
        "stacked_sevens.shape"
      ],
      "metadata": {
        "colab": {
          "base_uri": "https://localhost:8080/"
        },
        "id": "I2RQaibZczxU",
        "outputId": "8dde694e-3efa-47bd-8c4f-7cdd0ab8fcbd"
      },
      "execution_count": 15,
      "outputs": [
        {
          "output_type": "execute_result",
          "data": {
            "text/plain": [
              "torch.Size([6265, 28, 28])"
            ]
          },
          "metadata": {},
          "execution_count": 15
        }
      ]
    },
    {
      "cell_type": "code",
      "source": [
        "stacked_threes = torch.stack(three_tensors).float()/255\n",
        "stacked_threes.shape"
      ],
      "metadata": {
        "colab": {
          "base_uri": "https://localhost:8080/"
        },
        "id": "21MXGgfKdMKt",
        "outputId": "13785a21-b925-44c4-a8e6-d06d6097c42d"
      },
      "execution_count": 16,
      "outputs": [
        {
          "output_type": "execute_result",
          "data": {
            "text/plain": [
              "torch.Size([6131, 28, 28])"
            ]
          },
          "metadata": {},
          "execution_count": 16
        }
      ]
    },
    {
      "cell_type": "code",
      "source": [
        "len(stacked_threes.shape)"
      ],
      "metadata": {
        "colab": {
          "base_uri": "https://localhost:8080/"
        },
        "id": "GWFELHDNiKnt",
        "outputId": "1ca3cc3b-8d10-4602-9229-98b02333b7b0"
      },
      "execution_count": 17,
      "outputs": [
        {
          "output_type": "execute_result",
          "data": {
            "text/plain": [
              "3"
            ]
          },
          "metadata": {},
          "execution_count": 17
        }
      ]
    },
    {
      "cell_type": "markdown",
      "source": [
        "And of course since this is a whole fancy framework we can get the tensors rank directly with ```tensor.ndim``` as shown below."
      ],
      "metadata": {
        "id": "IM6aG_rBiRo8"
      }
    },
    {
      "cell_type": "code",
      "source": [
        "stacked_threes.ndim"
      ],
      "metadata": {
        "colab": {
          "base_uri": "https://localhost:8080/"
        },
        "id": "IiAxljQ7igAz",
        "outputId": "ae104da8-861b-4a4f-f562-3d7d8561be12"
      },
      "execution_count": 18,
      "outputs": [
        {
          "output_type": "execute_result",
          "data": {
            "text/plain": [
              "3"
            ]
          },
          "metadata": {},
          "execution_count": 18
        }
      ]
    },
    {
      "cell_type": "markdown",
      "source": [
        "Now we that we have rank 3 stacked tensors we can calculate the mean along dimension 0 of the tensor.... that is the this is the dimension that indexes over all the images. This will give us the \"idea\" image for each number. That is if most of the pixels in any future image match this idea image of these numbers than there is a high likelyhood that the image will be which ever it matchs. "
      ],
      "metadata": {
        "id": "-SknihcKj6Ms"
      }
    },
    {
      "cell_type": "code",
      "source": [
        "mean3 = stacked_threes.mean(0)\n",
        "\n",
        "mean3.shape, show_image(mean3)"
      ],
      "metadata": {
        "colab": {
          "base_uri": "https://localhost:8080/",
          "height": 120
        },
        "id": "IlQHg8t9jWnn",
        "outputId": "2e7fb4e5-b72a-40e6-adc4-8b697f5380ad"
      },
      "execution_count": 19,
      "outputs": [
        {
          "output_type": "execute_result",
          "data": {
            "text/plain": [
              "(torch.Size([28, 28]),\n",
              " <matplotlib.axes._subplots.AxesSubplot at 0x7f4285faaed0>)"
            ]
          },
          "metadata": {},
          "execution_count": 19
        },
        {
          "output_type": "display_data",
          "data": {
            "image/png": "[encoded data removed]",
            "text/plain": [
              "<Figure size 72x72 with 1 Axes>"
            ]
          },
          "metadata": {
            "needs_background": "light"
          }
        }
      ]
    },
    {
      "cell_type": "code",
      "source": [
        "mean7 = stacked_sevens.mean(0)\n",
        "show_image(mean7)"
      ],
      "metadata": {
        "colab": {
          "base_uri": "https://localhost:8080/",
          "height": 102
        },
        "id": "6D5e2PzXjpka",
        "outputId": "fa5324ac-f293-4f9c-8295-aab4bf077f1b"
      },
      "execution_count": 20,
      "outputs": [
        {
          "output_type": "execute_result",
          "data": {
            "text/plain": [
              "<matplotlib.axes._subplots.AxesSubplot at 0x7f4285f71cd0>"
            ]
          },
          "metadata": {},
          "execution_count": 20
        },
        {
          "output_type": "display_data",
          "data": {
            "image/png": "[encoded data removed]",
            "text/plain": [
              "<Figure size 72x72 with 1 Axes>"
            ]
          },
          "metadata": {
            "needs_background": "light"
          }
        }
      ]
    },
    {
      "cell_type": "markdown",
      "source": [
        "# Mean Absoulte Difference & Root Mean Squared Error\n",
        "In this section we start to explore how to find the difference between our idea image and our sample."
      ],
      "metadata": {
        "id": "fukvO_dlMsyN"
      }
    },
    {
      "cell_type": "markdown",
      "source": [
        "\n",
        "---\n",
        "**Chapter 3: Stop And Think - How would you calculate how similar a particular image is to each of our ideal digits?**\n"
      ],
      "metadata": {
        "id": "mKjHdlP7kmeo"
      }
    },
    {
      "cell_type": "code",
      "source": [
        "a_3 = stacked_threes[1]\n",
        "a_7 = stacked_sevens[1]"
      ],
      "metadata": {
        "id": "T6iyHad2k9w3"
      },
      "execution_count": 21,
      "outputs": []
    },
    {
      "cell_type": "code",
      "source": [
        "show_image(a_3), show_image(a_7)"
      ],
      "metadata": {
        "id": "KWjJ30km0FfR",
        "outputId": "9c8cd5b4-4529-4040-fcad-491db9d7006f",
        "colab": {
          "base_uri": "https://localhost:8080/",
          "height": 188
        }
      },
      "execution_count": 22,
      "outputs": [
        {
          "output_type": "execute_result",
          "data": {
            "text/plain": [
              "(<matplotlib.axes._subplots.AxesSubplot at 0x7f4285f42190>,\n",
              " <matplotlib.axes._subplots.AxesSubplot at 0x7f4285ef8650>)"
            ]
          },
          "metadata": {},
          "execution_count": 22
        },
        {
          "output_type": "display_data",
          "data": {
            "image/png": "[encoded data removed]",
            "text/plain": [
              "<Figure size 72x72 with 1 Axes>"
            ]
          },
          "metadata": {
            "needs_background": "light"
          }
        },
        {
          "output_type": "display_data",
          "data": {
            "image/png": "[encoded data removed]",
            "text/plain": [
              "<Figure size 72x72 with 1 Axes>"
            ]
          },
          "metadata": {
            "needs_background": "light"
          }
        }
      ]
    },
    {
      "cell_type": "markdown",
      "source": [
        "In order to find the difference between any random 3 and our \"idea\" image of a 3, we have a few options.\n",
        "\n",
        "First we have the Mean Absoulte Difference or L1 Norm, which takes the mean of the absolute value of the differences. "
      ],
      "metadata": {
        "id": "ljVDLv8pCMcA"
      }
    },
    {
      "cell_type": "code",
      "source": [
        "dist_3_abs = (a_3 - mean3).abs().mean()\n",
        "dist_7_abs = (a_3 - mean7).abs().mean()\n",
        "\n",
        "dist_3_abs, dist_7_abs"
      ],
      "metadata": {
        "colab": {
          "base_uri": "https://localhost:8080/"
        },
        "id": "MSKSztMyCnee",
        "outputId": "3480a889-159b-4ca0-8708-a5e5177d841f"
      },
      "execution_count": 23,
      "outputs": [
        {
          "output_type": "execute_result",
          "data": {
            "text/plain": [
              "(tensor(0.1114), tensor(0.1586))"
            ]
          },
          "metadata": {},
          "execution_count": 23
        }
      ]
    },
    {
      "cell_type": "markdown",
      "source": [
        "Next we have the Root Mean Squared Error (RMSE) or L2 Norm, takes the mean of the square of the differences (this makes it all positive) and then take the square root (this undoes the squaring). "
      ],
      "metadata": {
        "id": "9noZ7HQCCoOt"
      }
    },
    {
      "cell_type": "code",
      "source": [
        "dist_3_sq = ((a_3 - mean3)**2).mean().sqrt()\n",
        "dist_7_sq = ((a_3 - mean7)**2).mean().sqrt()\n",
        "dist_3_sq, dist_7_sq"
      ],
      "metadata": {
        "colab": {
          "base_uri": "https://localhost:8080/"
        },
        "id": "BeQKmfu1C46i",
        "outputId": "3611b0d3-6e2b-4948-d91a-f6d2048aeade"
      },
      "execution_count": 24,
      "outputs": [
        {
          "output_type": "execute_result",
          "data": {
            "text/plain": [
              "(tensor(0.2021), tensor(0.3021))"
            ]
          },
          "metadata": {},
          "execution_count": 24
        }
      ]
    },
    {
      "cell_type": "markdown",
      "source": [
        "And Pytorch gives you a quick and easy function to use the L1 or L2 Norm. "
      ],
      "metadata": {
        "id": "hTLu5PzYCoGn"
      }
    },
    {
      "cell_type": "code",
      "source": [
        "F.l1_loss(a_3, mean3), F.l1_loss(a_3, mean7)"
      ],
      "metadata": {
        "colab": {
          "base_uri": "https://localhost:8080/"
        },
        "id": "KJZEC7dEGFUX",
        "outputId": "48c4edc5-4ec7-4a2b-df6f-22009f3bc0a6"
      },
      "execution_count": 25,
      "outputs": [
        {
          "output_type": "execute_result",
          "data": {
            "text/plain": [
              "(tensor(0.1114), tensor(0.1586))"
            ]
          },
          "metadata": {},
          "execution_count": 25
        }
      ]
    },
    {
      "cell_type": "code",
      "source": [
        "F.mse_loss(a_3, mean3), F.mse_loss(a_3, mean7)"
      ],
      "metadata": {
        "colab": {
          "base_uri": "https://localhost:8080/"
        },
        "id": "_4_08eYFGl2y",
        "outputId": "9a25fbbe-12c3-4829-dab9-b081c45ea516"
      },
      "execution_count": 26,
      "outputs": [
        {
          "output_type": "execute_result",
          "data": {
            "text/plain": [
              "(tensor(0.0408), tensor(0.0913))"
            ]
          },
          "metadata": {},
          "execution_count": 26
        }
      ]
    },
    {
      "cell_type": "markdown",
      "source": [
        "---\n",
        "# Tensor/Array Experiments\n",
        "Okay lets take a few mins and review how to set up arrays and tensors using pytorch and numpy. The big thing to keep in mind about the differences is that arrays can be jaggaed, that is each in multi-dimensional array (matrix) the inner arrays may be differnet sizes. These arrays can also have various types with in the data structure. Arrays can not live on the GPU as they are not optimized for that type of computation, due to the features above.\n",
        "\n",
        "Tensors on the other hand must be a perfect retangle data structure. That is they cannot be jaggaed. Additionally, tensors have strict types which is the basic numerical type. This has the usefulness of allowing them to run on the GPU and proccessa a lot more quickly. Most operations that can be run on numpy arrays will also work on pytorch tensors. "
      ],
      "metadata": {
        "id": "g9LbURrqIAom"
      }
    },
    {
      "cell_type": "code",
      "source": [
        "data = [[1,2,3],[4,5,6]]\n",
        "arr = array(data)\n",
        "tns = tensor(data)"
      ],
      "metadata": {
        "id": "8oc-b86v231z"
      },
      "execution_count": 27,
      "outputs": []
    },
    {
      "cell_type": "markdown",
      "source": [
        "Like arrays, Tensors are zero indexed. The remainder of testing will be on tensor only but the array syntax is essentially identical. Tensors are the key component to ML. "
      ],
      "metadata": {
        "id": "b8aPaPx5GnJq"
      }
    },
    {
      "cell_type": "code",
      "source": [
        "tns[1], tns[0], arr[0], arr[1]"
      ],
      "metadata": {
        "colab": {
          "base_uri": "https://localhost:8080/"
        },
        "id": "2pFFvOhfGcrP",
        "outputId": "65747391-eeca-46b1-fc35-8744ea818f76"
      },
      "execution_count": 28,
      "outputs": [
        {
          "output_type": "execute_result",
          "data": {
            "text/plain": [
              "(tensor([4, 5, 6]), tensor([1, 2, 3]), array([1, 2, 3]), array([4, 5, 6]))"
            ]
          },
          "metadata": {},
          "execution_count": 28
        }
      ]
    },
    {
      "cell_type": "markdown",
      "source": [
        "With tensors and arrays you will often refer to the dimensions as axes. In this example we use the : to indicate everything on the 1st and 2rd axes."
      ],
      "metadata": {
        "id": "NMBPSGK6HMvp"
      }
    },
    {
      "cell_type": "code",
      "source": [
        "tns[:,1], tns[:,2]"
      ],
      "metadata": {
        "colab": {
          "base_uri": "https://localhost:8080/"
        },
        "id": "ldBnizfhG_sY",
        "outputId": "8e1226f6-6aab-4ddb-c558-c29e23161ddf"
      },
      "execution_count": 29,
      "outputs": [
        {
          "output_type": "execute_result",
          "data": {
            "text/plain": [
              "(tensor([2, 5]), tensor([3, 6]))"
            ]
          },
          "metadata": {},
          "execution_count": 29
        }
      ]
    },
    {
      "cell_type": "markdown",
      "source": [
        "You can use python slicing to select parts of the tensor as below."
      ],
      "metadata": {
        "id": "EVrBaFtSKm2r"
      }
    },
    {
      "cell_type": "code",
      "source": [
        "tns[1,0:3], tns[1,0:2]"
      ],
      "metadata": {
        "colab": {
          "base_uri": "https://localhost:8080/"
        },
        "id": "I3jglQKVHwzO",
        "outputId": "16cddd82-9059-4590-8f18-32d16aee9c17"
      },
      "execution_count": 30,
      "outputs": [
        {
          "output_type": "execute_result",
          "data": {
            "text/plain": [
              "(tensor([4, 5, 6]), tensor([4, 5]))"
            ]
          },
          "metadata": {},
          "execution_count": 30
        }
      ]
    },
    {
      "cell_type": "markdown",
      "source": [
        "Addition, Subtraction, Mutplication, and divison using standard signs also work well on them. Tensors have a type and will also automatically change from int to float as we see below."
      ],
      "metadata": {
        "id": "LS0StyBJLYPd"
      }
    },
    {
      "cell_type": "code",
      "source": [
        "tns.type()"
      ],
      "metadata": {
        "colab": {
          "base_uri": "https://localhost:8080/",
          "height": 35
        },
        "id": "8K3D1NVcLson",
        "outputId": "69b9d6d0-e809-461a-d3f2-8a1bee5f6d95"
      },
      "execution_count": 31,
      "outputs": [
        {
          "output_type": "execute_result",
          "data": {
            "application/vnd.google.colaboratory.intrinsic+json": {
              "type": "string"
            },
            "text/plain": [
              "'torch.LongTensor'"
            ]
          },
          "metadata": {},
          "execution_count": 31
        }
      ]
    },
    {
      "cell_type": "code",
      "source": [
        "tns+1,tns-1"
      ],
      "metadata": {
        "colab": {
          "base_uri": "https://localhost:8080/"
        },
        "id": "sP5C3MUwKret",
        "outputId": "19e38aa0-7680-4d14-9d00-1162ade0fcce"
      },
      "execution_count": 32,
      "outputs": [
        {
          "output_type": "execute_result",
          "data": {
            "text/plain": [
              "(tensor([[2, 3, 4],\n",
              "         [5, 6, 7]]), tensor([[0, 1, 2],\n",
              "         [3, 4, 5]]))"
            ]
          },
          "metadata": {},
          "execution_count": 32
        }
      ]
    },
    {
      "cell_type": "code",
      "source": [
        "tns*4, tns*4/2"
      ],
      "metadata": {
        "colab": {
          "base_uri": "https://localhost:8080/"
        },
        "id": "zKuIV-pdK10M",
        "outputId": "e5214286-9dd3-4b56-889f-c946f0848249"
      },
      "execution_count": 33,
      "outputs": [
        {
          "output_type": "execute_result",
          "data": {
            "text/plain": [
              "(tensor([[ 4,  8, 12],\n",
              "         [16, 20, 24]]), tensor([[ 2.,  4.,  6.],\n",
              "         [ 8., 10., 12.]]))"
            ]
          },
          "metadata": {},
          "execution_count": 33
        }
      ]
    },
    {
      "cell_type": "markdown",
      "source": [
        "Thus ends our tinkering on how Tensors and Arrays work. Any more experiments should be conducted above this line. \n",
        "\n",
        "\n",
        "---\n",
        "\n"
      ],
      "metadata": {
        "id": "2tqsvNRML5AS"
      }
    },
    {
      "cell_type": "markdown",
      "source": [
        "# Computing Matrics using Broadcasting\n",
        "When encountering an operation between tensors of different differnt ranks (`len(tensor.shape)` or `tensor.ndim`), pytorch will use a method called broadcasting to extend the smaller ranked tensor into the same size as the larger ranked tensor. This allows various types of matrix operations to be efficently done with pytorch and numpy. Broadcasting is an important thing to keep in mind when creating efficent code. \n",
        "\n",
        "In this section we will start to see how that works."
      ],
      "metadata": {
        "id": "nSkSXmRyMFrm"
      }
    },
    {
      "cell_type": "markdown",
      "source": [
        "First lets get tensors of our validation set, lets cheat and use our testing set vs finding and splling out the validation set from the training set."
      ],
      "metadata": {
        "id": "IJEUyiMxqoRa"
      }
    },
    {
      "cell_type": "code",
      "source": [
        "val_sevens_tns = torch.stack([tensor(Image.open(o)) for o in (path/'testing'/'7').ls()])\n",
        "val_sevens_tns = val_sevens_tns.float()/255\n",
        "val_threes_tns = torch.stack([tensor(Image.open(o)) for o in (path/'testing'/'3').ls()])\n",
        "val_threes_tns = val_threes_tns.float()/255\n",
        "val_sevens_tns.shape, val_threes_tns.shape"
      ],
      "metadata": {
        "colab": {
          "base_uri": "https://localhost:8080/"
        },
        "id": "PUQAsMK9RXz3",
        "outputId": "4620905f-b3ae-46e8-cf64-6e2a6f0d1181"
      },
      "execution_count": 34,
      "outputs": [
        {
          "output_type": "execute_result",
          "data": {
            "text/plain": [
              "(torch.Size([1028, 28, 28]), torch.Size([1010, 28, 28]))"
            ]
          },
          "metadata": {},
          "execution_count": 34
        }
      ]
    },
    {
      "cell_type": "markdown",
      "source": [
        "We want to eventually want to create a function \"is_3\" that can take any image and determine its distance from the idea image. In order to do this we need to define the notion of *distance*. Which is basically going to be a function that calculates the distance between two images. We will use the mean absoulte error for this.\n",
        "\n",
        "Its important to note here that we are subtracting a-b and getting the absolute value, and then the mean((-1, -2)). Notice the dimensional indexing done here. What order we read each dimension. \n",
        "\n",
        "  https://stackoverflow.com/questions/59704538/what-is-a-dimensional-range-of-1-0-in-pytorch\n",
        "\n",
        "  https://stackoverflow.com/questions/59702785/what-does-dim-1-or-2-mean-in-torch-sum"
      ],
      "metadata": {
        "id": "0lIcieXXN-0m"
      }
    },
    {
      "cell_type": "code",
      "source": [
        "def mnist_distance(a,b): return (a-b).abs().mean((-1, -2))"
      ],
      "metadata": {
        "id": "h2zsRS-pDGEj"
      },
      "execution_count": 35,
      "outputs": []
    },
    {
      "cell_type": "code",
      "source": [
        "mnist_distance(a_3, mean3)"
      ],
      "metadata": {
        "colab": {
          "base_uri": "https://localhost:8080/"
        },
        "id": "gWw9fZg4PduC",
        "outputId": "66c42203-121c-46c6-c96c-afa44db78809"
      },
      "execution_count": 36,
      "outputs": [
        {
          "output_type": "execute_result",
          "data": {
            "text/plain": [
              "tensor(0.1114)"
            ]
          },
          "metadata": {},
          "execution_count": 36
        }
      ]
    },
    {
      "cell_type": "code",
      "source": [
        "mean3.shape, val_threes_tns.shape"
      ],
      "metadata": {
        "colab": {
          "base_uri": "https://localhost:8080/"
        },
        "id": "EHYVMALmTKCz",
        "outputId": "1ff998bd-3499-4fd5-e400-6cfa3f4787c5"
      },
      "execution_count": 37,
      "outputs": [
        {
          "output_type": "execute_result",
          "data": {
            "text/plain": [
              "(torch.Size([28, 28]), torch.Size([1010, 28, 28]))"
            ]
          },
          "metadata": {},
          "execution_count": 37
        }
      ]
    },
    {
      "cell_type": "code",
      "source": [
        "val_three_dist = mnist_distance(val_threes_tns, mean3)\n",
        "val_three_dist, val_three_dist.shape, val_three_dist.type()"
      ],
      "metadata": {
        "colab": {
          "base_uri": "https://localhost:8080/"
        },
        "id": "-eeNVSqLSa7R",
        "outputId": "964184fc-3017-4d5c-aaff-fe74313939b8"
      },
      "execution_count": 38,
      "outputs": [
        {
          "output_type": "execute_result",
          "data": {
            "text/plain": [
              "(tensor([0.1233, 0.1814, 0.1329,  ..., 0.1317, 0.1194, 0.1383]),\n",
              " torch.Size([1010]),\n",
              " 'torch.FloatTensor')"
            ]
          },
          "metadata": {},
          "execution_count": 38
        }
      ]
    },
    {
      "cell_type": "markdown",
      "source": [
        "Here is another example of broadcasting more specifically spelled out. Notice the rank of each of the tesnsors, and then when we subtract the larger tensor from the smaller tensor.  One thing to keep in mind when using these broadcasting is that pytorch is not actually creating 1010 additional copies of the data to increase the size its tensor to match the larger. Its not actually allocating memory. Its simply doing some tricky math in the background to accomplish this. "
      ],
      "metadata": {
        "id": "wc4Wa1RCcwpI"
      }
    },
    {
      "cell_type": "code",
      "source": [
        "len(val_threes_tns.shape), len(mean3.shape), len((val_threes_tns-mean3).shape)"
      ],
      "metadata": {
        "colab": {
          "base_uri": "https://localhost:8080/"
        },
        "id": "B5xs_cQGciL6",
        "outputId": "4078c199-c89c-4b8a-db03-c9e0814088c6"
      },
      "execution_count": 39,
      "outputs": [
        {
          "output_type": "execute_result",
          "data": {
            "text/plain": [
              "(3, 2, 3)"
            ]
          },
          "metadata": {},
          "execution_count": 39
        }
      ]
    },
    {
      "cell_type": "markdown",
      "source": [
        "# Finishing up Pixel Similarity\n",
        "In this section we will create our is_3 function and do some testing on it, then we will calculate our accuracy! "
      ],
      "metadata": {
        "id": "BQsfO7WFba4_"
      }
    },
    {
      "cell_type": "markdown",
      "source": [
        "Now lets make the is_3 function. Well use mnist distance function to determine if the distance between the digit in question and the idea 3 is less than the distance to the idea 7, then its a 3. "
      ],
      "metadata": {
        "id": "19oGTNm6XFcw"
      }
    },
    {
      "cell_type": "code",
      "source": [
        "def is_3(x): return mnist_distance(x, mean3) < mnist_distance(x, mean7)"
      ],
      "metadata": {
        "id": "wB5btrWdXZCS"
      },
      "execution_count": 40,
      "outputs": []
    },
    {
      "cell_type": "markdown",
      "source": [
        "Now lets test it with our two example data points."
      ],
      "metadata": {
        "id": "cdXajn3BZiVK"
      }
    },
    {
      "cell_type": "code",
      "source": [
        "is_3(a_3),is_3(a_3).float(), is_3(a_7), is_3(a_7).float()"
      ],
      "metadata": {
        "colab": {
          "base_uri": "https://localhost:8080/"
        },
        "id": "Y3_g4fj6X56i",
        "outputId": "9afca1c7-bdcd-437c-ffe2-b79319896236"
      },
      "execution_count": 41,
      "outputs": [
        {
          "output_type": "execute_result",
          "data": {
            "text/plain": [
              "(tensor(True), tensor(1.), tensor(False), tensor(0.))"
            ]
          },
          "metadata": {},
          "execution_count": 41
        }
      ]
    },
    {
      "cell_type": "markdown",
      "source": [
        "And thanks to broadcasting, we can actually test this on our entire test range of 3s, and 7s."
      ],
      "metadata": {
        "id": "4iw-MnQYZ_nH"
      }
    },
    {
      "cell_type": "code",
      "source": [
        "is_3(stacked_threes),is_3(stacked_sevens)"
      ],
      "metadata": {
        "colab": {
          "base_uri": "https://localhost:8080/"
        },
        "id": "ogVdKQiVaFcM",
        "outputId": "8311a820-899a-49c7-fc37-64aac159bc07"
      },
      "execution_count": 42,
      "outputs": [
        {
          "output_type": "execute_result",
          "data": {
            "text/plain": [
              "(tensor([True, True, True,  ..., True, True, True]),\n",
              " tensor([False, False, False,  ..., False, False, False]))"
            ]
          },
          "metadata": {},
          "execution_count": 42
        }
      ]
    },
    {
      "cell_type": "code",
      "source": [
        "accuracy_3s = is_3(val_threes_tns).float().mean()\n",
        "accuracy_7s = (1-is_3(val_sevens_tns).float()).mean()\n",
        "\n",
        "accuracy_3s, accuracy_7s, (accuracy_3s+accuracy_7s)/2"
      ],
      "metadata": {
        "colab": {
          "base_uri": "https://localhost:8080/"
        },
        "id": "s59sS-xiaUfN",
        "outputId": "5878c310-ebaf-4b08-fa41-ea300bc914a8"
      },
      "execution_count": 43,
      "outputs": [
        {
          "output_type": "execute_result",
          "data": {
            "text/plain": [
              "(tensor(0.9168), tensor(0.9854), tensor(0.9511))"
            ]
          },
          "metadata": {},
          "execution_count": 43
        }
      ]
    },
    {
      "cell_type": "markdown",
      "source": [
        "# Stochastic Gradient Descent\n",
        " Gradient Descent gives us the ability to turn out simple pixel similarity into a proper machine learning algorithm. Remember Arthur Samuel describes machine learning... *Suppose we arrange for some automatic means of testing the effectiveness of any current weight assignment in therms of actual performance and provide a mechanism for altering the weight assignment so as to maximize the performance.* \n",
        "\n",
        " Gradeient Descent provides that method. \n",
        "\n",
        "1.   ***Initialize*** the Weights\n",
        "2.   For each image, use the weights to ***predict*** wheather it appears to be a 3 or 7.\n",
        "3.  Based on the predictions, calculate how well the model did (***loss***)\n",
        "5. Calculate the ***gradient*** which measures for each weight how changing that weight would change the loss.\n",
        "5. ***Step*** (that is change) all the weights based on that loss calculation. \n",
        "6. Go back to step 2 and ***repeat*** the process.\n",
        "7. Iterate until you decide to ***stop*** the training process (for instances because the model is good enough or you dont want to wait any longer)\n",
        "\n",
        "\n"
      ],
      "metadata": {
        "id": "xTTkPFs1b5DO"
      }
    },
    {
      "cell_type": "code",
      "source": [
        "#@title 7 steps to gradient descent\n",
        "gv('''\n",
        "init->predict->loss->gradient->step->stop\n",
        "step->predict[label=repeat]\n",
        "''')"
      ],
      "metadata": {
        "colab": {
          "base_uri": "https://localhost:8080/",
          "height": 125
        },
        "cellView": "form",
        "id": "w5lgQyG5h2Sg",
        "outputId": "b8814814-0bae-4a7c-e59a-83c007398904"
      },
      "execution_count": 44,
      "outputs": [
        {
          "output_type": "execute_result",
          "data": {
            "text/plain": [
              "<graphviz.files.Source at 0x7f4285d46bd0>"
            ],
            "image/svg+xml": "<?xml version=\"1.0\" encoding=\"UTF-8\" standalone=\"no\"?>\n<!DOCTYPE svg PUBLIC \"-//W3C//DTD SVG 1.1//EN\"\n \"http://www.w3.org/Graphics/SVG/1.1/DTD/svg11.dtd\">\n<!-- Generated by graphviz version 2.40.1 (20161225.0304)\n -->\n<!-- Title: G Pages: 1 -->\n<svg width=\"597pt\" height=\"78pt\"\n viewBox=\"0.00 0.00 596.69 78.00\" xmlns=\"http://www.w3.org/2000/svg\" xmlns:xlink=\"http://www.w3.org/1999/xlink\">\n<g id=\"graph0\" class=\"graph\" transform=\"scale(1 1) rotate(0) translate(4 74)\">\n<title>G</title>\n<polygon fill=\"#ffffff\" stroke=\"transparent\" points=\"-4,4 -4,-74 592.6863,-74 592.6863,4 -4,4\"/>\n<!-- init -->\n<g id=\"node1\" class=\"node\">\n<title>init</title>\n<ellipse fill=\"none\" stroke=\"#000000\" cx=\"27\" cy=\"-18\" rx=\"27\" ry=\"18\"/>\n<text text-anchor=\"middle\" x=\"27\" y=\"-14.3\" font-family=\"Times,serif\" font-size=\"14.00\" fill=\"#000000\">init</text>\n</g>\n<!-- predict -->\n<g id=\"node2\" class=\"node\">\n<title>predict</title>\n<ellipse fill=\"none\" stroke=\"#000000\" cx=\"127.3968\" cy=\"-18\" rx=\"36.2938\" ry=\"18\"/>\n<text text-anchor=\"middle\" x=\"127.3968\" y=\"-14.3\" font-family=\"Times,serif\" font-size=\"14.00\" fill=\"#000000\">predict</text>\n</g>\n<!-- init&#45;&gt;predict -->\n<g id=\"edge1\" class=\"edge\">\n<title>init&#45;&gt;predict</title>\n<path fill=\"none\" stroke=\"#000000\" d=\"M54.1688,-18C62.3543,-18 71.5827,-18 80.6596,-18\"/>\n<polygon fill=\"#000000\" stroke=\"#000000\" points=\"80.7795,-21.5001 90.7795,-18 80.7795,-14.5001 80.7795,-21.5001\"/>\n</g>\n<!-- loss -->\n<g id=\"node3\" class=\"node\">\n<title>loss</title>\n<ellipse fill=\"none\" stroke=\"#000000\" cx=\"227.7935\" cy=\"-52\" rx=\"27\" ry=\"18\"/>\n<text text-anchor=\"middle\" x=\"227.7935\" y=\"-48.3\" font-family=\"Times,serif\" font-size=\"14.00\" fill=\"#000000\">loss</text>\n</g>\n<!-- predict&#45;&gt;loss -->\n<g id=\"edge2\" class=\"edge\">\n<title>predict&#45;&gt;loss</title>\n<path fill=\"none\" stroke=\"#000000\" d=\"M157.5191,-28.2011C168.9806,-32.0826 182.1139,-36.5303 193.9014,-40.5222\"/>\n<polygon fill=\"#000000\" stroke=\"#000000\" points=\"192.8259,-43.8532 203.4202,-43.7458 195.0713,-37.2231 192.8259,-43.8532\"/>\n</g>\n<!-- gradient -->\n<g id=\"node4\" class=\"node\">\n<title>gradient</title>\n<ellipse fill=\"none\" stroke=\"#000000\" cx=\"365.7399\" cy=\"-52\" rx=\"40.8928\" ry=\"18\"/>\n<text text-anchor=\"middle\" x=\"365.7399\" y=\"-48.3\" font-family=\"Times,serif\" font-size=\"14.00\" fill=\"#000000\">gradient</text>\n</g>\n<!-- loss&#45;&gt;gradient -->\n<g id=\"edge3\" class=\"edge\">\n<title>loss&#45;&gt;gradient</title>\n<path fill=\"none\" stroke=\"#000000\" d=\"M255.0473,-52C272.0415,-52 294.4481,-52 314.6545,-52\"/>\n<polygon fill=\"#000000\" stroke=\"#000000\" points=\"314.671,-55.5001 324.671,-52 314.671,-48.5001 314.671,-55.5001\"/>\n</g>\n<!-- step -->\n<g id=\"node5\" class=\"node\">\n<title>step</title>\n<ellipse fill=\"none\" stroke=\"#000000\" cx=\"470.6863\" cy=\"-18\" rx=\"27\" ry=\"18\"/>\n<text text-anchor=\"middle\" x=\"470.6863\" y=\"-14.3\" font-family=\"Times,serif\" font-size=\"14.00\" fill=\"#000000\">step</text>\n</g>\n<!-- gradient&#45;&gt;step -->\n<g id=\"edge4\" class=\"edge\">\n<title>gradient&#45;&gt;step</title>\n<path fill=\"none\" stroke=\"#000000\" d=\"M398.9456,-41.2422C410.9558,-37.3512 424.5297,-32.9536 436.6132,-29.0388\"/>\n<polygon fill=\"#000000\" stroke=\"#000000\" points=\"437.9112,-32.2975 446.3457,-25.8857 435.7537,-25.6382 437.9112,-32.2975\"/>\n</g>\n<!-- step&#45;&gt;predict -->\n<g id=\"edge6\" class=\"edge\">\n<title>step&#45;&gt;predict</title>\n<path fill=\"none\" stroke=\"#000000\" d=\"M443.4266,-18C384.9297,-18 246.7861,-18 174.0495,-18\"/>\n<polygon fill=\"#000000\" stroke=\"#000000\" points=\"173.8098,-14.5001 163.8098,-18 173.8097,-21.5001 173.8098,-14.5001\"/>\n<text text-anchor=\"middle\" x=\"289.7935\" y=\"-21.8\" font-family=\"Times,serif\" font-size=\"14.00\" fill=\"#000000\">repeat</text>\n</g>\n<!-- stop -->\n<g id=\"node6\" class=\"node\">\n<title>stop</title>\n<ellipse fill=\"none\" stroke=\"#000000\" cx=\"561.6863\" cy=\"-18\" rx=\"27\" ry=\"18\"/>\n<text text-anchor=\"middle\" x=\"561.6863\" y=\"-14.3\" font-family=\"Times,serif\" font-size=\"14.00\" fill=\"#000000\">stop</text>\n</g>\n<!-- step&#45;&gt;stop -->\n<g id=\"edge5\" class=\"edge\">\n<title>step&#45;&gt;stop</title>\n<path fill=\"none\" stroke=\"#000000\" d=\"M497.9893,-18C506.2676,-18 515.508,-18 524.3268,-18\"/>\n<polygon fill=\"#000000\" stroke=\"#000000\" points=\"524.4026,-21.5001 534.4025,-18 524.4025,-14.5001 524.4026,-21.5001\"/>\n</g>\n</g>\n</svg>\n"
          },
          "metadata": {},
          "execution_count": 44
        }
      ]
    },
    {
      "cell_type": "markdown",
      "source": [
        "## End to End - SGH Example\n",
        "Here we will go through each of the 7 steps of gradient descent in a end to end example using some synthetic data. Consider you are measuring the pssed of a roller coaster as it went over the top of a hump. Here is an example of that data. With the random noise added into the data, its difficult to tell answer the question \"What was the roller coasters speed?\""
      ],
      "metadata": {
        "id": "sbThGISIi98R"
      }
    },
    {
      "cell_type": "code",
      "source": [
        "time = torch.arange(0,20).float()\n",
        "speed = torch.randn(20)*3 + 0.75*(time-9.5)**2 + 1\n",
        "plt.scatter(time, speed)"
      ],
      "metadata": {
        "colab": {
          "base_uri": "https://localhost:8080/",
          "height": 285
        },
        "id": "E9YVk2pmgrWk",
        "outputId": "19842f47-17cf-4a5a-e71a-2c2135f3a849"
      },
      "execution_count": 45,
      "outputs": [
        {
          "output_type": "execute_result",
          "data": {
            "text/plain": [
              "<matplotlib.collections.PathCollection at 0x7f4285dacbd0>"
            ]
          },
          "metadata": {},
          "execution_count": 45
        },
        {
          "output_type": "display_data",
          "data": {
            "image/png": "[encoded data removed]",
            "text/plain": [
              "<Figure size 432x288 with 1 Axes>"
            ]
          },
          "metadata": {
            "needs_background": "light"
          }
        }
      ]
    },
    {
      "cell_type": "markdown",
      "source": [
        "Instead of guessing every function, we can use a quadratic equation: `a*(time**2)+(b*time)+c` which we can turn into a function.  Using this forumla we can find a quadratic function that best fits this data. "
      ],
      "metadata": {
        "id": "nAkFJy2h4s1P"
      }
    },
    {
      "cell_type": "code",
      "source": [
        "def f(t, params):\n",
        "  a,b,c = params\n",
        "  return a*(t**2) + (b*t) + c"
      ],
      "metadata": {
        "id": "g31rLBEEaiK2"
      },
      "execution_count": 46,
      "outputs": []
    },
    {
      "cell_type": "markdown",
      "source": [
        "In order to train all the weights though we need to define what \"best\" in this case means. We define that by choosing a ***loss function***, which returns a value based on its prediction and a target. It is common for continuous data to use the ***mean squared error***:"
      ],
      "metadata": {
        "id": "OOMVTTyM54ij"
      }
    },
    {
      "cell_type": "code",
      "source": [
        "def mse(preds, targets): return ((preds-targets)**2).mean().sqrt()"
      ],
      "metadata": {
        "id": "6Fo0rGRsaqif"
      },
      "execution_count": 47,
      "outputs": []
    },
    {
      "cell_type": "markdown",
      "source": [
        "### Step 1: Initialize the parameters \n",
        "First we are going to initalize all the parameters to random values and tell pytorch we want to track the gradients"
      ],
      "metadata": {
        "id": "Ux2b0hHC6jgD"
      }
    },
    {
      "cell_type": "code",
      "source": [
        "params = torch.randn(3).requires_grad_()"
      ],
      "metadata": {
        "id": "-XEPibbzawIF"
      },
      "execution_count": 48,
      "outputs": []
    },
    {
      "cell_type": "markdown",
      "source": [
        "### Step 2: Calculate the predictions\n",
        "Next we calculate the predictions and lets graph our predictions and see how close they are."
      ],
      "metadata": {
        "id": "k25eo5Ss9R0d"
      }
    },
    {
      "cell_type": "code",
      "source": [
        "preds = f(time, params)"
      ],
      "metadata": {
        "id": "nxjs_XsR9J5i"
      },
      "execution_count": 49,
      "outputs": []
    },
    {
      "cell_type": "code",
      "source": [
        "def show_preds(preds, ax=None):\n",
        "  if ax is None: ax=plt.subplots()[1]\n",
        "  ax.scatter(time, speed)\n",
        "  ax.scatter(time, to_np(preds), color='red')\n",
        "  ax.set_ylim(-300,100)"
      ],
      "metadata": {
        "id": "yIfBF6Lm9uVe"
      },
      "execution_count": 50,
      "outputs": []
    },
    {
      "cell_type": "code",
      "source": [
        "show_preds(preds)"
      ],
      "metadata": {
        "colab": {
          "base_uri": "https://localhost:8080/",
          "height": 273
        },
        "id": "rM01_fXf-BN0",
        "outputId": "59a281fe-dd8c-4a3f-ab60-0293b6757c45"
      },
      "execution_count": 51,
      "outputs": [
        {
          "output_type": "display_data",
          "data": {
            "image/png": "[encoded data removed]",
            "text/plain": [
              "<Figure size 432x288 with 1 Axes>"
            ]
          },
          "metadata": {
            "needs_background": "light"
          }
        }
      ]
    },
    {
      "cell_type": "markdown",
      "source": [
        "### Step 3: Calculate the loss\n",
        "We calculate the lose using MSE."
      ],
      "metadata": {
        "id": "QuhuBmbamixw"
      }
    },
    {
      "cell_type": "code",
      "source": [
        "loss = mse(preds, speed)\n",
        "loss"
      ],
      "metadata": {
        "colab": {
          "base_uri": "https://localhost:8080/"
        },
        "id": "a0sF3ML5mqCX",
        "outputId": "189b9950-d280-4337-8861-f51d0c3291d4"
      },
      "execution_count": 52,
      "outputs": [
        {
          "output_type": "execute_result",
          "data": {
            "text/plain": [
              "tensor(160.6979, grad_fn=<SqrtBackward0>)"
            ]
          },
          "metadata": {},
          "execution_count": 52
        }
      ]
    },
    {
      "cell_type": "markdown",
      "source": [
        "### Step 4: Calculate the Gradients"
      ],
      "metadata": {
        "id": "hXv8p3cjnEYL"
      }
    },
    {
      "cell_type": "code",
      "source": [
        "loss.backward()\n",
        "params.grad"
      ],
      "metadata": {
        "colab": {
          "base_uri": "https://localhost:8080/"
        },
        "id": "aiTjDa57nd9G",
        "outputId": "ef813455-09b6-4a91-f87b-f643a2e842e2"
      },
      "execution_count": 53,
      "outputs": [
        {
          "output_type": "execute_result",
          "data": {
            "text/plain": [
              "tensor([-165.5151,  -10.6402,   -0.7900])"
            ]
          },
          "metadata": {},
          "execution_count": 53
        }
      ]
    },
    {
      "cell_type": "code",
      "source": [
        "params.grad * 5e-4"
      ],
      "metadata": {
        "colab": {
          "base_uri": "https://localhost:8080/"
        },
        "id": "QHUVNv-annrH",
        "outputId": "66ddc425-847f-4a4b-dcf1-5e24b76626c9"
      },
      "execution_count": 54,
      "outputs": [
        {
          "output_type": "execute_result",
          "data": {
            "text/plain": [
              "tensor([-0.0828, -0.0053, -0.0004])"
            ]
          },
          "metadata": {},
          "execution_count": 54
        }
      ]
    },
    {
      "cell_type": "code",
      "source": [
        "params"
      ],
      "metadata": {
        "colab": {
          "base_uri": "https://localhost:8080/"
        },
        "id": "F9wsgjGFnzZZ",
        "outputId": "bb9e7c6a-7663-4e8f-d986-55a1a058b474"
      },
      "execution_count": 55,
      "outputs": [
        {
          "output_type": "execute_result",
          "data": {
            "text/plain": [
              "tensor([-0.7658, -0.7506,  1.3525], requires_grad=True)"
            ]
          },
          "metadata": {},
          "execution_count": 55
        }
      ]
    },
    {
      "cell_type": "markdown",
      "source": [
        "### Step 5: Step the Weights"
      ],
      "metadata": {
        "id": "4zRKAArNnRFA"
      }
    },
    {
      "cell_type": "code",
      "source": [
        "lr = 5e-4\n",
        "params.data -= lr * params.grad.data\n",
        "params.grad = None"
      ],
      "metadata": {
        "id": "BnPIno3EoGKx"
      },
      "execution_count": 56,
      "outputs": []
    },
    {
      "cell_type": "markdown",
      "source": [
        "Let see if loss has imporved"
      ],
      "metadata": {
        "id": "wnBUUWItoWP5"
      }
    },
    {
      "cell_type": "code",
      "source": [
        "preds = f(time,params)\n",
        "mse(preds,speed)"
      ],
      "metadata": {
        "colab": {
          "base_uri": "https://localhost:8080/"
        },
        "id": "FH8ooxJsoVar",
        "outputId": "74195f80-a0cd-4527-e8a0-383b4d7ce2f1"
      },
      "execution_count": 57,
      "outputs": [
        {
          "output_type": "execute_result",
          "data": {
            "text/plain": [
              "tensor(146.9607, grad_fn=<SqrtBackward0>)"
            ]
          },
          "metadata": {},
          "execution_count": 57
        }
      ]
    },
    {
      "cell_type": "code",
      "source": [
        "show_preds(preds)"
      ],
      "metadata": {
        "colab": {
          "base_uri": "https://localhost:8080/",
          "height": 273
        },
        "id": "oxPwMAtPoj54",
        "outputId": "a9910365-2ff8-475f-fcf1-5bb8d19f5106"
      },
      "execution_count": 58,
      "outputs": [
        {
          "output_type": "display_data",
          "data": {
            "image/png": "[encoded data removed]",
            "text/plain": [
              "<Figure size 432x288 with 1 Axes>"
            ]
          },
          "metadata": {
            "needs_background": "light"
          }
        }
      ]
    },
    {
      "cell_type": "code",
      "source": [
        "def apply_step(params, prn=True):\n",
        "  preds = f(time, params)\n",
        "  loss = mse(preds, speed)\n",
        "  loss.backward()\n",
        "  params.data -= lr * params.grad.data\n",
        "  params.grad = None\n",
        "  if prn: print(loss.item())\n",
        "  return preds"
      ],
      "metadata": {
        "id": "gEtzIAtiovQp"
      },
      "execution_count": 59,
      "outputs": []
    },
    {
      "cell_type": "markdown",
      "source": [
        "### Step 6: Repeat the process"
      ],
      "metadata": {
        "id": "un7en8SonUVg"
      }
    },
    {
      "cell_type": "markdown",
      "source": [
        "Running this mutiple times allows it to lower its loss furthur and furthur."
      ],
      "metadata": {
        "id": "A9mm_9aZrrjz"
      }
    },
    {
      "cell_type": "code",
      "source": [
        "epochs = 0"
      ],
      "metadata": {
        "id": "RCZu5Je-sjei"
      },
      "execution_count": 60,
      "outputs": []
    },
    {
      "cell_type": "code",
      "source": [
        "for i in range(10): \n",
        "  apply_step(params)\n",
        "  epochs += i"
      ],
      "metadata": {
        "colab": {
          "base_uri": "https://localhost:8080/"
        },
        "id": "8gqwIzN7pkOT",
        "outputId": "6baba55d-a308-4df9-80f0-0ccbec098caa"
      },
      "execution_count": 61,
      "outputs": [
        {
          "output_type": "stream",
          "name": "stdout",
          "text": [
            "146.96066284179688\n",
            "133.30130004882812\n",
            "119.7451400756836\n",
            "106.32939910888672\n",
            "93.11066436767578\n",
            "80.17842102050781\n",
            "67.68006134033203\n",
            "55.868141174316406\n",
            "45.1834716796875\n",
            "36.35578918457031\n"
          ]
        }
      ]
    },
    {
      "cell_type": "code",
      "source": [
        "epochs"
      ],
      "metadata": {
        "colab": {
          "base_uri": "https://localhost:8080/"
        },
        "id": "AFLO9B71ssUN",
        "outputId": "6a7b3a11-e5c1-4a12-f464-6e3de8dbdf7d"
      },
      "execution_count": 62,
      "outputs": [
        {
          "output_type": "execute_result",
          "data": {
            "text/plain": [
              "45"
            ]
          },
          "metadata": {},
          "execution_count": 62
        }
      ]
    },
    {
      "cell_type": "code",
      "source": [
        "_,axs = plt.subplots(1,5,figsize=(25,3))\n",
        "for ax in axs: show_preds(apply_step(params, False), ax)"
      ],
      "metadata": {
        "colab": {
          "base_uri": "https://localhost:8080/",
          "height": 219
        },
        "id": "bXVvTC5tpzPt",
        "outputId": "e46c63b3-722c-409d-e54e-a276c16eb9cf"
      },
      "execution_count": 63,
      "outputs": [
        {
          "output_type": "display_data",
          "data": {
            "image/png": "[encoded data removed]",
            "text/plain": [
              "<Figure size 1800x216 with 5 Axes>"
            ]
          },
          "metadata": {
            "needs_background": "light"
          }
        }
      ]
    },
    {
      "cell_type": "markdown",
      "source": [
        "### Step 7: Stopping.\n",
        "Stoping the repeat when the loss stops going down, as you can see happened above near the 4000ths iteration."
      ],
      "metadata": {
        "id": "o0wUqRo1nYfb"
      }
    },
    {
      "cell_type": "markdown",
      "source": [
        "# MNIST Loss Function\n",
        "Four our example, we have our X's which are the individual pictures in the dataset. Next we will combine them all into a single tensor and transform them into a rank 2 tensor. This is accomplished by using the view method which changes the shape of a tensor with out changing the contents. -1 is a parameter for view that means \"make this axis as big as necessary to fit all the data\"."
      ],
      "metadata": {
        "id": "jD1IjZ0fuSB-"
      }
    },
    {
      "cell_type": "markdown",
      "source": [
        "## Data prep"
      ],
      "metadata": {
        "id": "vb2tOOdaDyYi"
      }
    },
    {
      "cell_type": "code",
      "source": [
        "train_x = torch.cat([stacked_threes, stacked_sevens]).view(-1, 28*28)\n",
        "train_y = tensor([1]*len(threes) + [0]*len(sevens)).unsqueeze(1)"
      ],
      "metadata": {
        "id": "-0E9W9w_C11C"
      },
      "execution_count": 64,
      "outputs": []
    },
    {
      "cell_type": "code",
      "source": [
        "train_x.shape, train_y.shape"
      ],
      "metadata": {
        "colab": {
          "base_uri": "https://localhost:8080/"
        },
        "id": "PzJOr6DjDVHs",
        "outputId": "5c92ccf9-d84d-42d3-c1e4-c15575dbf645"
      },
      "execution_count": 65,
      "outputs": [
        {
          "output_type": "execute_result",
          "data": {
            "text/plain": [
              "(torch.Size([12396, 784]), torch.Size([12396, 1]))"
            ]
          },
          "metadata": {},
          "execution_count": 65
        }
      ]
    },
    {
      "cell_type": "markdown",
      "source": [
        "Getting the dataset into a tuple of (x,y) using pythons zip function."
      ],
      "metadata": {
        "id": "7PLF9jZjEPSi"
      }
    },
    {
      "cell_type": "code",
      "source": [
        "dset = list(zip(train_x, train_y))\n",
        "x,y = dset[0]\n",
        "x.shape, y"
      ],
      "metadata": {
        "colab": {
          "base_uri": "https://localhost:8080/"
        },
        "id": "RvPLnojWEfDC",
        "outputId": "60e46c2a-2835-4846-c920-0de5991f3fc9"
      },
      "execution_count": 66,
      "outputs": [
        {
          "output_type": "execute_result",
          "data": {
            "text/plain": [
              "(torch.Size([784]), tensor([1]))"
            ]
          },
          "metadata": {},
          "execution_count": 66
        }
      ]
    },
    {
      "cell_type": "markdown",
      "source": [
        "Now do the above steps for the validation set. "
      ],
      "metadata": {
        "id": "VWHOKk9jFjRZ"
      }
    },
    {
      "cell_type": "code",
      "source": [
        "valid_x = torch.cat([val_threes_tns, val_sevens_tns]).view(-1, 28*28)\n",
        "valid_y = tensor([1]*len(val_threes_tns) + [0]*len(val_sevens_tns)).unsqueeze(1)\n",
        "valid_dset = list(zip(valid_x, valid_y))"
      ],
      "metadata": {
        "id": "BWiFb11cEwnM"
      },
      "execution_count": 67,
      "outputs": []
    },
    {
      "cell_type": "markdown",
      "source": [
        "## Parameter Initialization "
      ],
      "metadata": {
        "id": "N2rfG5rdD644"
      }
    },
    {
      "cell_type": "markdown",
      "source": [
        "Now lets ***initalize*** a random weight for every pixel. "
      ],
      "metadata": {
        "id": "nd_unW_1Fyn5"
      }
    },
    {
      "cell_type": "code",
      "source": [
        "def init_params(size, std=1.0): return (torch.randn(size)*std).requires_grad_()"
      ],
      "metadata": {
        "id": "8vdTnjx5F4LB"
      },
      "execution_count": 68,
      "outputs": []
    },
    {
      "cell_type": "code",
      "source": [
        "weights = init_params((28*28,1))"
      ],
      "metadata": {
        "id": "TyEwiq3WGHOG"
      },
      "execution_count": 69,
      "outputs": []
    },
    {
      "cell_type": "markdown",
      "source": [
        "The function weights\\*pixels will be equal to 0 when pixels are equal to 0 (i.e its intercept is 0). This is not really flexiable enough since `y=w*x+b` is the forumla for a line, and we still need the b. So lets assign the bias a random number as well. The Weights in the equation are w, the bias is b and x is the image."
      ],
      "metadata": {
        "id": "fqaraO99GeQ5"
      }
    },
    {
      "cell_type": "code",
      "source": [
        "bias = init_params(1)"
      ],
      "metadata": {
        "id": "kjYB7ixyG8JN"
      },
      "execution_count": 70,
      "outputs": []
    },
    {
      "cell_type": "markdown",
      "source": [
        "Now lets calculate the prediction for one image. "
      ],
      "metadata": {
        "id": "abEuiBTmHbeH"
      }
    },
    {
      "cell_type": "code",
      "source": [
        "(train_x[0]*weights.T).sum()+bias"
      ],
      "metadata": {
        "colab": {
          "base_uri": "https://localhost:8080/"
        },
        "id": "uzvZ2bT5Hdq-",
        "outputId": "dea75a83-2a7e-472d-fda1-a4aad83e0bbb"
      },
      "execution_count": 71,
      "outputs": [
        {
          "output_type": "execute_result",
          "data": {
            "text/plain": [
              "tensor([20.2336], grad_fn=<AddBackward0>)"
            ]
          },
          "metadata": {},
          "execution_count": 71
        }
      ]
    },
    {
      "cell_type": "markdown",
      "source": [
        "Now we will create a function for some matrix multiplication. In python matrix mutplication is represented by @. So the below is actually `xb*weights + bias` This will create a function that can be used to create predictions for every item in the dataset."
      ],
      "metadata": {
        "id": "sCMJfHaC8yvJ"
      }
    },
    {
      "cell_type": "code",
      "source": [
        "def linear1(xb): return xb@weights + bias"
      ],
      "metadata": {
        "id": "bMH9bsJG8Vna"
      },
      "execution_count": 72,
      "outputs": []
    },
    {
      "cell_type": "code",
      "source": [
        "preds - linear1(train_x)"
      ],
      "metadata": {
        "colab": {
          "base_uri": "https://localhost:8080/"
        },
        "id": "m6qII9Ee8cmX",
        "outputId": "fbbc0d22-c6c6-42f2-cf78-c7db646144f8"
      },
      "execution_count": 73,
      "outputs": [
        {
          "output_type": "execute_result",
          "data": {
            "text/plain": [
              "tensor([[ -18.8807,  -20.3091,  -23.1036,  ..., -228.9612, -253.6144, -279.6337],\n",
              "        [ -15.7114,  -17.1398,  -19.9343,  ..., -225.7920, -250.4451, -276.4644],\n",
              "        [ -13.8854,  -15.3138,  -18.1083,  ..., -223.9660, -248.6191, -274.6384],\n",
              "        ...,\n",
              "        [ -17.0274,  -18.4558,  -21.2503,  ..., -227.1080, -251.7611, -277.7804],\n",
              "        [ -22.5037,  -23.9321,  -26.7267,  ..., -232.5843, -257.2374, -283.2567],\n",
              "        [ -27.3287,  -28.7571,  -31.5516,  ..., -237.4092, -262.0624, -288.0817]], grad_fn=<SubBackward0>)"
            ]
          },
          "metadata": {},
          "execution_count": 73
        }
      ]
    },
    {
      "cell_type": "code",
      "source": [
        "preds"
      ],
      "metadata": {
        "colab": {
          "base_uri": "https://localhost:8080/"
        },
        "id": "p0RgJ3rJ8hcr",
        "outputId": "ac9d47da-ac09-433f-adc8-f1ae639a42f3"
      },
      "execution_count": 74,
      "outputs": [
        {
          "output_type": "execute_result",
          "data": {
            "text/plain": [
              "tensor([ 1.3529e+00, -7.5441e-02, -2.8700e+00, -7.0307e+00, -1.2558e+01, -1.9451e+01, -2.7710e+01, -3.7335e+01, -4.8327e+01, -6.0684e+01, -7.4408e+01, -8.9498e+01, -1.0595e+02, -1.2378e+02,\n",
              "        -1.4297e+02, -1.6352e+02, -1.8544e+02, -2.0873e+02, -2.3338e+02, -2.5940e+02], grad_fn=<AddBackward0>)"
            ]
          },
          "metadata": {},
          "execution_count": 74
        }
      ]
    },
    {
      "cell_type": "markdown",
      "source": [
        "Now lets check the accuracy. To decide if output is a 3 or a 7 we simply need to check to see if its greater than 0. Using broadcasting we can check the entire dataset with out looping, as follows."
      ],
      "metadata": {
        "id": "jsn2pYb39d_n"
      }
    },
    {
      "cell_type": "code",
      "source": [
        "corrects = (preds > 0.0).float() == train_y"
      ],
      "metadata": {
        "id": "ypm_sFQv9KQf"
      },
      "execution_count": 75,
      "outputs": []
    },
    {
      "cell_type": "code",
      "source": [
        "corrects"
      ],
      "metadata": {
        "colab": {
          "base_uri": "https://localhost:8080/"
        },
        "id": "LOgxPhZb9R4C",
        "outputId": "5ddb12b1-9f42-4e52-faf8-179e0a21810e"
      },
      "execution_count": 76,
      "outputs": [
        {
          "output_type": "execute_result",
          "data": {
            "text/plain": [
              "tensor([[ True, False, False,  ..., False, False, False],\n",
              "        [ True, False, False,  ..., False, False, False],\n",
              "        [ True, False, False,  ..., False, False, False],\n",
              "        ...,\n",
              "        [False,  True,  True,  ...,  True,  True,  True],\n",
              "        [False,  True,  True,  ...,  True,  True,  True],\n",
              "        [False,  True,  True,  ...,  True,  True,  True]])"
            ]
          },
          "metadata": {},
          "execution_count": 76
        }
      ]
    },
    {
      "cell_type": "code",
      "source": [
        "acc = corrects.float().mean().item()\n",
        "acc"
      ],
      "metadata": {
        "colab": {
          "base_uri": "https://localhost:8080/"
        },
        "id": "BykIhLN997xb",
        "outputId": "32e63f64-8320-4e78-b2fa-ec820149ec00"
      },
      "execution_count": 77,
      "outputs": [
        {
          "output_type": "execute_result",
          "data": {
            "text/plain": [
              "0.5048644542694092"
            ]
          },
          "metadata": {},
          "execution_count": 77
        }
      ]
    },
    {
      "cell_type": "markdown",
      "source": [
        "Now change a weight to see how it impacts accuracy. We will run through these weight changes twice to see what happens..."
      ],
      "metadata": {
        "id": "oh0EduyIyAb8"
      }
    },
    {
      "cell_type": "code",
      "source": [
        "weights.data[0] *= 1.0001"
      ],
      "metadata": {
        "id": "tbt3DrZjyDGo"
      },
      "execution_count": 78,
      "outputs": []
    },
    {
      "cell_type": "code",
      "source": [
        "preds = linear1(train_x)\n",
        "((preds>0.0).float() == train_y).float().mean().item()"
      ],
      "metadata": {
        "colab": {
          "base_uri": "https://localhost:8080/"
        },
        "id": "hlc_Gq_gyaSs",
        "outputId": "acee7c17-6843-423c-c8a7-6af9398ee7dd"
      },
      "execution_count": 79,
      "outputs": [
        {
          "output_type": "execute_result",
          "data": {
            "text/plain": [
              "0.4912068545818329"
            ]
          },
          "metadata": {},
          "execution_count": 79
        }
      ]
    },
    {
      "cell_type": "markdown",
      "source": [
        "You can see that after the second pass there is no change in the accuracy. This is because we need gradients in order to improve our model using SGD. In order to calculate the gradients we need to have defined a ***loss function***! Remember gradients are a mesure of how the loss function changes based on small changes to the weights. "
      ],
      "metadata": {
        "id": "80_KZ1KZzp1v"
      }
    },
    {
      "cell_type": "markdown",
      "source": [
        "## Loss Function V1"
      ],
      "metadata": {
        "id": "wOtPVrYzES-C"
      }
    },
    {
      "cell_type": "markdown",
      "source": [
        ">>**Math Info:** Accuracy is a function that is constant almost everywhere (excapt at the threshold, 0.5), so its derivative is nil almost everywhere (and infinity at the threshold). This then gives gradients that are 0 or infinate which are usless for updating the model.\n",
        "\n"
      ],
      "metadata": {
        "id": "R7GCvkdjyF-w"
      }
    },
    {
      "cell_type": "markdown",
      "source": [
        "The purpose of the loss function is to measure the difference between the predicted value and the true values. As you can see we pass in the tensors for the prediction (hypothesis) and the target (labels)"
      ],
      "metadata": {
        "id": "eGMYzg5Qygt9"
      }
    },
    {
      "cell_type": "code",
      "source": [
        "def mnist_loss(prediction, targets):\n",
        "  return torch.where(targets==1, 1-prediction, prediction).mean()"
      ],
      "metadata": {
        "id": "_vnOhOLr5iuJ"
      },
      "execution_count": 80,
      "outputs": []
    },
    {
      "cell_type": "markdown",
      "source": [
        "### torch.where()\n",
        "Here we are going to talk about there `torch.where()` function and its use as part of the loss function. This is essentially the same as running \n",
        "`[b[i] if a[i] else c[i] for i in range(len(a))]` but it can run at cuda speed on tensors. What this does is measure the distance each prediction is from 1 if it should be 1 and distance from 0 if it should be 0.\n",
        "\n",
        "\n"
      ],
      "metadata": {
        "id": "Ff5cbQf50dJA"
      }
    },
    {
      "cell_type": "code",
      "source": [
        "trgts = tensor([1,0,1])\n",
        "prds = tensor([0.900, 0.400, 0.200])"
      ],
      "metadata": {
        "id": "7bOTnZuP58-X"
      },
      "execution_count": 81,
      "outputs": []
    },
    {
      "cell_type": "code",
      "source": [
        "torch.where(trgts==1, 1-prds, prds)"
      ],
      "metadata": {
        "colab": {
          "base_uri": "https://localhost:8080/"
        },
        "id": "VhHCkhG2Cey4",
        "outputId": "bd81f497-24ad-424c-c5ff-ce0825562944"
      },
      "execution_count": 82,
      "outputs": [
        {
          "output_type": "execute_result",
          "data": {
            "text/plain": [
              "tensor([0.1000, 0.4000, 0.8000])"
            ]
          },
          "metadata": {},
          "execution_count": 82
        }
      ]
    },
    {
      "cell_type": "markdown",
      "source": [
        "What the above loss function does is take this distance, and give us the mean value of it since we need a scalar (1D tensor) to determine the gradients and what changes need to be made to the weights.. "
      ],
      "metadata": {
        "id": "PLb53NUtE2qT"
      }
    },
    {
      "cell_type": "code",
      "source": [
        "mnist_loss(prds, trgts)"
      ],
      "metadata": {
        "colab": {
          "base_uri": "https://localhost:8080/"
        },
        "id": "VW6j0sbLFP72",
        "outputId": "f98d01f8-495b-4108-c49d-994e195cbd34"
      },
      "execution_count": 83,
      "outputs": [
        {
          "output_type": "execute_result",
          "data": {
            "text/plain": [
              "tensor(0.4333)"
            ]
          },
          "metadata": {},
          "execution_count": 83
        }
      ]
    },
    {
      "cell_type": "code",
      "source": [
        "mnist_loss(tensor([0.9,0.4,0.8]), trgts)"
      ],
      "metadata": {
        "colab": {
          "base_uri": "https://localhost:8080/"
        },
        "id": "MY_QRCLIGYKy",
        "outputId": "bf740804-f51f-4681-ad54-f48fa639ac00"
      },
      "execution_count": 84,
      "outputs": [
        {
          "output_type": "execute_result",
          "data": {
            "text/plain": [
              "tensor(0.2333)"
            ]
          },
          "metadata": {},
          "execution_count": 84
        }
      ]
    },
    {
      "cell_type": "markdown",
      "source": [
        "You can find more info by using the help function like below."
      ],
      "metadata": {
        "id": "zKdJywN7IFXG"
      }
    },
    {
      "cell_type": "code",
      "source": [
        "help(torch.where)"
      ],
      "metadata": {
        "colab": {
          "base_uri": "https://localhost:8080/"
        },
        "id": "sWVWayJqIP1y",
        "outputId": "b9553673-61c9-4e2f-df09-9eb1d154a730"
      },
      "execution_count": 85,
      "outputs": [
        {
          "output_type": "stream",
          "name": "stdout",
          "text": [
            "Help on built-in function where:\n",
            "\n",
            "where(...)\n",
            "    where(condition, x, y) -> Tensor\n",
            "    \n",
            "    Return a tensor of elements selected from either :attr:`x` or :attr:`y`, depending on :attr:`condition`.\n",
            "    \n",
            "    The operation is defined as:\n",
            "    \n",
            "    .. math::\n",
            "        \\text{out}_i = \\begin{cases}\n",
            "            \\text{x}_i & \\text{if } \\text{condition}_i \\\\\n",
            "            \\text{y}_i & \\text{otherwise} \\\\\n",
            "        \\end{cases}\n",
            "    \n",
            "    .. note::\n",
            "        The tensors :attr:`condition`, :attr:`x`, :attr:`y` must be :ref:`broadcastable <broadcasting-semantics>`.\n",
            "    \n",
            "    .. note::\n",
            "        Currently valid scalar and tensor combination are\n",
            "        1. Scalar of floating dtype and torch.double\n",
            "        2. Scalar of integral dtype and torch.long\n",
            "        3. Scalar of complex dtype and torch.complex128\n",
            "    \n",
            "    Arguments:\n",
            "        condition (BoolTensor): When True (nonzero), yield x, otherwise yield y\n",
            "        x (Tensor or Scalar): value (if :attr:`x` is a scalar) or values selected at indices\n",
            "                              where :attr:`condition` is ``True``\n",
            "        y (Tensor or Scalar): value (if :attr:`y` is a scalar) or values selected at indices\n",
            "                              where :attr:`condition` is ``False``\n",
            "    \n",
            "    Returns:\n",
            "        Tensor: A tensor of shape equal to the broadcasted shape of :attr:`condition`, :attr:`x`, :attr:`y`\n",
            "    \n",
            "    Example::\n",
            "    \n",
            "        >>> x = torch.randn(3, 2)\n",
            "        >>> y = torch.ones(3, 2)\n",
            "        >>> x\n",
            "        tensor([[-0.4620,  0.3139],\n",
            "                [ 0.3898, -0.7197],\n",
            "                [ 0.0478, -0.1657]])\n",
            "        >>> torch.where(x > 0, x, y)\n",
            "        tensor([[ 1.0000,  0.3139],\n",
            "                [ 0.3898,  1.0000],\n",
            "                [ 0.0478,  1.0000]])\n",
            "        >>> x = torch.randn(2, 2, dtype=torch.double)\n",
            "        >>> x\n",
            "        tensor([[ 1.0779,  0.0383],\n",
            "                [-0.8785, -1.1089]], dtype=torch.float64)\n",
            "        >>> torch.where(x > 0, x, 0.)\n",
            "        tensor([[1.0779, 0.0383],\n",
            "                [0.0000, 0.0000]], dtype=torch.float64)\n",
            "    \n",
            "    .. function:: where(condition) -> tuple of LongTensor\n",
            "       :noindex:\n",
            "    \n",
            "    ``torch.where(condition)`` is identical to\n",
            "    ``torch.nonzero(condition, as_tuple=True)``.\n",
            "    \n",
            "    .. note::\n",
            "        See also :func:`torch.nonzero`.\n",
            "\n"
          ]
        }
      ]
    },
    {
      "cell_type": "markdown",
      "source": [
        "## Sigmoid Function\n",
        "One problem with the above loss function is it requires a value between 0 and 1 to work. In this part I will look at the sigmoid function, and how to use it with this loss function. "
      ],
      "metadata": {
        "id": "koFgDPPlIc_g"
      }
    },
    {
      "cell_type": "markdown",
      "source": [
        "A sigmoid can be defined using the following function"
      ],
      "metadata": {
        "id": "vsZireTZJAi6"
      }
    },
    {
      "cell_type": "code",
      "source": [
        "def sigmoid(x): return 1/(1+torch.exp(-x))"
      ],
      "metadata": {
        "id": "gA5Xs-ACIgp1"
      },
      "execution_count": 86,
      "outputs": []
    },
    {
      "cell_type": "markdown",
      "source": [
        "But this is unnessicary as pytorch has a built in sigmoid function that works at cuda speed. Lets plot what a sigmoid looks like using that. "
      ],
      "metadata": {
        "id": "4q17hFKCJM2I"
      }
    },
    {
      "cell_type": "code",
      "source": [
        "plot_function(torch.sigmoid, title='Sigmoid', min=-5, max=5)"
      ],
      "metadata": {
        "colab": {
          "base_uri": "https://localhost:8080/",
          "height": 0
        },
        "id": "wqGr8tsJJWaW",
        "outputId": "339dbd89-0b4e-44f5-c38e-04e0ae2e202b"
      },
      "execution_count": 87,
      "outputs": [
        {
          "output_type": "stream",
          "name": "stderr",
          "text": [
            "/usr/local/lib/python3.7/dist-packages/fastbook/__init__.py:74: UserWarning: Not providing a value for linspace's steps is deprecated and will throw a runtime error in a future release. This warning will appear only once per process. (Triggered internally at  ../aten/src/ATen/native/RangeFactories.cpp:23.)\n",
            "  x = torch.linspace(min,max)\n"
          ]
        },
        {
          "output_type": "display_data",
          "data": {
            "image/png": "[encoded data removed]",
            "text/plain": [
              "<Figure size 432x288 with 1 Axes>"
            ]
          },
          "metadata": {
            "needs_background": "light"
          }
        }
      ]
    },
    {
      "cell_type": "markdown",
      "source": [
        "AS you can see, a sigmoid function takes any input value and smushes it between 0 and 1. Its also a smooth curve which makes it easier for SGD to find gradients. "
      ],
      "metadata": {
        "id": "LvMxnRfNJVkw"
      }
    },
    {
      "cell_type": "markdown",
      "source": [
        "## Updated mnist_loss function\n",
        "We will modify our mnist_loss function to put the predictions through a sigmoid before running them through the where function."
      ],
      "metadata": {
        "id": "5yEaGukdJ61u"
      }
    },
    {
      "cell_type": "code",
      "source": [
        "def mnist_loss(prediction, targets):\n",
        "  prediction = prediction.sigmoid()\n",
        "  return torch.where(targets==1, 1-prediction, prediction).mean()"
      ],
      "metadata": {
        "id": "KaZ8yT4uKRh4"
      },
      "execution_count": 88,
      "outputs": []
    },
    {
      "cell_type": "markdown",
      "source": [
        "##Metrics vs Loss\n"
      ],
      "metadata": {
        "id": "01bojYWdMPvN"
      }
    },
    {
      "cell_type": "markdown",
      "source": [
        "One important difference to understand is the difference between metric and loss. Metrics are for humans and loss is to drive the automated learning. The loss function must have meaningful derivatives that produce a smooth curve with no large flat sections and no big jumps. This is why its important to make a loss function that responds to small changes in the confidence level. The loss function is calculated on each item in our data set and the loss values are all averaged and the mean is reported at the end of each epoch. \n",
        "\n",
        "Metrics are the numbers that we care about. They are the values that are preinted at the end of each epoch that tell us how the model is doing. You should focus on these metrics vs the loss because these metrics are more meaningful performance of the model."
      ],
      "metadata": {
        "id": "lXCZVHiyMX04"
      }
    },
    {
      "cell_type": "markdown",
      "source": [
        "## SGD and Mini-Batchs - Optimization Step\n",
        "The ***optimization step*** is the next step of the learning process, and its goal is to change or update the weights based on the gradients. We could calculate it for the whole dataset would be very accurate but would take a very long time. Alternativly if we calculate it per item we would have very little data which would lead to an imprecise and unstable gradient.\n",
        "\n",
        "***Mini-batchs*** are a compromise to the problem stated above, they are a smaller subset of number of items based on the ***batch size***. The average loss is caluclated for all the items in this mini batch. A larger batch size will use more GPU memory but produce more accurate graidents. This in practice makes the GPU happy because it is really good at handling tensor calculations on a lot of data, however you have to be careful because they can easily run out of memory. Controlling batch size will be something ill continue to experiment with and take notes on through out all my notebooks. "
      ],
      "metadata": {
        "id": "hzu6NgtPOydC"
      }
    },
    {
      "cell_type": "markdown",
      "source": [
        "### DataLoaders\n",
        "The easiest way to break up all of the data in a dataset is to use pytorchs dataloaders. This function will take any python collection and turn it into iterable batchs of set size. It can also do useful things like shuffle the the items before splitting them into batchs. \n",
        "\n",
        "Lets play with some dataloaders."
      ],
      "metadata": {
        "id": "53C0CsRgJExR"
      }
    },
    {
      "cell_type": "code",
      "source": [
        "col = range(15)"
      ],
      "metadata": {
        "id": "fIa7K1HfO6Ns"
      },
      "execution_count": 89,
      "outputs": []
    },
    {
      "cell_type": "code",
      "source": [
        "dl = DataLoader(col, batch_size=5, shuffle=True)\n",
        "dl_noshuf = DataLoader(col, batch_size=5, shuffle=False)"
      ],
      "metadata": {
        "id": "Fi6Ul6VHNFAc"
      },
      "execution_count": 90,
      "outputs": []
    },
    {
      "cell_type": "code",
      "source": [
        "list(dl)"
      ],
      "metadata": {
        "colab": {
          "base_uri": "https://localhost:8080/"
        },
        "id": "cc34KaOSNRMN",
        "outputId": "c540aef9-2337-4c53-b751-4c7c946afbb9"
      },
      "execution_count": 91,
      "outputs": [
        {
          "output_type": "execute_result",
          "data": {
            "text/plain": [
              "[tensor([ 3, 12,  8, 10,  2]),\n",
              " tensor([ 9,  4,  7, 14,  5]),\n",
              " tensor([ 1, 13,  0,  6, 11])]"
            ]
          },
          "metadata": {},
          "execution_count": 91
        }
      ]
    },
    {
      "cell_type": "code",
      "source": [
        "list(dl_noshuf)"
      ],
      "metadata": {
        "colab": {
          "base_uri": "https://localhost:8080/"
        },
        "id": "pxyKkvALNvgY",
        "outputId": "70ffd21a-383b-4acf-9151-e5d7bb655983"
      },
      "execution_count": 92,
      "outputs": [
        {
          "output_type": "execute_result",
          "data": {
            "text/plain": [
              "[tensor([0, 1, 2, 3, 4]),\n",
              " tensor([5, 6, 7, 8, 9]),\n",
              " tensor([10, 11, 12, 13, 14])]"
            ]
          },
          "metadata": {},
          "execution_count": 92
        }
      ]
    },
    {
      "cell_type": "markdown",
      "source": [
        "As you can see shuffle is a good way to mix up the dataset during training. In other cases it might be good to keep the dataset in order (for example in the case of RNNs for NLP). \n",
        "\n",
        "However for models we are not using just a plane old python collection, but a a collection containing independent and dependent variables. This collection of dependent and indepenent variables is a *dataset* in pytorch. \n",
        "\n",
        "Here is a simple *Dataset*"
      ],
      "metadata": {
        "id": "gdZglhXsNzO4"
      }
    },
    {
      "cell_type": "code",
      "source": [
        "ds = L(enumerate(string.ascii_lowercase))\n",
        "ds"
      ],
      "metadata": {
        "colab": {
          "base_uri": "https://localhost:8080/"
        },
        "id": "YvdvwDf9Op2h",
        "outputId": "3d67a657-f490-42aa-e36f-88715778e306"
      },
      "execution_count": 93,
      "outputs": [
        {
          "output_type": "execute_result",
          "data": {
            "text/plain": [
              "(#26) [(0, 'a'),(1, 'b'),(2, 'c'),(3, 'd'),(4, 'e'),(5, 'f'),(6, 'g'),(7, 'h'),(8, 'i'),(9, 'j')...]"
            ]
          },
          "metadata": {},
          "execution_count": 93
        }
      ]
    },
    {
      "cell_type": "code",
      "source": [
        "dl = DataLoader(ds, batch_size=5, shuffle=True)\n",
        "list(dl)"
      ],
      "metadata": {
        "colab": {
          "base_uri": "https://localhost:8080/"
        },
        "id": "WesA6ucyO67g",
        "outputId": "1f1127ca-19b9-469b-fc68-b548ccf22429"
      },
      "execution_count": 94,
      "outputs": [
        {
          "output_type": "execute_result",
          "data": {
            "text/plain": [
              "[(tensor([19, 14,  0, 24, 20]), ('t', 'o', 'a', 'y', 'u')),\n",
              " (tensor([12, 23,  8,  9,  3]), ('m', 'x', 'i', 'j', 'd')),\n",
              " (tensor([16,  6,  4,  7,  1]), ('q', 'g', 'e', 'h', 'b')),\n",
              " (tensor([13,  2, 22,  5, 17]), ('n', 'c', 'w', 'f', 'r')),\n",
              " (tensor([18, 10, 11, 15, 25]), ('s', 'k', 'l', 'p', 'z')),\n",
              " (tensor([21]), ('v',))]"
            ]
          },
          "metadata": {},
          "execution_count": 94
        }
      ]
    },
    {
      "cell_type": "code",
      "source": [
        "list(dl)[2] "
      ],
      "metadata": {
        "colab": {
          "base_uri": "https://localhost:8080/"
        },
        "id": "IrI2JxtFPK_o",
        "outputId": "f426a388-6e9d-4111-81fc-ac9f34546c99"
      },
      "execution_count": 95,
      "outputs": [
        {
          "output_type": "execute_result",
          "data": {
            "text/plain": [
              "(tensor([15, 22, 14, 17,  6]), ('p', 'w', 'o', 'r', 'g'))"
            ]
          },
          "metadata": {},
          "execution_count": 95
        }
      ]
    },
    {
      "cell_type": "markdown",
      "source": [
        "As you can see, loading that small dataset into the Dataloader splits it into batchs that are tuples of tensors representing the independent and dependent variables. "
      ],
      "metadata": {
        "id": "EU9CCs6mPSk-"
      }
    },
    {
      "cell_type": "markdown",
      "source": [
        "# Putting it all together\n",
        "\n",
        "Below we have the graident descent steps shown. In this section we are going to add graident descent and all the required steps to our number classification model. "
      ],
      "metadata": {
        "id": "CmRxryvEPzP9"
      }
    },
    {
      "cell_type": "code",
      "source": [
        "#@title Gradient Descent Steps\n",
        "gv('''\n",
        "init->predict->loss->gradient->step->stop\n",
        "step->predict[label=repeat]\n",
        "''')"
      ],
      "metadata": {
        "colab": {
          "base_uri": "https://localhost:8080/",
          "height": 125
        },
        "cellView": "form",
        "id": "AeMJzuJoQX5o",
        "outputId": "6cd3d8c7-89ac-47ae-d258-dec0dbc90142"
      },
      "execution_count": 96,
      "outputs": [
        {
          "output_type": "execute_result",
          "data": {
            "text/plain": [
              "<graphviz.files.Source at 0x7f4285bd7ad0>"
            ],
            "image/svg+xml": "<?xml version=\"1.0\" encoding=\"UTF-8\" standalone=\"no\"?>\n<!DOCTYPE svg PUBLIC \"-//W3C//DTD SVG 1.1//EN\"\n \"http://www.w3.org/Graphics/SVG/1.1/DTD/svg11.dtd\">\n<!-- Generated by graphviz version 2.40.1 (20161225.0304)\n -->\n<!-- Title: G Pages: 1 -->\n<svg width=\"597pt\" height=\"78pt\"\n viewBox=\"0.00 0.00 596.69 78.00\" xmlns=\"http://www.w3.org/2000/svg\" xmlns:xlink=\"http://www.w3.org/1999/xlink\">\n<g id=\"graph0\" class=\"graph\" transform=\"scale(1 1) rotate(0) translate(4 74)\">\n<title>G</title>\n<polygon fill=\"#ffffff\" stroke=\"transparent\" points=\"-4,4 -4,-74 592.6863,-74 592.6863,4 -4,4\"/>\n<!-- init -->\n<g id=\"node1\" class=\"node\">\n<title>init</title>\n<ellipse fill=\"none\" stroke=\"#000000\" cx=\"27\" cy=\"-18\" rx=\"27\" ry=\"18\"/>\n<text text-anchor=\"middle\" x=\"27\" y=\"-14.3\" font-family=\"Times,serif\" font-size=\"14.00\" fill=\"#000000\">init</text>\n</g>\n<!-- predict -->\n<g id=\"node2\" class=\"node\">\n<title>predict</title>\n<ellipse fill=\"none\" stroke=\"#000000\" cx=\"127.3968\" cy=\"-18\" rx=\"36.2938\" ry=\"18\"/>\n<text text-anchor=\"middle\" x=\"127.3968\" y=\"-14.3\" font-family=\"Times,serif\" font-size=\"14.00\" fill=\"#000000\">predict</text>\n</g>\n<!-- init&#45;&gt;predict -->\n<g id=\"edge1\" class=\"edge\">\n<title>init&#45;&gt;predict</title>\n<path fill=\"none\" stroke=\"#000000\" d=\"M54.1688,-18C62.3543,-18 71.5827,-18 80.6596,-18\"/>\n<polygon fill=\"#000000\" stroke=\"#000000\" points=\"80.7795,-21.5001 90.7795,-18 80.7795,-14.5001 80.7795,-21.5001\"/>\n</g>\n<!-- loss -->\n<g id=\"node3\" class=\"node\">\n<title>loss</title>\n<ellipse fill=\"none\" stroke=\"#000000\" cx=\"227.7935\" cy=\"-52\" rx=\"27\" ry=\"18\"/>\n<text text-anchor=\"middle\" x=\"227.7935\" y=\"-48.3\" font-family=\"Times,serif\" font-size=\"14.00\" fill=\"#000000\">loss</text>\n</g>\n<!-- predict&#45;&gt;loss -->\n<g id=\"edge2\" class=\"edge\">\n<title>predict&#45;&gt;loss</title>\n<path fill=\"none\" stroke=\"#000000\" d=\"M157.5191,-28.2011C168.9806,-32.0826 182.1139,-36.5303 193.9014,-40.5222\"/>\n<polygon fill=\"#000000\" stroke=\"#000000\" points=\"192.8259,-43.8532 203.4202,-43.7458 195.0713,-37.2231 192.8259,-43.8532\"/>\n</g>\n<!-- gradient -->\n<g id=\"node4\" class=\"node\">\n<title>gradient</title>\n<ellipse fill=\"none\" stroke=\"#000000\" cx=\"365.7399\" cy=\"-52\" rx=\"40.8928\" ry=\"18\"/>\n<text text-anchor=\"middle\" x=\"365.7399\" y=\"-48.3\" font-family=\"Times,serif\" font-size=\"14.00\" fill=\"#000000\">gradient</text>\n</g>\n<!-- loss&#45;&gt;gradient -->\n<g id=\"edge3\" class=\"edge\">\n<title>loss&#45;&gt;gradient</title>\n<path fill=\"none\" stroke=\"#000000\" d=\"M255.0473,-52C272.0415,-52 294.4481,-52 314.6545,-52\"/>\n<polygon fill=\"#000000\" stroke=\"#000000\" points=\"314.671,-55.5001 324.671,-52 314.671,-48.5001 314.671,-55.5001\"/>\n</g>\n<!-- step -->\n<g id=\"node5\" class=\"node\">\n<title>step</title>\n<ellipse fill=\"none\" stroke=\"#000000\" cx=\"470.6863\" cy=\"-18\" rx=\"27\" ry=\"18\"/>\n<text text-anchor=\"middle\" x=\"470.6863\" y=\"-14.3\" font-family=\"Times,serif\" font-size=\"14.00\" fill=\"#000000\">step</text>\n</g>\n<!-- gradient&#45;&gt;step -->\n<g id=\"edge4\" class=\"edge\">\n<title>gradient&#45;&gt;step</title>\n<path fill=\"none\" stroke=\"#000000\" d=\"M398.9456,-41.2422C410.9558,-37.3512 424.5297,-32.9536 436.6132,-29.0388\"/>\n<polygon fill=\"#000000\" stroke=\"#000000\" points=\"437.9112,-32.2975 446.3457,-25.8857 435.7537,-25.6382 437.9112,-32.2975\"/>\n</g>\n<!-- step&#45;&gt;predict -->\n<g id=\"edge6\" class=\"edge\">\n<title>step&#45;&gt;predict</title>\n<path fill=\"none\" stroke=\"#000000\" d=\"M443.4266,-18C384.9297,-18 246.7861,-18 174.0495,-18\"/>\n<polygon fill=\"#000000\" stroke=\"#000000\" points=\"173.8098,-14.5001 163.8098,-18 173.8097,-21.5001 173.8098,-14.5001\"/>\n<text text-anchor=\"middle\" x=\"289.7935\" y=\"-21.8\" font-family=\"Times,serif\" font-size=\"14.00\" fill=\"#000000\">repeat</text>\n</g>\n<!-- stop -->\n<g id=\"node6\" class=\"node\">\n<title>stop</title>\n<ellipse fill=\"none\" stroke=\"#000000\" cx=\"561.6863\" cy=\"-18\" rx=\"27\" ry=\"18\"/>\n<text text-anchor=\"middle\" x=\"561.6863\" y=\"-14.3\" font-family=\"Times,serif\" font-size=\"14.00\" fill=\"#000000\">stop</text>\n</g>\n<!-- step&#45;&gt;stop -->\n<g id=\"edge5\" class=\"edge\">\n<title>step&#45;&gt;stop</title>\n<path fill=\"none\" stroke=\"#000000\" d=\"M497.9893,-18C506.2676,-18 515.508,-18 524.3268,-18\"/>\n<polygon fill=\"#000000\" stroke=\"#000000\" points=\"524.4026,-21.5001 534.4025,-18 524.4025,-14.5001 524.4026,-21.5001\"/>\n</g>\n</g>\n</svg>\n"
          },
          "metadata": {},
          "execution_count": 96
        }
      ]
    },
    {
      "cell_type": "markdown",
      "source": [
        "## Manually creating each step"
      ],
      "metadata": {
        "id": "91SaSXTkkK1h"
      }
    },
    {
      "cell_type": "markdown",
      "source": [
        "First initalize parameters"
      ],
      "metadata": {
        "id": "9GaINAgwiSom"
      }
    },
    {
      "cell_type": "code",
      "source": [
        "weights = init_params((28*28,1))\n",
        "bias = init_params(1)"
      ],
      "metadata": {
        "id": "YNI6XLjZQVLE"
      },
      "execution_count": 97,
      "outputs": []
    },
    {
      "cell_type": "markdown",
      "source": [
        "Now create the dataloader from a dataset"
      ],
      "metadata": {
        "id": "7wd7oJQSiocb"
      }
    },
    {
      "cell_type": "code",
      "source": [
        "dl = DataLoader(dset, batch_size=256)\n",
        "xb, yb = first(dl)\n",
        "xb.shape, yb.shape"
      ],
      "metadata": {
        "colab": {
          "base_uri": "https://localhost:8080/"
        },
        "id": "oOb5zcvmisbd",
        "outputId": "14bd225d-0eb1-404d-efd0-aa98f4b2d1f2"
      },
      "execution_count": 98,
      "outputs": [
        {
          "output_type": "execute_result",
          "data": {
            "text/plain": [
              "(torch.Size([256, 784]), torch.Size([256, 1]))"
            ]
          },
          "metadata": {},
          "execution_count": 98
        }
      ]
    },
    {
      "cell_type": "markdown",
      "source": [
        "Next do the same thing for the validation dataset"
      ],
      "metadata": {
        "id": "r_tM6crIjLDJ"
      }
    },
    {
      "cell_type": "code",
      "source": [
        "val_dl = DataLoader(valid_dset, batch_size=256)"
      ],
      "metadata": {
        "id": "vbHcWWWIjNYZ"
      },
      "execution_count": 99,
      "outputs": []
    },
    {
      "cell_type": "markdown",
      "source": [
        "Now create a mini batch of size 4 for testing"
      ],
      "metadata": {
        "id": "OEo35sZsjolw"
      }
    },
    {
      "cell_type": "code",
      "source": [
        "batch = train_x[:15]\n",
        "batch.shape"
      ],
      "metadata": {
        "colab": {
          "base_uri": "https://localhost:8080/"
        },
        "id": "i8U4RJrsjrhq",
        "outputId": "2d8bf745-e054-4338-88c0-53c6020b1762"
      },
      "execution_count": 100,
      "outputs": [
        {
          "output_type": "execute_result",
          "data": {
            "text/plain": [
              "torch.Size([15, 784])"
            ]
          },
          "metadata": {},
          "execution_count": 100
        }
      ]
    },
    {
      "cell_type": "code",
      "source": [
        "preds = linear1(batch)\n",
        "preds"
      ],
      "metadata": {
        "colab": {
          "base_uri": "https://localhost:8080/"
        },
        "id": "NDLvhbDijzhA",
        "outputId": "1e45312b-27a2-4b8f-ede9-573bf73f4954"
      },
      "execution_count": 101,
      "outputs": [
        {
          "output_type": "execute_result",
          "data": {
            "text/plain": [
              "tensor([[-16.3989],\n",
              "        [ -7.9580],\n",
              "        [-11.7045],\n",
              "        [-21.6327],\n",
              "        [ -6.7190],\n",
              "        [-10.9902],\n",
              "        [-16.5995],\n",
              "        [-18.3543],\n",
              "        [  1.9229],\n",
              "        [-21.4763],\n",
              "        [-17.1510],\n",
              "        [-11.3871],\n",
              "        [ -3.6849],\n",
              "        [-13.3123],\n",
              "        [-17.7159]], grad_fn=<AddBackward0>)"
            ]
          },
          "metadata": {},
          "execution_count": 101
        }
      ]
    },
    {
      "cell_type": "code",
      "source": [
        "loss = mnist_loss(preds, train_y[:15])\n",
        "loss"
      ],
      "metadata": {
        "colab": {
          "base_uri": "https://localhost:8080/"
        },
        "id": "p0R-Pwloj8Qu",
        "outputId": "eb5a5b67-e790-4c09-9fb4-5ddc06d288bd"
      },
      "execution_count": 102,
      "outputs": [
        {
          "output_type": "execute_result",
          "data": {
            "text/plain": [
              "tensor(0.9401, grad_fn=<MeanBackward0>)"
            ]
          },
          "metadata": {},
          "execution_count": 102
        }
      ]
    },
    {
      "cell_type": "markdown",
      "source": [
        "Calculate the gradients"
      ],
      "metadata": {
        "id": "ApAG7coikGEX"
      }
    },
    {
      "cell_type": "code",
      "source": [
        "loss.backward()\n",
        "weights.grad.shape, weights.grad.mean(), bias.grad"
      ],
      "metadata": {
        "colab": {
          "base_uri": "https://localhost:8080/"
        },
        "id": "OsedeDcPkK7i",
        "outputId": "523f5c2c-57db-4bcf-e266-0dda759393cd"
      },
      "execution_count": 103,
      "outputs": [
        {
          "output_type": "execute_result",
          "data": {
            "text/plain": [
              "(torch.Size([784, 1]), tensor(-0.0015), tensor([-0.0091]))"
            ]
          },
          "metadata": {},
          "execution_count": 103
        }
      ]
    },
    {
      "cell_type": "markdown",
      "source": [
        "Lets combine all this into a function."
      ],
      "metadata": {
        "id": "K9hylPwKldPf"
      }
    },
    {
      "cell_type": "code",
      "source": [
        "def calc_grad(xb, yb, model):\n",
        "  preds = model(xb)\n",
        "  loss = mnist_loss(preds, yb)\n",
        "  loss.backward()"
      ],
      "metadata": {
        "id": "B5e2NkPhlflM"
      },
      "execution_count": 104,
      "outputs": []
    },
    {
      "cell_type": "code",
      "source": [
        "calc_grad(batch, train_y[:15], linear1)\n",
        "weights.grad.mean(), bias.grad"
      ],
      "metadata": {
        "colab": {
          "base_uri": "https://localhost:8080/"
        },
        "id": "99ShV842lsRV",
        "outputId": "d40ffce9-140c-4a25-93d4-f234d0f7b940"
      },
      "execution_count": 105,
      "outputs": [
        {
          "output_type": "execute_result",
          "data": {
            "text/plain": [
              "(tensor(-0.0030), tensor([-0.0182]))"
            ]
          },
          "metadata": {},
          "execution_count": 105
        }
      ]
    },
    {
      "cell_type": "code",
      "source": [
        "calc_grad(batch, train_y[:15], linear1)\n",
        "weights.grad.mean(), bias.grad"
      ],
      "metadata": {
        "colab": {
          "base_uri": "https://localhost:8080/"
        },
        "id": "rEMf7BLWmUye",
        "outputId": "46c604fb-97f8-4e65-ece3-763c5213b925"
      },
      "execution_count": 106,
      "outputs": [
        {
          "output_type": "execute_result",
          "data": {
            "text/plain": [
              "(tensor(-0.0044), tensor([-0.0274]))"
            ]
          },
          "metadata": {},
          "execution_count": 106
        }
      ]
    },
    {
      "cell_type": "markdown",
      "source": [
        "When you call it a second time the gradients will chagne. This is because loss.backward adds to the gradients of loss on any graidents that are currently stored. So lets zero it out. Notice the _ at the end of the zero method? This is because in PyTorch any method that ends in an underscore modifies their objects inplace. For instance, bias.zero_ sets all elements of the tensor bias to 0."
      ],
      "metadata": {
        "id": "S5doxUrhmCDh"
      }
    },
    {
      "cell_type": "code",
      "source": [
        "weights.grad.zero_()\n",
        "bias.grad.zero_()"
      ],
      "metadata": {
        "colab": {
          "base_uri": "https://localhost:8080/"
        },
        "id": "BLmrgqAWmesN",
        "outputId": "b0570717-c9ba-4daa-bb27-ab5fd1491324"
      },
      "execution_count": 107,
      "outputs": [
        {
          "output_type": "execute_result",
          "data": {
            "text/plain": [
              "tensor([0.])"
            ]
          },
          "metadata": {},
          "execution_count": 107
        }
      ]
    },
    {
      "cell_type": "markdown",
      "source": [
        "Now the only remaining step is to update the biases based on the gradient and learning rate. Where Model is Liner1, LR = learning rate, and params = data loader."
      ],
      "metadata": {
        "id": "gmMX-gUwnI0w"
      }
    },
    {
      "cell_type": "code",
      "source": [
        "def train_epoch(model, lr, params):\n",
        "  for xb,yb in dl:\n",
        "    calc_grad(xb, yb, model)\n",
        "    for p in params:\n",
        "      p.data -= p.grad*lr\n",
        "      p.grad.zero_()"
      ],
      "metadata": {
        "id": "hDvr5c2bnS_r"
      },
      "execution_count": 108,
      "outputs": []
    },
    {
      "cell_type": "markdown",
      "source": [
        "In ordeer to keep track of how we are doing we will be looking at the accuracy of the validation set. To determine if the output is 3 or 7 we can just check wheather is greater than 0.5. Using broadcasting to make it fast we can do it in this method. Next we will wrap this into a function and give it a test. "
      ],
      "metadata": {
        "id": "OQyKoDhjpxqY"
      }
    },
    {
      "cell_type": "code",
      "source": [
        "(preds>0.5).float() == train_y[:15]"
      ],
      "metadata": {
        "colab": {
          "base_uri": "https://localhost:8080/"
        },
        "id": "XZjyKEhDpnFV",
        "outputId": "eed3c413-3e14-4bdb-eed0-acbe59e365b5"
      },
      "execution_count": 109,
      "outputs": [
        {
          "output_type": "execute_result",
          "data": {
            "text/plain": [
              "tensor([[False],\n",
              "        [False],\n",
              "        [False],\n",
              "        [False],\n",
              "        [False],\n",
              "        [False],\n",
              "        [False],\n",
              "        [False],\n",
              "        [ True],\n",
              "        [False],\n",
              "        [False],\n",
              "        [False],\n",
              "        [False],\n",
              "        [False],\n",
              "        [False]])"
            ]
          },
          "metadata": {},
          "execution_count": 109
        }
      ]
    },
    {
      "cell_type": "code",
      "source": [
        "def batch_accuracy(xb, yb):\n",
        "  preds = xb.sigmoid()\n",
        "  correct = (preds>0.5) == yb\n",
        "  return correct.float().mean()"
      ],
      "metadata": {
        "id": "Yyd1Ji7gqLHy"
      },
      "execution_count": 110,
      "outputs": []
    },
    {
      "cell_type": "code",
      "source": [
        "batch_accuracy(linear1(batch), train_y[:15])"
      ],
      "metadata": {
        "colab": {
          "base_uri": "https://localhost:8080/"
        },
        "id": "t1bCXxOKqbp_",
        "outputId": "df101e98-e7d5-4804-cd9a-57db21866577"
      },
      "execution_count": 111,
      "outputs": [
        {
          "output_type": "execute_result",
          "data": {
            "text/plain": [
              "tensor(0.0667)"
            ]
          },
          "metadata": {},
          "execution_count": 111
        }
      ]
    },
    {
      "cell_type": "markdown",
      "source": [
        "Now lets build a function to run against our validation set."
      ],
      "metadata": {
        "id": "zwl1Ekf3t0BK"
      }
    },
    {
      "cell_type": "code",
      "source": [
        "def validate_epoch(model):\n",
        "  accs = [batch_accuracy(model(xb), yb) for xb, yb in val_dl]\n",
        "  return round(torch.stack(accs).mean().item(), 4)\n"
      ],
      "metadata": {
        "id": "2MTQrvpgrm6R"
      },
      "execution_count": 112,
      "outputs": []
    },
    {
      "cell_type": "code",
      "source": [
        "validate_epoch(linear1)"
      ],
      "metadata": {
        "colab": {
          "base_uri": "https://localhost:8080/"
        },
        "id": "7YAi2aX0sFaC",
        "outputId": "b8b8a899-fab6-41db-b86a-df35bde5d11f"
      },
      "execution_count": 113,
      "outputs": [
        {
          "output_type": "execute_result",
          "data": {
            "text/plain": [
              "0.5727"
            ]
          },
          "metadata": {},
          "execution_count": 113
        }
      ]
    },
    {
      "cell_type": "markdown",
      "source": [
        "This is the starting point for our models accuracy. Now lets train it again and see what happens to our accuracy."
      ],
      "metadata": {
        "id": "7Uf6c45AuA9e"
      }
    },
    {
      "cell_type": "code",
      "source": [
        "lr = 1. \n",
        "params = weights, bias \n",
        "train_epoch(linear1, lr, params)\n",
        "validate_epoch(linear1)"
      ],
      "metadata": {
        "colab": {
          "base_uri": "https://localhost:8080/"
        },
        "id": "sZF80VF6s85f",
        "outputId": "4c31f857-6783-4f4a-c5cd-999d7521318a"
      },
      "execution_count": 114,
      "outputs": [
        {
          "output_type": "execute_result",
          "data": {
            "text/plain": [
              "0.849"
            ]
          },
          "metadata": {},
          "execution_count": 114
        }
      ]
    },
    {
      "cell_type": "markdown",
      "source": [
        "Now lets train it 20 more times, and see what happens to the accuracy. x"
      ],
      "metadata": {
        "id": "e_GvIIybuF_k"
      }
    },
    {
      "cell_type": "code",
      "source": [
        "for i in range(20):\n",
        "  train_epoch(linear1, lr, params)\n",
        "  print(validate_epoch(linear1), end=' ')"
      ],
      "metadata": {
        "colab": {
          "base_uri": "https://localhost:8080/"
        },
        "id": "o6-3SH3KtQCy",
        "outputId": "2fe990b7-4a7a-4149-ed60-abb8c254ba1e"
      },
      "execution_count": 115,
      "outputs": [
        {
          "output_type": "stream",
          "name": "stdout",
          "text": [
            "0.9198 0.9398 0.95 0.9569 0.9598 0.9613 0.9632 0.9642 0.9667 0.9677 0.9701 0.9706 0.9725 0.973 0.9735 0.9745 0.9755 0.9755 0.975 0.976 "
          ]
        }
      ]
    },
    {
      "cell_type": "markdown",
      "source": [
        "## Creating an Optimizer\n",
        "\n",
        "Instead of doing all of the steps above manually, its best to create what is known as an Optimizer to handle all of the SGD steps for you. We can furthur make this optimizer easier by replacing some of the manual functions we created above with built in pytorch functions.\n"
      ],
      "metadata": {
        "id": "BoBA1Zoos6pP"
      }
    },
    {
      "cell_type": "markdown",
      "source": [
        "\n",
        "First lets take care of our model and initalizers. Above we created the functions `init_params()` which was used  to set the weights and biases to random initial values. It will also replace `liner1()` which was used to create predictions on each item in the batch. We instead of these use a `nn.Module` which are basically functions in pytroch but are specific types of neural networks. "
      ],
      "metadata": {
        "id": "-qqOiCttcquQ"
      }
    },
    {
      "cell_type": "code",
      "source": [
        "linear_model = nn.Linear(28*28,1)"
      ],
      "metadata": {
        "id": "xdwygMnAcXBd"
      },
      "execution_count": 116,
      "outputs": []
    },
    {
      "cell_type": "code",
      "source": [
        "w,b = linear_model.parameters()\n",
        "w.shape, b.shape"
      ],
      "metadata": {
        "colab": {
          "base_uri": "https://localhost:8080/"
        },
        "id": "uDnQ-GxUfjKO",
        "outputId": "f7687c77-c158-45ac-b4ca-b8dc40f9ea76"
      },
      "execution_count": 117,
      "outputs": [
        {
          "output_type": "execute_result",
          "data": {
            "text/plain": [
              "(torch.Size([1, 784]), torch.Size([1]))"
            ]
          },
          "metadata": {},
          "execution_count": 117
        }
      ]
    },
    {
      "cell_type": "markdown",
      "source": [
        "### Optimzer"
      ],
      "metadata": {
        "id": "Nq0GrYC3gWoo"
      }
    },
    {
      "cell_type": "code",
      "source": [
        "class BasicOptim:\n",
        "  def __init__(self, params, lr): \n",
        "    self.params = list(params)\n",
        "    self.lr = lr\n",
        "  \n",
        "  def step(self, *args, **kwargs):\n",
        "    for p in self.params:\n",
        "      p.data -= p.grad.data * self.lr\n",
        "  \n",
        "  def zero_grad(self, *args, **kwargs):\n",
        "    for p in self.params:\n",
        "      p.grad = None\n"
      ],
      "metadata": {
        "id": "iG2-zTFGgY3U"
      },
      "execution_count": 118,
      "outputs": []
    },
    {
      "cell_type": "markdown",
      "source": [
        "We can create our optimizer object by passing in our models parameters."
      ],
      "metadata": {
        "id": "-IoeXKWahND0"
      }
    },
    {
      "cell_type": "code",
      "source": [
        "lr = .1\n",
        "opt = BasicOptim(linear_model.parameters(), lr)"
      ],
      "metadata": {
        "id": "58xePfqrhTwY"
      },
      "execution_count": 119,
      "outputs": []
    },
    {
      "cell_type": "markdown",
      "source": [
        "Now we can make simple our train_epoch function by giving it the model "
      ],
      "metadata": {
        "id": "PaEIBhTyiIYm"
      }
    },
    {
      "cell_type": "code",
      "source": [
        "def train_epoch(model):\n",
        "  for xb,yb in dl:\n",
        "    calc_grad(xb,yb, model)\n",
        "    opt.step()\n",
        "    opt.zero_grad()"
      ],
      "metadata": {
        "id": "s5QtVDJliYzd"
      },
      "execution_count": 120,
      "outputs": []
    },
    {
      "cell_type": "markdown",
      "source": [
        "Our `validate_epoch(model)`works just fine!"
      ],
      "metadata": {
        "id": "3StL-gspiwNK"
      }
    },
    {
      "cell_type": "code",
      "source": [
        "validate_epoch(linear_model)"
      ],
      "metadata": {
        "colab": {
          "base_uri": "https://localhost:8080/"
        },
        "id": "ovoVwsFaiq0P",
        "outputId": "e1a04edd-632e-4a15-9043-96c2ac9d47b3"
      },
      "execution_count": 121,
      "outputs": [
        {
          "output_type": "execute_result",
          "data": {
            "text/plain": [
              "0.7135"
            ]
          },
          "metadata": {},
          "execution_count": 121
        }
      ]
    },
    {
      "cell_type": "markdown",
      "source": [
        "Now we can put it all in a nice function that can do the training and stepping for us."
      ],
      "metadata": {
        "id": "CeiiMMwSjXer"
      }
    },
    {
      "cell_type": "code",
      "source": [
        "def train_model(model, epochs):\n",
        "  for i in range(epochs):\n",
        "    train_epoch(model)\n",
        "    print(validate_epoch(model), end=' ')"
      ],
      "metadata": {
        "id": "ufsJiob5sd_F"
      },
      "execution_count": 122,
      "outputs": []
    },
    {
      "cell_type": "code",
      "source": [
        "train_model(linear_model, epochs=20)"
      ],
      "metadata": {
        "colab": {
          "base_uri": "https://localhost:8080/"
        },
        "id": "F9pdMfYCsuCU",
        "outputId": "7fa0d265-b6ef-4660-a73e-de1f3e822067"
      },
      "execution_count": 123,
      "outputs": [
        {
          "output_type": "stream",
          "name": "stdout",
          "text": [
            "0.5669 0.8706 0.9321 0.954 0.9623 0.9618 0.9652 0.9667 0.9676 0.9696 0.9706 0.9715 0.9715 0.972 0.9715 0.9715 0.9715 0.9715 0.9725 0.9725 "
          ]
        }
      ]
    },
    {
      "cell_type": "markdown",
      "source": [
        "## FastAI SGD shortcut and Learners"
      ],
      "metadata": {
        "id": "ugNf1ho-k0cc"
      }
    },
    {
      "cell_type": "markdown",
      "source": [
        "Fast AI provides a SGD class that does the same thing as our BasicOptim class, and we can use that instead of building our own SGD Optimizer.."
      ],
      "metadata": {
        "id": "ksWbnQ9lgYoM"
      }
    },
    {
      "cell_type": "code",
      "source": [
        "linear_model = nn.Linear(28*28,1)\n",
        "lr = .1\n",
        "opt = SGD(linear_model.parameters(), lr)\n",
        "train_model(linear_model, 20)"
      ],
      "metadata": {
        "colab": {
          "base_uri": "https://localhost:8080/"
        },
        "id": "TgXkgq3imydy",
        "outputId": "58519f4e-f92d-4749-a82d-d9c13015180a"
      },
      "execution_count": 124,
      "outputs": [
        {
          "output_type": "stream",
          "name": "stdout",
          "text": [
            "0.5547 0.8706 0.9335 0.954 0.9633 0.9642 0.9652 0.9671 0.9681 0.9701 0.9706 0.9701 0.9706 0.972 0.9715 0.9715 0.9715 0.972 0.972 0.9725 "
          ]
        }
      ]
    },
    {
      "cell_type": "markdown",
      "source": [
        "FastAI also providers Learners, which can be used to train your models instead of `train_model()` function we created. They have a number of features built in that are very useful, such as `Learner.fit`\n",
        "\n",
        "To create a learner we will first need to create a dataloaders."
      ],
      "metadata": {
        "id": "Qbk0EMFqSiJI"
      }
    },
    {
      "cell_type": "code",
      "source": [
        "dls = DataLoaders(dl, val_dl)"
      ],
      "metadata": {
        "id": "7DWhayc8KWVF"
      },
      "execution_count": 125,
      "outputs": []
    },
    {
      "cell_type": "markdown",
      "source": [
        "Then we need to pass all of the elements we created, the DataLoaders, the model, optimization function (which will be passed the parameters), loss function and any metrics to print. Once we have the learner created, then we run `Learner.fit()` to train it."
      ],
      "metadata": {
        "id": "39N8UCuxK2i6"
      }
    },
    {
      "cell_type": "code",
      "source": [
        "learn = Learner(dls, nn.Linear(28*28,1), opt_func=SGD, loss_func=mnist_loss, metrics=batch_accuracy)"
      ],
      "metadata": {
        "id": "_cV4QjDWLB7Z"
      },
      "execution_count": 126,
      "outputs": []
    },
    {
      "cell_type": "code",
      "source": [
        "learn.fit(20, lr=lr)"
      ],
      "metadata": {
        "colab": {
          "base_uri": "https://localhost:8080/",
          "height": 677
        },
        "id": "_6pUfMFRL3fb",
        "outputId": "e7f65f70-5077-46e1-d900-16142af60ec0"
      },
      "execution_count": 127,
      "outputs": [
        {
          "output_type": "display_data",
          "data": {
            "text/html": [
              "\n",
              "<style>\n",
              "    /* Turns off some styling */\n",
              "    progress {\n",
              "        /* gets rid of default border in Firefox and Opera. */\n",
              "        border: none;\n",
              "        /* Needs to be in here for Safari polyfill so background images work as expected. */\n",
              "        background-size: auto;\n",
              "    }\n",
              "    .progress-bar-interrupted, .progress-bar-interrupted::-webkit-progress-bar {\n",
              "        background: #F44336;\n",
              "    }\n",
              "</style>\n"
            ],
            "text/plain": [
              "<IPython.core.display.HTML object>"
            ]
          },
          "metadata": {}
        },
        {
          "output_type": "display_data",
          "data": {
            "text/html": [
              "<table border=\"1\" class=\"dataframe\">\n",
              "  <thead>\n",
              "    <tr style=\"text-align: left;\">\n",
              "      <th>epoch</th>\n",
              "      <th>train_loss</th>\n",
              "      <th>valid_loss</th>\n",
              "      <th>batch_accuracy</th>\n",
              "      <th>time</th>\n",
              "    </tr>\n",
              "  </thead>\n",
              "  <tbody>\n",
              "    <tr>\n",
              "      <td>0</td>\n",
              "      <td>0.214864</td>\n",
              "      <td>0.366200</td>\n",
              "      <td>0.548086</td>\n",
              "      <td>00:00</td>\n",
              "    </tr>\n",
              "    <tr>\n",
              "      <td>1</td>\n",
              "      <td>0.121043</td>\n",
              "      <td>0.182138</td>\n",
              "      <td>0.872424</td>\n",
              "      <td>00:00</td>\n",
              "    </tr>\n",
              "    <tr>\n",
              "      <td>2</td>\n",
              "      <td>0.083574</td>\n",
              "      <td>0.108150</td>\n",
              "      <td>0.934249</td>\n",
              "      <td>00:00</td>\n",
              "    </tr>\n",
              "    <tr>\n",
              "      <td>3</td>\n",
              "      <td>0.065567</td>\n",
              "      <td>0.080873</td>\n",
              "      <td>0.951914</td>\n",
              "      <td>00:00</td>\n",
              "    </tr>\n",
              "    <tr>\n",
              "      <td>4</td>\n",
              "      <td>0.055801</td>\n",
              "      <td>0.067443</td>\n",
              "      <td>0.964671</td>\n",
              "      <td>00:00</td>\n",
              "    </tr>\n",
              "    <tr>\n",
              "      <td>5</td>\n",
              "      <td>0.049892</td>\n",
              "      <td>0.059517</td>\n",
              "      <td>0.964671</td>\n",
              "      <td>00:00</td>\n",
              "    </tr>\n",
              "    <tr>\n",
              "      <td>6</td>\n",
              "      <td>0.045942</td>\n",
              "      <td>0.054277</td>\n",
              "      <td>0.964181</td>\n",
              "      <td>00:00</td>\n",
              "    </tr>\n",
              "    <tr>\n",
              "      <td>7</td>\n",
              "      <td>0.043073</td>\n",
              "      <td>0.050540</td>\n",
              "      <td>0.965162</td>\n",
              "      <td>00:00</td>\n",
              "    </tr>\n",
              "    <tr>\n",
              "      <td>8</td>\n",
              "      <td>0.040854</td>\n",
              "      <td>0.047724</td>\n",
              "      <td>0.967125</td>\n",
              "      <td>00:00</td>\n",
              "    </tr>\n",
              "    <tr>\n",
              "      <td>9</td>\n",
              "      <td>0.039058</td>\n",
              "      <td>0.045516</td>\n",
              "      <td>0.968106</td>\n",
              "      <td>00:00</td>\n",
              "    </tr>\n",
              "    <tr>\n",
              "      <td>10</td>\n",
              "      <td>0.037558</td>\n",
              "      <td>0.043729</td>\n",
              "      <td>0.970069</td>\n",
              "      <td>00:00</td>\n",
              "    </tr>\n",
              "    <tr>\n",
              "      <td>11</td>\n",
              "      <td>0.036275</td>\n",
              "      <td>0.042247</td>\n",
              "      <td>0.969578</td>\n",
              "      <td>00:00</td>\n",
              "    </tr>\n",
              "    <tr>\n",
              "      <td>12</td>\n",
              "      <td>0.035159</td>\n",
              "      <td>0.040993</td>\n",
              "      <td>0.970559</td>\n",
              "      <td>00:00</td>\n",
              "    </tr>\n",
              "    <tr>\n",
              "      <td>13</td>\n",
              "      <td>0.034176</td>\n",
              "      <td>0.039914</td>\n",
              "      <td>0.972031</td>\n",
              "      <td>00:00</td>\n",
              "    </tr>\n",
              "    <tr>\n",
              "      <td>14</td>\n",
              "      <td>0.033300</td>\n",
              "      <td>0.038973</td>\n",
              "      <td>0.972031</td>\n",
              "      <td>00:00</td>\n",
              "    </tr>\n",
              "    <tr>\n",
              "      <td>15</td>\n",
              "      <td>0.032512</td>\n",
              "      <td>0.038141</td>\n",
              "      <td>0.972031</td>\n",
              "      <td>00:00</td>\n",
              "    </tr>\n",
              "    <tr>\n",
              "      <td>16</td>\n",
              "      <td>0.031799</td>\n",
              "      <td>0.037400</td>\n",
              "      <td>0.971541</td>\n",
              "      <td>00:00</td>\n",
              "    </tr>\n",
              "    <tr>\n",
              "      <td>17</td>\n",
              "      <td>0.031149</td>\n",
              "      <td>0.036732</td>\n",
              "      <td>0.971541</td>\n",
              "      <td>00:00</td>\n",
              "    </tr>\n",
              "    <tr>\n",
              "      <td>18</td>\n",
              "      <td>0.030554</td>\n",
              "      <td>0.036127</td>\n",
              "      <td>0.971541</td>\n",
              "      <td>00:00</td>\n",
              "    </tr>\n",
              "    <tr>\n",
              "      <td>19</td>\n",
              "      <td>0.030006</td>\n",
              "      <td>0.035574</td>\n",
              "      <td>0.971541</td>\n",
              "      <td>00:00</td>\n",
              "    </tr>\n",
              "  </tbody>\n",
              "</table>"
            ],
            "text/plain": [
              "<IPython.core.display.HTML object>"
            ]
          },
          "metadata": {}
        }
      ]
    },
    {
      "cell_type": "markdown",
      "source": [
        "# Adding a Non-linearity & Neural Networks\n",
        "Now that we have finished a simple **linear classifier** its time to replace the linear model with a neural network. A linerar classifier is limited in that it accomplish and to do more complex tasks we need to add something other than ax+b between the two linerar classifers. This is what builds a neural network."
      ],
      "metadata": {
        "id": "T5T7bUwxM1dI"
      }
    },
    {
      "cell_type": "markdown",
      "source": [
        "This is an entire definition of a basic neural network. This small neural network consists of two linear classifiers with a max function between them."
      ],
      "metadata": {
        "id": "lOP8b9Y_NyQf"
      }
    },
    {
      "cell_type": "code",
      "source": [
        "def simple_net(xb):\n",
        "  res = xb@w1 + b1\n",
        "  res = res.max(tensor(0.0))\n",
        "  res = res@w2 + bz2\n",
        "  return res"
      ],
      "metadata": {
        "id": "lj5KNa6JM05a"
      },
      "execution_count": 128,
      "outputs": []
    },
    {
      "cell_type": "markdown",
      "source": [
        "Each line of code represents a layer of a NN. In this case the first and third are called **linear layers** and the `res.max(tensor(0.0))` (ReLU) is called the **nonlinearity** or **activation function** "
      ],
      "metadata": {
        "id": "pAPs1BrEoe_8"
      }
    },
    {
      "cell_type": "code",
      "source": [
        "w1 = init_params((28*28,30))\n",
        "b1 = init_params(30)\n",
        "w2 = init_params((30,1))\n",
        "b2 = init_params(1)"
      ],
      "metadata": {
        "id": "rn5hYurJOYz3"
      },
      "execution_count": 129,
      "outputs": []
    },
    {
      "cell_type": "markdown",
      "source": [
        "The key point is that w1 has 30 output activations which means that w2 must have 30 input activations so they match. That means the first layer can construct 30 different features each representing a differnt mix of pixels. \n",
        "\n",
        "The `res.max(tensor(0.0))` is called a ***rectified linear unit*** or ReLU. IT simply replaces every negative number with a zero. See below."
      ],
      "metadata": {
        "id": "BwPOKoq7PbZW"
      }
    },
    {
      "cell_type": "code",
      "source": [
        "plot_function(F.relu)"
      ],
      "metadata": {
        "colab": {
          "base_uri": "https://localhost:8080/",
          "height": 268
        },
        "id": "05khu-fYQGHb",
        "outputId": "5152557a-bd03-4bed-9c30-3d0586b69185"
      },
      "execution_count": 130,
      "outputs": [
        {
          "output_type": "display_data",
          "data": {
            "image/png": "[encoded data removed]",
            "text/plain": [
              "<Figure size 432x288 with 1 Axes>"
            ]
          },
          "metadata": {
            "needs_background": "light"
          }
        }
      ]
    },
    {
      "cell_type": "markdown",
      "source": [
        "We can actually simply this furthur down using pytorch features."
      ],
      "metadata": {
        "id": "8X3EyvGypXap"
      }
    },
    {
      "cell_type": "code",
      "source": [
        "simple_net = nn.Sequential(\n",
        "    nn.Linear(28*28,30),\n",
        "    nn.ReLU(),\n",
        "    nn.Linear(30,1)\n",
        ")"
      ],
      "metadata": {
        "id": "-cw2rTuApc4B"
      },
      "execution_count": 131,
      "outputs": []
    },
    {
      "cell_type": "markdown",
      "source": [
        "We will use the `nn.Sequential` to run all of our NN layers in the correct order at the correct time. Tis module will contain all the parameters needed to build our learner."
      ],
      "metadata": {
        "id": "Vb0Uptn8ptaw"
      }
    },
    {
      "cell_type": "code",
      "source": [
        "learn_simple = Learner(dls, simple_net, opt_func=SGD, loss_func=mnist_loss, metrics=batch_accuracy)"
      ],
      "metadata": {
        "id": "p9dIa6bCqVio"
      },
      "execution_count": 132,
      "outputs": []
    },
    {
      "cell_type": "code",
      "source": [
        "learn_simple.fit(40, .01)"
      ],
      "metadata": {
        "colab": {
          "base_uri": "https://localhost:8080/",
          "height": 1000
        },
        "id": "8MWOuoB8qkYI",
        "outputId": "18bf10b0-1e3d-48d9-fdb2-f59784c390ef"
      },
      "execution_count": 133,
      "outputs": [
        {
          "output_type": "display_data",
          "data": {
            "text/html": [
              "\n",
              "<style>\n",
              "    /* Turns off some styling */\n",
              "    progress {\n",
              "        /* gets rid of default border in Firefox and Opera. */\n",
              "        border: none;\n",
              "        /* Needs to be in here for Safari polyfill so background images work as expected. */\n",
              "        background-size: auto;\n",
              "    }\n",
              "    .progress-bar-interrupted, .progress-bar-interrupted::-webkit-progress-bar {\n",
              "        background: #F44336;\n",
              "    }\n",
              "</style>\n"
            ],
            "text/plain": [
              "<IPython.core.display.HTML object>"
            ]
          },
          "metadata": {}
        },
        {
          "output_type": "display_data",
          "data": {
            "text/html": [
              "<table border=\"1\" class=\"dataframe\">\n",
              "  <thead>\n",
              "    <tr style=\"text-align: left;\">\n",
              "      <th>epoch</th>\n",
              "      <th>train_loss</th>\n",
              "      <th>valid_loss</th>\n",
              "      <th>batch_accuracy</th>\n",
              "      <th>time</th>\n",
              "    </tr>\n",
              "  </thead>\n",
              "  <tbody>\n",
              "    <tr>\n",
              "      <td>0</td>\n",
              "      <td>0.487388</td>\n",
              "      <td>0.457182</td>\n",
              "      <td>0.924926</td>\n",
              "      <td>00:00</td>\n",
              "    </tr>\n",
              "    <tr>\n",
              "      <td>1</td>\n",
              "      <td>0.445047</td>\n",
              "      <td>0.404287</td>\n",
              "      <td>0.916585</td>\n",
              "      <td>00:00</td>\n",
              "    </tr>\n",
              "    <tr>\n",
              "      <td>2</td>\n",
              "      <td>0.386145</td>\n",
              "      <td>0.339612</td>\n",
              "      <td>0.911187</td>\n",
              "      <td>00:00</td>\n",
              "    </tr>\n",
              "    <tr>\n",
              "      <td>3</td>\n",
              "      <td>0.318945</td>\n",
              "      <td>0.271682</td>\n",
              "      <td>0.927870</td>\n",
              "      <td>00:00</td>\n",
              "    </tr>\n",
              "    <tr>\n",
              "      <td>4</td>\n",
              "      <td>0.254941</td>\n",
              "      <td>0.212314</td>\n",
              "      <td>0.940137</td>\n",
              "      <td>00:00</td>\n",
              "    </tr>\n",
              "    <tr>\n",
              "      <td>5</td>\n",
              "      <td>0.202246</td>\n",
              "      <td>0.168198</td>\n",
              "      <td>0.948479</td>\n",
              "      <td>00:00</td>\n",
              "    </tr>\n",
              "    <tr>\n",
              "      <td>6</td>\n",
              "      <td>0.162798</td>\n",
              "      <td>0.137939</td>\n",
              "      <td>0.957311</td>\n",
              "      <td>00:00</td>\n",
              "    </tr>\n",
              "    <tr>\n",
              "      <td>7</td>\n",
              "      <td>0.134591</td>\n",
              "      <td>0.117297</td>\n",
              "      <td>0.958783</td>\n",
              "      <td>00:00</td>\n",
              "    </tr>\n",
              "    <tr>\n",
              "      <td>8</td>\n",
              "      <td>0.114613</td>\n",
              "      <td>0.102823</td>\n",
              "      <td>0.959764</td>\n",
              "      <td>00:00</td>\n",
              "    </tr>\n",
              "    <tr>\n",
              "      <td>9</td>\n",
              "      <td>0.100280</td>\n",
              "      <td>0.092297</td>\n",
              "      <td>0.961236</td>\n",
              "      <td>00:00</td>\n",
              "    </tr>\n",
              "    <tr>\n",
              "      <td>10</td>\n",
              "      <td>0.089740</td>\n",
              "      <td>0.084365</td>\n",
              "      <td>0.961236</td>\n",
              "      <td>00:00</td>\n",
              "    </tr>\n",
              "    <tr>\n",
              "      <td>11</td>\n",
              "      <td>0.081761</td>\n",
              "      <td>0.078195</td>\n",
              "      <td>0.961727</td>\n",
              "      <td>00:00</td>\n",
              "    </tr>\n",
              "    <tr>\n",
              "      <td>12</td>\n",
              "      <td>0.075541</td>\n",
              "      <td>0.073269</td>\n",
              "      <td>0.961727</td>\n",
              "      <td>00:00</td>\n",
              "    </tr>\n",
              "    <tr>\n",
              "      <td>13</td>\n",
              "      <td>0.070561</td>\n",
              "      <td>0.069245</td>\n",
              "      <td>0.963199</td>\n",
              "      <td>00:00</td>\n",
              "    </tr>\n",
              "    <tr>\n",
              "      <td>14</td>\n",
              "      <td>0.066478</td>\n",
              "      <td>0.065895</td>\n",
              "      <td>0.963690</td>\n",
              "      <td>00:00</td>\n",
              "    </tr>\n",
              "    <tr>\n",
              "      <td>15</td>\n",
              "      <td>0.063064</td>\n",
              "      <td>0.063060</td>\n",
              "      <td>0.965162</td>\n",
              "      <td>00:00</td>\n",
              "    </tr>\n",
              "    <tr>\n",
              "      <td>16</td>\n",
              "      <td>0.060159</td>\n",
              "      <td>0.060627</td>\n",
              "      <td>0.965162</td>\n",
              "      <td>00:00</td>\n",
              "    </tr>\n",
              "    <tr>\n",
              "      <td>17</td>\n",
              "      <td>0.057650</td>\n",
              "      <td>0.058513</td>\n",
              "      <td>0.966143</td>\n",
              "      <td>00:00</td>\n",
              "    </tr>\n",
              "    <tr>\n",
              "      <td>18</td>\n",
              "      <td>0.055458</td>\n",
              "      <td>0.056658</td>\n",
              "      <td>0.966634</td>\n",
              "      <td>00:00</td>\n",
              "    </tr>\n",
              "    <tr>\n",
              "      <td>19</td>\n",
              "      <td>0.053522</td>\n",
              "      <td>0.055014</td>\n",
              "      <td>0.967615</td>\n",
              "      <td>00:00</td>\n",
              "    </tr>\n",
              "    <tr>\n",
              "      <td>20</td>\n",
              "      <td>0.051797</td>\n",
              "      <td>0.053546</td>\n",
              "      <td>0.968106</td>\n",
              "      <td>00:00</td>\n",
              "    </tr>\n",
              "    <tr>\n",
              "      <td>21</td>\n",
              "      <td>0.050246</td>\n",
              "      <td>0.052226</td>\n",
              "      <td>0.968597</td>\n",
              "      <td>00:00</td>\n",
              "    </tr>\n",
              "    <tr>\n",
              "      <td>22</td>\n",
              "      <td>0.048843</td>\n",
              "      <td>0.051031</td>\n",
              "      <td>0.968597</td>\n",
              "      <td>00:00</td>\n",
              "    </tr>\n",
              "    <tr>\n",
              "      <td>23</td>\n",
              "      <td>0.047565</td>\n",
              "      <td>0.049944</td>\n",
              "      <td>0.969087</td>\n",
              "      <td>00:00</td>\n",
              "    </tr>\n",
              "    <tr>\n",
              "      <td>24</td>\n",
              "      <td>0.046396</td>\n",
              "      <td>0.048949</td>\n",
              "      <td>0.969578</td>\n",
              "      <td>00:00</td>\n",
              "    </tr>\n",
              "    <tr>\n",
              "      <td>25</td>\n",
              "      <td>0.045320</td>\n",
              "      <td>0.048035</td>\n",
              "      <td>0.970559</td>\n",
              "      <td>00:00</td>\n",
              "    </tr>\n",
              "    <tr>\n",
              "      <td>26</td>\n",
              "      <td>0.044325</td>\n",
              "      <td>0.047191</td>\n",
              "      <td>0.970559</td>\n",
              "      <td>00:00</td>\n",
              "    </tr>\n",
              "    <tr>\n",
              "      <td>27</td>\n",
              "      <td>0.043402</td>\n",
              "      <td>0.046408</td>\n",
              "      <td>0.971050</td>\n",
              "      <td>00:00</td>\n",
              "    </tr>\n",
              "    <tr>\n",
              "      <td>28</td>\n",
              "      <td>0.042543</td>\n",
              "      <td>0.045681</td>\n",
              "      <td>0.972031</td>\n",
              "      <td>00:00</td>\n",
              "    </tr>\n",
              "    <tr>\n",
              "      <td>29</td>\n",
              "      <td>0.041740</td>\n",
              "      <td>0.045003</td>\n",
              "      <td>0.972031</td>\n",
              "      <td>00:00</td>\n",
              "    </tr>\n",
              "    <tr>\n",
              "      <td>30</td>\n",
              "      <td>0.040988</td>\n",
              "      <td>0.044369</td>\n",
              "      <td>0.972522</td>\n",
              "      <td>00:00</td>\n",
              "    </tr>\n",
              "    <tr>\n",
              "      <td>31</td>\n",
              "      <td>0.040281</td>\n",
              "      <td>0.043774</td>\n",
              "      <td>0.972522</td>\n",
              "      <td>00:00</td>\n",
              "    </tr>\n",
              "    <tr>\n",
              "      <td>32</td>\n",
              "      <td>0.039616</td>\n",
              "      <td>0.043214</td>\n",
              "      <td>0.972522</td>\n",
              "      <td>00:00</td>\n",
              "    </tr>\n",
              "    <tr>\n",
              "      <td>33</td>\n",
              "      <td>0.038987</td>\n",
              "      <td>0.042687</td>\n",
              "      <td>0.972522</td>\n",
              "      <td>00:00</td>\n",
              "    </tr>\n",
              "    <tr>\n",
              "      <td>34</td>\n",
              "      <td>0.038392</td>\n",
              "      <td>0.042188</td>\n",
              "      <td>0.972522</td>\n",
              "      <td>00:00</td>\n",
              "    </tr>\n",
              "    <tr>\n",
              "      <td>35</td>\n",
              "      <td>0.037827</td>\n",
              "      <td>0.041716</td>\n",
              "      <td>0.972522</td>\n",
              "      <td>00:00</td>\n",
              "    </tr>\n",
              "    <tr>\n",
              "      <td>36</td>\n",
              "      <td>0.037291</td>\n",
              "      <td>0.041269</td>\n",
              "      <td>0.972522</td>\n",
              "      <td>00:00</td>\n",
              "    </tr>\n",
              "    <tr>\n",
              "      <td>37</td>\n",
              "      <td>0.036781</td>\n",
              "      <td>0.040844</td>\n",
              "      <td>0.972522</td>\n",
              "      <td>00:00</td>\n",
              "    </tr>\n",
              "    <tr>\n",
              "      <td>38</td>\n",
              "      <td>0.036295</td>\n",
              "      <td>0.040439</td>\n",
              "      <td>0.972522</td>\n",
              "      <td>00:00</td>\n",
              "    </tr>\n",
              "    <tr>\n",
              "      <td>39</td>\n",
              "      <td>0.035830</td>\n",
              "      <td>0.040053</td>\n",
              "      <td>0.972522</td>\n",
              "      <td>00:00</td>\n",
              "    </tr>\n",
              "  </tbody>\n",
              "</table>"
            ],
            "text/plain": [
              "<IPython.core.display.HTML object>"
            ]
          },
          "metadata": {}
        }
      ]
    },
    {
      "cell_type": "markdown",
      "source": [
        "When we run `learn.fit` the training process is recorded in `learn.recorder` and can be used to plot things like the accuracy over time."
      ],
      "metadata": {
        "id": "7cJpDyPDq0jZ"
      }
    },
    {
      "cell_type": "code",
      "source": [
        "plt.plot(L(learn_simple.recorder.values).itemgot(2))"
      ],
      "metadata": {
        "colab": {
          "base_uri": "https://localhost:8080/",
          "height": 285
        },
        "id": "Q3-LikuYrFEm",
        "outputId": "c6d01795-2ae5-4dec-98db-123a7e8e1b7a"
      },
      "execution_count": 134,
      "outputs": [
        {
          "output_type": "execute_result",
          "data": {
            "text/plain": [
              "[<matplotlib.lines.Line2D at 0x7f4285c985d0>]"
            ]
          },
          "metadata": {},
          "execution_count": 134
        },
        {
          "output_type": "display_data",
          "data": {
            "image/png": "[encoded data removed]",
            "text/plain": [
              "<Figure size 432x288 with 1 Axes>"
            ]
          },
          "metadata": {
            "needs_background": "light"
          }
        }
      ]
    },
    {
      "cell_type": "markdown",
      "source": [
        "And we can view the final accuracy using the recorder as well."
      ],
      "metadata": {
        "id": "mMYU0kKErhOd"
      }
    },
    {
      "cell_type": "code",
      "source": [
        "learn.recorder.values[-1][2]"
      ],
      "metadata": {
        "colab": {
          "base_uri": "https://localhost:8080/"
        },
        "id": "xtos-GnXrbv5",
        "outputId": "56b951f3-c29f-4cd7-b70b-c7752963d917"
      },
      "execution_count": 135,
      "outputs": [
        {
          "output_type": "execute_result",
          "data": {
            "text/plain": [
              "0.9715407490730286"
            ]
          },
          "metadata": {},
          "execution_count": 135
        }
      ]
    },
    {
      "cell_type": "markdown",
      "source": [
        "# Chapter Recap"
      ],
      "metadata": {
        "id": "99HSOu9rsNei"
      }
    },
    {
      "cell_type": "markdown",
      "source": [
        "## Jargon Recap"
      ],
      "metadata": {
        "id": "aDyCMengu80u"
      }
    },
    {
      "cell_type": "markdown",
      "source": [
        "A Neural network contains two types of numbers: Numbers that are calculated, and the parameters these numbers are calculated from. This leads to:"
      ],
      "metadata": {
        "id": "TUy67oEQvBY1"
      }
    },
    {
      "cell_type": "markdown",
      "source": [
        "**Activations** - Numbers that are calculated (both by linear and nonlinear layers)"
      ],
      "metadata": {
        "id": "MNawWNOzvVAi"
      }
    },
    {
      "cell_type": "markdown",
      "source": [
        "**Parameters** - Numbers that are randomly initialized, and optimized (that is, the numbers that define the model)"
      ],
      "metadata": {
        "id": "cWdEX1OgvdSe"
      }
    },
    {
      "cell_type": "markdown",
      "source": [
        "These *activations* and *parameters* are all contained in **tensors**: which are just reguarlly shaped arrays, for example a matrix. Tensors contain rows and columns like a matrix however they are called **axes** or **dimensions** and each tensor dimension has a *rank*"
      ],
      "metadata": {
        "id": "d-wYTXqfv9VC"
      }
    },
    {
      "cell_type": "markdown",
      "source": [
        "* **Rank-0** Tensor is known as a **scalar** \n",
        "* **Rank-1** Tensor is known as a **vector**\n",
        "* **Rank-2** Tensor is known as a **matrix**"
      ],
      "metadata": {
        "id": "W0_RieRUwbuU"
      }
    },
    {
      "cell_type": "markdown",
      "source": [
        "Neural networks contain a number of **layers** the more layers the *deeper* the neural network is. Each of these is either a **linear** or **nonlinear** layer. Often the nonlinear layer will be referred to as the **activation function**."
      ],
      "metadata": {
        "id": "Onxk--E3xIFT"
      }
    },
    {
      "cell_type": "markdown",
      "source": [
        "*  ReLU - Activation function that returns 0 for negative numbers and doesnt change postive numbers.\n",
        "* Mini-batch - A small group of inputs and labels gathered togetehr in two arrays. A Gradient descent step is updated on this batch (rather then a whole epoch)\n",
        "* Forward pass - Applying the model to some input and computing the predictions\n",
        "* Loss - A value that represents how well (or badly) our model is doing.\n",
        "* Gradient - The derivative of the loss with respect to some parameter of the model.\n",
        "* Backward pass - computing the gradients of the loss with respect to all the model parameters.\n",
        "* Graident descent - Taking a step in the direction opposite to the gradients to make the model parameters a little bit better. \n",
        "* Learning rate - The size of the step we take when applying SGD to the update parameters of the model. "
      ],
      "metadata": {
        "id": "EYkmxBJ_x__n"
      }
    },
    {
      "cell_type": "markdown",
      "source": [
        "## Questionnaire"
      ],
      "metadata": {
        "id": "5JvEPapS0E6l"
      }
    },
    {
      "cell_type": "markdown",
      "source": [
        "1: How is a grayscale image represented on a computer? How about a color image?"
      ],
      "metadata": {
        "id": "p8QX3JRA0JkA"
      }
    },
    {
      "cell_type": "markdown",
      "source": [
        ""
      ],
      "metadata": {
        "id": "YW2waAK41sEq"
      }
    },
    {
      "cell_type": "markdown",
      "source": [
        "2: How are the files and folders in the MNIST_SAMPLE dataset structured? Why?"
      ],
      "metadata": {
        "id": "W0801ySc0U5A"
      }
    },
    {
      "cell_type": "markdown",
      "source": [
        ">The folders are seperated into labels, for both training and validation. The training set is used by the model to learn the weights and bias. This is the information that the model is built using. The validation or testing set is data that the model should have never seen before and will test the model to ensure its preforming accuratly.  The best method is to actually use 3 data sets, Training Validation and Testing. Where training is used to train the model, validation is used to improve the model... and testing is the final dataset that the model should never be trained on in any way but simply ran against. "
      ],
      "metadata": {
        "id": "bVer6NqL18d9"
      }
    },
    {
      "cell_type": "markdown",
      "source": [
        "3: Explain how the \"pixel similarity\" approach to classifying digits works."
      ],
      "metadata": {
        "id": "lmFxx95F0bFg"
      }
    },
    {
      "cell_type": "markdown",
      "source": [
        "> Pixel similarity works by taking the average of all the training data images to create \"ideal\" mappings of 3's and 7s.  Once it has this image of an ideal digit it can then take any new digit and compare its pixels to the ideal image and calculate the distance between the ideal image and the image presented.  "
      ],
      "metadata": {
        "id": "k_p53QOj2uxo"
      }
    },
    {
      "cell_type": "markdown",
      "source": [
        "4: What is a list comprehension? Create one now that selects odd numbers from a list and doubles them."
      ],
      "metadata": {
        "id": "uoIlHiW30enj"
      }
    },
    {
      "cell_type": "markdown",
      "source": [
        "> List comprehension is a useful way to unpack lists with specific filtering. The syntax for list comprehension makes it all make sense.  \n",
        ">\n",
        "> new_list = [ *expression* for *item* in *iterable* if *condition* == True]\n",
        ">\n",
        "> The *expression* is the current iteration element, and the outcome. For example you can have a function that returns something as an expression, or you may simply mutiply the results as i did in the example below. \n",
        ">\n",
        ">Each loop an *item* in an *iterable* is checked against the *condition* (which should be a simple boolean operation) and if the condition is passed, the *expression* is executed. \n",
        ">\n",
        ">Here is the question example. \n",
        "\n"
      ],
      "metadata": {
        "id": "iWZzJIUU6q4Q"
      }
    },
    {
      "cell_type": "code",
      "source": [
        "test_list = list(range(20))\n",
        "odd_list = [o*2 for o in test_list if not o % 2 == 0]"
      ],
      "metadata": {
        "id": "JdBGd1ey4ctf"
      },
      "execution_count": 136,
      "outputs": []
    },
    {
      "cell_type": "code",
      "source": [
        "test_list"
      ],
      "metadata": {
        "colab": {
          "base_uri": "https://localhost:8080/"
        },
        "id": "ap91-mDY5mqR",
        "outputId": "a4e58016-faf3-41ed-9d78-a7a9515e667c"
      },
      "execution_count": 137,
      "outputs": [
        {
          "output_type": "execute_result",
          "data": {
            "text/plain": [
              "[0, 1, 2, 3, 4, 5, 6, 7, 8, 9, 10, 11, 12, 13, 14, 15, 16, 17, 18, 19]"
            ]
          },
          "metadata": {},
          "execution_count": 137
        }
      ]
    },
    {
      "cell_type": "code",
      "source": [
        "odd_list"
      ],
      "metadata": {
        "colab": {
          "base_uri": "https://localhost:8080/"
        },
        "id": "T6XrtTke5rFh",
        "outputId": "a1139f0d-a68e-4181-97a6-9c1de0039b15"
      },
      "execution_count": 138,
      "outputs": [
        {
          "output_type": "execute_result",
          "data": {
            "text/plain": [
              "[2, 6, 10, 14, 18, 22, 26, 30, 34, 38]"
            ]
          },
          "metadata": {},
          "execution_count": 138
        }
      ]
    },
    {
      "cell_type": "markdown",
      "source": [
        "5: What is a \"rank-3 tensor\"?"
      ],
      "metadata": {
        "id": "PBZnUQNk0jBT"
      }
    },
    {
      "cell_type": "markdown",
      "source": [
        ">A rank 3 tensor is a tensor with 3 dimensions. "
      ],
      "metadata": {
        "id": "QFb15SXD0m7U"
      }
    },
    {
      "cell_type": "code",
      "source": [
        "rnk3 = tensor(\n",
        "    [\n",
        "     [\n",
        "      [0,1,2],[3,4,5]\n",
        "      ],\n",
        "     [\n",
        "      [6,7,8],[9,10,11]\n",
        "      ]\n",
        "    ]\n",
        "  )\n",
        "rnk3.ndim"
      ],
      "metadata": {
        "colab": {
          "base_uri": "https://localhost:8080/"
        },
        "id": "SkpeZran_ONU",
        "outputId": "7e612e1a-4442-4d68-cff5-873dd2bde766"
      },
      "execution_count": 139,
      "outputs": [
        {
          "output_type": "execute_result",
          "data": {
            "text/plain": [
              "3"
            ]
          },
          "metadata": {},
          "execution_count": 139
        }
      ]
    },
    {
      "cell_type": "code",
      "source": [
        "rnk3[1][0][2]"
      ],
      "metadata": {
        "colab": {
          "base_uri": "https://localhost:8080/"
        },
        "id": "7i0BXdBJAdm1",
        "outputId": "dd17ff28-f1ab-4fcc-f46b-a54aa6661125"
      },
      "execution_count": 140,
      "outputs": [
        {
          "output_type": "execute_result",
          "data": {
            "text/plain": [
              "tensor(8)"
            ]
          },
          "metadata": {},
          "execution_count": 140
        }
      ]
    },
    {
      "cell_type": "markdown",
      "source": [
        "6: What is the difference between tensor rank and shape? How do you get the rank from the shape?"
      ],
      "metadata": {
        "id": "JTQqoklN0naI"
      }
    },
    {
      "cell_type": "markdown",
      "source": [
        "> **Rank** is the number of axes or dimensions in a tensor\n",
        ">\n",
        ">**Shape** is the size of each axis of a tensor\n",
        ">\n",
        ">The `len(tensor.shape)` is its rank. However it is just as easy to use `tensor.ndim` to get a tensors rank. \n"
      ],
      "metadata": {
        "id": "mYF_4jD_9m0F"
      }
    },
    {
      "cell_type": "markdown",
      "source": [
        "7: What are RMSE and L1 norm?"
      ],
      "metadata": {
        "id": "lycCR47b0ooU"
      }
    },
    {
      "cell_type": "markdown",
      "source": [
        "> RMSE and L1 norm are functions used to determine the distance from our ideal version of a 3. They work like this...\n",
        ">\n",
        "> * Mean absolute difference (L1 Norm) - Is the mean of the absolute value of the differences.\n",
        ">\n",
        "> * Root Mean Squared Error - Take the mean of the square of differences (which makes everything positive) and then take the square root (which undoes the squaring). Also called L2 Norm. \n",
        "\n"
      ],
      "metadata": {
        "id": "veDiGZ1tETKX"
      }
    },
    {
      "cell_type": "markdown",
      "source": [
        "8: How can you apply a calculation on thousands of numbers at once, many thousands of times faster than a Python loop?"
      ],
      "metadata": {
        "id": "Ol0ByyWo0pYR"
      }
    },
    {
      "cell_type": "markdown",
      "source": [
        "> You would use the broadcasting ability of tensors. When doing calculations on a tensors of differnt ranks, pytorch will do some fancy math in the background and extend the smaller tensor to be the same size as the larger tensor, with our using addtional memory space. This allows those calculations to be ran on the GPU much faster. "
      ],
      "metadata": {
        "id": "qNbIROpZMV5-"
      }
    },
    {
      "cell_type": "markdown",
      "source": [
        "9: Create a 3×3 tensor or array containing the numbers from 1 to 9. Double it. Select the bottom-right four numbers."
      ],
      "metadata": {
        "id": "CGW1kvqD1CY-"
      }
    },
    {
      "cell_type": "code",
      "source": [
        "\n",
        "test_nine = tensor([\n",
        "                    [[1],[2],[3]],\n",
        "                    [[4],[5],[6]],\n",
        "                    [[7],[8],[9]]\n",
        "                    ])\n",
        "test_nine.ndim"
      ],
      "metadata": {
        "colab": {
          "base_uri": "https://localhost:8080/"
        },
        "id": "OodgZNmqOjv_",
        "outputId": "089a0aa0-a834-453c-cdbc-88b040a5aa86"
      },
      "execution_count": 141,
      "outputs": [
        {
          "output_type": "execute_result",
          "data": {
            "text/plain": [
              "3"
            ]
          },
          "metadata": {},
          "execution_count": 141
        }
      ]
    },
    {
      "cell_type": "code",
      "source": [
        "test_nine = test_nine * 2\n",
        "test_nine"
      ],
      "metadata": {
        "colab": {
          "base_uri": "https://localhost:8080/"
        },
        "id": "37p0lYxEQnEb",
        "outputId": "b8b36e16-56a7-4e59-c1ff-2a04bf6975ee"
      },
      "execution_count": 142,
      "outputs": [
        {
          "output_type": "execute_result",
          "data": {
            "text/plain": [
              "tensor([[[ 2],\n",
              "         [ 4],\n",
              "         [ 6]],\n",
              "\n",
              "        [[ 8],\n",
              "         [10],\n",
              "         [12]],\n",
              "\n",
              "        [[14],\n",
              "         [16],\n",
              "         [18]]])"
            ]
          },
          "metadata": {},
          "execution_count": 142
        }
      ]
    },
    {
      "cell_type": "code",
      "source": [
        "test_nine[1:3,1:3]"
      ],
      "metadata": {
        "colab": {
          "base_uri": "https://localhost:8080/"
        },
        "id": "if6pCc9CPO-4",
        "outputId": "0f0605bf-3316-4302-f6a5-52ab238790d7"
      },
      "execution_count": 143,
      "outputs": [
        {
          "output_type": "execute_result",
          "data": {
            "text/plain": [
              "tensor([[[10],\n",
              "         [12]],\n",
              "\n",
              "        [[16],\n",
              "         [18]]])"
            ]
          },
          "metadata": {},
          "execution_count": 143
        }
      ]
    },
    {
      "cell_type": "code",
      "source": [
        ""
      ],
      "metadata": {
        "id": "-5Gc6MtLQg7f"
      },
      "execution_count": 143,
      "outputs": []
    },
    {
      "cell_type": "markdown",
      "source": [
        "10: What is broadcasting?"
      ],
      "metadata": {
        "id": "Yw7KhTQX1FCI"
      }
    },
    {
      "cell_type": "markdown",
      "source": [
        "> When doing calculations on a tensors of differnt ranks, pytorch will do some fancy math in the background and extend the smaller tensor to be the same size as the larger tensor, with our using addtional memory space. This allows those calculations to be ran on the GPU much faster."
      ],
      "metadata": {
        "id": "4_EOAoDtSK_g"
      }
    },
    {
      "cell_type": "markdown",
      "source": [
        "11: Are metrics generally calculated using the training set, or the validation set? Why?"
      ],
      "metadata": {
        "id": "ugvWwJ4L1IIa"
      }
    },
    {
      "cell_type": "markdown",
      "source": [
        ">Metrics are calculated using the validation set, because this is the set of data is has never seen. Other wise the model could just be memorizing the dataset (overfitting)."
      ],
      "metadata": {
        "id": "daRqQZkpgqk5"
      }
    },
    {
      "cell_type": "markdown",
      "source": [
        "12: What is SGD?"
      ],
      "metadata": {
        "id": "osazn5cV1Kdy"
      }
    },
    {
      "cell_type": "markdown",
      "source": [
        ">Stochastic Gradient Descent is the method used to learn. That is, it is how we calculate the changes to the weights and bias automatically every epoch. "
      ],
      "metadata": {
        "id": "u7QUJRTcg4bU"
      }
    },
    {
      "cell_type": "markdown",
      "source": [
        "13: Why does SGD use mini-batches?"
      ],
      "metadata": {
        "id": "npOr9R1l1MvY"
      }
    },
    {
      "cell_type": "markdown",
      "source": [
        ">Because calculating the gradients for every single item in a dataset takes a lot of time and produces jagged gradients that may jump around."
      ],
      "metadata": {
        "id": "g9iLVwKqik6K"
      }
    },
    {
      "cell_type": "markdown",
      "source": [
        "14: What are the seven steps in SGD for machine learning?"
      ],
      "metadata": {
        "id": "wz6t8F0B1QIU"
      }
    },
    {
      "cell_type": "markdown",
      "source": [
        ">1.   Initialize the parameters \n",
        "2.   Calculate the predictions\n",
        "3.   Calculate the loss\n",
        "4.   Calculate the gradients\n",
        "5.   Step the weights\n",
        "6.   Repeat the process\n",
        "7.   Stop.\n",
        "\n"
      ],
      "metadata": {
        "id": "DSVZxTe2i_3V"
      }
    },
    {
      "cell_type": "markdown",
      "source": [
        "15: How do we initialize the weights in a model?"
      ],
      "metadata": {
        "id": "56fZLD1B1SOy"
      }
    },
    {
      "cell_type": "markdown",
      "source": [
        ">We can typically assign them random values. As they will start to get better nearly immediately. "
      ],
      "metadata": {
        "id": "V44loHBBjfuZ"
      }
    },
    {
      "cell_type": "markdown",
      "source": [
        "16: What is \"loss\"?"
      ],
      "metadata": {
        "id": "9m2MYEzC1YjD"
      }
    },
    {
      "cell_type": "markdown",
      "source": [
        ">Loss is a value that represnets how our model is doing. It is calculated using the distance between the prediction, and the actual value on the training set. Then its procesed using some activation function such as ReLU. "
      ],
      "metadata": {
        "id": "GUNny4CVjsgy"
      }
    },
    {
      "cell_type": "markdown",
      "source": [
        "17: Why can't we always use a high learning rate?"
      ],
      "metadata": {
        "id": "F2C4DMOC1a9q"
      }
    },
    {
      "cell_type": "markdown",
      "source": [
        ">Using a high learning rate would potentially leading to the training failing to diverge, or could cause the loss to go up.    "
      ],
      "metadata": {
        "id": "UnetZVEZkjSS"
      }
    },
    {
      "cell_type": "markdown",
      "source": [
        "18: What is a \"gradient\"?"
      ],
      "metadata": {
        "id": "GXN8iSWV1eBo"
      }
    },
    {
      "cell_type": "markdown",
      "source": [
        ">The gradient is defined as the rise/run - that is the change in the value of the function divided by the change in the value of the parameter. Its what we use to determine the amount we need to change the weights and bias by. The actual value is a derivative of the loss.\n"
      ],
      "metadata": {
        "id": "hoYmLfm-y5ZQ"
      }
    },
    {
      "cell_type": "markdown",
      "source": [
        "19: Do you need to know how to calculate gradients yourself?"
      ],
      "metadata": {
        "id": "fRFCo2fS1hcf"
      }
    },
    {
      "cell_type": "markdown",
      "source": [
        ">No, but it does help."
      ],
      "metadata": {
        "id": "6zlTTDZW4lcB"
      }
    },
    {
      "cell_type": "markdown",
      "source": [
        "20: Why can't we use accuracy as a loss function?"
      ],
      "metadata": {
        "id": "CDQu0O0g1jv8"
      }
    },
    {
      "cell_type": "markdown",
      "source": [
        "Using accuracry as a loss function doesnt work because a small change in weights in bias may not nessicarly show any change in accuracy. Mathmatically - Accuracy is a function that is constant almost everywhere (except at the threshold, 0.5), so its derivative is nil almost everywhere (and infinity at the threshold). This produces graidents that are then either 0 or infinity. "
      ],
      "metadata": {
        "id": "KeSkoUB65A3l"
      }
    },
    {
      "cell_type": "markdown",
      "source": [
        "21: Draw the sigmoid function. What is special about its shape?"
      ],
      "metadata": {
        "id": "q69-7Uiz1mS0"
      }
    },
    {
      "cell_type": "code",
      "source": [
        "plot_function(torch.sigmoid, min=-6, max=6)"
      ],
      "metadata": {
        "colab": {
          "base_uri": "https://localhost:8080/",
          "height": 268
        },
        "id": "Nl52X-906I4S",
        "outputId": "977f521c-1373-4f06-8f64-d9dd56b26477"
      },
      "execution_count": 161,
      "outputs": [
        {
          "output_type": "display_data",
          "data": {
            "image/png": "[encoded data removed]",
            "text/plain": [
              "<Figure size 432x288 with 1 Axes>"
            ]
          },
          "metadata": {
            "needs_background": "light"
          }
        }
      ]
    },
    {
      "cell_type": "markdown",
      "source": [
        ">The sigmoid takes makes negative numbers 0 and positive numbers 1, and it does it in a smooth gradient. "
      ],
      "metadata": {
        "id": "j3RH7B-wOsdZ"
      }
    },
    {
      "cell_type": "markdown",
      "source": [
        "22: What is the difference between a loss function and a metric?"
      ],
      "metadata": {
        "id": "0GmDnRwv1pPY"
      }
    },
    {
      "cell_type": "markdown",
      "source": [
        ">A metric is a human significant thing that gauages the performance of our model, the loss function must have a meaninful derivative to drive automated learning. This derivative the loss function creates generates the gradients required to adjust our weights and bias. The weights and bias testing on the validation data will show us our accuracy which is a human readable metric. "
      ],
      "metadata": {
        "id": "MGxXBVXgRafV"
      }
    },
    {
      "cell_type": "markdown",
      "source": [
        "23: What is the function to calculate new weights using a learning rate?"
      ],
      "metadata": {
        "id": "Gh6m_Ctu1qqq"
      }
    },
    {
      "cell_type": "markdown",
      "source": [
        "Stochastic Gradient Descent - `SGD(linear_model.parameters(), lr)`"
      ],
      "metadata": {
        "id": "N2mUoflOUPkC"
      }
    },
    {
      "cell_type": "markdown",
      "source": [
        "24: What does the DataLoader class do?"
      ],
      "metadata": {
        "id": "LyYIIlzx1tow"
      }
    },
    {
      "cell_type": "markdown",
      "source": [
        "25: Write pseudocode showing the basic steps taken in each epoch for SGD."
      ],
      "metadata": {
        "id": "4AhW0VYm1vyU"
      }
    },
    {
      "cell_type": "markdown",
      "source": [
        "26: Create a function that, if passed two arguments [1,2,3,4] and 'abcd', returns [(1, 'a'), (2, 'b'), (3, 'c'), (4, 'd')]. What is special about that output data structure?"
      ],
      "metadata": {
        "id": "KeX6dHZ21yoH"
      }
    },
    {
      "cell_type": "markdown",
      "source": [
        "27: What does view do in PyTorch?"
      ],
      "metadata": {
        "id": "X-IUO5iK114q"
      }
    },
    {
      "cell_type": "markdown",
      "source": [
        "28: What are the \"bias\" parameters in a neural network? Why do we need them?"
      ],
      "metadata": {
        "id": "1cfU_O8M143o"
      }
    },
    {
      "cell_type": "markdown",
      "source": [
        "29: What does the @ operator do in Python?"
      ],
      "metadata": {
        "id": "ywilpPZL17B5"
      }
    },
    {
      "cell_type": "markdown",
      "source": [
        ">Matrix Mutplication"
      ],
      "metadata": {
        "id": "g3Nlfnm-19Xs"
      }
    },
    {
      "cell_type": "markdown",
      "source": [
        "30: What does the backward method do?"
      ],
      "metadata": {
        "id": "zpLilBv71_xr"
      }
    },
    {
      "cell_type": "markdown",
      "source": [
        "31: Why do we have to zero the gradients?"
      ],
      "metadata": {
        "id": "9227ekVK2FD-"
      }
    },
    {
      "cell_type": "markdown",
      "source": [
        "32: What information do we have to pass to Learner?"
      ],
      "metadata": {
        "id": "0GgNcG-Z2GZ7"
      }
    },
    {
      "cell_type": "markdown",
      "source": [
        "33: Show Python or pseudocode for the basic steps of a training loop."
      ],
      "metadata": {
        "id": "axhlS42R2I-z"
      }
    },
    {
      "cell_type": "markdown",
      "source": [
        "34: What is \"ReLU\"? Draw a plot of it for values from -2 to +2"
      ],
      "metadata": {
        "id": "1s2wDfSG2L9U"
      }
    },
    {
      "cell_type": "markdown",
      "source": [
        "35: What is an \"activation function\"?"
      ],
      "metadata": {
        "id": "1ZNuIHbV2QVL"
      }
    },
    {
      "cell_type": "markdown",
      "source": [
        "36: What's the difference between F.relu and nn.ReLU?"
      ],
      "metadata": {
        "id": "3k_3BgHb2S0v"
      }
    },
    {
      "cell_type": "markdown",
      "source": [
        "37: The universal approximation theorem shows that any function can be approximated as closely as needed using just one nonlinearity. So why do we normally use more?"
      ],
      "metadata": {
        "id": "eIGWtFGR2U1l"
      }
    },
    {
      "cell_type": "markdown",
      "source": [
        "## Furthur Research"
      ],
      "metadata": {
        "id": "V6op9NLz3HIo"
      }
    },
    {
      "cell_type": "markdown",
      "source": [
        "1: Create your own implementation of Learner from scratch, based on the training loop shown in this chapter."
      ],
      "metadata": {
        "id": "pVFt20T_3KUd"
      }
    },
    {
      "cell_type": "markdown",
      "source": [
        "Link to notebook: "
      ],
      "metadata": {
        "id": "wxOsiQot3Nx-"
      }
    },
    {
      "cell_type": "markdown",
      "source": [
        "2: Complete **all the steps** in this chapter using the full MNIST datasets (that is, for all digits, not just 3s and 7s). This is a significant project and will take you quite a bit of time to complete!"
      ],
      "metadata": {
        "id": "Zqk-PDF43P9O"
      }
    },
    {
      "cell_type": "markdown",
      "source": [
        "Link to notebook: "
      ],
      "metadata": {
        "id": "LgwI8aJ_3z8G"
      }
    }
  ]
}