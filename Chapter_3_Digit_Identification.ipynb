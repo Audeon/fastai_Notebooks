{
  "nbformat": 4,
  "nbformat_minor": 0,
  "metadata": {
    "colab": {
      "name": "Chapter 3 - Digit Identification",
      "provenance": [],
      "collapsed_sections": [],
      "authorship_tag": "ABX9TyOP8UbFJshfkWZGRZFQbMDV",
      "include_colab_link": true
    },
    "kernelspec": {
      "name": "python3",
      "display_name": "Python 3"
    },
    "language_info": {
      "name": "python"
    },
    "accelerator": "GPU"
  },
  "cells": [
    {
      "cell_type": "markdown",
      "metadata": {
        "id": "view-in-github",
        "colab_type": "text"
      },
      "source": [
        "<a href=\"https://colab.research.google.com/github/Audeon/fastai_Notebooks/blob/main/Chapter_3_Digit_Identification.ipynb\" target=\"_parent\"><img src=\"https://colab.research.google.com/assets/colab-badge.svg\" alt=\"Open In Colab\"/></a>"
      ]
    },
    {
      "cell_type": "markdown",
      "source": [
        "# Digit identification project"
      ],
      "metadata": {
        "id": "cGL_Ru7hO0cE"
      }
    },
    {
      "cell_type": "markdown",
      "source": [
        "In this project we are going to use basic digit identification of 3, and 7. We will use the MNIST dataset in this case. \n",
        "\n",
        "I have split the notbook up into sections to make it easier for me to reference in the future. This doesnt really refelct the breakup in the book. Covers points i find most useful."
      ],
      "metadata": {
        "id": "4ra6jlv5vOcg"
      }
    },
    {
      "cell_type": "markdown",
      "source": [
        "# Imports"
      ],
      "metadata": {
        "id": "hRn8P0nbOvoP"
      }
    },
    {
      "cell_type": "code",
      "execution_count": 42,
      "metadata": {
        "id": "DIpVE9TlubTe"
      },
      "outputs": [],
      "source": [
        "!pip install -q fastai --upgrade\n",
        "!pip install -q fastbook --upgrade"
      ]
    },
    {
      "cell_type": "code",
      "source": [
        "from fastbook import *\n",
        "from fastai import *\n",
        "from fastai.vision.all import *\n"
      ],
      "metadata": {
        "id": "eM-8mku7uxdu"
      },
      "execution_count": 110,
      "outputs": []
    },
    {
      "cell_type": "markdown",
      "source": [
        "# Getting the MNIST dataset and turning it into tensors\n",
        "In this section we are going to get the MNIST dataset, do some experimenting on it, including turning them into tensors and visualizing those tensors the way the computer does.\n",
        "\n",
        "First we will get the MNIST dataset and untar it into the path variable."
      ],
      "metadata": {
        "id": "3yBWXyWrOGXR"
      }
    },
    {
      "cell_type": "code",
      "source": [
        "path = untar_data(URLs.MNIST)"
      ],
      "metadata": {
        "id": "t8Yy7fgd00kn"
      },
      "execution_count": 44,
      "outputs": []
    },
    {
      "cell_type": "markdown",
      "source": [
        "We can use the LS command with any paths we create using untar to see what is in that directory. We can also view the subdirectories, as seen in the second block of code here."
      ],
      "metadata": {
        "id": "_HzQmCIIwBbz"
      }
    },
    {
      "cell_type": "code",
      "source": [
        " path.ls()"
      ],
      "metadata": {
        "colab": {
          "base_uri": "https://localhost:8080/"
        },
        "id": "MgccgcB8v1Y0",
        "outputId": "5f656c4c-0f82-46d1-e976-75a917e8e27a"
      },
      "execution_count": 45,
      "outputs": [
        {
          "output_type": "execute_result",
          "data": {
            "text/plain": [
              "(#2) [Path('/root/.fastai/data/mnist_png/training'),Path('/root/.fastai/data/mnist_png/testing')]"
            ]
          },
          "metadata": {},
          "execution_count": 45
        }
      ]
    },
    {
      "cell_type": "code",
      "source": [
        "sevens = (path/'training'/'7').ls().sorted()\n",
        "threes = (path/'training'/'3').ls().sorted()"
      ],
      "metadata": {
        "id": "BD20G9hIwOFl"
      },
      "execution_count": 46,
      "outputs": []
    },
    {
      "cell_type": "markdown",
      "source": [
        "Now that we have all of the datasets untarred and in useful arrays lets work display a few of them."
      ],
      "metadata": {
        "id": "Tp4xQYJg7JEW"
      }
    },
    {
      "cell_type": "code",
      "source": [
        "img3_path = threes[242]\n",
        "im3 = Image.open(img3_path)\n",
        "im3"
      ],
      "metadata": {
        "colab": {
          "base_uri": "https://localhost:8080/",
          "height": 45
        },
        "id": "Zy34hPDJ64NU",
        "outputId": "dc5adecb-85e6-46db-f96d-186bb9b24534"
      },
      "execution_count": 47,
      "outputs": [
        {
          "output_type": "execute_result",
          "data": {
            "image/png": "[encoded data removed]",
            "text/plain": [
              "<PIL.PngImagePlugin.PngImageFile image mode=L size=28x28 at 0x7F32D1D3B950>"
            ]
          },
          "metadata": {},
          "execution_count": 47
        }
      ]
    },
    {
      "cell_type": "code",
      "source": [
        "img3_path = threes[1]\n",
        "im3 = Image.open(img3_path)\n",
        "im3"
      ],
      "metadata": {
        "colab": {
          "base_uri": "https://localhost:8080/",
          "height": 45
        },
        "id": "IftHyPVt7RGS",
        "outputId": "b565bab9-b71b-4f66-f373-27b4c9cb09e0"
      },
      "execution_count": 48,
      "outputs": [
        {
          "output_type": "execute_result",
          "data": {
            "image/png": "[encoded data removed]",
            "text/plain": [
              "<PIL.PngImagePlugin.PngImageFile image mode=L size=28x28 at 0x7F32D159F410>"
            ]
          },
          "metadata": {},
          "execution_count": 48
        }
      ]
    },
    {
      "cell_type": "markdown",
      "source": [
        "For us to do any work on the images of course they need to be converted to a tensor or an array. Here we have an example of each. Notice in the second example we used the 4:10 to indicate we want rows from indext 4 to index 10 and the same for the columns. "
      ],
      "metadata": {
        "id": "lK1DS9km9CrH"
      }
    },
    {
      "cell_type": "code",
      "source": [
        "array(im3)"
      ],
      "metadata": {
        "colab": {
          "base_uri": "https://localhost:8080/"
        },
        "id": "8Z4JPCf09Vh0",
        "outputId": "b5a781b3-8acc-456a-83ca-ee534ae1e44d"
      },
      "execution_count": 49,
      "outputs": [
        {
          "output_type": "execute_result",
          "data": {
            "text/plain": [
              "array([[  0,   0,   0,   0,   0,   0,   0,   0,   0,   0,   0,   0,   0,   0,   0,   0,   0,   0,   0,   0,   0,   0,   0,   0,   0,   0,   0,   0],\n",
              "       [  0,   0,   0,   0,   0,   0,   0,   0,   0,   0,   0,   0,   0,   0,   0,   0,   0,   0,   0,   0,   0,   0,   0,   0,   0,   0,   0,   0],\n",
              "       [  0,   0,   0,   0,   0,   0,   0,   0,   0,   0,   0,   0,   0,   0,   0,   0,   0,   0,   0,   0,   0,   0,   0,   0,   0,   0,   0,   0],\n",
              "       [  0,   0,   0,   0,   0,   0,   0,   0,   0,   0,   0,   0,   0,   0,   0,   0,   0,   0,   0,   0,   0,   0,   0,   0,   0,   0,   0,   0],\n",
              "       [  0,   0,   0,   0,   0,   0,   0,   0,   0,   0,   0,   0,   0,   0,   0,   0,   0,   0,   0,   0,   0,   0,   0,   0,   0,   0,   0,   0],\n",
              "       [  0,   0,   0,   0,   0,   0,   0,   0,   0,  29, 150, 195, 254, 255, 254, 176, 193, 150,  96,   0,   0,   0,   0,   0,   0,   0,   0,   0],\n",
              "       [  0,   0,   0,   0,   0,   0,   0,  48, 166, 224, 253, 253, 234, 196, 253, 253, 253, 253, 233,   0,   0,   0,   0,   0,   0,   0,   0,   0],\n",
              "       [  0,   0,   0,   0,   0,  93, 244, 249, 253, 187,  46,  10,   8,   4,  10, 194, 253, 253, 233,   0,   0,   0,   0,   0,   0,   0,   0,   0],\n",
              "       [  0,   0,   0,   0,   0, 107, 253, 253, 230,  48,   0,   0,   0,   0,   0, 192, 253, 253, 156,   0,   0,   0,   0,   0,   0,   0,   0,   0],\n",
              "       [  0,   0,   0,   0,   0,   3,  20,  20,  15,   0,   0,   0,   0,   0,  43, 224, 253, 245,  74,   0,   0,   0,   0,   0,   0,   0,   0,   0],\n",
              "       [  0,   0,   0,   0,   0,   0,   0,   0,   0,   0,   0,   0,   0,   0, 249, 253, 245, 126,   0,   0,   0,   0,   0,   0,   0,   0,   0,   0],\n",
              "       [  0,   0,   0,   0,   0,   0,   0,   0,   0,   0,   0,  14, 101, 223, 253, 248, 124,   0,   0,   0,   0,   0,   0,   0,   0,   0,   0,   0],\n",
              "       [  0,   0,   0,   0,   0,   0,   0,   0,   0,  11, 166, 239, 253, 253, 253, 187,  30,   0,   0,   0,   0,   0,   0,   0,   0,   0,   0,   0],\n",
              "       [  0,   0,   0,   0,   0,   0,   0,   0,   0,  16, 248, 250, 253, 253, 253, 253, 232, 213, 111,   2,   0,   0,   0,   0,   0,   0,   0,   0],\n",
              "       [  0,   0,   0,   0,   0,   0,   0,   0,   0,   0,   0,  43,  98,  98, 208, 253, 253, 253, 253, 187,  22,   0,   0,   0,   0,   0,   0,   0],\n",
              "       [  0,   0,   0,   0,   0,   0,   0,   0,   0,   0,   0,   0,   0,   0,   9,  51, 119, 253, 253, 253,  76,   0,   0,   0,   0,   0,   0,   0],\n",
              "       [  0,   0,   0,   0,   0,   0,   0,   0,   0,   0,   0,   0,   0,   0,   0,   0,   1, 183, 253, 253, 139,   0,   0,   0,   0,   0,   0,   0],\n",
              "       [  0,   0,   0,   0,   0,   0,   0,   0,   0,   0,   0,   0,   0,   0,   0,   0,   0, 182, 253, 253, 104,   0,   0,   0,   0,   0,   0,   0],\n",
              "       [  0,   0,   0,   0,   0,   0,   0,   0,   0,   0,   0,   0,   0,   0,   0,   0,  85, 249, 253, 253,  36,   0,   0,   0,   0,   0,   0,   0],\n",
              "       [  0,   0,   0,   0,   0,   0,   0,   0,   0,   0,   0,   0,   0,   0,   0,  60, 214, 253, 253, 173,  11,   0,   0,   0,   0,   0,   0,   0],\n",
              "       [  0,   0,   0,   0,   0,   0,   0,   0,   0,   0,   0,   0,   0,   0,  98, 247, 253, 253, 226,   9,   0,   0,   0,   0,   0,   0,   0,   0],\n",
              "       [  0,   0,   0,   0,   0,   0,   0,   0,   0,   0,   0,   0,  42, 150, 252, 253, 253, 233,  53,   0,   0,   0,   0,   0,   0,   0,   0,   0],\n",
              "       [  0,   0,   0,   0,   0,   0,  42, 115,  42,  60, 115, 159, 240, 253, 253, 250, 175,  25,   0,   0,   0,   0,   0,   0,   0,   0,   0,   0],\n",
              "       [  0,   0,   0,   0,   0,   0, 187, 253, 253, 253, 253, 253, 253, 253, 197,  86,   0,   0,   0,   0,   0,   0,   0,   0,   0,   0,   0,   0],\n",
              "       [  0,   0,   0,   0,   0,   0, 103, 253, 253, 253, 253, 253, 232,  67,   1,   0,   0,   0,   0,   0,   0,   0,   0,   0,   0,   0,   0,   0],\n",
              "       [  0,   0,   0,   0,   0,   0,   0,   0,   0,   0,   0,   0,   0,   0,   0,   0,   0,   0,   0,   0,   0,   0,   0,   0,   0,   0,   0,   0],\n",
              "       [  0,   0,   0,   0,   0,   0,   0,   0,   0,   0,   0,   0,   0,   0,   0,   0,   0,   0,   0,   0,   0,   0,   0,   0,   0,   0,   0,   0],\n",
              "       [  0,   0,   0,   0,   0,   0,   0,   0,   0,   0,   0,   0,   0,   0,   0,   0,   0,   0,   0,   0,   0,   0,   0,   0,   0,   0,   0,   0]], dtype=uint8)"
            ]
          },
          "metadata": {},
          "execution_count": 49
        }
      ]
    },
    {
      "cell_type": "code",
      "source": [
        "tensor(im3)[4:15, 4:22]"
      ],
      "metadata": {
        "colab": {
          "base_uri": "https://localhost:8080/"
        },
        "id": "ImbjE5bk9aJs",
        "outputId": "9a0673ee-1e61-41bc-ef59-b3bf039d6359"
      },
      "execution_count": 50,
      "outputs": [
        {
          "output_type": "execute_result",
          "data": {
            "text/plain": [
              "tensor([[  0,   0,   0,   0,   0,   0,   0,   0,   0,   0,   0,   0,   0,   0,   0,   0,   0,   0],\n",
              "        [  0,   0,   0,   0,   0,  29, 150, 195, 254, 255, 254, 176, 193, 150,  96,   0,   0,   0],\n",
              "        [  0,   0,   0,  48, 166, 224, 253, 253, 234, 196, 253, 253, 253, 253, 233,   0,   0,   0],\n",
              "        [  0,  93, 244, 249, 253, 187,  46,  10,   8,   4,  10, 194, 253, 253, 233,   0,   0,   0],\n",
              "        [  0, 107, 253, 253, 230,  48,   0,   0,   0,   0,   0, 192, 253, 253, 156,   0,   0,   0],\n",
              "        [  0,   3,  20,  20,  15,   0,   0,   0,   0,   0,  43, 224, 253, 245,  74,   0,   0,   0],\n",
              "        [  0,   0,   0,   0,   0,   0,   0,   0,   0,   0, 249, 253, 245, 126,   0,   0,   0,   0],\n",
              "        [  0,   0,   0,   0,   0,   0,   0,  14, 101, 223, 253, 248, 124,   0,   0,   0,   0,   0],\n",
              "        [  0,   0,   0,   0,   0,  11, 166, 239, 253, 253, 253, 187,  30,   0,   0,   0,   0,   0],\n",
              "        [  0,   0,   0,   0,   0,  16, 248, 250, 253, 253, 253, 253, 232, 213, 111,   2,   0,   0],\n",
              "        [  0,   0,   0,   0,   0,   0,   0,  43,  98,  98, 208, 253, 253, 253, 253, 187,  22,   0]], dtype=torch.uint8)"
            ]
          },
          "metadata": {},
          "execution_count": 50
        }
      ]
    },
    {
      "cell_type": "markdown",
      "source": [
        "We can use panads Dataframe to color code each of the tensor cells on a gradiant. "
      ],
      "metadata": {
        "id": "d7tM1HrS9-lW"
      }
    },
    {
      "cell_type": "code",
      "source": [
        "im3_t = tensor(im3)\n",
        "df = pd.DataFrame(im3_t[4:15,4:22])\n",
        "df.style.set_properties(**{'font-size': '6pt'}).background_gradient('Greys')"
      ],
      "metadata": {
        "colab": {
          "base_uri": "https://localhost:8080/",
          "height": 394
        },
        "id": "sMSSLL3I-O07",
        "outputId": "358082bb-d4ac-44da-b78f-829fcae1eb52"
      },
      "execution_count": 51,
      "outputs": [
        {
          "output_type": "execute_result",
          "data": {
            "text/html": [
              "<style type=\"text/css\">\n",
              "#T_75631_row0_col0, #T_75631_row0_col1, #T_75631_row0_col2, #T_75631_row0_col3, #T_75631_row0_col4, #T_75631_row0_col5, #T_75631_row0_col6, #T_75631_row0_col7, #T_75631_row0_col8, #T_75631_row0_col9, #T_75631_row0_col10, #T_75631_row0_col11, #T_75631_row0_col12, #T_75631_row0_col13, #T_75631_row0_col14, #T_75631_row0_col15, #T_75631_row0_col16, #T_75631_row0_col17, #T_75631_row1_col0, #T_75631_row1_col1, #T_75631_row1_col2, #T_75631_row1_col3, #T_75631_row1_col4, #T_75631_row1_col15, #T_75631_row1_col16, #T_75631_row1_col17, #T_75631_row2_col0, #T_75631_row2_col1, #T_75631_row2_col2, #T_75631_row2_col15, #T_75631_row2_col16, #T_75631_row2_col17, #T_75631_row3_col0, #T_75631_row3_col15, #T_75631_row3_col16, #T_75631_row3_col17, #T_75631_row4_col0, #T_75631_row4_col6, #T_75631_row4_col7, #T_75631_row4_col8, #T_75631_row4_col9, #T_75631_row4_col10, #T_75631_row4_col15, #T_75631_row4_col16, #T_75631_row4_col17, #T_75631_row5_col0, #T_75631_row5_col5, #T_75631_row5_col6, #T_75631_row5_col7, #T_75631_row5_col8, #T_75631_row5_col9, #T_75631_row5_col15, #T_75631_row5_col16, #T_75631_row5_col17, #T_75631_row6_col0, #T_75631_row6_col1, #T_75631_row6_col2, #T_75631_row6_col3, #T_75631_row6_col4, #T_75631_row6_col5, #T_75631_row6_col6, #T_75631_row6_col7, #T_75631_row6_col8, #T_75631_row6_col9, #T_75631_row6_col14, #T_75631_row6_col15, #T_75631_row6_col16, #T_75631_row6_col17, #T_75631_row7_col0, #T_75631_row7_col1, #T_75631_row7_col2, #T_75631_row7_col3, #T_75631_row7_col4, #T_75631_row7_col5, #T_75631_row7_col6, #T_75631_row7_col13, #T_75631_row7_col14, #T_75631_row7_col15, #T_75631_row7_col16, #T_75631_row7_col17, #T_75631_row8_col0, #T_75631_row8_col1, #T_75631_row8_col2, #T_75631_row8_col3, #T_75631_row8_col4, #T_75631_row8_col13, #T_75631_row8_col14, #T_75631_row8_col15, #T_75631_row8_col16, #T_75631_row8_col17, #T_75631_row9_col0, #T_75631_row9_col1, #T_75631_row9_col2, #T_75631_row9_col3, #T_75631_row9_col4, #T_75631_row9_col16, #T_75631_row9_col17, #T_75631_row10_col0, #T_75631_row10_col1, #T_75631_row10_col2, #T_75631_row10_col3, #T_75631_row10_col4, #T_75631_row10_col5, #T_75631_row10_col6, #T_75631_row10_col17 {\n",
              "  font-size: 6pt;\n",
              "  background-color: #ffffff;\n",
              "  color: #000000;\n",
              "}\n",
              "#T_75631_row1_col5 {\n",
              "  font-size: 6pt;\n",
              "  background-color: #efefef;\n",
              "  color: #000000;\n",
              "}\n",
              "#T_75631_row1_col6, #T_75631_row1_col13 {\n",
              "  font-size: 6pt;\n",
              "  background-color: #7c7c7c;\n",
              "  color: #f1f1f1;\n",
              "}\n",
              "#T_75631_row1_col7 {\n",
              "  font-size: 6pt;\n",
              "  background-color: #4a4a4a;\n",
              "  color: #f1f1f1;\n",
              "}\n",
              "#T_75631_row1_col8, #T_75631_row1_col9, #T_75631_row1_col10, #T_75631_row2_col5, #T_75631_row2_col6, #T_75631_row2_col7, #T_75631_row2_col11, #T_75631_row2_col12, #T_75631_row2_col13, #T_75631_row3_col4, #T_75631_row3_col12, #T_75631_row3_col13, #T_75631_row4_col1, #T_75631_row4_col2, #T_75631_row4_col3, #T_75631_row4_col12, #T_75631_row4_col13, #T_75631_row5_col12, #T_75631_row6_col11, #T_75631_row9_col11, #T_75631_row10_col11, #T_75631_row10_col12, #T_75631_row10_col13, #T_75631_row10_col14, #T_75631_row10_col15, #T_75631_row10_col16 {\n",
              "  font-size: 6pt;\n",
              "  background-color: #000000;\n",
              "  color: #f1f1f1;\n",
              "}\n",
              "#T_75631_row1_col11 {\n",
              "  font-size: 6pt;\n",
              "  background-color: #606060;\n",
              "  color: #f1f1f1;\n",
              "}\n",
              "#T_75631_row1_col12 {\n",
              "  font-size: 6pt;\n",
              "  background-color: #4d4d4d;\n",
              "  color: #f1f1f1;\n",
              "}\n",
              "#T_75631_row1_col14 {\n",
              "  font-size: 6pt;\n",
              "  background-color: #bbbbbb;\n",
              "  color: #000000;\n",
              "}\n",
              "#T_75631_row2_col3 {\n",
              "  font-size: 6pt;\n",
              "  background-color: #e4e4e4;\n",
              "  color: #000000;\n",
              "}\n",
              "#T_75631_row2_col4, #T_75631_row8_col6 {\n",
              "  font-size: 6pt;\n",
              "  background-color: #6b6b6b;\n",
              "  color: #f1f1f1;\n",
              "}\n",
              "#T_75631_row2_col8, #T_75631_row2_col14, #T_75631_row3_col14 {\n",
              "  font-size: 6pt;\n",
              "  background-color: #171717;\n",
              "  color: #f1f1f1;\n",
              "}\n",
              "#T_75631_row2_col9, #T_75631_row3_col11 {\n",
              "  font-size: 6pt;\n",
              "  background-color: #4b4b4b;\n",
              "  color: #f1f1f1;\n",
              "}\n",
              "#T_75631_row2_col10, #T_75631_row7_col10, #T_75631_row8_col8, #T_75631_row8_col10, #T_75631_row9_col8, #T_75631_row9_col10 {\n",
              "  font-size: 6pt;\n",
              "  background-color: #010101;\n",
              "  color: #f1f1f1;\n",
              "}\n",
              "#T_75631_row3_col1 {\n",
              "  font-size: 6pt;\n",
              "  background-color: #272727;\n",
              "  color: #f1f1f1;\n",
              "}\n",
              "#T_75631_row3_col2 {\n",
              "  font-size: 6pt;\n",
              "  background-color: #0a0a0a;\n",
              "  color: #f1f1f1;\n",
              "}\n",
              "#T_75631_row3_col3 {\n",
              "  font-size: 6pt;\n",
              "  background-color: #050505;\n",
              "  color: #f1f1f1;\n",
              "}\n",
              "#T_75631_row3_col5 {\n",
              "  font-size: 6pt;\n",
              "  background-color: #333333;\n",
              "  color: #f1f1f1;\n",
              "}\n",
              "#T_75631_row3_col6 {\n",
              "  font-size: 6pt;\n",
              "  background-color: #e6e6e6;\n",
              "  color: #000000;\n",
              "}\n",
              "#T_75631_row3_col7, #T_75631_row3_col10 {\n",
              "  font-size: 6pt;\n",
              "  background-color: #fafafa;\n",
              "  color: #000000;\n",
              "}\n",
              "#T_75631_row3_col8 {\n",
              "  font-size: 6pt;\n",
              "  background-color: #fbfbfb;\n",
              "  color: #000000;\n",
              "}\n",
              "#T_75631_row3_col9 {\n",
              "  font-size: 6pt;\n",
              "  background-color: #fdfdfd;\n",
              "  color: #000000;\n",
              "}\n",
              "#T_75631_row4_col4 {\n",
              "  font-size: 6pt;\n",
              "  background-color: #1b1b1b;\n",
              "  color: #f1f1f1;\n",
              "}\n",
              "#T_75631_row4_col5 {\n",
              "  font-size: 6pt;\n",
              "  background-color: #e0e0e0;\n",
              "  color: #000000;\n",
              "}\n",
              "#T_75631_row4_col11 {\n",
              "  font-size: 6pt;\n",
              "  background-color: #4e4e4e;\n",
              "  color: #f1f1f1;\n",
              "}\n",
              "#T_75631_row4_col14 {\n",
              "  font-size: 6pt;\n",
              "  background-color: #767676;\n",
              "  color: #f1f1f1;\n",
              "}\n",
              "#T_75631_row5_col1 {\n",
              "  font-size: 6pt;\n",
              "  background-color: #fcfcfc;\n",
              "  color: #000000;\n",
              "}\n",
              "#T_75631_row5_col2, #T_75631_row5_col3 {\n",
              "  font-size: 6pt;\n",
              "  background-color: #f6f6f6;\n",
              "  color: #000000;\n",
              "}\n",
              "#T_75631_row5_col4, #T_75631_row7_col7 {\n",
              "  font-size: 6pt;\n",
              "  background-color: #f8f8f8;\n",
              "  color: #000000;\n",
              "}\n",
              "#T_75631_row5_col10, #T_75631_row10_col7 {\n",
              "  font-size: 6pt;\n",
              "  background-color: #e8e8e8;\n",
              "  color: #000000;\n",
              "}\n",
              "#T_75631_row5_col11 {\n",
              "  font-size: 6pt;\n",
              "  background-color: #222222;\n",
              "  color: #f1f1f1;\n",
              "}\n",
              "#T_75631_row5_col13, #T_75631_row6_col12 {\n",
              "  font-size: 6pt;\n",
              "  background-color: #090909;\n",
              "  color: #f1f1f1;\n",
              "}\n",
              "#T_75631_row5_col14 {\n",
              "  font-size: 6pt;\n",
              "  background-color: #d0d0d0;\n",
              "  color: #000000;\n",
              "}\n",
              "#T_75631_row6_col10, #T_75631_row7_col11, #T_75631_row9_col6 {\n",
              "  font-size: 6pt;\n",
              "  background-color: #060606;\n",
              "  color: #f1f1f1;\n",
              "}\n",
              "#T_75631_row6_col13 {\n",
              "  font-size: 6pt;\n",
              "  background-color: #979797;\n",
              "  color: #f1f1f1;\n",
              "}\n",
              "#T_75631_row7_col8 {\n",
              "  font-size: 6pt;\n",
              "  background-color: #b6b6b6;\n",
              "  color: #000000;\n",
              "}\n",
              "#T_75631_row7_col9 {\n",
              "  font-size: 6pt;\n",
              "  background-color: #252525;\n",
              "  color: #f1f1f1;\n",
              "}\n",
              "#T_75631_row7_col12 {\n",
              "  font-size: 6pt;\n",
              "  background-color: #999999;\n",
              "  color: #f1f1f1;\n",
              "}\n",
              "#T_75631_row8_col5 {\n",
              "  font-size: 6pt;\n",
              "  background-color: #f9f9f9;\n",
              "  color: #000000;\n",
              "}\n",
              "#T_75631_row8_col7 {\n",
              "  font-size: 6pt;\n",
              "  background-color: #101010;\n",
              "  color: #f1f1f1;\n",
              "}\n",
              "#T_75631_row8_col9, #T_75631_row9_col9 {\n",
              "  font-size: 6pt;\n",
              "  background-color: #020202;\n",
              "  color: #f1f1f1;\n",
              "}\n",
              "#T_75631_row8_col11 {\n",
              "  font-size: 6pt;\n",
              "  background-color: #545454;\n",
              "  color: #f1f1f1;\n",
              "}\n",
              "#T_75631_row8_col12 {\n",
              "  font-size: 6pt;\n",
              "  background-color: #f1f1f1;\n",
              "  color: #000000;\n",
              "}\n",
              "#T_75631_row9_col5 {\n",
              "  font-size: 6pt;\n",
              "  background-color: #f7f7f7;\n",
              "  color: #000000;\n",
              "}\n",
              "#T_75631_row9_col7 {\n",
              "  font-size: 6pt;\n",
              "  background-color: #030303;\n",
              "  color: #f1f1f1;\n",
              "}\n",
              "#T_75631_row9_col12 {\n",
              "  font-size: 6pt;\n",
              "  background-color: #181818;\n",
              "  color: #f1f1f1;\n",
              "}\n",
              "#T_75631_row9_col13 {\n",
              "  font-size: 6pt;\n",
              "  background-color: #303030;\n",
              "  color: #f1f1f1;\n",
              "}\n",
              "#T_75631_row9_col14 {\n",
              "  font-size: 6pt;\n",
              "  background-color: #a9a9a9;\n",
              "  color: #f1f1f1;\n",
              "}\n",
              "#T_75631_row9_col15 {\n",
              "  font-size: 6pt;\n",
              "  background-color: #fefefe;\n",
              "  color: #000000;\n",
              "}\n",
              "#T_75631_row10_col8, #T_75631_row10_col9 {\n",
              "  font-size: 6pt;\n",
              "  background-color: #bababa;\n",
              "  color: #000000;\n",
              "}\n",
              "#T_75631_row10_col10 {\n",
              "  font-size: 6pt;\n",
              "  background-color: #393939;\n",
              "  color: #f1f1f1;\n",
              "}\n",
              "</style>\n",
              "<table id=\"T_75631_\" class=\"dataframe\">\n",
              "  <thead>\n",
              "    <tr>\n",
              "      <th class=\"blank level0\" >&nbsp;</th>\n",
              "      <th class=\"col_heading level0 col0\" >0</th>\n",
              "      <th class=\"col_heading level0 col1\" >1</th>\n",
              "      <th class=\"col_heading level0 col2\" >2</th>\n",
              "      <th class=\"col_heading level0 col3\" >3</th>\n",
              "      <th class=\"col_heading level0 col4\" >4</th>\n",
              "      <th class=\"col_heading level0 col5\" >5</th>\n",
              "      <th class=\"col_heading level0 col6\" >6</th>\n",
              "      <th class=\"col_heading level0 col7\" >7</th>\n",
              "      <th class=\"col_heading level0 col8\" >8</th>\n",
              "      <th class=\"col_heading level0 col9\" >9</th>\n",
              "      <th class=\"col_heading level0 col10\" >10</th>\n",
              "      <th class=\"col_heading level0 col11\" >11</th>\n",
              "      <th class=\"col_heading level0 col12\" >12</th>\n",
              "      <th class=\"col_heading level0 col13\" >13</th>\n",
              "      <th class=\"col_heading level0 col14\" >14</th>\n",
              "      <th class=\"col_heading level0 col15\" >15</th>\n",
              "      <th class=\"col_heading level0 col16\" >16</th>\n",
              "      <th class=\"col_heading level0 col17\" >17</th>\n",
              "    </tr>\n",
              "  </thead>\n",
              "  <tbody>\n",
              "    <tr>\n",
              "      <th id=\"T_75631_level0_row0\" class=\"row_heading level0 row0\" >0</th>\n",
              "      <td id=\"T_75631_row0_col0\" class=\"data row0 col0\" >0</td>\n",
              "      <td id=\"T_75631_row0_col1\" class=\"data row0 col1\" >0</td>\n",
              "      <td id=\"T_75631_row0_col2\" class=\"data row0 col2\" >0</td>\n",
              "      <td id=\"T_75631_row0_col3\" class=\"data row0 col3\" >0</td>\n",
              "      <td id=\"T_75631_row0_col4\" class=\"data row0 col4\" >0</td>\n",
              "      <td id=\"T_75631_row0_col5\" class=\"data row0 col5\" >0</td>\n",
              "      <td id=\"T_75631_row0_col6\" class=\"data row0 col6\" >0</td>\n",
              "      <td id=\"T_75631_row0_col7\" class=\"data row0 col7\" >0</td>\n",
              "      <td id=\"T_75631_row0_col8\" class=\"data row0 col8\" >0</td>\n",
              "      <td id=\"T_75631_row0_col9\" class=\"data row0 col9\" >0</td>\n",
              "      <td id=\"T_75631_row0_col10\" class=\"data row0 col10\" >0</td>\n",
              "      <td id=\"T_75631_row0_col11\" class=\"data row0 col11\" >0</td>\n",
              "      <td id=\"T_75631_row0_col12\" class=\"data row0 col12\" >0</td>\n",
              "      <td id=\"T_75631_row0_col13\" class=\"data row0 col13\" >0</td>\n",
              "      <td id=\"T_75631_row0_col14\" class=\"data row0 col14\" >0</td>\n",
              "      <td id=\"T_75631_row0_col15\" class=\"data row0 col15\" >0</td>\n",
              "      <td id=\"T_75631_row0_col16\" class=\"data row0 col16\" >0</td>\n",
              "      <td id=\"T_75631_row0_col17\" class=\"data row0 col17\" >0</td>\n",
              "    </tr>\n",
              "    <tr>\n",
              "      <th id=\"T_75631_level0_row1\" class=\"row_heading level0 row1\" >1</th>\n",
              "      <td id=\"T_75631_row1_col0\" class=\"data row1 col0\" >0</td>\n",
              "      <td id=\"T_75631_row1_col1\" class=\"data row1 col1\" >0</td>\n",
              "      <td id=\"T_75631_row1_col2\" class=\"data row1 col2\" >0</td>\n",
              "      <td id=\"T_75631_row1_col3\" class=\"data row1 col3\" >0</td>\n",
              "      <td id=\"T_75631_row1_col4\" class=\"data row1 col4\" >0</td>\n",
              "      <td id=\"T_75631_row1_col5\" class=\"data row1 col5\" >29</td>\n",
              "      <td id=\"T_75631_row1_col6\" class=\"data row1 col6\" >150</td>\n",
              "      <td id=\"T_75631_row1_col7\" class=\"data row1 col7\" >195</td>\n",
              "      <td id=\"T_75631_row1_col8\" class=\"data row1 col8\" >254</td>\n",
              "      <td id=\"T_75631_row1_col9\" class=\"data row1 col9\" >255</td>\n",
              "      <td id=\"T_75631_row1_col10\" class=\"data row1 col10\" >254</td>\n",
              "      <td id=\"T_75631_row1_col11\" class=\"data row1 col11\" >176</td>\n",
              "      <td id=\"T_75631_row1_col12\" class=\"data row1 col12\" >193</td>\n",
              "      <td id=\"T_75631_row1_col13\" class=\"data row1 col13\" >150</td>\n",
              "      <td id=\"T_75631_row1_col14\" class=\"data row1 col14\" >96</td>\n",
              "      <td id=\"T_75631_row1_col15\" class=\"data row1 col15\" >0</td>\n",
              "      <td id=\"T_75631_row1_col16\" class=\"data row1 col16\" >0</td>\n",
              "      <td id=\"T_75631_row1_col17\" class=\"data row1 col17\" >0</td>\n",
              "    </tr>\n",
              "    <tr>\n",
              "      <th id=\"T_75631_level0_row2\" class=\"row_heading level0 row2\" >2</th>\n",
              "      <td id=\"T_75631_row2_col0\" class=\"data row2 col0\" >0</td>\n",
              "      <td id=\"T_75631_row2_col1\" class=\"data row2 col1\" >0</td>\n",
              "      <td id=\"T_75631_row2_col2\" class=\"data row2 col2\" >0</td>\n",
              "      <td id=\"T_75631_row2_col3\" class=\"data row2 col3\" >48</td>\n",
              "      <td id=\"T_75631_row2_col4\" class=\"data row2 col4\" >166</td>\n",
              "      <td id=\"T_75631_row2_col5\" class=\"data row2 col5\" >224</td>\n",
              "      <td id=\"T_75631_row2_col6\" class=\"data row2 col6\" >253</td>\n",
              "      <td id=\"T_75631_row2_col7\" class=\"data row2 col7\" >253</td>\n",
              "      <td id=\"T_75631_row2_col8\" class=\"data row2 col8\" >234</td>\n",
              "      <td id=\"T_75631_row2_col9\" class=\"data row2 col9\" >196</td>\n",
              "      <td id=\"T_75631_row2_col10\" class=\"data row2 col10\" >253</td>\n",
              "      <td id=\"T_75631_row2_col11\" class=\"data row2 col11\" >253</td>\n",
              "      <td id=\"T_75631_row2_col12\" class=\"data row2 col12\" >253</td>\n",
              "      <td id=\"T_75631_row2_col13\" class=\"data row2 col13\" >253</td>\n",
              "      <td id=\"T_75631_row2_col14\" class=\"data row2 col14\" >233</td>\n",
              "      <td id=\"T_75631_row2_col15\" class=\"data row2 col15\" >0</td>\n",
              "      <td id=\"T_75631_row2_col16\" class=\"data row2 col16\" >0</td>\n",
              "      <td id=\"T_75631_row2_col17\" class=\"data row2 col17\" >0</td>\n",
              "    </tr>\n",
              "    <tr>\n",
              "      <th id=\"T_75631_level0_row3\" class=\"row_heading level0 row3\" >3</th>\n",
              "      <td id=\"T_75631_row3_col0\" class=\"data row3 col0\" >0</td>\n",
              "      <td id=\"T_75631_row3_col1\" class=\"data row3 col1\" >93</td>\n",
              "      <td id=\"T_75631_row3_col2\" class=\"data row3 col2\" >244</td>\n",
              "      <td id=\"T_75631_row3_col3\" class=\"data row3 col3\" >249</td>\n",
              "      <td id=\"T_75631_row3_col4\" class=\"data row3 col4\" >253</td>\n",
              "      <td id=\"T_75631_row3_col5\" class=\"data row3 col5\" >187</td>\n",
              "      <td id=\"T_75631_row3_col6\" class=\"data row3 col6\" >46</td>\n",
              "      <td id=\"T_75631_row3_col7\" class=\"data row3 col7\" >10</td>\n",
              "      <td id=\"T_75631_row3_col8\" class=\"data row3 col8\" >8</td>\n",
              "      <td id=\"T_75631_row3_col9\" class=\"data row3 col9\" >4</td>\n",
              "      <td id=\"T_75631_row3_col10\" class=\"data row3 col10\" >10</td>\n",
              "      <td id=\"T_75631_row3_col11\" class=\"data row3 col11\" >194</td>\n",
              "      <td id=\"T_75631_row3_col12\" class=\"data row3 col12\" >253</td>\n",
              "      <td id=\"T_75631_row3_col13\" class=\"data row3 col13\" >253</td>\n",
              "      <td id=\"T_75631_row3_col14\" class=\"data row3 col14\" >233</td>\n",
              "      <td id=\"T_75631_row3_col15\" class=\"data row3 col15\" >0</td>\n",
              "      <td id=\"T_75631_row3_col16\" class=\"data row3 col16\" >0</td>\n",
              "      <td id=\"T_75631_row3_col17\" class=\"data row3 col17\" >0</td>\n",
              "    </tr>\n",
              "    <tr>\n",
              "      <th id=\"T_75631_level0_row4\" class=\"row_heading level0 row4\" >4</th>\n",
              "      <td id=\"T_75631_row4_col0\" class=\"data row4 col0\" >0</td>\n",
              "      <td id=\"T_75631_row4_col1\" class=\"data row4 col1\" >107</td>\n",
              "      <td id=\"T_75631_row4_col2\" class=\"data row4 col2\" >253</td>\n",
              "      <td id=\"T_75631_row4_col3\" class=\"data row4 col3\" >253</td>\n",
              "      <td id=\"T_75631_row4_col4\" class=\"data row4 col4\" >230</td>\n",
              "      <td id=\"T_75631_row4_col5\" class=\"data row4 col5\" >48</td>\n",
              "      <td id=\"T_75631_row4_col6\" class=\"data row4 col6\" >0</td>\n",
              "      <td id=\"T_75631_row4_col7\" class=\"data row4 col7\" >0</td>\n",
              "      <td id=\"T_75631_row4_col8\" class=\"data row4 col8\" >0</td>\n",
              "      <td id=\"T_75631_row4_col9\" class=\"data row4 col9\" >0</td>\n",
              "      <td id=\"T_75631_row4_col10\" class=\"data row4 col10\" >0</td>\n",
              "      <td id=\"T_75631_row4_col11\" class=\"data row4 col11\" >192</td>\n",
              "      <td id=\"T_75631_row4_col12\" class=\"data row4 col12\" >253</td>\n",
              "      <td id=\"T_75631_row4_col13\" class=\"data row4 col13\" >253</td>\n",
              "      <td id=\"T_75631_row4_col14\" class=\"data row4 col14\" >156</td>\n",
              "      <td id=\"T_75631_row4_col15\" class=\"data row4 col15\" >0</td>\n",
              "      <td id=\"T_75631_row4_col16\" class=\"data row4 col16\" >0</td>\n",
              "      <td id=\"T_75631_row4_col17\" class=\"data row4 col17\" >0</td>\n",
              "    </tr>\n",
              "    <tr>\n",
              "      <th id=\"T_75631_level0_row5\" class=\"row_heading level0 row5\" >5</th>\n",
              "      <td id=\"T_75631_row5_col0\" class=\"data row5 col0\" >0</td>\n",
              "      <td id=\"T_75631_row5_col1\" class=\"data row5 col1\" >3</td>\n",
              "      <td id=\"T_75631_row5_col2\" class=\"data row5 col2\" >20</td>\n",
              "      <td id=\"T_75631_row5_col3\" class=\"data row5 col3\" >20</td>\n",
              "      <td id=\"T_75631_row5_col4\" class=\"data row5 col4\" >15</td>\n",
              "      <td id=\"T_75631_row5_col5\" class=\"data row5 col5\" >0</td>\n",
              "      <td id=\"T_75631_row5_col6\" class=\"data row5 col6\" >0</td>\n",
              "      <td id=\"T_75631_row5_col7\" class=\"data row5 col7\" >0</td>\n",
              "      <td id=\"T_75631_row5_col8\" class=\"data row5 col8\" >0</td>\n",
              "      <td id=\"T_75631_row5_col9\" class=\"data row5 col9\" >0</td>\n",
              "      <td id=\"T_75631_row5_col10\" class=\"data row5 col10\" >43</td>\n",
              "      <td id=\"T_75631_row5_col11\" class=\"data row5 col11\" >224</td>\n",
              "      <td id=\"T_75631_row5_col12\" class=\"data row5 col12\" >253</td>\n",
              "      <td id=\"T_75631_row5_col13\" class=\"data row5 col13\" >245</td>\n",
              "      <td id=\"T_75631_row5_col14\" class=\"data row5 col14\" >74</td>\n",
              "      <td id=\"T_75631_row5_col15\" class=\"data row5 col15\" >0</td>\n",
              "      <td id=\"T_75631_row5_col16\" class=\"data row5 col16\" >0</td>\n",
              "      <td id=\"T_75631_row5_col17\" class=\"data row5 col17\" >0</td>\n",
              "    </tr>\n",
              "    <tr>\n",
              "      <th id=\"T_75631_level0_row6\" class=\"row_heading level0 row6\" >6</th>\n",
              "      <td id=\"T_75631_row6_col0\" class=\"data row6 col0\" >0</td>\n",
              "      <td id=\"T_75631_row6_col1\" class=\"data row6 col1\" >0</td>\n",
              "      <td id=\"T_75631_row6_col2\" class=\"data row6 col2\" >0</td>\n",
              "      <td id=\"T_75631_row6_col3\" class=\"data row6 col3\" >0</td>\n",
              "      <td id=\"T_75631_row6_col4\" class=\"data row6 col4\" >0</td>\n",
              "      <td id=\"T_75631_row6_col5\" class=\"data row6 col5\" >0</td>\n",
              "      <td id=\"T_75631_row6_col6\" class=\"data row6 col6\" >0</td>\n",
              "      <td id=\"T_75631_row6_col7\" class=\"data row6 col7\" >0</td>\n",
              "      <td id=\"T_75631_row6_col8\" class=\"data row6 col8\" >0</td>\n",
              "      <td id=\"T_75631_row6_col9\" class=\"data row6 col9\" >0</td>\n",
              "      <td id=\"T_75631_row6_col10\" class=\"data row6 col10\" >249</td>\n",
              "      <td id=\"T_75631_row6_col11\" class=\"data row6 col11\" >253</td>\n",
              "      <td id=\"T_75631_row6_col12\" class=\"data row6 col12\" >245</td>\n",
              "      <td id=\"T_75631_row6_col13\" class=\"data row6 col13\" >126</td>\n",
              "      <td id=\"T_75631_row6_col14\" class=\"data row6 col14\" >0</td>\n",
              "      <td id=\"T_75631_row6_col15\" class=\"data row6 col15\" >0</td>\n",
              "      <td id=\"T_75631_row6_col16\" class=\"data row6 col16\" >0</td>\n",
              "      <td id=\"T_75631_row6_col17\" class=\"data row6 col17\" >0</td>\n",
              "    </tr>\n",
              "    <tr>\n",
              "      <th id=\"T_75631_level0_row7\" class=\"row_heading level0 row7\" >7</th>\n",
              "      <td id=\"T_75631_row7_col0\" class=\"data row7 col0\" >0</td>\n",
              "      <td id=\"T_75631_row7_col1\" class=\"data row7 col1\" >0</td>\n",
              "      <td id=\"T_75631_row7_col2\" class=\"data row7 col2\" >0</td>\n",
              "      <td id=\"T_75631_row7_col3\" class=\"data row7 col3\" >0</td>\n",
              "      <td id=\"T_75631_row7_col4\" class=\"data row7 col4\" >0</td>\n",
              "      <td id=\"T_75631_row7_col5\" class=\"data row7 col5\" >0</td>\n",
              "      <td id=\"T_75631_row7_col6\" class=\"data row7 col6\" >0</td>\n",
              "      <td id=\"T_75631_row7_col7\" class=\"data row7 col7\" >14</td>\n",
              "      <td id=\"T_75631_row7_col8\" class=\"data row7 col8\" >101</td>\n",
              "      <td id=\"T_75631_row7_col9\" class=\"data row7 col9\" >223</td>\n",
              "      <td id=\"T_75631_row7_col10\" class=\"data row7 col10\" >253</td>\n",
              "      <td id=\"T_75631_row7_col11\" class=\"data row7 col11\" >248</td>\n",
              "      <td id=\"T_75631_row7_col12\" class=\"data row7 col12\" >124</td>\n",
              "      <td id=\"T_75631_row7_col13\" class=\"data row7 col13\" >0</td>\n",
              "      <td id=\"T_75631_row7_col14\" class=\"data row7 col14\" >0</td>\n",
              "      <td id=\"T_75631_row7_col15\" class=\"data row7 col15\" >0</td>\n",
              "      <td id=\"T_75631_row7_col16\" class=\"data row7 col16\" >0</td>\n",
              "      <td id=\"T_75631_row7_col17\" class=\"data row7 col17\" >0</td>\n",
              "    </tr>\n",
              "    <tr>\n",
              "      <th id=\"T_75631_level0_row8\" class=\"row_heading level0 row8\" >8</th>\n",
              "      <td id=\"T_75631_row8_col0\" class=\"data row8 col0\" >0</td>\n",
              "      <td id=\"T_75631_row8_col1\" class=\"data row8 col1\" >0</td>\n",
              "      <td id=\"T_75631_row8_col2\" class=\"data row8 col2\" >0</td>\n",
              "      <td id=\"T_75631_row8_col3\" class=\"data row8 col3\" >0</td>\n",
              "      <td id=\"T_75631_row8_col4\" class=\"data row8 col4\" >0</td>\n",
              "      <td id=\"T_75631_row8_col5\" class=\"data row8 col5\" >11</td>\n",
              "      <td id=\"T_75631_row8_col6\" class=\"data row8 col6\" >166</td>\n",
              "      <td id=\"T_75631_row8_col7\" class=\"data row8 col7\" >239</td>\n",
              "      <td id=\"T_75631_row8_col8\" class=\"data row8 col8\" >253</td>\n",
              "      <td id=\"T_75631_row8_col9\" class=\"data row8 col9\" >253</td>\n",
              "      <td id=\"T_75631_row8_col10\" class=\"data row8 col10\" >253</td>\n",
              "      <td id=\"T_75631_row8_col11\" class=\"data row8 col11\" >187</td>\n",
              "      <td id=\"T_75631_row8_col12\" class=\"data row8 col12\" >30</td>\n",
              "      <td id=\"T_75631_row8_col13\" class=\"data row8 col13\" >0</td>\n",
              "      <td id=\"T_75631_row8_col14\" class=\"data row8 col14\" >0</td>\n",
              "      <td id=\"T_75631_row8_col15\" class=\"data row8 col15\" >0</td>\n",
              "      <td id=\"T_75631_row8_col16\" class=\"data row8 col16\" >0</td>\n",
              "      <td id=\"T_75631_row8_col17\" class=\"data row8 col17\" >0</td>\n",
              "    </tr>\n",
              "    <tr>\n",
              "      <th id=\"T_75631_level0_row9\" class=\"row_heading level0 row9\" >9</th>\n",
              "      <td id=\"T_75631_row9_col0\" class=\"data row9 col0\" >0</td>\n",
              "      <td id=\"T_75631_row9_col1\" class=\"data row9 col1\" >0</td>\n",
              "      <td id=\"T_75631_row9_col2\" class=\"data row9 col2\" >0</td>\n",
              "      <td id=\"T_75631_row9_col3\" class=\"data row9 col3\" >0</td>\n",
              "      <td id=\"T_75631_row9_col4\" class=\"data row9 col4\" >0</td>\n",
              "      <td id=\"T_75631_row9_col5\" class=\"data row9 col5\" >16</td>\n",
              "      <td id=\"T_75631_row9_col6\" class=\"data row9 col6\" >248</td>\n",
              "      <td id=\"T_75631_row9_col7\" class=\"data row9 col7\" >250</td>\n",
              "      <td id=\"T_75631_row9_col8\" class=\"data row9 col8\" >253</td>\n",
              "      <td id=\"T_75631_row9_col9\" class=\"data row9 col9\" >253</td>\n",
              "      <td id=\"T_75631_row9_col10\" class=\"data row9 col10\" >253</td>\n",
              "      <td id=\"T_75631_row9_col11\" class=\"data row9 col11\" >253</td>\n",
              "      <td id=\"T_75631_row9_col12\" class=\"data row9 col12\" >232</td>\n",
              "      <td id=\"T_75631_row9_col13\" class=\"data row9 col13\" >213</td>\n",
              "      <td id=\"T_75631_row9_col14\" class=\"data row9 col14\" >111</td>\n",
              "      <td id=\"T_75631_row9_col15\" class=\"data row9 col15\" >2</td>\n",
              "      <td id=\"T_75631_row9_col16\" class=\"data row9 col16\" >0</td>\n",
              "      <td id=\"T_75631_row9_col17\" class=\"data row9 col17\" >0</td>\n",
              "    </tr>\n",
              "    <tr>\n",
              "      <th id=\"T_75631_level0_row10\" class=\"row_heading level0 row10\" >10</th>\n",
              "      <td id=\"T_75631_row10_col0\" class=\"data row10 col0\" >0</td>\n",
              "      <td id=\"T_75631_row10_col1\" class=\"data row10 col1\" >0</td>\n",
              "      <td id=\"T_75631_row10_col2\" class=\"data row10 col2\" >0</td>\n",
              "      <td id=\"T_75631_row10_col3\" class=\"data row10 col3\" >0</td>\n",
              "      <td id=\"T_75631_row10_col4\" class=\"data row10 col4\" >0</td>\n",
              "      <td id=\"T_75631_row10_col5\" class=\"data row10 col5\" >0</td>\n",
              "      <td id=\"T_75631_row10_col6\" class=\"data row10 col6\" >0</td>\n",
              "      <td id=\"T_75631_row10_col7\" class=\"data row10 col7\" >43</td>\n",
              "      <td id=\"T_75631_row10_col8\" class=\"data row10 col8\" >98</td>\n",
              "      <td id=\"T_75631_row10_col9\" class=\"data row10 col9\" >98</td>\n",
              "      <td id=\"T_75631_row10_col10\" class=\"data row10 col10\" >208</td>\n",
              "      <td id=\"T_75631_row10_col11\" class=\"data row10 col11\" >253</td>\n",
              "      <td id=\"T_75631_row10_col12\" class=\"data row10 col12\" >253</td>\n",
              "      <td id=\"T_75631_row10_col13\" class=\"data row10 col13\" >253</td>\n",
              "      <td id=\"T_75631_row10_col14\" class=\"data row10 col14\" >253</td>\n",
              "      <td id=\"T_75631_row10_col15\" class=\"data row10 col15\" >187</td>\n",
              "      <td id=\"T_75631_row10_col16\" class=\"data row10 col16\" >22</td>\n",
              "      <td id=\"T_75631_row10_col17\" class=\"data row10 col17\" >0</td>\n",
              "    </tr>\n",
              "  </tbody>\n",
              "</table>\n"
            ],
            "text/plain": [
              "<pandas.io.formats.style.Styler at 0x7f32ce816910>"
            ]
          },
          "metadata": {},
          "execution_count": 51
        }
      ]
    },
    {
      "cell_type": "markdown",
      "source": [
        "# Pixel Similarity - Start\n",
        "In this section we are going to discuss and start working through pixel similarity. This work will also cover the next few sections."
      ],
      "metadata": {
        "id": "RjgcnJnnNSIe"
      }
    },
    {
      "cell_type": "markdown",
      "source": [
        "\n",
        "\n",
        "---\n",
        "\n",
        "\n",
        "**Chapter 3: Stop and Think: How might a computer be able to recognize these two digits? What kinds of features might it beable to look at? How might it be able to idenfity these features? How could it combine them?**"
      ],
      "metadata": {
        "id": "vOegQ0oN-30D"
      }
    },
    {
      "cell_type": "markdown",
      "source": [
        "My Answers: I sort of understand the method behind this. One of the featurs we will be looking at are the edges. EG in the above example we see that there is a curve, well one curve in the upper right quadrant might indicate a 0, 8, 7, 4, 3, 2. Next we will look at the lower right quadrant, where see the curve from the above zone peak in and then come back out toward the bottom and out of frame. This feature (the curve) narrows down the possibilities to 8,3 more or less. By breaking down the numbers into individual elements and then building them back up into their full self we can easily build filters around those features. \n",
        "\n",
        "\n",
        "---\n"
      ],
      "metadata": {
        "id": "rQ8VV5bg_KG_"
      }
    },
    {
      "cell_type": "markdown",
      "source": [
        "First we are going to try Pixel Similarity. We will find the average value of every pixel of the 3s and 7s. This will give us what an \"idea\" 3 and 7 would look like. This should allow us to identify the difference between 7 and 3. \n",
        "\n",
        "First lets put all the images into a single tensor. This cool trick is called a List Comprehension. Essentally it looks like this\n",
        "`new_list = [f(o) for o in a_list if o>]` This is a much more efficent way to make new lists than the typical larger loops. "
      ],
      "metadata": {
        "id": "GHqQ_6AFa6YO"
      }
    },
    {
      "cell_type": "code",
      "source": [
        "seven_tensors = [tensor(Image.open(o)) for o in sevens]"
      ],
      "metadata": {
        "id": "v8NMpyyFAF_D"
      },
      "execution_count": 52,
      "outputs": []
    },
    {
      "cell_type": "code",
      "source": [
        "three_tensors = [tensor(Image.open(o)) for o in threes]"
      ],
      "metadata": {
        "id": "Z5kAMTzSb_Ev"
      },
      "execution_count": 53,
      "outputs": []
    },
    {
      "cell_type": "code",
      "source": [
        "len(three_tensors), len(seven_tensors)"
      ],
      "metadata": {
        "colab": {
          "base_uri": "https://localhost:8080/"
        },
        "id": "r29PhIBYcEij",
        "outputId": "176532f3-53b0-4638-be0a-55c62dad7330"
      },
      "execution_count": 54,
      "outputs": [
        {
          "output_type": "execute_result",
          "data": {
            "text/plain": [
              "(6131, 6265)"
            ]
          },
          "metadata": {},
          "execution_count": 54
        }
      ]
    },
    {
      "cell_type": "code",
      "source": [
        "show_image(three_tensors[1])"
      ],
      "metadata": {
        "colab": {
          "base_uri": "https://localhost:8080/",
          "height": 102
        },
        "id": "XMCHLBZfcQQl",
        "outputId": "0ca834f5-a67b-4179-a417-8e5b0d1a4547"
      },
      "execution_count": 55,
      "outputs": [
        {
          "output_type": "execute_result",
          "data": {
            "text/plain": [
              "<matplotlib.axes._subplots.AxesSubplot at 0x7f32d15e70d0>"
            ]
          },
          "metadata": {},
          "execution_count": 55
        },
        {
          "output_type": "display_data",
          "data": {
            "image/png": "[encoded data removed]",
            "text/plain": [
              "<Figure size 72x72 with 1 Axes>"
            ]
          },
          "metadata": {
            "needs_background": "light"
          }
        }
      ]
    },
    {
      "cell_type": "markdown",
      "source": [
        "Now since we are going to get the average pixel density for each of the images in order to build our prediction, we need to stack. PyTorch comes with a handy dandy stack function that allows this to happen. This stacking will create what is called a rank 3 tensor. This act of stacking various tensors is very useful for performing various actions on large datasets. So building these rank 3 tensors is important. \n",
        "\n",
        "Also some important information to remember. Rank is the number of axes or dimensions in a tensor. Shape is the size of each of the axis of the tensor. For example when we stack these tensors we will have 3 dimensions: Number of images (6265), size of image width (28), size of image height (28). You cans ee this using the tensor.shape call. The length of the shape is the rank. eg:\n",
        "```rank = len(tensor.shape)```\n",
        "\n",
        "Dimension can sometimes be used for the size of an axis (space is three dimensional) where other times it is used for the rank or number of axes (a two dimenional matrix). It can be useful to break down terms into ranks, axis, and length. \n"
      ],
      "metadata": {
        "id": "K9Co66ledqEE"
      }
    },
    {
      "cell_type": "code",
      "source": [
        "stacked_sevens = torch.stack(seven_tensors).float()/255\n",
        "stacked_sevens.shape"
      ],
      "metadata": {
        "colab": {
          "base_uri": "https://localhost:8080/"
        },
        "id": "I2RQaibZczxU",
        "outputId": "0cb5b1aa-85f5-4703-e74f-cc09b30791ea"
      },
      "execution_count": 56,
      "outputs": [
        {
          "output_type": "execute_result",
          "data": {
            "text/plain": [
              "torch.Size([6265, 28, 28])"
            ]
          },
          "metadata": {},
          "execution_count": 56
        }
      ]
    },
    {
      "cell_type": "code",
      "source": [
        "stacked_threes = torch.stack(three_tensors).float()/255\n",
        "stacked_threes.shape"
      ],
      "metadata": {
        "colab": {
          "base_uri": "https://localhost:8080/"
        },
        "id": "21MXGgfKdMKt",
        "outputId": "dd7cc9fd-ce3e-4f45-9e86-1c482e8ecb1d"
      },
      "execution_count": 57,
      "outputs": [
        {
          "output_type": "execute_result",
          "data": {
            "text/plain": [
              "torch.Size([6131, 28, 28])"
            ]
          },
          "metadata": {},
          "execution_count": 57
        }
      ]
    },
    {
      "cell_type": "code",
      "source": [
        "len(stacked_threes.shape)"
      ],
      "metadata": {
        "colab": {
          "base_uri": "https://localhost:8080/"
        },
        "id": "GWFELHDNiKnt",
        "outputId": "6f730722-0fa8-4ac8-884a-be1ac7be6d51"
      },
      "execution_count": 58,
      "outputs": [
        {
          "output_type": "execute_result",
          "data": {
            "text/plain": [
              "3"
            ]
          },
          "metadata": {},
          "execution_count": 58
        }
      ]
    },
    {
      "cell_type": "markdown",
      "source": [
        "And of course since this is a whole fancy framework we can get the tensors rank directly with ```tensor.ndim``` as shown below."
      ],
      "metadata": {
        "id": "IM6aG_rBiRo8"
      }
    },
    {
      "cell_type": "code",
      "source": [
        "stacked_threes.ndim"
      ],
      "metadata": {
        "colab": {
          "base_uri": "https://localhost:8080/"
        },
        "id": "IiAxljQ7igAz",
        "outputId": "9b42949f-02c1-4c21-8085-d703189ba88d"
      },
      "execution_count": 59,
      "outputs": [
        {
          "output_type": "execute_result",
          "data": {
            "text/plain": [
              "3"
            ]
          },
          "metadata": {},
          "execution_count": 59
        }
      ]
    },
    {
      "cell_type": "markdown",
      "source": [
        "Now we that we have rank 3 stacked tensors we can calculate the mean along dimension 0 of the tensor.... that is the this is the dimension that indexes over all the images. This will give us the \"idea\" image for each number. That is if most of the pixels in any future image match this idea image of these numbers than there is a high likelyhood that the image will be which ever it matchs. "
      ],
      "metadata": {
        "id": "-SknihcKj6Ms"
      }
    },
    {
      "cell_type": "code",
      "source": [
        "mean3 = stacked_threes.mean(0)\n",
        "\n",
        "mean3.shape, show_image(mean3)"
      ],
      "metadata": {
        "colab": {
          "base_uri": "https://localhost:8080/",
          "height": 120
        },
        "id": "IlQHg8t9jWnn",
        "outputId": "6d3b0bbc-546f-4924-c7ac-5b6276a7c892"
      },
      "execution_count": 109,
      "outputs": [
        {
          "output_type": "execute_result",
          "data": {
            "text/plain": [
              "(torch.Size([28, 28]),\n",
              " <matplotlib.axes._subplots.AxesSubplot at 0x7f32cf23d150>)"
            ]
          },
          "metadata": {},
          "execution_count": 109
        },
        {
          "output_type": "display_data",
          "data": {
            "image/png": "[encoded data removed]",
            "text/plain": [
              "<Figure size 72x72 with 1 Axes>"
            ]
          },
          "metadata": {
            "needs_background": "light"
          }
        }
      ]
    },
    {
      "cell_type": "code",
      "source": [
        "mean7 = stacked_sevens.mean(0)\n",
        "show_image(mean7)"
      ],
      "metadata": {
        "colab": {
          "base_uri": "https://localhost:8080/",
          "height": 102
        },
        "id": "6D5e2PzXjpka",
        "outputId": "ea7f1c9d-edfc-41db-e76c-ad8bb81a35fe"
      },
      "execution_count": 61,
      "outputs": [
        {
          "output_type": "execute_result",
          "data": {
            "text/plain": [
              "<matplotlib.axes._subplots.AxesSubplot at 0x7f32d0fab510>"
            ]
          },
          "metadata": {},
          "execution_count": 61
        },
        {
          "output_type": "display_data",
          "data": {
            "image/png": "[encoded data removed]",
            "text/plain": [
              "<Figure size 72x72 with 1 Axes>"
            ]
          },
          "metadata": {
            "needs_background": "light"
          }
        }
      ]
    },
    {
      "cell_type": "markdown",
      "source": [
        "# Mean Absoulte Difference & Root Mean Squared Error\n",
        "In this section we start to explore how to find the difference between our idea image and our sample."
      ],
      "metadata": {
        "id": "fukvO_dlMsyN"
      }
    },
    {
      "cell_type": "markdown",
      "source": [
        "\n",
        "---\n",
        "**Chapter 3: Stop And Think - How would you calculate how similar a particular image is to each of our ideal digits?**\n"
      ],
      "metadata": {
        "id": "mKjHdlP7kmeo"
      }
    },
    {
      "cell_type": "code",
      "source": [
        "a_3 = stacked_threes[1]"
      ],
      "metadata": {
        "id": "T6iyHad2k9w3"
      },
      "execution_count": 62,
      "outputs": []
    },
    {
      "cell_type": "code",
      "source": [
        "show_image(a_3)"
      ],
      "metadata": {
        "id": "KWjJ30km0FfR",
        "outputId": "da2b835a-848c-4b40-a223-e8dd45b63d5d",
        "colab": {
          "base_uri": "https://localhost:8080/",
          "height": 102
        }
      },
      "execution_count": 63,
      "outputs": [
        {
          "output_type": "execute_result",
          "data": {
            "text/plain": [
              "<matplotlib.axes._subplots.AxesSubplot at 0x7f32d10b3890>"
            ]
          },
          "metadata": {},
          "execution_count": 63
        },
        {
          "output_type": "display_data",
          "data": {
            "image/png": "[encoded data removed]",
            "text/plain": [
              "<Figure size 72x72 with 1 Axes>"
            ]
          },
          "metadata": {
            "needs_background": "light"
          }
        }
      ]
    },
    {
      "cell_type": "markdown",
      "source": [
        "In order to find the difference between any random 3 and our \"idea\" image of a 3, we have a few options.\n",
        "\n",
        "First we have the Mean Absoulte Difference or L1 Norm, which takes the mean of the absolute value of the differences. "
      ],
      "metadata": {
        "id": "ljVDLv8pCMcA"
      }
    },
    {
      "cell_type": "code",
      "source": [
        "dist_3_abs = (a_3 - mean3).abs().mean()\n",
        "dist_7_abs = (a_3 - mean7).abs().mean()\n",
        "\n",
        "dist_3_abs, dist_7_abs"
      ],
      "metadata": {
        "colab": {
          "base_uri": "https://localhost:8080/"
        },
        "id": "MSKSztMyCnee",
        "outputId": "7e889ff1-0cf6-482a-f02f-ef9756522b46"
      },
      "execution_count": 64,
      "outputs": [
        {
          "output_type": "execute_result",
          "data": {
            "text/plain": [
              "(tensor(0.1114), tensor(0.1586))"
            ]
          },
          "metadata": {},
          "execution_count": 64
        }
      ]
    },
    {
      "cell_type": "markdown",
      "source": [
        "Next we have the Root Mean Squared Error (RMSE) or L2 Norm, takes the mean of the square of the differences (this makes it all positive) and then take the square root (this undoes the squaring). "
      ],
      "metadata": {
        "id": "9noZ7HQCCoOt"
      }
    },
    {
      "cell_type": "code",
      "source": [
        "dist_3_sq = ((a_3 - mean3)**2).mean().sqrt()\n",
        "dist_7_sq = ((a_3 - mean7)**2).mean().sqrt()\n",
        "dist_3_sq, dist_7_sq"
      ],
      "metadata": {
        "colab": {
          "base_uri": "https://localhost:8080/"
        },
        "id": "BeQKmfu1C46i",
        "outputId": "5f2be86d-4a5e-4f96-bb22-bb224eb347e5"
      },
      "execution_count": 65,
      "outputs": [
        {
          "output_type": "execute_result",
          "data": {
            "text/plain": [
              "(tensor(0.2021), tensor(0.3021))"
            ]
          },
          "metadata": {},
          "execution_count": 65
        }
      ]
    },
    {
      "cell_type": "markdown",
      "source": [
        "And Pytorch gives you a quick and easy function to use the L1 or L2 Norm. "
      ],
      "metadata": {
        "id": "hTLu5PzYCoGn"
      }
    },
    {
      "cell_type": "code",
      "source": [
        "F.l1_loss(a_3, mean3), F.l1_loss(a_3, mean7)"
      ],
      "metadata": {
        "colab": {
          "base_uri": "https://localhost:8080/"
        },
        "id": "KJZEC7dEGFUX",
        "outputId": "4693c1b4-e7ef-4ada-b29a-b40e5c059b2f"
      },
      "execution_count": 66,
      "outputs": [
        {
          "output_type": "execute_result",
          "data": {
            "text/plain": [
              "(tensor(0.1114), tensor(0.1586))"
            ]
          },
          "metadata": {},
          "execution_count": 66
        }
      ]
    },
    {
      "cell_type": "code",
      "source": [
        "F.mse_loss(a_3, mean3), F.mse_loss(a_3, mean7)"
      ],
      "metadata": {
        "colab": {
          "base_uri": "https://localhost:8080/"
        },
        "id": "_4_08eYFGl2y",
        "outputId": "1b3a1d60-4f2c-41c5-e202-f797857aeb25"
      },
      "execution_count": 67,
      "outputs": [
        {
          "output_type": "execute_result",
          "data": {
            "text/plain": [
              "(tensor(0.0408), tensor(0.0913))"
            ]
          },
          "metadata": {},
          "execution_count": 67
        }
      ]
    },
    {
      "cell_type": "markdown",
      "source": [
        "---\n",
        "# Tensor/Array Experiments\n",
        "Okay lets take a few mins and review how to set up arrays and tensors using pytorch and numpy. The big thing to keep in mind about the differences is that arrays can be jaggaed, that is each in multi-dimensional array (matrix) the inner arrays may be differnet sizes. These arrays can also have various types with in the data structure. Arrays can not live on the GPU as they are not optimized for that type of computation, due to the features above.\n",
        "\n",
        "Tensors on the other hand must be a perfect retangle data structure. That is they cannot be jaggaed. Additionally, tensors have strict types which is the basic numerical type. This has the usefulness of allowing them to run on the GPU and proccessa a lot more quickly. Most operations that can be run on numpy arrays will also work on pytorch tensors. "
      ],
      "metadata": {
        "id": "g9LbURrqIAom"
      }
    },
    {
      "cell_type": "code",
      "source": [
        "data = [[1,2,3],[4,5,6]]\n",
        "arr = array(data)\n",
        "tns = tensor(data)"
      ],
      "metadata": {
        "id": "8oc-b86v231z"
      },
      "execution_count": 68,
      "outputs": []
    },
    {
      "cell_type": "markdown",
      "source": [
        "Like arrays, Tensors are zero indexed. The remainder of testing will be on tensor only but the array syntax is essentially identical. Tensors are the key component to ML. "
      ],
      "metadata": {
        "id": "b8aPaPx5GnJq"
      }
    },
    {
      "cell_type": "code",
      "source": [
        "tns[1], tns[0], arr[0], arr[1]"
      ],
      "metadata": {
        "colab": {
          "base_uri": "https://localhost:8080/"
        },
        "id": "2pFFvOhfGcrP",
        "outputId": "6e490df5-712c-42a3-b805-5f8e33fb0da5"
      },
      "execution_count": 69,
      "outputs": [
        {
          "output_type": "execute_result",
          "data": {
            "text/plain": [
              "(tensor([4, 5, 6]), tensor([1, 2, 3]), array([1, 2, 3]), array([4, 5, 6]))"
            ]
          },
          "metadata": {},
          "execution_count": 69
        }
      ]
    },
    {
      "cell_type": "markdown",
      "source": [
        "With tensors and arrays you will often refer to the dimensions as axes. In this example we use the : to indicate everything on the 1st and 2rd axes."
      ],
      "metadata": {
        "id": "NMBPSGK6HMvp"
      }
    },
    {
      "cell_type": "code",
      "source": [
        "tns[:,1], tns[:,2]"
      ],
      "metadata": {
        "colab": {
          "base_uri": "https://localhost:8080/"
        },
        "id": "ldBnizfhG_sY",
        "outputId": "1379851b-6d5f-48ff-d2e8-d050e4e25306"
      },
      "execution_count": 70,
      "outputs": [
        {
          "output_type": "execute_result",
          "data": {
            "text/plain": [
              "(tensor([2, 5]), tensor([3, 6]))"
            ]
          },
          "metadata": {},
          "execution_count": 70
        }
      ]
    },
    {
      "cell_type": "markdown",
      "source": [
        "You can use python slicing to select parts of the tensor as below."
      ],
      "metadata": {
        "id": "EVrBaFtSKm2r"
      }
    },
    {
      "cell_type": "code",
      "source": [
        "tns[1,0:3], tns[1,0:2]"
      ],
      "metadata": {
        "colab": {
          "base_uri": "https://localhost:8080/"
        },
        "id": "I3jglQKVHwzO",
        "outputId": "2346b385-8210-45f3-f596-c1a7f942026d"
      },
      "execution_count": 71,
      "outputs": [
        {
          "output_type": "execute_result",
          "data": {
            "text/plain": [
              "(tensor([4, 5, 6]), tensor([4, 5]))"
            ]
          },
          "metadata": {},
          "execution_count": 71
        }
      ]
    },
    {
      "cell_type": "markdown",
      "source": [
        "Addition, Subtraction, Mutplication, and divison using standard signs also work well on them. Tensors have a type and will also automatically change from int to float as we see below."
      ],
      "metadata": {
        "id": "LS0StyBJLYPd"
      }
    },
    {
      "cell_type": "code",
      "source": [
        "tns.type()"
      ],
      "metadata": {
        "colab": {
          "base_uri": "https://localhost:8080/",
          "height": 35
        },
        "id": "8K3D1NVcLson",
        "outputId": "481fb474-0139-4cfc-d380-375734ffe27e"
      },
      "execution_count": 72,
      "outputs": [
        {
          "output_type": "execute_result",
          "data": {
            "application/vnd.google.colaboratory.intrinsic+json": {
              "type": "string"
            },
            "text/plain": [
              "'torch.LongTensor'"
            ]
          },
          "metadata": {},
          "execution_count": 72
        }
      ]
    },
    {
      "cell_type": "code",
      "source": [
        "tns+1,tns-1"
      ],
      "metadata": {
        "colab": {
          "base_uri": "https://localhost:8080/"
        },
        "id": "sP5C3MUwKret",
        "outputId": "57657e77-7f1c-4614-8393-64d5886ef411"
      },
      "execution_count": 73,
      "outputs": [
        {
          "output_type": "execute_result",
          "data": {
            "text/plain": [
              "(tensor([[2, 3, 4],\n",
              "         [5, 6, 7]]), tensor([[0, 1, 2],\n",
              "         [3, 4, 5]]))"
            ]
          },
          "metadata": {},
          "execution_count": 73
        }
      ]
    },
    {
      "cell_type": "code",
      "source": [
        "tns*4, tns*4/2"
      ],
      "metadata": {
        "colab": {
          "base_uri": "https://localhost:8080/"
        },
        "id": "zKuIV-pdK10M",
        "outputId": "12a1ebc7-4325-4b06-be88-d009c29f6e4b"
      },
      "execution_count": 74,
      "outputs": [
        {
          "output_type": "execute_result",
          "data": {
            "text/plain": [
              "(tensor([[ 4,  8, 12],\n",
              "         [16, 20, 24]]), tensor([[ 2.,  4.,  6.],\n",
              "         [ 8., 10., 12.]]))"
            ]
          },
          "metadata": {},
          "execution_count": 74
        }
      ]
    },
    {
      "cell_type": "markdown",
      "source": [
        "Thus ends our tinkering on how Tensors and Arrays work. Any more experiments should be conducted above this line. \n",
        "\n",
        "\n",
        "---\n",
        "\n"
      ],
      "metadata": {
        "id": "2tqsvNRML5AS"
      }
    },
    {
      "cell_type": "markdown",
      "source": [
        "# Computing Matrics using Broadcasting\n",
        "When encountering an operation between tensors of different differnt ranks (`len(tensor.shape)` or `tensor.ndim`), pytorch will use a method called broadcasting to extend the smaller ranked tensor into the same size as the larger ranked tensor. This allows various types of matrix operations to be efficently done with pytorch and numpy. Broadcasting is an important thing to keep in mind when creating efficent code. \n",
        "\n",
        "In this section we will start to see how that works."
      ],
      "metadata": {
        "id": "nSkSXmRyMFrm"
      }
    },
    {
      "cell_type": "markdown",
      "source": [
        "First lets get tensors of our validation set, lets cheat and use our testing set vs finding and splling out the validation set from the training set."
      ],
      "metadata": {
        "id": "IJEUyiMxqoRa"
      }
    },
    {
      "cell_type": "code",
      "source": [
        "val_sevens_tns = torch.stack([tensor(Image.open(o)) for o in (path/'testing'/'7').ls()])\n",
        "val_sevens_tns = val_sevens_tns.float()/255\n",
        "val_threes_tns = torch.stack([tensor(Image.open(o)) for o in (path/'testing'/'3').ls()])\n",
        "val_threes_tns = val_threes_tns.float()/255\n",
        "val_sevens_tns.shape, val_threes_tns.shape"
      ],
      "metadata": {
        "colab": {
          "base_uri": "https://localhost:8080/"
        },
        "id": "PUQAsMK9RXz3",
        "outputId": "fd05af45-62a6-4d22-eee2-c19e3c5d4e3f"
      },
      "execution_count": 84,
      "outputs": [
        {
          "output_type": "execute_result",
          "data": {
            "text/plain": [
              "(torch.Size([1028, 28, 28]), torch.Size([1010, 28, 28]))"
            ]
          },
          "metadata": {},
          "execution_count": 84
        }
      ]
    },
    {
      "cell_type": "markdown",
      "source": [
        "We want to eventually want to create a function \"is_3\" that can take any image and determine its distance from the idea image. In order to do this we need to define the notion of *distance*. Which is basically going to be a function that calculates the distance between two images. We will use the mean absoulte error for this.\n",
        "\n",
        "Its important to note here that we are subtracting a-b and getting the absolute value, and then the mean((-1, -2)). Notice the dimensional indexing done here. What order we read each dimension. \n",
        "\n",
        "  https://stackoverflow.com/questions/59704538/what-is-a-dimensional-range-of-1-0-in-pytorch\n",
        "\n",
        "  https://stackoverflow.com/questions/59702785/what-does-dim-1-or-2-mean-in-torch-sum"
      ],
      "metadata": {
        "id": "0lIcieXXN-0m"
      }
    },
    {
      "cell_type": "code",
      "source": [
        "def mnist_distance(a,b): return (a-b).abs().mean((-1, -2))"
      ],
      "metadata": {
        "id": "h2zsRS-pDGEj"
      },
      "execution_count": 141,
      "outputs": []
    },
    {
      "cell_type": "code",
      "source": [
        "mnist_distance(a_3, mean3)"
      ],
      "metadata": {
        "colab": {
          "base_uri": "https://localhost:8080/"
        },
        "id": "gWw9fZg4PduC",
        "outputId": "6a747338-9b4e-493d-b1a1-6af323105436"
      },
      "execution_count": 137,
      "outputs": [
        {
          "output_type": "execute_result",
          "data": {
            "text/plain": [
              "tensor(0.1114)"
            ]
          },
          "metadata": {},
          "execution_count": 137
        }
      ]
    },
    {
      "cell_type": "code",
      "source": [
        "mean3.shape, val_threes_tns.shape"
      ],
      "metadata": {
        "colab": {
          "base_uri": "https://localhost:8080/"
        },
        "id": "EHYVMALmTKCz",
        "outputId": "df4cee52-c95f-44eb-b668-71026dbc1602"
      },
      "execution_count": 114,
      "outputs": [
        {
          "output_type": "execute_result",
          "data": {
            "text/plain": [
              "(torch.Size([28, 28]), torch.Size([1010, 28, 28]))"
            ]
          },
          "metadata": {},
          "execution_count": 114
        }
      ]
    },
    {
      "cell_type": "code",
      "source": [
        "val_three_dist = mnist_distance(val_threes_tns, mean3)\n",
        "val_three_dist, val_three_dist.shape, val_three_dist.type()"
      ],
      "metadata": {
        "colab": {
          "base_uri": "https://localhost:8080/"
        },
        "id": "-eeNVSqLSa7R",
        "outputId": "34f31814-d4d1-4fc8-dbb2-86d423e5a6cd"
      },
      "execution_count": 142,
      "outputs": [
        {
          "output_type": "execute_result",
          "data": {
            "text/plain": [
              "(tensor([0.1053, 0.1674, 0.1149,  ..., 0.1058, 0.1087, 0.1043]),\n",
              " torch.Size([1010]),\n",
              " 'torch.FloatTensor')"
            ]
          },
          "metadata": {},
          "execution_count": 142
        }
      ]
    },
    {
      "cell_type": "markdown",
      "source": [
        "Here is another example of broadcasting more specifically spelled out. Notice the rank of each of the tesnsors, and then when we subtract the larger tensor from the smaller tensor.  One thing to keep in mind when using these broadcasting is that pytorch is not actually creating 1010 additional copies of the data to increase the size its tensor to match the larger. Its not actually allocating memory. Its simply doing some tricky math in the background to accomplis hthis. "
      ],
      "metadata": {
        "id": "wc4Wa1RCcwpI"
      }
    },
    {
      "cell_type": "code",
      "source": [
        "len(val_threes_tns.shape), len(mean3.shape), len((val_threes_tns-mean3).shape)"
      ],
      "metadata": {
        "colab": {
          "base_uri": "https://localhost:8080/"
        },
        "id": "B5xs_cQGciL6",
        "outputId": "3f84429d-a20e-4a8d-8bfb-cdd50b312282"
      },
      "execution_count": 145,
      "outputs": [
        {
          "output_type": "execute_result",
          "data": {
            "text/plain": [
              "(3, 2, 3)"
            ]
          },
          "metadata": {},
          "execution_count": 145
        }
      ]
    }
  ]
}